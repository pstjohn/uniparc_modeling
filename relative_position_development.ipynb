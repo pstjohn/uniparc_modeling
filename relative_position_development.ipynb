{
 "cells": [
  {
   "cell_type": "code",
   "execution_count": 1,
   "metadata": {},
   "outputs": [],
   "source": [
    "import numpy as np\n",
    "import tensorflow as tf\n",
    "import tensorflow_addons as tfa"
   ]
  },
  {
   "cell_type": "code",
   "execution_count": 2,
   "metadata": {},
   "outputs": [
    {
     "name": "stdout",
     "output_type": "stream",
     "text": [
      "Num GPUs Available:  1\n"
     ]
    }
   ],
   "source": [
    "gpu_devices = tf.config.experimental.list_physical_devices('GPU')\n",
    "print(\"Num GPUs Available: \", len(gpu_devices))\n",
    "for device in gpu_devices:\n",
    "    tf.config.experimental.set_memory_growth(device, True)"
   ]
  },
  {
   "cell_type": "code",
   "execution_count": 3,
   "metadata": {},
   "outputs": [],
   "source": [
    "from bert.dataset import create_masked_input_dataset"
   ]
  },
  {
   "cell_type": "code",
   "execution_count": 4,
   "metadata": {},
   "outputs": [
    {
     "name": "stdout",
     "output_type": "stream",
     "text": [
      "Fri Jan 17 13:58:16 2020       \n",
      "+-----------------------------------------------------------------------------+\n",
      "| NVIDIA-SMI 430.26       Driver Version: 430.26       CUDA Version: 10.2     |\n",
      "|-------------------------------+----------------------+----------------------+\n",
      "| GPU  Name        Persistence-M| Bus-Id        Disp.A | Volatile Uncorr. ECC |\n",
      "| Fan  Temp  Perf  Pwr:Usage/Cap|         Memory-Usage | GPU-Util  Compute M. |\n",
      "|===============================+======================+======================|\n",
      "|   0  Quadro GV100        Off  | 00000000:37:00.0 Off |                  Off |\n",
      "| 33%   46C    P2    46W / 250W |  29250MiB / 32508MiB |      0%      Default |\n",
      "+-------------------------------+----------------------+----------------------+\n",
      "                                                                               \n",
      "+-----------------------------------------------------------------------------+\n",
      "| Processes:                                                       GPU Memory |\n",
      "|  GPU       PID   Type   Process name                             Usage      |\n",
      "|=============================================================================|\n",
      "|    0      3991      G   /usr/bin/X                                    54MiB |\n",
      "|    0      6648      C   /usr/bin/python                            29131MiB |\n",
      "|    0     13141      G   ...t/nrel/apps/paraview/5.6.0/lib/paraview    52MiB |\n",
      "+-----------------------------------------------------------------------------+\n"
     ]
    }
   ],
   "source": [
    "!nvidia-smi"
   ]
  },
  {
   "cell_type": "markdown",
   "metadata": {},
   "source": [
    "## BERT layers"
   ]
  },
  {
   "cell_type": "code",
   "execution_count": 5,
   "metadata": {},
   "outputs": [],
   "source": [
    "from tensorflow.keras import layers\n",
    "\n",
    "from bert.layers import (PositionEmbedding, Transformer, TokenEmbedding, Bias,\n",
    "                         gelu, initializer, Projection)"
   ]
  },
  {
   "cell_type": "code",
   "execution_count": 6,
   "metadata": {},
   "outputs": [],
   "source": [
    "vocab_size = 22\n",
    "embedding_dimension = 32\n",
    "model_dimension = 128\n",
    "transformer_dimension = 4 * model_dimension\n",
    "num_attention_heads = model_dimension // 64\n",
    "num_transformer_layers = 4\n",
    "dropout_rate = 0.\n",
    "\n",
    "inputs = layers.Input(shape=(None,), dtype=tf.int32, batch_size=None)\n",
    "\n",
    "token_embedding_layer = TokenEmbedding(\n",
    "    vocab_size, embedding_dimension, embeddings_initializer=initializer(),\n",
    "    mask_zero=True)\n",
    "\n",
    "embeddings = token_embedding_layer(inputs)\n",
    "\n",
    "embeddings = Projection(model_dimension, dropout_rate,\n",
    "                        use_residual=False)(embeddings)\n",
    "\n",
    "transformer = Transformer(num_attention_heads, transformer_dimension,\n",
    "                          dropout=dropout_rate, attention_type='relative',\n",
    "                          max_relative_position=64)\n",
    "\n",
    "for i in range(num_transformer_layers):\n",
    "    embeddings = transformer(embeddings)\n",
    "\n",
    "out = layers.Dense(vocab_size, activation=gelu,\n",
    "                   kernel_initializer=initializer())(embeddings)\n",
    "del out._keras_mask\n",
    "# out = token_embedding_layer(out, transpose=True)\n",
    "# out = Bias()(out)\n",
    "\n",
    "model = tf.keras.Model(inputs, out, name='model')"
   ]
  },
  {
   "cell_type": "code",
   "execution_count": 11,
   "metadata": {},
   "outputs": [],
   "source": [
    "from bert.optimizers import ECE, masked_sparse_categorical_crossentropy, BertLinearSchedule\n",
    "    \n",
    "opt = tfa.optimizers.AdamW(learning_rate=1E-4, weight_decay=0.0)\n",
    "\n",
    "true_labels = tf.keras.layers.Input(\n",
    "    shape=(None,), dtype=tf.int32, batch_size=None)\n",
    "\n",
    "model.compile(\n",
    "    target_tensors=true_labels,    \n",
    "    loss=masked_sparse_categorical_crossentropy,\n",
    "    metrics=[ECE],\n",
    "    optimizer=opt,\n",
    "    experimental_run_tf_function=True)\n",
    "\n",
    "callbacks = [BertLinearSchedule(1E-4, 100, int(1E7)),\n",
    "             tf.keras.callbacks.ModelCheckpoint(filepath='test_ckpts/ckpt_{epoch}.h5', verbose=1)]"
   ]
  },
  {
   "cell_type": "code",
   "execution_count": 12,
   "metadata": {},
   "outputs": [],
   "source": [
    "from bert.dataset import create_masked_input_dataset\n",
    "\n",
    "training_data = create_masked_input_dataset(\n",
    "    sequence_path='../uniparc_data/sequences_train.txt',\n",
    "    max_sequence_length=128,\n",
    "    batch_size=64,\n",
    "    masking_freq=.05)\n",
    "\n",
    "training_data = training_data.repeat().prefetch(tf.data.experimental.AUTOTUNE)\n",
    "\n",
    "valid_data = create_masked_input_dataset(\n",
    "    sequence_path='../uniparc_data/sequences_valid.txt',\n",
    "    max_sequence_length=128,\n",
    "    batch_size=64,\n",
    "    masking_freq=.05)\n",
    "\n",
    "valid_data = valid_data.repeat().prefetch(tf.data.experimental.AUTOTUNE)"
   ]
  },
  {
   "cell_type": "code",
   "execution_count": 13,
   "metadata": {},
   "outputs": [
    {
     "name": "stdout",
     "output_type": "stream",
     "text": [
      "Epoch 1/2\n",
      " 9/10 [==========================>...] - ETA: 1s - loss: 3.0970 - ECE: 22.1324\n",
      "Epoch 00001: saving model to test_ckpts/ckpt_1.h5\n",
      "10/10 [==============================] - 13s 1s/step - loss: 3.0960 - ECE: 22.1095 - val_loss: 3.0927 - val_ECE: 22.0359\n",
      "Epoch 2/2\n",
      " 9/10 [==========================>...] - ETA: 0s - loss: 3.0875 - ECE: 21.9237\n",
      "Epoch 00002: saving model to test_ckpts/ckpt_2.h5\n",
      "10/10 [==============================] - 4s 373ms/step - loss: 3.0861 - ECE: 21.8911 - val_loss: 3.0746 - val_ECE: 21.6410\n"
     ]
    },
    {
     "data": {
      "text/plain": [
       "<tensorflow.python.keras.callbacks.History at 0x7f3ff214af98>"
      ]
     },
     "execution_count": 13,
     "metadata": {},
     "output_type": "execute_result"
    }
   ],
   "source": [
    "model.fit(training_data, steps_per_epoch=10, epochs=2,\n",
    "          verbose=1, validation_data=valid_data, validation_steps=10,\n",
    "          callbacks=callbacks)"
   ]
  },
  {
   "cell_type": "code",
   "execution_count": null,
   "metadata": {},
   "outputs": [],
   "source": [
    "# training_data_large = create_masked_input_dataset(\n",
    "#     sequence_path='../uniparc_data/sequences_train.txt',\n",
    "#     max_sequence_length=512,\n",
    "#     batch_size=4,\n",
    "#     masking_freq=.05)\n",
    "\n",
    "# training_data_large = training_data_large.repeat().prefetch(tf.data.experimental.AUTOTUNE)\n",
    "\n",
    "# valid_data_large = create_masked_input_dataset(\n",
    "#     sequence_path='../uniparc_data/sequences_valid.txt',\n",
    "#     max_sequence_length=512,\n",
    "#     batch_size=4,\n",
    "#     masking_freq=.05)\n",
    "\n",
    "# valid_data_large = valid_data_large.repeat().prefetch(tf.data.experimental.AUTOTUNE)"
   ]
  },
  {
   "cell_type": "code",
   "execution_count": null,
   "metadata": {},
   "outputs": [],
   "source": [
    "# model.fit(training_data_large, steps_per_epoch=1000, epochs=5,\n",
    "#           verbose=1, validation_data=valid_data_large, validation_steps=100,\n",
    "#           callbacks=callbacks)"
   ]
  },
  {
   "cell_type": "code",
   "execution_count": null,
   "metadata": {},
   "outputs": [],
   "source": [
    "model.save('test_ckpts/test.h5')"
   ]
  },
  {
   "cell_type": "code",
   "execution_count": null,
   "metadata": {},
   "outputs": [],
   "source": [
    "tf.keras.models.load_model('test_ckpts/test.h5')"
   ]
  },
  {
   "cell_type": "code",
   "execution_count": null,
   "metadata": {},
   "outputs": [],
   "source": []
  }
 ],
 "metadata": {
  "kernelspec": {
   "display_name": "Python 3",
   "language": "python",
   "name": "python3"
  },
  "language_info": {
   "codemirror_mode": {
    "name": "ipython",
    "version": 3
   },
   "file_extension": ".py",
   "mimetype": "text/x-python",
   "name": "python",
   "nbconvert_exporter": "python",
   "pygments_lexer": "ipython3",
   "version": "3.6.8"
  }
 },
 "nbformat": 4,
 "nbformat_minor": 4
}
