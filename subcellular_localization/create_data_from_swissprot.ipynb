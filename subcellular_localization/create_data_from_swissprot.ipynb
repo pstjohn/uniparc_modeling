{
 "cells": [
  {
   "cell_type": "code",
   "execution_count": 7,
   "metadata": {},
   "outputs": [],
   "source": [
    "import numpy as np\n",
    "import pandas as pd\n",
    "\n",
    "import matplotlib.pyplot as plt\n",
    "import seaborn as sns\n",
    "sns.set(context='talk', style='ticks',\n",
    "        color_codes=True, rc={'legend.frameon': False})\n",
    "\n",
    "%matplotlib inline"
   ]
  },
  {
   "cell_type": "code",
   "execution_count": 8,
   "metadata": {},
   "outputs": [],
   "source": [
    "data = pd.read_parquet('/ccs/home/pstjohn/project_work/swissprot/parsed_swissprot.parquet')"
   ]
  },
  {
   "cell_type": "code",
   "execution_count": 9,
   "metadata": {},
   "outputs": [
    {
     "data": {
      "text/html": [
       "<div>\n",
       "<style scoped>\n",
       "    .dataframe tbody tr th:only-of-type {\n",
       "        vertical-align: middle;\n",
       "    }\n",
       "\n",
       "    .dataframe tbody tr th {\n",
       "        vertical-align: top;\n",
       "    }\n",
       "\n",
       "    .dataframe thead th {\n",
       "        text-align: right;\n",
       "    }\n",
       "</style>\n",
       "<table border=\"1\" class=\"dataframe\">\n",
       "  <thead>\n",
       "    <tr style=\"text-align: right;\">\n",
       "      <th></th>\n",
       "      <th>accession</th>\n",
       "      <th>EMBL</th>\n",
       "      <th>RefSeq</th>\n",
       "      <th>KEGG</th>\n",
       "      <th>InterPro</th>\n",
       "      <th>Pfam</th>\n",
       "      <th>NCBI Taxonomy</th>\n",
       "      <th>length</th>\n",
       "      <th>sequence</th>\n",
       "      <th>subcellularLocalization</th>\n",
       "    </tr>\n",
       "  </thead>\n",
       "  <tbody>\n",
       "    <tr>\n",
       "      <th>0</th>\n",
       "      <td>Q6GZX4</td>\n",
       "      <td>AY548484</td>\n",
       "      <td>YP_031579.1</td>\n",
       "      <td>vg:2947773</td>\n",
       "      <td>IPR007031</td>\n",
       "      <td>PF04947</td>\n",
       "      <td>654924</td>\n",
       "      <td>256</td>\n",
       "      <td>MAFSAEDVLKEYDRRRRMEALLLSLYYPNDRKLLDYKEWSPPRVQV...</td>\n",
       "      <td></td>\n",
       "    </tr>\n",
       "    <tr>\n",
       "      <th>1</th>\n",
       "      <td>Q6GZX3</td>\n",
       "      <td>AY548484</td>\n",
       "      <td>YP_031580.1</td>\n",
       "      <td>vg:2947774</td>\n",
       "      <td>IPR004251</td>\n",
       "      <td>PF03003</td>\n",
       "      <td>654924</td>\n",
       "      <td>320</td>\n",
       "      <td>MSIIGATRLQNDKSDTYSAGPCYAGGCSAFTPRGTCGKDWDLGEQT...</td>\n",
       "      <td>Host membrane</td>\n",
       "    </tr>\n",
       "    <tr>\n",
       "      <th>2</th>\n",
       "      <td>Q197F8</td>\n",
       "      <td>DQ643392</td>\n",
       "      <td>YP_654574.1</td>\n",
       "      <td>vg:4156251</td>\n",
       "      <td>None</td>\n",
       "      <td>None</td>\n",
       "      <td>345201</td>\n",
       "      <td>458</td>\n",
       "      <td>MASNTVSAQGGSNRPVRDFSNIQDVAQFLLFDPIWNEQPGSIVPWK...</td>\n",
       "      <td></td>\n",
       "    </tr>\n",
       "    <tr>\n",
       "      <th>3</th>\n",
       "      <td>Q197F7</td>\n",
       "      <td>DQ643392</td>\n",
       "      <td>YP_654575.1</td>\n",
       "      <td>vg:4156252</td>\n",
       "      <td>None</td>\n",
       "      <td>None</td>\n",
       "      <td>345201</td>\n",
       "      <td>156</td>\n",
       "      <td>MYQAINPCPQSWYGSPQLEREIVCKMSGAPHYPNYYPVHPNALGGA...</td>\n",
       "      <td></td>\n",
       "    </tr>\n",
       "    <tr>\n",
       "      <th>4</th>\n",
       "      <td>Q6GZX2</td>\n",
       "      <td>AY548484</td>\n",
       "      <td>YP_031581.1</td>\n",
       "      <td>vg:2947775</td>\n",
       "      <td>None</td>\n",
       "      <td>None</td>\n",
       "      <td>654924</td>\n",
       "      <td>438</td>\n",
       "      <td>MARPLLGKTSSVRRRLESLSACSIFFFLRKFCQKMASLVFLNSPVY...</td>\n",
       "      <td></td>\n",
       "    </tr>\n",
       "  </tbody>\n",
       "</table>\n",
       "</div>"
      ],
      "text/plain": [
       "  accession      EMBL       RefSeq        KEGG   InterPro     Pfam  \\\n",
       "0    Q6GZX4  AY548484  YP_031579.1  vg:2947773  IPR007031  PF04947   \n",
       "1    Q6GZX3  AY548484  YP_031580.1  vg:2947774  IPR004251  PF03003   \n",
       "2    Q197F8  DQ643392  YP_654574.1  vg:4156251       None     None   \n",
       "3    Q197F7  DQ643392  YP_654575.1  vg:4156252       None     None   \n",
       "4    Q6GZX2  AY548484  YP_031581.1  vg:2947775       None     None   \n",
       "\n",
       "  NCBI Taxonomy  length                                           sequence  \\\n",
       "0        654924     256  MAFSAEDVLKEYDRRRRMEALLLSLYYPNDRKLLDYKEWSPPRVQV...   \n",
       "1        654924     320  MSIIGATRLQNDKSDTYSAGPCYAGGCSAFTPRGTCGKDWDLGEQT...   \n",
       "2        345201     458  MASNTVSAQGGSNRPVRDFSNIQDVAQFLLFDPIWNEQPGSIVPWK...   \n",
       "3        345201     156  MYQAINPCPQSWYGSPQLEREIVCKMSGAPHYPNYYPVHPNALGGA...   \n",
       "4        654924     438  MARPLLGKTSSVRRRLESLSACSIFFFLRKFCQKMASLVFLNSPVY...   \n",
       "\n",
       "  subcellularLocalization  \n",
       "0                          \n",
       "1           Host membrane  \n",
       "2                          \n",
       "3                          \n",
       "4                          "
      ]
     },
     "execution_count": 9,
     "metadata": {},
     "output_type": "execute_result"
    }
   ],
   "source": [
    "data.head()"
   ]
  },
  {
   "cell_type": "code",
   "execution_count": 10,
   "metadata": {},
   "outputs": [],
   "source": [
    "subcell = data[data['subcellularLocalization'] != ''].loc[:, ['accession', 'subcellularLocalization']]"
   ]
  },
  {
   "cell_type": "code",
   "execution_count": 11,
   "metadata": {},
   "outputs": [],
   "source": [
    "lens = [len(item.split('\\n')) for item in subcell['subcellularLocalization']]"
   ]
  },
  {
   "cell_type": "code",
   "execution_count": 21,
   "metadata": {},
   "outputs": [],
   "source": [
    "expanded_subcell = pd.DataFrame(\n",
    "    {\"accession\" : np.repeat(subcell['accession'].values, lens), \n",
    "     \"subcellularLocalization\" : np.hstack(subcell['subcellularLocalization'].str.split('\\n'))})\n",
    "expanded_subcell = expanded_subcell.drop_duplicates()"
   ]
  },
  {
   "cell_type": "code",
   "execution_count": 23,
   "metadata": {},
   "outputs": [
    {
     "data": {
      "text/plain": [
       "Cytoplasm                            160222\n",
       "Nucleus                               38424\n",
       "Cell membrane                         33947\n",
       "Secreted                              30632\n",
       "Cell inner membrane                   26877\n",
       "Plastid                               15599\n",
       "Membrane                              14912\n",
       "Endoplasmic reticulum membrane         6612\n",
       "Mitochondrion inner membrane           6453\n",
       "Mitochondrion                          5616\n",
       "Virion                                 4482\n",
       "Host nucleus                           3914\n",
       "Cell projection                        3907\n",
       "Chromosome                             3738\n",
       "Host cytoplasm                         3510\n",
       "Cell junction                          3227\n",
       "Periplasm                              3099\n",
       "Golgi apparatus membrane               3064\n",
       "Golgi apparatus                        2733\n",
       "Cytoplasmic vesicle                    2640\n",
       "Virion membrane                        2271\n",
       "Cell outer membrane                    2264\n",
       "Cellular thylakoid membrane            2232\n",
       "Mitochondrion matrix                   1734\n",
       "Mitochondrion membrane                 1680\n",
       "Endoplasmic reticulum                  1611\n",
       "Host cell membrane                     1508\n",
       "Cell surface                           1307\n",
       "Mitochondrion outer membrane           1140\n",
       "Vacuole membrane                       1011\n",
       "Endosome membrane                      1003\n",
       "Host membrane                           936\n",
       "Nucleus speckle                         929\n",
       "Microsome membrane                      823\n",
       "Cytoplasmic vesicle membrane            788\n",
       "Lysosome membrane                       761\n",
       "Apical cell membrane                    744\n",
       "Lysosome                                733\n",
       "Bacterial flagellum basal body          732\n",
       "Nucleus membrane                        730\n",
       "Endosome                                705\n",
       "Mitochondrion intermembrane space       679\n",
       "Peroxisome                              597\n",
       "Early endosome                          537\n",
       "Vacuole                                 529\n",
       "Early endosome membrane                 518\n",
       "Endoplasmic reticulum lumen             514\n",
       "Perikaryon                              478\n",
       "Late endosome membrane                  475\n",
       "Host apical cell membrane               471\n",
       "Name: subcellularLocalization, dtype: int64"
      ]
     },
     "execution_count": 23,
     "metadata": {},
     "output_type": "execute_result"
    }
   ],
   "source": [
    "expanded_subcell.subcellularLocalization.value_counts().head(50)"
   ]
  },
  {
   "cell_type": "code",
   "execution_count": 24,
   "metadata": {},
   "outputs": [],
   "source": [
    "one_hot = pd.get_dummies(expanded_subcell.subcellularLocalization)\n",
    "one_hot['accession'] = expanded_subcell['accession']\n",
    "grouped_one_hot = one_hot.groupby('accession').sum()"
   ]
  },
  {
   "cell_type": "code",
   "execution_count": 28,
   "metadata": {},
   "outputs": [
    {
     "data": {
      "text/plain": [
       "True"
      ]
     },
     "execution_count": 28,
     "metadata": {},
     "output_type": "execute_result"
    }
   ],
   "source": [
    "(grouped_one_hot.max() == 1).all()"
   ]
  },
  {
   "cell_type": "code",
   "execution_count": 34,
   "metadata": {},
   "outputs": [],
   "source": [
    "subset = grouped_one_hot.loc[:, grouped_one_hot.sum(0) > 3000]"
   ]
  },
  {
   "cell_type": "code",
   "execution_count": 35,
   "metadata": {},
   "outputs": [
    {
     "data": {
      "text/plain": [
       "(344004, 18)"
      ]
     },
     "execution_count": 35,
     "metadata": {},
     "output_type": "execute_result"
    }
   ],
   "source": [
    "subset.shape"
   ]
  },
  {
   "cell_type": "code",
   "execution_count": 36,
   "metadata": {},
   "outputs": [],
   "source": [
    "test = subset.sample(10000, random_state=1)\n",
    "valid = subset[~subset.index.isin(test.index)].sample(10000, random_state=1)\n",
    "train = subset[~subset.index.isin(test.index) & ~subset.index.isin(valid.index)]"
   ]
  },
  {
   "cell_type": "code",
   "execution_count": 37,
   "metadata": {},
   "outputs": [],
   "source": [
    "train.to_csv('/ccs/home/pstjohn/project_work/swissprot/subcellular/train.csv.gz', compression='gzip')\n",
    "valid.to_csv('/ccs/home/pstjohn/project_work/swissprot/subcellular/valid.csv.gz', compression='gzip')\n",
    "test.to_csv('/ccs/home/pstjohn/project_work/swissprot/subcellular/test.csv.gz', compression='gzip')"
   ]
  }
 ],
 "metadata": {
  "kernelspec": {
   "display_name": "Python 3",
   "language": "python",
   "name": "python3"
  },
  "language_info": {
   "codemirror_mode": {
    "name": "ipython",
    "version": 3
   },
   "file_extension": ".py",
   "mimetype": "text/x-python",
   "name": "python",
   "nbconvert_exporter": "python",
   "pygments_lexer": "ipython3",
   "version": "3.7.6"
  }
 },
 "nbformat": 4,
 "nbformat_minor": 4
}
