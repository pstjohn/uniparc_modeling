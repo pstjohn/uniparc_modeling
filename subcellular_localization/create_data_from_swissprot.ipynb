{
 "cells": [
  {
   "cell_type": "code",
   "execution_count": 1,
   "metadata": {},
   "outputs": [],
   "source": [
    "import numpy as np\n",
    "import pandas as pd\n",
    "\n",
    "import matplotlib.pyplot as plt\n",
    "import seaborn as sns\n",
    "sns.set(context='talk', style='ticks',\n",
    "        color_codes=True, rc={'legend.frameon': False})\n",
    "\n",
    "%matplotlib inline"
   ]
  },
  {
   "cell_type": "code",
   "execution_count": 2,
   "metadata": {},
   "outputs": [],
   "source": [
    "data = pd.read_parquet('/projects/bpms/pstjohn/swissprot/parsed_swissprot.parquet')"
   ]
  },
  {
   "cell_type": "code",
   "execution_count": 3,
   "metadata": {},
   "outputs": [
    {
     "data": {
      "text/html": [
       "<div>\n",
       "<style scoped>\n",
       "    .dataframe tbody tr th:only-of-type {\n",
       "        vertical-align: middle;\n",
       "    }\n",
       "\n",
       "    .dataframe tbody tr th {\n",
       "        vertical-align: top;\n",
       "    }\n",
       "\n",
       "    .dataframe thead th {\n",
       "        text-align: right;\n",
       "    }\n",
       "</style>\n",
       "<table border=\"1\" class=\"dataframe\">\n",
       "  <thead>\n",
       "    <tr style=\"text-align: right;\">\n",
       "      <th></th>\n",
       "      <th>accession</th>\n",
       "      <th>EMBL</th>\n",
       "      <th>RefSeq</th>\n",
       "      <th>KEGG</th>\n",
       "      <th>InterPro</th>\n",
       "      <th>Pfam</th>\n",
       "      <th>NCBI Taxonomy</th>\n",
       "      <th>length</th>\n",
       "      <th>sequence</th>\n",
       "      <th>subcellularLocalization</th>\n",
       "    </tr>\n",
       "  </thead>\n",
       "  <tbody>\n",
       "    <tr>\n",
       "      <th>0</th>\n",
       "      <td>Q6GZX4</td>\n",
       "      <td>AY548484</td>\n",
       "      <td>YP_031579.1</td>\n",
       "      <td>vg:2947773</td>\n",
       "      <td>IPR007031</td>\n",
       "      <td>PF04947</td>\n",
       "      <td>654924</td>\n",
       "      <td>256</td>\n",
       "      <td>MAFSAEDVLKEYDRRRRMEALLLSLYYPNDRKLLDYKEWSPPRVQV...</td>\n",
       "      <td></td>\n",
       "    </tr>\n",
       "    <tr>\n",
       "      <th>1</th>\n",
       "      <td>Q6GZX3</td>\n",
       "      <td>AY548484</td>\n",
       "      <td>YP_031580.1</td>\n",
       "      <td>vg:2947774</td>\n",
       "      <td>IPR004251</td>\n",
       "      <td>PF03003</td>\n",
       "      <td>654924</td>\n",
       "      <td>320</td>\n",
       "      <td>MSIIGATRLQNDKSDTYSAGPCYAGGCSAFTPRGTCGKDWDLGEQT...</td>\n",
       "      <td>Host membrane</td>\n",
       "    </tr>\n",
       "    <tr>\n",
       "      <th>2</th>\n",
       "      <td>Q197F8</td>\n",
       "      <td>DQ643392</td>\n",
       "      <td>YP_654574.1</td>\n",
       "      <td>vg:4156251</td>\n",
       "      <td>None</td>\n",
       "      <td>None</td>\n",
       "      <td>345201</td>\n",
       "      <td>458</td>\n",
       "      <td>MASNTVSAQGGSNRPVRDFSNIQDVAQFLLFDPIWNEQPGSIVPWK...</td>\n",
       "      <td></td>\n",
       "    </tr>\n",
       "    <tr>\n",
       "      <th>3</th>\n",
       "      <td>Q197F7</td>\n",
       "      <td>DQ643392</td>\n",
       "      <td>YP_654575.1</td>\n",
       "      <td>vg:4156252</td>\n",
       "      <td>None</td>\n",
       "      <td>None</td>\n",
       "      <td>345201</td>\n",
       "      <td>156</td>\n",
       "      <td>MYQAINPCPQSWYGSPQLEREIVCKMSGAPHYPNYYPVHPNALGGA...</td>\n",
       "      <td></td>\n",
       "    </tr>\n",
       "    <tr>\n",
       "      <th>4</th>\n",
       "      <td>Q6GZX2</td>\n",
       "      <td>AY548484</td>\n",
       "      <td>YP_031581.1</td>\n",
       "      <td>vg:2947775</td>\n",
       "      <td>None</td>\n",
       "      <td>None</td>\n",
       "      <td>654924</td>\n",
       "      <td>438</td>\n",
       "      <td>MARPLLGKTSSVRRRLESLSACSIFFFLRKFCQKMASLVFLNSPVY...</td>\n",
       "      <td></td>\n",
       "    </tr>\n",
       "  </tbody>\n",
       "</table>\n",
       "</div>"
      ],
      "text/plain": [
       "  accession      EMBL       RefSeq        KEGG   InterPro     Pfam  \\\n",
       "0    Q6GZX4  AY548484  YP_031579.1  vg:2947773  IPR007031  PF04947   \n",
       "1    Q6GZX3  AY548484  YP_031580.1  vg:2947774  IPR004251  PF03003   \n",
       "2    Q197F8  DQ643392  YP_654574.1  vg:4156251       None     None   \n",
       "3    Q197F7  DQ643392  YP_654575.1  vg:4156252       None     None   \n",
       "4    Q6GZX2  AY548484  YP_031581.1  vg:2947775       None     None   \n",
       "\n",
       "  NCBI Taxonomy  length                                           sequence  \\\n",
       "0        654924     256  MAFSAEDVLKEYDRRRRMEALLLSLYYPNDRKLLDYKEWSPPRVQV...   \n",
       "1        654924     320  MSIIGATRLQNDKSDTYSAGPCYAGGCSAFTPRGTCGKDWDLGEQT...   \n",
       "2        345201     458  MASNTVSAQGGSNRPVRDFSNIQDVAQFLLFDPIWNEQPGSIVPWK...   \n",
       "3        345201     156  MYQAINPCPQSWYGSPQLEREIVCKMSGAPHYPNYYPVHPNALGGA...   \n",
       "4        654924     438  MARPLLGKTSSVRRRLESLSACSIFFFLRKFCQKMASLVFLNSPVY...   \n",
       "\n",
       "  subcellularLocalization  \n",
       "0                          \n",
       "1           Host membrane  \n",
       "2                          \n",
       "3                          \n",
       "4                          "
      ]
     },
     "execution_count": 3,
     "metadata": {},
     "output_type": "execute_result"
    }
   ],
   "source": [
    "data.head()"
   ]
  },
  {
   "cell_type": "code",
   "execution_count": 4,
   "metadata": {},
   "outputs": [],
   "source": [
    "subcell = data[data['subcellularLocalization'] != ''].loc[:, ['accession', 'subcellularLocalization']]"
   ]
  },
  {
   "cell_type": "code",
   "execution_count": 5,
   "metadata": {},
   "outputs": [],
   "source": [
    "lens = [len(item.split('\\n')) for item in subcell['subcellularLocalization']]"
   ]
  },
  {
   "cell_type": "code",
   "execution_count": 6,
   "metadata": {},
   "outputs": [],
   "source": [
    "expanded_subcell = pd.DataFrame(\n",
    "    {\"accession\" : np.repeat(subcell['accession'].values, lens), \n",
    "     \"subcellularLocalization\" : np.hstack(subcell['subcellularLocalization'].str.split('\\n'))})"
   ]
  },
  {
   "cell_type": "code",
   "execution_count": 7,
   "metadata": {},
   "outputs": [
    {
     "data": {
      "text/plain": [
       "Cytoplasm                              166716\n",
       "Nucleus                                 40576\n",
       "Cell membrane                           34422\n",
       "Secreted                                31905\n",
       "Cell inner membrane                     26878\n",
       "Plastid                                 15903\n",
       "Membrane                                15042\n",
       "Endoplasmic reticulum membrane           6651\n",
       "Mitochondrion inner membrane             6472\n",
       "Virion                                   5749\n",
       "Mitochondrion                            5646\n",
       "Cell projection                          5496\n",
       "Host cytoplasm                           4446\n",
       "Host nucleus                             4190\n",
       "Chromosome                               4031\n",
       "Cell junction                            4014\n",
       "Periplasm                                3099\n",
       "Golgi apparatus membrane                 3084\n",
       "Golgi apparatus                          2945\n",
       "Cytoplasmic vesicle                      2930\n",
       "Virion membrane                          2743\n",
       "Cell outer membrane                      2270\n",
       "Cellular thylakoid membrane              2232\n",
       "Host cell membrane                       1869\n",
       "Mitochondrion matrix                     1761\n",
       "Mitochondrion membrane                   1702\n",
       "Endoplasmic reticulum                    1629\n",
       "Host endoplasmic reticulum membrane      1349\n",
       "Cell surface                             1308\n",
       "Host membrane                            1155\n",
       "Mitochondrion outer membrane             1145\n",
       "Vacuole membrane                         1012\n",
       "Endosome membrane                        1006\n",
       "Nucleus speckle                           939\n",
       "Microsome membrane                        827\n",
       "Cytoplasmic vesicle membrane              795\n",
       "Nucleus membrane                          786\n",
       "Lysosome membrane                         762\n",
       "Apical cell membrane                      753\n",
       "Lysosome                                  739\n",
       "Bacterial flagellum basal body            732\n",
       "Endosome                                  718\n",
       "Mitochondrion intermembrane space         681\n",
       "Peroxisome                                598\n",
       "Host cytoplasmic vesicle membrane         576\n",
       "Vacuole                                   545\n",
       "Early endosome                            537\n",
       "Early endosome membrane                   519\n",
       "Endoplasmic reticulum lumen               514\n",
       "Host Golgi apparatus membrane             497\n",
       "Name: subcellularLocalization, dtype: int64"
      ]
     },
     "execution_count": 7,
     "metadata": {},
     "output_type": "execute_result"
    }
   ],
   "source": [
    "expanded_subcell.subcellularLocalization.value_counts().head(50)"
   ]
  },
  {
   "cell_type": "code",
   "execution_count": 8,
   "metadata": {},
   "outputs": [],
   "source": [
    "one_hot = pd.get_dummies(expanded_subcell.subcellularLocalization)\n",
    "one_hot['accession'] = expanded_subcell['accession']\n",
    "grouped_one_hot = one_hot.groupby('accession').sum()"
   ]
  },
  {
   "cell_type": "code",
   "execution_count": 9,
   "metadata": {},
   "outputs": [],
   "source": [
    "subset = grouped_one_hot.loc[:, grouped_one_hot.sum(0) > 4000]"
   ]
  },
  {
   "cell_type": "code",
   "execution_count": 10,
   "metadata": {},
   "outputs": [
    {
     "data": {
      "text/plain": [
       "(344004, 16)"
      ]
     },
     "execution_count": 10,
     "metadata": {},
     "output_type": "execute_result"
    }
   ],
   "source": [
    "subset.shape"
   ]
  },
  {
   "cell_type": "code",
   "execution_count": 19,
   "metadata": {},
   "outputs": [],
   "source": [
    "test = subset.sample(10000, random_state=1)\n",
    "valid = subset[~subset.index.isin(test.index)].sample(10000, random_state=1)\n",
    "train = subset[~subset.index.isin(test.index) & ~subset.index.isin(valid.index)]"
   ]
  },
  {
   "cell_type": "code",
   "execution_count": 21,
   "metadata": {},
   "outputs": [],
   "source": [
    "train.to_csv('/projects/bpms/pstjohn/swissprot/subcellular/train.csv.gz', compression='gzip')\n",
    "valid.to_csv('/projects/bpms/pstjohn/swissprot/subcellular/valid.csv.gz', compression='gzip')\n",
    "test.to_csv('/projects/bpms/pstjohn/swissprot/subcellular/test.csv.gz', compression='gzip')"
   ]
  }
 ],
 "metadata": {
  "kernelspec": {
   "display_name": "Python 3",
   "language": "python",
   "name": "python3"
  },
  "language_info": {
   "codemirror_mode": {
    "name": "ipython",
    "version": 3
   },
   "file_extension": ".py",
   "mimetype": "text/x-python",
   "name": "python",
   "nbconvert_exporter": "python",
   "pygments_lexer": "ipython3",
   "version": "3.7.6"
  }
 },
 "nbformat": 4,
 "nbformat_minor": 4
}
