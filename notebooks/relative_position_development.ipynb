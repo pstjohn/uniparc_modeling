{
 "cells": [
  {
   "cell_type": "code",
   "execution_count": 1,
   "metadata": {},
   "outputs": [],
   "source": [
    "import numpy as np\n",
    "import tensorflow as tf\n",
    "import tensorflow_addons as tfa"
   ]
  },
  {
   "cell_type": "code",
   "execution_count": 2,
   "metadata": {},
   "outputs": [
    {
     "name": "stdout",
     "output_type": "stream",
     "text": [
      "Num GPUs Available:  1\n"
     ]
    }
   ],
   "source": [
    "gpu_devices = tf.config.experimental.list_physical_devices('GPU')\n",
    "print(\"Num GPUs Available: \", len(gpu_devices))\n",
    "for device in gpu_devices:\n",
    "    tf.config.experimental.set_memory_growth(device, True)"
   ]
  },
  {
   "cell_type": "code",
   "execution_count": 3,
   "metadata": {},
   "outputs": [],
   "source": [
    "from bert.dataset import create_masked_input_dataset"
   ]
  },
  {
   "cell_type": "code",
   "execution_count": 4,
   "metadata": {},
   "outputs": [
    {
     "name": "stdout",
     "output_type": "stream",
     "text": [
      "Tue Feb  4 06:00:18 2020       \n",
      "+-----------------------------------------------------------------------------+\n",
      "| NVIDIA-SMI 430.26       Driver Version: 430.26       CUDA Version: 10.2     |\n",
      "|-------------------------------+----------------------+----------------------+\n",
      "| GPU  Name        Persistence-M| Bus-Id        Disp.A | Volatile Uncorr. ECC |\n",
      "| Fan  Temp  Perf  Pwr:Usage/Cap|         Memory-Usage | GPU-Util  Compute M. |\n",
      "|===============================+======================+======================|\n",
      "|   0  Quadro GV100        Off  | 00000000:37:00.0 Off |                  Off |\n",
      "| 33%   46C    P0    46W / 250W |    234MiB / 32508MiB |      0%      Default |\n",
      "+-------------------------------+----------------------+----------------------+\n",
      "                                                                               \n",
      "+-----------------------------------------------------------------------------+\n",
      "| Processes:                                                       GPU Memory |\n",
      "|  GPU       PID   Type   Process name                             Usage      |\n",
      "|=============================================================================|\n",
      "|    0      3991      G   /usr/bin/X                                    72MiB |\n",
      "|    0     13141      G   ...t/nrel/apps/paraview/5.6.0/lib/paraview    52MiB |\n",
      "|    0     26432      G   ...t/nrel/apps/paraview/5.6.0/lib/paraview    97MiB |\n",
      "+-----------------------------------------------------------------------------+\n"
     ]
    }
   ],
   "source": [
    "!nvidia-smi"
   ]
  },
  {
   "cell_type": "markdown",
   "metadata": {},
   "source": [
    "## BERT layers"
   ]
  },
  {
   "cell_type": "code",
   "execution_count": 5,
   "metadata": {},
   "outputs": [],
   "source": [
    "from bert.dataset import create_masked_input_dataset\n",
    "\n",
    "training_data = create_masked_input_dataset(\n",
    "    sequence_path='../uniparc_data/train_uniref100.txt.gz',\n",
    "    max_sequence_length=1024,\n",
    "    fix_sequence_length=True,\n",
    "    batch_size=2)\n",
    "\n",
    "training_data = training_data.repeat().prefetch(tf.data.experimental.AUTOTUNE)\n",
    "\n",
    "valid_data = create_masked_input_dataset(\n",
    "    sequence_path='../uniparc_data/dev_uniref50.txt.gz',\n",
    "    max_sequence_length=1024,\n",
    "    batch_size=2)\n",
    "\n",
    "valid_data = valid_data.repeat().prefetch(tf.data.experimental.AUTOTUNE)"
   ]
  },
  {
   "cell_type": "code",
   "execution_count": 6,
   "metadata": {},
   "outputs": [],
   "source": [
    "masked_seqs, true_values = next(iter(valid_data))"
   ]
  },
  {
   "cell_type": "code",
   "execution_count": 7,
   "metadata": {},
   "outputs": [
    {
     "data": {
      "text/plain": [
       "20"
      ]
     },
     "execution_count": 7,
     "metadata": {},
     "output_type": "execute_result"
    }
   ],
   "source": [
    "true_values.numpy().max()"
   ]
  },
  {
   "cell_type": "code",
   "execution_count": 8,
   "metadata": {},
   "outputs": [],
   "source": [
    "from tensorflow.keras import layers\n",
    "\n",
    "from bert.layers import (PositionEmbedding, Transformer, TokenEmbedding, Bias,\n",
    "                         gelu, initializer, Projection, DenseNoMask)"
   ]
  },
  {
   "cell_type": "code",
   "execution_count": 12,
   "metadata": {},
   "outputs": [],
   "source": [
    "vocab_size = 24\n",
    "embedding_dimension = 32\n",
    "model_dimension = 128\n",
    "transformer_dimension = 4 * model_dimension\n",
    "num_attention_heads = model_dimension // 64\n",
    "num_transformer_layers = 4\n",
    "dropout_rate = 0.\n",
    "\n",
    "inputs = layers.Input(shape=(None,), dtype=tf.int32, batch_size=None)\n",
    "\n",
    "# Amino-acid level embeddings\n",
    "embeddings = layers.Embedding(\n",
    "    vocab_size, model_dimension, embeddings_initializer=initializer(),\n",
    "    mask_zero=True)(inputs)\n",
    "\n",
    "# Initialize transformer, use ALBERT-style weight sharing\n",
    "transformer = Transformer(\n",
    "    num_attention_heads, transformer_dimension,\n",
    "    attention_type='relative', max_relative_position=10,\n",
    "    dropout=dropout_rate)\n",
    "\n",
    "# Stack transformers together\n",
    "for i in range(num_transformer_layers):\n",
    "    embeddings = transformer(embeddings)\n",
    "\n",
    "# Project back to original embedding dimension\n",
    "out = DenseNoMask(21, activation=gelu,\n",
    "                  kernel_initializer=initializer())(embeddings)\n",
    "\n",
    "model = tf.keras.Model(inputs, out, name='model')"
   ]
  },
  {
   "cell_type": "code",
   "execution_count": 13,
   "metadata": {},
   "outputs": [],
   "source": [
    "from bert.optimizers import ECE, masked_sparse_categorical_crossentropy, BertLinearSchedule\n",
    "    \n",
    "opt = tfa.optimizers.AdamW(learning_rate=1E-4, weight_decay=0.0)\n",
    "\n",
    "model.compile(\n",
    "    loss=masked_sparse_categorical_crossentropy,\n",
    "    metrics=[ECE],\n",
    "    optimizer=opt,\n",
    "    experimental_run_tf_function=True)\n",
    "\n",
    "callbacks = [BertLinearSchedule(1E-4, 100, int(1E7))]"
   ]
  },
  {
   "cell_type": "code",
   "execution_count": 14,
   "metadata": {},
   "outputs": [
    {
     "name": "stdout",
     "output_type": "stream",
     "text": [
      "Train for 100 steps, validate for 10 steps\n",
      "Epoch 1/4\n",
      "100/100 [==============================] - 47s 469ms/step - loss: 3.0323 - ECE: 20.7536 - val_loss: 2.9765 - val_ECE: 19.6253\n",
      "Epoch 2/4\n",
      "100/100 [==============================] - 39s 391ms/step - loss: 2.8898 - ECE: 18.0370 - val_loss: 2.8333 - val_ECE: 17.0245\n",
      "Epoch 3/4\n",
      "100/100 [==============================] - 39s 394ms/step - loss: 2.7981 - ECE: 16.4704 - val_loss: 2.7939 - val_ECE: 16.3860\n",
      "Epoch 4/4\n",
      "100/100 [==============================] - 39s 392ms/step - loss: 2.7714 - ECE: 16.0364 - val_loss: 2.7955 - val_ECE: 16.3871\n"
     ]
    },
    {
     "data": {
      "text/plain": [
       "<tensorflow.python.keras.callbacks.History at 0x7fc66a821da0>"
      ]
     },
     "execution_count": 14,
     "metadata": {},
     "output_type": "execute_result"
    }
   ],
   "source": [
    "model.fit(training_data, steps_per_epoch=100, epochs=4,\n",
    "          verbose=1, validation_data=valid_data, validation_steps=10,\n",
    "          callbacks=callbacks)"
   ]
  },
  {
   "cell_type": "code",
   "execution_count": null,
   "metadata": {},
   "outputs": [],
   "source": [
    "# training_data_large = create_masked_input_dataset(\n",
    "#     sequence_path='../uniparc_data/sequences_train.txt',\n",
    "#     max_sequence_length=512,\n",
    "#     batch_size=4,\n",
    "#     masking_freq=.05)\n",
    "\n",
    "# training_data_large = training_data_large.repeat().prefetch(tf.data.experimental.AUTOTUNE)\n",
    "\n",
    "# valid_data_large = create_masked_input_dataset(\n",
    "#     sequence_path='../uniparc_data/sequences_valid.txt',\n",
    "#     max_sequence_length=512,\n",
    "#     batch_size=4,\n",
    "#     masking_freq=.05)\n",
    "\n",
    "# valid_data_large = valid_data_large.repeat().prefetch(tf.data.experimental.AUTOTUNE)"
   ]
  },
  {
   "cell_type": "code",
   "execution_count": null,
   "metadata": {},
   "outputs": [],
   "source": [
    "# model.fit(training_data_large, steps_per_epoch=1000, epochs=5,\n",
    "#           verbose=1, validation_data=valid_data_large, validation_steps=100,\n",
    "#           callbacks=callbacks)"
   ]
  },
  {
   "cell_type": "code",
   "execution_count": null,
   "metadata": {},
   "outputs": [],
   "source": [
    "model.save('test_ckpts/test.h5')"
   ]
  },
  {
   "cell_type": "code",
   "execution_count": null,
   "metadata": {},
   "outputs": [],
   "source": [
    "tf.keras.models.load_model('test_ckpts/test.h5')"
   ]
  },
  {
   "cell_type": "code",
   "execution_count": null,
   "metadata": {},
   "outputs": [],
   "source": []
  }
 ],
 "metadata": {
  "kernelspec": {
   "display_name": "Python 3",
   "language": "python",
   "name": "python3"
  },
  "language_info": {
   "codemirror_mode": {
    "name": "ipython",
    "version": 3
   },
   "file_extension": ".py",
   "mimetype": "text/x-python",
   "name": "python",
   "nbconvert_exporter": "python",
   "pygments_lexer": "ipython3",
   "version": "3.7.6"
  }
 },
 "nbformat": 4,
 "nbformat_minor": 4
}
