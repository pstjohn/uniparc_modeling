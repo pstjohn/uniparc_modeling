{
 "cells": [
  {
   "cell_type": "code",
   "execution_count": 2,
   "metadata": {},
   "outputs": [],
   "source": [
    "import numpy as np\n",
    "import tensorflow as tf"
   ]
  },
  {
   "cell_type": "code",
   "execution_count": 10,
   "metadata": {},
   "outputs": [],
   "source": [
    "max_sequence_length=512\n",
    "batch_size=20\n",
    "buffer_size=1024\n",
    "vocab_size=22\n",
    "mask_index=1\n",
    "vocab_start=2\n",
    "fix_sequence_length=False\n",
    "masking_freq=.15\n",
    "mask_token_freq=.8\n",
    "mask_random_freq=.1\n",
    "filter_bzux=True\n",
    "no_mask_pad=1"
   ]
  },
  {
   "cell_type": "code",
   "execution_count": 4,
   "metadata": {},
   "outputs": [],
   "source": [
    "vocab = ['A', 'C', 'D', 'E', 'F', 'G', 'H', 'I', 'K',\n",
    "         'L', 'M', 'N', 'P', 'Q', 'R', 'S', 'T', 'V', \n",
    "         'W', 'Y', '^', '$']\n",
    "\n",
    "vocab_size = len(vocab)\n",
    "\n",
    "table = tf.lookup.StaticHashTable(\n",
    "    tf.lookup.KeyValueTensorInitializer(\n",
    "        keys=vocab, values=tf.range(len(vocab)) + 2),\n",
    "    default_value=0)\n",
    "\n",
    "@tf.function\n",
    "def encode(x):\n",
    "    chars = tf.strings.bytes_split(x)\n",
    "    \n",
    "    # Append start and end tokens\n",
    "    chars = tf.concat([tf.constant(['^']), chars, tf.constant(['$'])], 0)\n",
    "\n",
    "    # If chars is greater than max_sequence_length, take a random crop\n",
    "    chars = tf.cond(tf.shape(chars) > max_sequence_length,\n",
    "            lambda: tf.image.random_crop(chars, (max_sequence_length,)),\n",
    "            lambda: chars)\n",
    "\n",
    "    return table.lookup(chars)\n",
    "\n",
    "@tf.function\n",
    "def mask_input(input_tensor):\n",
    "    \"\"\" Randomly mask the input tensor according to the formula perscribed by BERT. \n",
    "    Randomly masks 15% of input tokens, with 80% recieving the [MASK] token,\n",
    "    10% randomized, 10% left unchanged. \n",
    "\n",
    "    Returns\n",
    "    -------\n",
    "\n",
    "    masked_tensor: (batch_size, seq_length) \n",
    "        Tensor with masked values\n",
    "    input_tensor: (batch_size, seq_length)\n",
    "        Original input tensor (true values)\n",
    "    input_mask: (batch_size, seq_length)\n",
    "        Boolean mask that selects the desired inputs.    \n",
    "    \"\"\"\n",
    "\n",
    "    input_shape = tf.shape(input_tensor)\n",
    "    mask_score = tf.random.uniform(input_shape, maxval=1, dtype=tf.float32)\n",
    "    input_mask = mask_score < masking_freq\n",
    "\n",
    "    # Mask with [MASK] token 80% of the time\n",
    "    mask_mask = mask_score <= masking_freq * mask_token_freq\n",
    "\n",
    "    # Mask with random token 10% of the time\n",
    "    mask_random = (mask_score >= masking_freq * (1. - mask_random_freq)) & input_mask\n",
    "\n",
    "    # Tensors to replace with where input is masked or randomized\n",
    "    mask_value_tensor = tf.ones(input_shape, dtype=tf.int32) * mask_index\n",
    "    random_value_tensor = tf.random.uniform(\n",
    "        input_shape, minval=vocab_start, maxval=vocab_size + 2, dtype=tf.int32)\n",
    "    pad_value_tensor = tf.zeros(input_shape, dtype=tf.int32)\n",
    "\n",
    "    # Use the replacements to mask the input tensor\n",
    "    masked_tensor = tf.where(mask_mask, mask_value_tensor, input_tensor)\n",
    "    masked_tensor = tf.where(mask_random, random_value_tensor, masked_tensor)\n",
    "\n",
    "    # Set true values to zero (pad value) where not masked\n",
    "    true_tensor = tf.where(input_mask, input_tensor, pad_value_tensor)\n",
    "\n",
    "    return masked_tensor, true_tensor\n",
    "\n",
    "dataset = tf.data.TextLineDataset('../uniparc_data/train_uniref100.txt.gz', compression_type='GZIP')\n",
    "\n",
    "if filter_bzux:\n",
    "    bzux_filter = lambda string: tf.math.logical_not(\n",
    "        tf.strings.regex_full_match(string, '.*[BZUOX].*'))\n",
    "    dataset = dataset.filter(bzux_filter)\n",
    "\n",
    "encoded_data = dataset\\\n",
    "    .map(encode, num_parallel_calls=tf.data.experimental.AUTOTUNE)"
   ]
  },
  {
   "cell_type": "code",
   "execution_count": 7,
   "metadata": {},
   "outputs": [],
   "source": [
    "input_tensor = next(iter(encoded_data))"
   ]
  },
  {
   "cell_type": "code",
   "execution_count": 11,
   "metadata": {},
   "outputs": [],
   "source": [
    "input_shape = tf.shape(input_tensor)\n",
    "mask_score = tf.random.uniform(input_shape - no_mask_pad * 2, maxval=1, dtype=tf.float32)\n",
    "mask_score = tf.concat([tf.ones(no_mask_pad), mask_score, tf.ones(no_mask_pad)], 0)\n",
    "input_mask = mask_score < masking_freq"
   ]
  },
  {
   "cell_type": "code",
   "execution_count": 16,
   "metadata": {},
   "outputs": [
    {
     "data": {
      "text/plain": [
       "<tf.Tensor: id=190, shape=(432,), dtype=float32, numpy=\n",
       "array([1.00000000e+00, 5.40298820e-01, 7.86184788e-01, 7.21072435e-01,\n",
       "       8.18890333e-02, 4.95592237e-01, 3.14937830e-01, 9.45066571e-01,\n",
       "       7.03465939e-03, 7.00511694e-01, 9.21649218e-01, 5.74735045e-01,\n",
       "       8.46982360e-01, 2.82406688e-01, 6.44581437e-01, 7.64594078e-02,\n",
       "       9.74052906e-01, 6.69313431e-01, 5.07784128e-01, 1.97598696e-01,\n",
       "       3.46693993e-02, 1.51729107e-01, 9.64540958e-01, 7.55560398e-01,\n",
       "       9.91850615e-01, 3.14059377e-01, 7.30306983e-01, 5.75053692e-01,\n",
       "       9.40854669e-01, 7.13680863e-01, 5.60191154e-01, 1.99417353e-01,\n",
       "       5.07982492e-01, 7.67915249e-01, 6.66952610e-01, 3.02054882e-01,\n",
       "       9.05965209e-01, 4.92723465e-01, 8.62968206e-01, 9.97504473e-01,\n",
       "       8.40231895e-01, 9.30689573e-01, 8.77267838e-01, 1.73936844e-01,\n",
       "       3.39296699e-01, 9.14276719e-01, 2.82260180e-01, 8.32860827e-01,\n",
       "       5.84446669e-01, 9.13235784e-01, 4.00929332e-01, 8.72491121e-01,\n",
       "       1.20351076e-01, 1.93603039e-02, 9.76892233e-01, 9.67038751e-01,\n",
       "       3.47747326e-01, 9.45580006e-02, 8.46079588e-01, 7.30623245e-01,\n",
       "       9.92661119e-01, 1.42754436e-01, 7.33130097e-01, 8.22704434e-01,\n",
       "       6.53702974e-01, 3.57236862e-02, 7.90722370e-02, 8.35098505e-01,\n",
       "       2.25396752e-01, 9.90694642e-01, 7.58082628e-01, 4.43175077e-01,\n",
       "       1.98722482e-01, 5.25856614e-01, 3.75722051e-01, 6.44603729e-01,\n",
       "       3.64560962e-01, 6.81810021e-01, 5.53246140e-01, 8.85323286e-01,\n",
       "       1.11737490e-01, 8.50840569e-01, 5.39798856e-01, 7.97723889e-01,\n",
       "       6.34496212e-02, 2.37036228e-01, 5.82655311e-01, 6.84186339e-01,\n",
       "       4.06997204e-01, 3.01369429e-01, 9.75328803e-01, 1.11593485e-01,\n",
       "       7.73440361e-01, 4.37171221e-01, 9.66960907e-01, 5.07669449e-01,\n",
       "       4.86373782e-01, 4.58050013e-01, 1.57607675e-01, 1.86868191e-01,\n",
       "       7.58726716e-01, 6.97107911e-01, 3.09249878e-01, 8.92276168e-01,\n",
       "       7.33439684e-01, 2.91998982e-01, 6.17378116e-01, 4.96435523e-01,\n",
       "       1.75365448e-01, 4.64885354e-01, 7.65617728e-01, 3.05178761e-01,\n",
       "       2.03466654e-01, 5.53553104e-01, 3.19446802e-01, 5.65574169e-02,\n",
       "       5.86270213e-01, 4.16612148e-01, 9.23461914e-01, 3.79869580e-01,\n",
       "       4.27506566e-01, 2.13749766e-01, 3.58307600e-01, 4.94579554e-01,\n",
       "       6.69278741e-01, 9.09945965e-02, 6.21631980e-01, 5.92690110e-01,\n",
       "       4.85845089e-01, 1.59160733e-01, 4.46766615e-01, 3.79157066e-01,\n",
       "       9.79216695e-01, 4.39859509e-01, 3.26049685e-01, 6.99341774e-01,\n",
       "       2.16694117e-01, 3.58243585e-01, 9.48297024e-01, 9.05756712e-01,\n",
       "       1.45922303e-01, 9.78625536e-01, 1.39284253e-01, 5.38352251e-01,\n",
       "       9.59882736e-01, 3.46032500e-01, 8.52823257e-03, 1.02585316e-01,\n",
       "       4.35684562e-01, 3.85156512e-01, 7.12194443e-01, 5.18064380e-01,\n",
       "       7.78958559e-01, 2.20210433e-01, 8.21942329e-01, 6.06396198e-01,\n",
       "       2.15830922e-01, 3.33041668e-01, 5.74263453e-01, 9.74229574e-02,\n",
       "       4.23249483e-01, 2.61160851e-01, 7.25826025e-02, 9.01530385e-01,\n",
       "       8.15134048e-01, 9.74417329e-01, 8.58569264e-01, 7.87166715e-01,\n",
       "       7.58232832e-01, 4.04750943e-01, 5.30874610e-01, 5.76618910e-01,\n",
       "       3.92701030e-01, 6.67999864e-01, 4.16496038e-01, 7.02026725e-01,\n",
       "       5.51243305e-01, 5.99147320e-01, 7.84520388e-01, 1.82664514e-01,\n",
       "       4.52747107e-01, 9.58027005e-01, 6.37499809e-01, 2.29387879e-01,\n",
       "       8.12672615e-01, 2.09394693e-02, 4.71076131e-01, 1.95188046e-01,\n",
       "       4.92491961e-01, 7.36339092e-02, 4.96437192e-01, 4.43772554e-01,\n",
       "       2.41641879e-01, 6.73500657e-01, 6.12313986e-01, 1.87690616e-01,\n",
       "       7.63729095e-01, 3.68099689e-01, 4.77989078e-01, 7.28728414e-01,\n",
       "       9.32420015e-01, 1.76653981e-01, 7.52210855e-01, 6.66499376e-01,\n",
       "       4.82310414e-01, 9.52630281e-01, 2.82629848e-01, 3.33797693e-01,\n",
       "       7.72722006e-01, 8.94978046e-01, 9.83446836e-02, 4.03181911e-01,\n",
       "       9.66639757e-01, 6.10858560e-01, 1.47375464e-01, 8.45028162e-02,\n",
       "       9.14454699e-01, 5.67001224e-01, 5.85348845e-01, 8.89499187e-01,\n",
       "       8.87505531e-01, 4.85302567e-01, 1.49363518e-01, 8.93218517e-02,\n",
       "       8.18817019e-01, 6.31807685e-01, 6.54983759e-01, 9.47815657e-01,\n",
       "       3.21748734e-01, 2.30125785e-01, 7.90551543e-01, 2.06941843e-01,\n",
       "       3.21255207e-01, 7.01901197e-01, 8.99209499e-01, 1.03859782e-01,\n",
       "       6.79345489e-01, 7.50308990e-01, 1.33479834e-02, 5.36685824e-01,\n",
       "       8.97827625e-01, 1.72133207e-01, 3.12576532e-01, 4.14395094e-01,\n",
       "       3.48138571e-01, 8.14933777e-01, 6.01819754e-02, 6.88991427e-01,\n",
       "       5.27735114e-01, 8.26930881e-01, 2.29048252e-01, 7.50758052e-01,\n",
       "       6.44343734e-01, 8.47404122e-01, 5.66906095e-01, 8.74543190e-02,\n",
       "       8.36786866e-01, 1.15537405e-01, 6.00248575e-01, 1.81095600e-02,\n",
       "       2.00814366e-01, 4.15396452e-01, 3.58211160e-01, 2.51500249e-01,\n",
       "       6.10607386e-01, 3.53156686e-01, 1.48945451e-01, 1.45592690e-02,\n",
       "       1.81079030e-01, 5.16570449e-01, 6.98117971e-01, 3.60820174e-01,\n",
       "       3.49122405e-01, 7.92913198e-01, 5.86702704e-01, 6.41816378e-01,\n",
       "       6.53182745e-01, 3.16454411e-01, 6.42115831e-01, 1.27521753e-02,\n",
       "       1.28695250e-01, 8.83227706e-01, 2.33991742e-01, 7.89289474e-01,\n",
       "       5.39526701e-01, 4.99407172e-01, 9.08743858e-01, 2.49523640e-01,\n",
       "       8.61366153e-01, 6.25280023e-01, 2.22638011e-01, 7.51567483e-01,\n",
       "       1.80896401e-01, 7.24138618e-01, 1.84913278e-01, 6.70671344e-01,\n",
       "       9.74817157e-01, 6.37135625e-01, 6.76286817e-01, 5.38666964e-01,\n",
       "       3.43071699e-01, 2.54871011e-01, 7.39501834e-01, 3.54112029e-01,\n",
       "       7.18113542e-01, 8.51093054e-01, 7.43376374e-01, 7.93223143e-01,\n",
       "       2.18030095e-01, 6.60186529e-01, 8.13341022e-01, 2.85608292e-01,\n",
       "       9.48099375e-01, 1.60487533e-01, 9.29360867e-01, 9.19528008e-01,\n",
       "       1.67727470e-04, 5.51219106e-01, 7.99661756e-01, 7.31602311e-01,\n",
       "       1.03432536e-01, 3.26079130e-01, 5.72102785e-01, 3.31575274e-01,\n",
       "       6.34922504e-01, 4.00928378e-01, 9.61175561e-01, 7.04626322e-01,\n",
       "       5.03763914e-01, 2.01026440e-01, 8.50397229e-01, 5.85033417e-01,\n",
       "       8.66620541e-02, 9.24425125e-02, 6.49813175e-01, 8.00603867e-01,\n",
       "       2.58366466e-01, 7.95170069e-01, 3.24954629e-01, 6.82062984e-01,\n",
       "       3.43065381e-01, 9.56730723e-01, 8.13778043e-01, 3.14420938e-01,\n",
       "       2.89520025e-02, 6.47513866e-02, 5.04990339e-01, 5.23509264e-01,\n",
       "       1.71562433e-01, 2.86910534e-01, 9.23529863e-02, 7.25600004e-01,\n",
       "       4.36047316e-02, 8.97631764e-01, 8.83285403e-01, 6.34460568e-01,\n",
       "       6.62727237e-01, 2.51844764e-01, 4.32391167e-01, 4.29130912e-01,\n",
       "       4.03307676e-01, 8.83468270e-01, 7.78351784e-01, 1.45473719e-01,\n",
       "       9.28586960e-01, 2.15816617e-01, 6.18080854e-01, 8.67560625e-01,\n",
       "       4.24850583e-01, 2.22324610e-01, 5.04469395e-01, 9.86169696e-01,\n",
       "       8.76168609e-01, 1.16457820e-01, 1.04159474e-01, 3.06607962e-01,\n",
       "       6.46892428e-01, 6.24237180e-01, 5.53684473e-01, 7.06290126e-01,\n",
       "       9.59429741e-01, 1.16453528e-01, 4.28549528e-01, 2.86643863e-01,\n",
       "       4.29236889e-03, 8.58124495e-01, 6.07576966e-01, 1.25909805e-01,\n",
       "       8.26174021e-01, 5.24850011e-01, 3.28916430e-01, 5.25497198e-02,\n",
       "       9.48745847e-01, 6.46715879e-01, 5.67381382e-02, 1.44090772e-01,\n",
       "       2.22964406e-01, 5.57719827e-01, 5.52142382e-01, 8.21135640e-01,\n",
       "       3.23266149e-01, 3.81321549e-01, 3.19090605e-01, 1.75184250e-01,\n",
       "       1.73080683e-01, 9.42869544e-01, 5.66013932e-01, 5.72722316e-01,\n",
       "       1.96168303e-01, 5.79771161e-01, 3.38873863e-01, 3.46200347e-01,\n",
       "       7.90556312e-01, 7.23395467e-01, 8.24025035e-01, 2.83995390e-01,\n",
       "       3.68920803e-01, 5.09521604e-01, 1.40110970e-01, 4.43749070e-01,\n",
       "       2.56363511e-01, 3.51221561e-01, 8.67101312e-01, 9.07060623e-01,\n",
       "       5.46863437e-01, 5.44899344e-01, 9.24798846e-01, 8.46823454e-02,\n",
       "       8.28016043e-01, 6.41792774e-01, 2.38283157e-01, 1.00000000e+00],\n",
       "      dtype=float32)>"
      ]
     },
     "execution_count": 16,
     "metadata": {},
     "output_type": "execute_result"
    }
   ],
   "source": [
    "tf.concat([tf.ones(no_mask_pad), mask_score, tf.ones(no_mask_pad)], 0)"
   ]
  },
  {
   "cell_type": "code",
   "execution_count": 9,
   "metadata": {},
   "outputs": [
    {
     "data": {
      "text/plain": [
       "<tf.Tensor: id=160, shape=(432,), dtype=float32, numpy=\n",
       "array([0.36031353, 0.9718274 , 0.9704088 , 0.5596117 , 0.9622735 ,\n",
       "       0.6275754 , 0.02057183, 0.98879457, 0.67847407, 0.511451  ,\n",
       "       0.31457484, 0.2030307 , 0.05781162, 0.9700577 , 0.87887096,\n",
       "       0.33954692, 0.441589  , 0.28692305, 0.7514062 , 0.11643517,\n",
       "       0.99769855, 0.83928204, 0.55498767, 0.85603154, 0.8213414 ,\n",
       "       0.9926305 , 0.19381595, 0.44474804, 0.3775823 , 0.76051295,\n",
       "       0.784451  , 0.1514591 , 0.10342324, 0.7423258 , 0.59138846,\n",
       "       0.6553309 , 0.5350299 , 0.41742134, 0.06401265, 0.12608814,\n",
       "       0.58775437, 0.1468221 , 0.6490656 , 0.52453506, 0.74527395,\n",
       "       0.3102647 , 0.7814647 , 0.31444097, 0.44431448, 0.17624521,\n",
       "       0.04818022, 0.64374053, 0.18182671, 0.7144389 , 0.5234299 ,\n",
       "       0.10299766, 0.15352654, 0.536371  , 0.5257994 , 0.9598707 ,\n",
       "       0.26844645, 0.8016484 , 0.58619595, 0.81033206, 0.93123806,\n",
       "       0.8747127 , 0.92220986, 0.38942564, 0.39678204, 0.30834222,\n",
       "       0.882923  , 0.0854038 , 0.12346923, 0.27078187, 0.8200321 ,\n",
       "       0.4379269 , 0.28722286, 0.35050523, 0.2113831 , 0.50046   ,\n",
       "       0.42435753, 0.23842752, 0.28956854, 0.15955293, 0.7707368 ,\n",
       "       0.35890174, 0.60983515, 0.72763324, 0.46845782, 0.8057802 ,\n",
       "       0.88310075, 0.99239767, 0.35171866, 0.604733  , 0.3820876 ,\n",
       "       0.9437417 , 0.6446948 , 0.12784004, 0.73478043, 0.49884248,\n",
       "       0.340351  , 0.22908819, 0.31712317, 0.7191335 , 0.47848773,\n",
       "       0.9099567 , 0.7158643 , 0.25962508, 0.89951634, 0.91987824,\n",
       "       0.04697227, 0.72169733, 0.9971123 , 0.01063919, 0.05031633,\n",
       "       0.2586894 , 0.393618  , 0.05946398, 0.2419926 , 0.20805585,\n",
       "       0.6769998 , 0.8104451 , 0.2980095 , 0.2740568 , 0.11813545,\n",
       "       0.13959706, 0.9035175 , 0.49758983, 0.5209886 , 0.39739335,\n",
       "       0.5994048 , 0.20853698, 0.83567786, 0.034621  , 0.7309326 ,\n",
       "       0.13296413, 0.19681084, 0.6390635 , 0.81180096, 0.5162103 ,\n",
       "       0.14145207, 0.6368147 , 0.28722584, 0.72015595, 0.8076854 ,\n",
       "       0.07040131, 0.90153587, 0.1862992 , 0.09905267, 0.10019088,\n",
       "       0.16263008, 0.23439312, 0.87472796, 0.20195317, 0.45765817,\n",
       "       0.49406397, 0.66951656, 0.48435485, 0.04078734, 0.27331924,\n",
       "       0.2550422 , 0.24264717, 0.11459208, 0.58575916, 0.12729847,\n",
       "       0.5590997 , 0.7566587 , 0.41556644, 0.8485019 , 0.46515203,\n",
       "       0.21026182, 0.73109674, 0.10198212, 0.8890301 , 0.10679638,\n",
       "       0.44917905, 0.8194679 , 0.31414282, 0.9267515 , 0.22506583,\n",
       "       0.10453463, 0.13431764, 0.4117577 , 0.69224167, 0.4528973 ,\n",
       "       0.4506365 , 0.8822876 , 0.5499047 , 0.68645334, 0.4349959 ,\n",
       "       0.07969713, 0.11933196, 0.9675766 , 0.03620458, 0.7895839 ,\n",
       "       0.86570287, 0.2905953 , 0.25349772, 0.8195994 , 0.4081571 ,\n",
       "       0.10565364, 0.9760288 , 0.44393277, 0.57546115, 0.53694534,\n",
       "       0.9311342 , 0.6691967 , 0.60096264, 0.2922523 , 0.70921314,\n",
       "       0.12857938, 0.50914896, 0.44062293, 0.26449442, 0.145836  ,\n",
       "       0.8377451 , 0.14053345, 0.28516102, 0.36166346, 0.9160929 ,\n",
       "       0.8888242 , 0.62387085, 0.92150724, 0.9698292 , 0.96135414,\n",
       "       0.25660777, 0.2522292 , 0.45988965, 0.8643724 , 0.2880721 ,\n",
       "       0.77061737, 0.05804837, 0.8204148 , 0.6389735 , 0.21930683,\n",
       "       0.44953883, 0.7243997 , 0.9906453 , 0.03882551, 0.06446612,\n",
       "       0.09145546, 0.7773793 , 0.5356759 , 0.39872015, 0.22145629,\n",
       "       0.10876262, 0.4575634 , 0.01252699, 0.8132725 , 0.04325545,\n",
       "       0.68544924, 0.9525347 , 0.5224488 , 0.07599735, 0.42840505,\n",
       "       0.09927773, 0.662114  , 0.12196934, 0.89503074, 0.45065427,\n",
       "       0.9102882 , 0.32477307, 0.30898678, 0.42075896, 0.8868077 ,\n",
       "       0.13626277, 0.27056885, 0.48297703, 0.42057025, 0.91385376,\n",
       "       0.6365384 , 0.4533322 , 0.00493705, 0.28458476, 0.79978347,\n",
       "       0.23236811, 0.2158035 , 0.31972802, 0.32704163, 0.8348594 ,\n",
       "       0.4516256 , 0.42377913, 0.567649  , 0.27886105, 0.3747865 ,\n",
       "       0.43851757, 0.26305294, 0.4163816 , 0.27709293, 0.72242796,\n",
       "       0.7997072 , 0.9439589 , 0.8193579 , 0.39376867, 0.7376069 ,\n",
       "       0.5301783 , 0.9518558 , 0.21210587, 0.65286756, 0.20651793,\n",
       "       0.01313543, 0.3731277 , 0.7538022 , 0.91699517, 0.60041606,\n",
       "       0.6126952 , 0.7023349 , 0.37943172, 0.552232  , 0.14449131,\n",
       "       0.8506137 , 0.6427914 , 0.7808676 , 0.06678092, 0.23219645,\n",
       "       0.462826  , 0.00119877, 0.65442467, 0.26209784, 0.1790986 ,\n",
       "       0.8465333 , 0.5875139 , 0.5259545 , 0.6404474 , 0.44123077,\n",
       "       0.8476287 , 0.12833321, 0.8244952 , 0.5494267 , 0.9719497 ,\n",
       "       0.7191955 , 0.6393362 , 0.46139336, 0.39736247, 0.40920842,\n",
       "       0.12685275, 0.43142092, 0.3302796 , 0.7602314 , 0.35871768,\n",
       "       0.05469429, 0.5297065 , 0.39523065, 0.55770206, 0.15832973,\n",
       "       0.9450313 , 0.7939925 , 0.5228325 , 0.2577722 , 0.8802608 ,\n",
       "       0.4390731 , 0.88757575, 0.09821284, 0.29662716, 0.57622325,\n",
       "       0.01742363, 0.12958455, 0.03521085, 0.5920017 , 0.45717394,\n",
       "       0.84759486, 0.43076098, 0.41372633, 0.14968026, 0.6073116 ,\n",
       "       0.6422026 , 0.4324566 , 0.6226313 , 0.24666822, 0.3910905 ,\n",
       "       0.7975354 , 0.0526917 , 0.31075072, 0.6867902 , 0.23026371,\n",
       "       0.9726826 , 0.7280557 , 0.25614345, 0.24326229, 0.52968657,\n",
       "       0.8375076 , 0.80489767, 0.8265145 , 0.03443122, 0.92789936,\n",
       "       0.5910115 , 0.27413428, 0.7508534 , 0.5632224 , 0.88951254,\n",
       "       0.6800569 , 0.56135404, 0.07288098, 0.84963787, 0.4350984 ,\n",
       "       0.77844596, 0.00778937, 0.5990437 , 0.8814397 , 0.7682166 ,\n",
       "       0.99890494, 0.67723525, 0.6822721 , 0.18939948, 0.91274893,\n",
       "       0.47664034, 0.6917548 , 0.5393982 , 0.87182033, 0.538375  ,\n",
       "       0.7406032 , 0.08030021, 0.70220137, 0.7250267 , 0.21096373,\n",
       "       0.6376505 , 0.10808837, 0.9794842 , 0.15258574, 0.09681797,\n",
       "       0.6106051 , 0.58059597, 0.6428915 , 0.3272581 , 0.5222515 ,\n",
       "       0.75762725, 0.6515503 , 0.86907804, 0.1486491 , 0.5737798 ,\n",
       "       0.7090473 , 0.42030132], dtype=float32)>"
      ]
     },
     "execution_count": 9,
     "metadata": {},
     "output_type": "execute_result"
    }
   ],
   "source": [
    "mask_score"
   ]
  },
  {
   "cell_type": "code",
   "execution_count": 6,
   "metadata": {},
   "outputs": [],
   "source": [
    "    .map(mask_input, num_parallel_calls=tf.data.experimental.AUTOTUNE)\n",
    "\n",
    "# This argument controls whether to fix the size of the sequences\n",
    "tf_seq_len = -1 if not fix_sequence_length else max_sequence_length\n",
    "\n",
    "encoded_data = encoded_data\\\n",
    "    .shuffle(buffer_size=buffer_size)\\\n",
    "    .padded_batch(batch_size, padded_shapes=(\n",
    "        ([tf_seq_len], [tf_seq_len])))"
   ]
  },
  {
   "cell_type": "code",
   "execution_count": 11,
   "metadata": {},
   "outputs": [],
   "source": [
    "test = next(iter(dataset))"
   ]
  },
  {
   "cell_type": "code",
   "execution_count": 59,
   "metadata": {},
   "outputs": [
    {
     "data": {
      "text/plain": [
       "<tf.Tensor: id=930, shape=(3,), dtype=int32, numpy=array([0, 0, 1], dtype=int32)>"
      ]
     },
     "execution_count": 59,
     "metadata": {},
     "output_type": "execute_result"
    }
   ],
   "source": [
    "tf.concat([tf.range(1), tf.range(2)], 0)"
   ]
  },
  {
   "cell_type": "code",
   "execution_count": 55,
   "metadata": {},
   "outputs": [
    {
     "data": {
      "text/plain": [
       "<tf.Tensor: id=913, shape=(), dtype=string, numpy=b'A'>"
      ]
     },
     "execution_count": 55,
     "metadata": {},
     "output_type": "execute_result"
    }
   ],
   "source": []
  },
  {
   "cell_type": "code",
   "execution_count": 63,
   "metadata": {},
   "outputs": [
    {
     "data": {
      "text/plain": [
       "<tf.Tensor: id=939, shape=(432,), dtype=string, numpy=\n",
       "array([b'^', b'M', b'L', b'F', b'G', b'T', b'A', b'K', b'M', b'N', b'R',\n",
       "       b'E', b'N', b'H', b'L', b'E', b'I', b'G', b'G', b'C', b'D', b'T',\n",
       "       b'V', b'K', b'L', b'A', b'Q', b'K', b'F', b'G', b'T', b'P', b'L',\n",
       "       b'F', b'V', b'Y', b'D', b'V', b'A', b'H', b'I', b'R', b'A', b'Q',\n",
       "       b'A', b'R', b'G', b'F', b'K', b'Q', b'T', b'L', b'N', b'Q', b'L',\n",
       "       b'G', b'I', b'K', b'N', b'K', b'V', b'V', b'Y', b'A', b'S', b'K',\n",
       "       b'A', b'F', b'S', b'C', b'L', b'A', b'I', b'Y', b'Q', b'V', b'L',\n",
       "       b'K', b'E', b'E', b'D', b'I', b'A', b'C', b'D', b'V', b'V', b'S',\n",
       "       b'G', b'G', b'E', b'L', b'F', b'T', b'A', b'L', b'K', b'G', b'G',\n",
       "       b'M', b'E', b'P', b'A', b'E', b'I', b'E', b'F', b'H', b'G', b'N',\n",
       "       b'N', b'K', b'T', b'P', b'E', b'E', b'L', b'R', b'Y', b'A', b'L',\n",
       "       b'D', b'N', b'K', b'I', b'G', b'T', b'I', b'V', b'I', b'D', b'N',\n",
       "       b'F', b'Y', b'E', b'I', b'D', b'L', b'L', b'E', b'E', b'L', b'L',\n",
       "       b'A', b'T', b'R', b'N', b'Q', b'T', b'Q', b'K', b'V', b'L', b'F',\n",
       "       b'R', b'V', b'S', b'P', b'G', b'V', b'D', b'A', b'E', b'T', b'H',\n",
       "       b'D', b'Y', b'I', b'L', b'T', b'G', b'Q', b'E', b'D', b'S', b'K',\n",
       "       b'F', b'G', b'F', b'D', b'V', b'A', b'S', b'G', b'Q', b'A', b'T',\n",
       "       b'E', b'A', b'L', b'V', b'R', b'L', b'L', b'S', b'N', b'P', b'S',\n",
       "       b'F', b'D', b'V', b'Q', b'G', b'V', b'Q', b'C', b'H', b'I', b'G',\n",
       "       b'S', b'Q', b'I', b'F', b'A', b'V', b'E', b'G', b'F', b'L', b'A',\n",
       "       b'A', b'V', b'E', b'K', b'M', b'F', b'T', b'I', b'L', b'E', b'D',\n",
       "       b'W', b'R', b'Q', b'V', b'H', b'Q', b'F', b'T', b'A', b'R', b'V',\n",
       "       b'L', b'N', b'M', b'G', b'G', b'G', b'F', b'G', b'V', b'Q', b'Y',\n",
       "       b'T', b'Q', b'Q', b'D', b'E', b'P', b'L', b'A', b'P', b'A', b'T',\n",
       "       b'F', b'V', b'E', b'K', b'I', b'V', b'Y', b'S', b'L', b'K', b'G',\n",
       "       b'H', b'C', b'E', b'Q', b'L', b'G', b'Y', b'P', b'L', b'P', b'E',\n",
       "       b'L', b'W', b'I', b'E', b'P', b'G', b'R', b'S', b'L', b'I', b'A',\n",
       "       b'E', b'A', b'G', b'T', b'T', b'I', b'Y', b'T', b'V', b'G', b'A',\n",
       "       b'Q', b'K', b'E', b'V', b'P', b'G', b'V', b'R', b'H', b'F', b'V',\n",
       "       b'S', b'V', b'D', b'G', b'G', b'M', b'G', b'D', b'N', b'I', b'R',\n",
       "       b'P', b'A', b'L', b'Y', b'Q', b'A', b'V', b'Y', b'D', b'G', b'F',\n",
       "       b'L', b'A', b'N', b'R', b'E', b'G', b'H', b'D', b'S', b'V', b'K',\n",
       "       b'K', b'V', b'T', b'V', b'V', b'G', b'K', b'Y', b'C', b'E', b'S',\n",
       "       b'G', b'D', b'V', b'L', b'L', b'R', b'D', b'I', b'L', b'L', b'P',\n",
       "       b'E', b'V', b'K', b'A', b'G', b'D', b'L', b'L', b'A', b'I', b'S',\n",
       "       b'S', b'T', b'G', b'A', b'Y', b'G', b'Y', b'S', b'M', b'A', b'S',\n",
       "       b'N', b'Y', b'N', b'R', b'N', b'P', b'R', b'P', b'A', b'V', b'V',\n",
       "       b'F', b'V', b'E', b'D', b'G', b'Q', b'A', b'K', b'L', b'V', b'A',\n",
       "       b'R', b'R', b'E', b'T', b'Y', b'E', b'D', b'M', b'T', b'T', b'L',\n",
       "       b'D', b'C', b'$'], dtype=object)>"
      ]
     },
     "execution_count": 63,
     "metadata": {},
     "output_type": "execute_result"
    }
   ],
   "source": []
  },
  {
   "cell_type": "code",
   "execution_count": 56,
   "metadata": {},
   "outputs": [
    {
     "ename": "InvalidArgumentError",
     "evalue": "ConcatOp : Expected concatenating dimensions in the range [0, 0), but got 0 [Op:ConcatV2] name: concat",
     "output_type": "error",
     "traceback": [
      "\u001b[0;31m---------------------------------------------------------------------------\u001b[0m",
      "\u001b[0;31mInvalidArgumentError\u001b[0m                      Traceback (most recent call last)",
      "\u001b[0;32m<ipython-input-56-2f4e17a6ad64>\u001b[0m in \u001b[0;36m<module>\u001b[0;34m\u001b[0m\n\u001b[0;32m----> 1\u001b[0;31m \u001b[0mtf\u001b[0m\u001b[0;34m.\u001b[0m\u001b[0mconcat\u001b[0m\u001b[0;34m(\u001b[0m\u001b[0;34m[\u001b[0m\u001b[0mtf\u001b[0m\u001b[0;34m.\u001b[0m\u001b[0mconstant\u001b[0m\u001b[0;34m(\u001b[0m\u001b[0;34m'A'\u001b[0m\u001b[0;34m)\u001b[0m\u001b[0;34m,\u001b[0m \u001b[0mchars\u001b[0m\u001b[0;34m]\u001b[0m\u001b[0;34m,\u001b[0m \u001b[0maxis\u001b[0m\u001b[0;34m=\u001b[0m\u001b[0;36m0\u001b[0m\u001b[0;34m)\u001b[0m\u001b[0;34m\u001b[0m\u001b[0;34m\u001b[0m\u001b[0m\n\u001b[0m",
      "\u001b[0;32m/usr/local/lib/python3.6/dist-packages/tensorflow_core/python/util/dispatch.py\u001b[0m in \u001b[0;36mwrapper\u001b[0;34m(*args, **kwargs)\u001b[0m\n\u001b[1;32m    178\u001b[0m     \u001b[0;34m\"\"\"Call target, and fall back on dispatchers if there is a TypeError.\"\"\"\u001b[0m\u001b[0;34m\u001b[0m\u001b[0;34m\u001b[0m\u001b[0m\n\u001b[1;32m    179\u001b[0m     \u001b[0;32mtry\u001b[0m\u001b[0;34m:\u001b[0m\u001b[0;34m\u001b[0m\u001b[0;34m\u001b[0m\u001b[0m\n\u001b[0;32m--> 180\u001b[0;31m       \u001b[0;32mreturn\u001b[0m \u001b[0mtarget\u001b[0m\u001b[0;34m(\u001b[0m\u001b[0;34m*\u001b[0m\u001b[0margs\u001b[0m\u001b[0;34m,\u001b[0m \u001b[0;34m**\u001b[0m\u001b[0mkwargs\u001b[0m\u001b[0;34m)\u001b[0m\u001b[0;34m\u001b[0m\u001b[0;34m\u001b[0m\u001b[0m\n\u001b[0m\u001b[1;32m    181\u001b[0m     \u001b[0;32mexcept\u001b[0m \u001b[0;34m(\u001b[0m\u001b[0mTypeError\u001b[0m\u001b[0;34m,\u001b[0m \u001b[0mValueError\u001b[0m\u001b[0;34m)\u001b[0m\u001b[0;34m:\u001b[0m\u001b[0;34m\u001b[0m\u001b[0;34m\u001b[0m\u001b[0m\n\u001b[1;32m    182\u001b[0m       \u001b[0;31m# Note: convert_to_eager_tensor currently raises a ValueError, not a\u001b[0m\u001b[0;34m\u001b[0m\u001b[0;34m\u001b[0m\u001b[0;34m\u001b[0m\u001b[0m\n",
      "\u001b[0;32m/usr/local/lib/python3.6/dist-packages/tensorflow_core/python/ops/array_ops.py\u001b[0m in \u001b[0;36mconcat\u001b[0;34m(values, axis, name)\u001b[0m\n\u001b[1;32m   1429\u001b[0m           dtype=dtypes.int32).get_shape().assert_has_rank(0)\n\u001b[1;32m   1430\u001b[0m       \u001b[0;32mreturn\u001b[0m \u001b[0midentity\u001b[0m\u001b[0;34m(\u001b[0m\u001b[0mvalues\u001b[0m\u001b[0;34m[\u001b[0m\u001b[0;36m0\u001b[0m\u001b[0;34m]\u001b[0m\u001b[0;34m,\u001b[0m \u001b[0mname\u001b[0m\u001b[0;34m=\u001b[0m\u001b[0mname\u001b[0m\u001b[0;34m)\u001b[0m\u001b[0;34m\u001b[0m\u001b[0;34m\u001b[0m\u001b[0m\n\u001b[0;32m-> 1431\u001b[0;31m   \u001b[0;32mreturn\u001b[0m \u001b[0mgen_array_ops\u001b[0m\u001b[0;34m.\u001b[0m\u001b[0mconcat_v2\u001b[0m\u001b[0;34m(\u001b[0m\u001b[0mvalues\u001b[0m\u001b[0;34m=\u001b[0m\u001b[0mvalues\u001b[0m\u001b[0;34m,\u001b[0m \u001b[0maxis\u001b[0m\u001b[0;34m=\u001b[0m\u001b[0maxis\u001b[0m\u001b[0;34m,\u001b[0m \u001b[0mname\u001b[0m\u001b[0;34m=\u001b[0m\u001b[0mname\u001b[0m\u001b[0;34m)\u001b[0m\u001b[0;34m\u001b[0m\u001b[0;34m\u001b[0m\u001b[0m\n\u001b[0m\u001b[1;32m   1432\u001b[0m \u001b[0;34m\u001b[0m\u001b[0m\n\u001b[1;32m   1433\u001b[0m \u001b[0;34m\u001b[0m\u001b[0m\n",
      "\u001b[0;32m/usr/local/lib/python3.6/dist-packages/tensorflow_core/python/ops/gen_array_ops.py\u001b[0m in \u001b[0;36mconcat_v2\u001b[0;34m(values, axis, name)\u001b[0m\n\u001b[1;32m   1247\u001b[0m       \u001b[0;32melse\u001b[0m\u001b[0;34m:\u001b[0m\u001b[0;34m\u001b[0m\u001b[0;34m\u001b[0m\u001b[0m\n\u001b[1;32m   1248\u001b[0m         \u001b[0mmessage\u001b[0m \u001b[0;34m=\u001b[0m \u001b[0me\u001b[0m\u001b[0;34m.\u001b[0m\u001b[0mmessage\u001b[0m\u001b[0;34m\u001b[0m\u001b[0;34m\u001b[0m\u001b[0m\n\u001b[0;32m-> 1249\u001b[0;31m       \u001b[0m_six\u001b[0m\u001b[0;34m.\u001b[0m\u001b[0mraise_from\u001b[0m\u001b[0;34m(\u001b[0m\u001b[0m_core\u001b[0m\u001b[0;34m.\u001b[0m\u001b[0m_status_to_exception\u001b[0m\u001b[0;34m(\u001b[0m\u001b[0me\u001b[0m\u001b[0;34m.\u001b[0m\u001b[0mcode\u001b[0m\u001b[0;34m,\u001b[0m \u001b[0mmessage\u001b[0m\u001b[0;34m)\u001b[0m\u001b[0;34m,\u001b[0m \u001b[0;32mNone\u001b[0m\u001b[0;34m)\u001b[0m\u001b[0;34m\u001b[0m\u001b[0;34m\u001b[0m\u001b[0m\n\u001b[0m\u001b[1;32m   1250\u001b[0m   \u001b[0;31m# Add nodes to the TensorFlow graph.\u001b[0m\u001b[0;34m\u001b[0m\u001b[0;34m\u001b[0m\u001b[0;34m\u001b[0m\u001b[0m\n\u001b[1;32m   1251\u001b[0m   \u001b[0;32mif\u001b[0m \u001b[0;32mnot\u001b[0m \u001b[0misinstance\u001b[0m\u001b[0;34m(\u001b[0m\u001b[0mvalues\u001b[0m\u001b[0;34m,\u001b[0m \u001b[0;34m(\u001b[0m\u001b[0mlist\u001b[0m\u001b[0;34m,\u001b[0m \u001b[0mtuple\u001b[0m\u001b[0;34m)\u001b[0m\u001b[0;34m)\u001b[0m\u001b[0;34m:\u001b[0m\u001b[0;34m\u001b[0m\u001b[0;34m\u001b[0m\u001b[0m\n",
      "\u001b[0;32m/usr/local/lib/python3.6/dist-packages/six.py\u001b[0m in \u001b[0;36mraise_from\u001b[0;34m(value, from_value)\u001b[0m\n",
      "\u001b[0;31mInvalidArgumentError\u001b[0m: ConcatOp : Expected concatenating dimensions in the range [0, 0), but got 0 [Op:ConcatV2] name: concat"
     ]
    }
   ],
   "source": [
    "tf.concat([tf.ten('A'), chars], axis=0)"
   ]
  },
  {
   "cell_type": "code",
   "execution_count": 53,
   "metadata": {},
   "outputs": [
    {
     "ename": "InvalidArgumentError",
     "evalue": "ConcatOp : Expected concatenating dimensions in the range [0, 0), but got 0 [Op:ConcatV2] name: concat",
     "output_type": "error",
     "traceback": [
      "\u001b[0;31m---------------------------------------------------------------------------\u001b[0m",
      "\u001b[0;31mInvalidArgumentError\u001b[0m                      Traceback (most recent call last)",
      "\u001b[0;32m<ipython-input-53-eb6b6df4bece>\u001b[0m in \u001b[0;36m<module>\u001b[0;34m\u001b[0m\n\u001b[0;32m----> 1\u001b[0;31m \u001b[0mtf\u001b[0m\u001b[0;34m.\u001b[0m\u001b[0mconcat\u001b[0m\u001b[0;34m(\u001b[0m\u001b[0;34m[\u001b[0m\u001b[0;34m'^'\u001b[0m\u001b[0;34m,\u001b[0m \u001b[0mchars\u001b[0m\u001b[0;34m,\u001b[0m \u001b[0;34m'$'\u001b[0m\u001b[0;34m]\u001b[0m\u001b[0;34m,\u001b[0m \u001b[0maxis\u001b[0m\u001b[0;34m=\u001b[0m\u001b[0;36m0\u001b[0m\u001b[0;34m)\u001b[0m\u001b[0;34m\u001b[0m\u001b[0;34m\u001b[0m\u001b[0m\n\u001b[0m",
      "\u001b[0;32m/usr/local/lib/python3.6/dist-packages/tensorflow_core/python/util/dispatch.py\u001b[0m in \u001b[0;36mwrapper\u001b[0;34m(*args, **kwargs)\u001b[0m\n\u001b[1;32m    178\u001b[0m     \u001b[0;34m\"\"\"Call target, and fall back on dispatchers if there is a TypeError.\"\"\"\u001b[0m\u001b[0;34m\u001b[0m\u001b[0;34m\u001b[0m\u001b[0m\n\u001b[1;32m    179\u001b[0m     \u001b[0;32mtry\u001b[0m\u001b[0;34m:\u001b[0m\u001b[0;34m\u001b[0m\u001b[0;34m\u001b[0m\u001b[0m\n\u001b[0;32m--> 180\u001b[0;31m       \u001b[0;32mreturn\u001b[0m \u001b[0mtarget\u001b[0m\u001b[0;34m(\u001b[0m\u001b[0;34m*\u001b[0m\u001b[0margs\u001b[0m\u001b[0;34m,\u001b[0m \u001b[0;34m**\u001b[0m\u001b[0mkwargs\u001b[0m\u001b[0;34m)\u001b[0m\u001b[0;34m\u001b[0m\u001b[0;34m\u001b[0m\u001b[0m\n\u001b[0m\u001b[1;32m    181\u001b[0m     \u001b[0;32mexcept\u001b[0m \u001b[0;34m(\u001b[0m\u001b[0mTypeError\u001b[0m\u001b[0;34m,\u001b[0m \u001b[0mValueError\u001b[0m\u001b[0;34m)\u001b[0m\u001b[0;34m:\u001b[0m\u001b[0;34m\u001b[0m\u001b[0;34m\u001b[0m\u001b[0m\n\u001b[1;32m    182\u001b[0m       \u001b[0;31m# Note: convert_to_eager_tensor currently raises a ValueError, not a\u001b[0m\u001b[0;34m\u001b[0m\u001b[0;34m\u001b[0m\u001b[0;34m\u001b[0m\u001b[0m\n",
      "\u001b[0;32m/usr/local/lib/python3.6/dist-packages/tensorflow_core/python/ops/array_ops.py\u001b[0m in \u001b[0;36mconcat\u001b[0;34m(values, axis, name)\u001b[0m\n\u001b[1;32m   1429\u001b[0m           dtype=dtypes.int32).get_shape().assert_has_rank(0)\n\u001b[1;32m   1430\u001b[0m       \u001b[0;32mreturn\u001b[0m \u001b[0midentity\u001b[0m\u001b[0;34m(\u001b[0m\u001b[0mvalues\u001b[0m\u001b[0;34m[\u001b[0m\u001b[0;36m0\u001b[0m\u001b[0;34m]\u001b[0m\u001b[0;34m,\u001b[0m \u001b[0mname\u001b[0m\u001b[0;34m=\u001b[0m\u001b[0mname\u001b[0m\u001b[0;34m)\u001b[0m\u001b[0;34m\u001b[0m\u001b[0;34m\u001b[0m\u001b[0m\n\u001b[0;32m-> 1431\u001b[0;31m   \u001b[0;32mreturn\u001b[0m \u001b[0mgen_array_ops\u001b[0m\u001b[0;34m.\u001b[0m\u001b[0mconcat_v2\u001b[0m\u001b[0;34m(\u001b[0m\u001b[0mvalues\u001b[0m\u001b[0;34m=\u001b[0m\u001b[0mvalues\u001b[0m\u001b[0;34m,\u001b[0m \u001b[0maxis\u001b[0m\u001b[0;34m=\u001b[0m\u001b[0maxis\u001b[0m\u001b[0;34m,\u001b[0m \u001b[0mname\u001b[0m\u001b[0;34m=\u001b[0m\u001b[0mname\u001b[0m\u001b[0;34m)\u001b[0m\u001b[0;34m\u001b[0m\u001b[0;34m\u001b[0m\u001b[0m\n\u001b[0m\u001b[1;32m   1432\u001b[0m \u001b[0;34m\u001b[0m\u001b[0m\n\u001b[1;32m   1433\u001b[0m \u001b[0;34m\u001b[0m\u001b[0m\n",
      "\u001b[0;32m/usr/local/lib/python3.6/dist-packages/tensorflow_core/python/ops/gen_array_ops.py\u001b[0m in \u001b[0;36mconcat_v2\u001b[0;34m(values, axis, name)\u001b[0m\n\u001b[1;32m   1239\u001b[0m       \u001b[0;32mtry\u001b[0m\u001b[0;34m:\u001b[0m\u001b[0;34m\u001b[0m\u001b[0;34m\u001b[0m\u001b[0m\n\u001b[1;32m   1240\u001b[0m         return concat_v2_eager_fallback(\n\u001b[0;32m-> 1241\u001b[0;31m             values, axis, name=name, ctx=_ctx)\n\u001b[0m\u001b[1;32m   1242\u001b[0m       \u001b[0;32mexcept\u001b[0m \u001b[0m_core\u001b[0m\u001b[0;34m.\u001b[0m\u001b[0m_SymbolicException\u001b[0m\u001b[0;34m:\u001b[0m\u001b[0;34m\u001b[0m\u001b[0;34m\u001b[0m\u001b[0m\n\u001b[1;32m   1243\u001b[0m         \u001b[0;32mpass\u001b[0m  \u001b[0;31m# Add nodes to the TensorFlow graph.\u001b[0m\u001b[0;34m\u001b[0m\u001b[0;34m\u001b[0m\u001b[0m\n",
      "\u001b[0;32m/usr/local/lib/python3.6/dist-packages/tensorflow_core/python/ops/gen_array_ops.py\u001b[0m in \u001b[0;36mconcat_v2_eager_fallback\u001b[0;34m(values, axis, name, ctx)\u001b[0m\n\u001b[1;32m   1287\u001b[0m   \u001b[0m_attrs\u001b[0m \u001b[0;34m=\u001b[0m \u001b[0;34m(\u001b[0m\u001b[0;34m\"N\"\u001b[0m\u001b[0;34m,\u001b[0m \u001b[0m_attr_N\u001b[0m\u001b[0;34m,\u001b[0m \u001b[0;34m\"T\"\u001b[0m\u001b[0;34m,\u001b[0m \u001b[0m_attr_T\u001b[0m\u001b[0;34m,\u001b[0m \u001b[0;34m\"Tidx\"\u001b[0m\u001b[0;34m,\u001b[0m \u001b[0m_attr_Tidx\u001b[0m\u001b[0;34m)\u001b[0m\u001b[0;34m\u001b[0m\u001b[0;34m\u001b[0m\u001b[0m\n\u001b[1;32m   1288\u001b[0m   _result = _execute.execute(b\"ConcatV2\", 1, inputs=_inputs_flat,\n\u001b[0;32m-> 1289\u001b[0;31m                              attrs=_attrs, ctx=_ctx, name=name)\n\u001b[0m\u001b[1;32m   1290\u001b[0m   _execute.record_gradient(\n\u001b[1;32m   1291\u001b[0m       \"ConcatV2\", _inputs_flat, _attrs, _result, name)\n",
      "\u001b[0;32m/usr/local/lib/python3.6/dist-packages/tensorflow_core/python/eager/execute.py\u001b[0m in \u001b[0;36mquick_execute\u001b[0;34m(op_name, num_outputs, inputs, attrs, ctx, name)\u001b[0m\n\u001b[1;32m     65\u001b[0m     \u001b[0;32melse\u001b[0m\u001b[0;34m:\u001b[0m\u001b[0;34m\u001b[0m\u001b[0;34m\u001b[0m\u001b[0m\n\u001b[1;32m     66\u001b[0m       \u001b[0mmessage\u001b[0m \u001b[0;34m=\u001b[0m \u001b[0me\u001b[0m\u001b[0;34m.\u001b[0m\u001b[0mmessage\u001b[0m\u001b[0;34m\u001b[0m\u001b[0;34m\u001b[0m\u001b[0m\n\u001b[0;32m---> 67\u001b[0;31m     \u001b[0msix\u001b[0m\u001b[0;34m.\u001b[0m\u001b[0mraise_from\u001b[0m\u001b[0;34m(\u001b[0m\u001b[0mcore\u001b[0m\u001b[0;34m.\u001b[0m\u001b[0m_status_to_exception\u001b[0m\u001b[0;34m(\u001b[0m\u001b[0me\u001b[0m\u001b[0;34m.\u001b[0m\u001b[0mcode\u001b[0m\u001b[0;34m,\u001b[0m \u001b[0mmessage\u001b[0m\u001b[0;34m)\u001b[0m\u001b[0;34m,\u001b[0m \u001b[0;32mNone\u001b[0m\u001b[0;34m)\u001b[0m\u001b[0;34m\u001b[0m\u001b[0;34m\u001b[0m\u001b[0m\n\u001b[0m\u001b[1;32m     68\u001b[0m   \u001b[0;32mexcept\u001b[0m \u001b[0mTypeError\u001b[0m \u001b[0;32mas\u001b[0m \u001b[0me\u001b[0m\u001b[0;34m:\u001b[0m\u001b[0;34m\u001b[0m\u001b[0;34m\u001b[0m\u001b[0m\n\u001b[1;32m     69\u001b[0m     keras_symbolic_tensors = [\n",
      "\u001b[0;32m/usr/local/lib/python3.6/dist-packages/six.py\u001b[0m in \u001b[0;36mraise_from\u001b[0;34m(value, from_value)\u001b[0m\n",
      "\u001b[0;31mInvalidArgumentError\u001b[0m: ConcatOp : Expected concatenating dimensions in the range [0, 0), but got 0 [Op:ConcatV2] name: concat"
     ]
    }
   ],
   "source": [
    "tf.concat(['^', chars, '$'], axis=0)"
   ]
  },
  {
   "cell_type": "code",
   "execution_count": 18,
   "metadata": {},
   "outputs": [],
   "source": [
    "chars = tf.strings.bytes_split(test)\n",
    "encoded = table.lookup(chars)"
   ]
  },
  {
   "cell_type": "code",
   "execution_count": 19,
   "metadata": {},
   "outputs": [],
   "source": [
    "indices = tf.range(1, tf.shape(encoded)[0] + 1)"
   ]
  },
  {
   "cell_type": "code",
   "execution_count": 27,
   "metadata": {},
   "outputs": [
    {
     "data": {
      "text/plain": [
       "<tf.Tensor: id=689, shape=(64,), dtype=int32, numpy=\n",
       "array([336, 337, 338, 339, 340, 341, 342, 343, 344, 345, 346, 347, 348,\n",
       "       349, 350, 351, 352, 353, 354, 355, 356, 357, 358, 359, 360, 361,\n",
       "       362, 363, 364, 365, 366, 367, 368, 369, 370, 371, 372, 373, 374,\n",
       "       375, 376, 377, 378, 379, 380, 381, 382, 383, 384, 385, 386, 387,\n",
       "       388, 389, 390, 391, 392, 393, 394, 395, 396, 397, 398, 399],\n",
       "      dtype=int32)>"
      ]
     },
     "execution_count": 27,
     "metadata": {},
     "output_type": "execute_result"
    }
   ],
   "source": [
    "tf.image.random_crop(indices, (64,), seed=1)"
   ]
  },
  {
   "cell_type": "code",
   "execution_count": 40,
   "metadata": {},
   "outputs": [],
   "source": [
    "def random_crop(value, size, seed=None):\n",
    "    shape = tf.shape(value)\n",
    "    size = tf.convert_to_tensor(size, dtype=tf.int32)\n",
    "    limit = shape - size + 1\n",
    "    offset = tf.random.uniform(\n",
    "        tf.shape(shape),\n",
    "        dtype=size.dtype,\n",
    "        maxval=size.dtype.max,\n",
    "        seed=seed) % limit\n",
    "    return tf.slice(value, offset, size)"
   ]
  },
  {
   "cell_type": "code",
   "execution_count": 44,
   "metadata": {},
   "outputs": [
    {
     "data": {
      "text/plain": [
       "<tf.Tensor: id=760, shape=(64,), dtype=int32, numpy=\n",
       "array([197, 198, 199, 200, 201, 202, 203, 204, 205, 206, 207, 208, 209,\n",
       "       210, 211, 212, 213, 214, 215, 216, 217, 218, 219, 220, 221, 222,\n",
       "       223, 224, 225, 226, 227, 228, 229, 230, 231, 232, 233, 234, 235,\n",
       "       236, 237, 238, 239, 240, 241, 242, 243, 244, 245, 246, 247, 248,\n",
       "       249, 250, 251, 252, 253, 254, 255, 256, 257, 258, 259, 260],\n",
       "      dtype=int32)>"
      ]
     },
     "execution_count": 44,
     "metadata": {},
     "output_type": "execute_result"
    }
   ],
   "source": [
    "random_crop(indices, (64,))"
   ]
  },
  {
   "cell_type": "code",
   "execution_count": null,
   "metadata": {},
   "outputs": [],
   "source": []
  }
 ],
 "metadata": {
  "kernelspec": {
   "display_name": "Python 3",
   "language": "python",
   "name": "python3"
  },
  "language_info": {
   "codemirror_mode": {
    "name": "ipython",
    "version": 3
   },
   "file_extension": ".py",
   "mimetype": "text/x-python",
   "name": "python",
   "nbconvert_exporter": "python",
   "pygments_lexer": "ipython3",
   "version": "3.6.8"
  }
 },
 "nbformat": 4,
 "nbformat_minor": 4
}
