{
 "cells": [
  {
   "cell_type": "code",
   "execution_count": 1,
   "metadata": {},
   "outputs": [],
   "source": [
    "import numpy as np\n",
    "import tensorflow as tf\n",
    "import tensorflow_addons as tfa"
   ]
  },
  {
   "cell_type": "code",
   "execution_count": 2,
   "metadata": {},
   "outputs": [
    {
     "name": "stdout",
     "output_type": "stream",
     "text": [
      "Num GPUs Available:  1\n"
     ]
    }
   ],
   "source": [
    "gpu_devices = tf.config.experimental.list_physical_devices('GPU')\n",
    "print(\"Num GPUs Available: \", len(gpu_devices))\n",
    "for device in gpu_devices:\n",
    "    tf.config.experimental.set_memory_growth(device, True)"
   ]
  },
  {
   "cell_type": "code",
   "execution_count": 3,
   "metadata": {},
   "outputs": [
    {
     "name": "stdout",
     "output_type": "stream",
     "text": [
      "Wed Mar 25 14:06:06 2020       \n",
      "+-----------------------------------------------------------------------------+\n",
      "| NVIDIA-SMI 430.26       Driver Version: 430.26       CUDA Version: 10.2     |\n",
      "|-------------------------------+----------------------+----------------------+\n",
      "| GPU  Name        Persistence-M| Bus-Id        Disp.A | Volatile Uncorr. ECC |\n",
      "| Fan  Temp  Perf  Pwr:Usage/Cap|         Memory-Usage | GPU-Util  Compute M. |\n",
      "|===============================+======================+======================|\n",
      "|   0  Quadro GV100        Off  | 00000000:37:00.0 Off |                  Off |\n",
      "| 30%   45C    P2    37W / 250W |   5012MiB / 32508MiB |      0%      Default |\n",
      "+-------------------------------+----------------------+----------------------+\n",
      "                                                                               \n",
      "+-----------------------------------------------------------------------------+\n",
      "| Processes:                                                       GPU Memory |\n",
      "|  GPU       PID   Type   Process name                             Usage      |\n",
      "|=============================================================================|\n",
      "|    0     10740      C   ...nwilson/miniconda3/envs/mytf/bin/python   389MiB |\n",
      "|    0     10912      C   ...nwilson/miniconda3/envs/mytf/bin/python  4547MiB |\n",
      "|    0     14840      G   /usr/bin/X                                    48MiB |\n",
      "|    0     33372      G   ...ys_inc/v192/Tools/mono/Linux64/bin/mono     6MiB |\n",
      "|    0     34134      G   ...2/aisol/CommonFiles/linx64/ansyswbu.exe     8MiB |\n",
      "+-----------------------------------------------------------------------------+\n",
      "WARNING: infoROM is corrupted at gpu 0000:37:00.0\n"
     ]
    }
   ],
   "source": [
    "!nvidia-smi"
   ]
  },
  {
   "cell_type": "code",
   "execution_count": 4,
   "metadata": {},
   "outputs": [],
   "source": [
    "import sys\n",
    "sys.path.append('..')"
   ]
  },
  {
   "cell_type": "code",
   "execution_count": 5,
   "metadata": {},
   "outputs": [
    {
     "name": "stdout",
     "output_type": "stream",
     "text": [
      "Model: \"model\"\n",
      "_________________________________________________________________\n",
      "Layer (type)                 Output Shape              Param #   \n",
      "=================================================================\n",
      "input_1 (InputLayer)         [(None, None)]            0         \n",
      "_________________________________________________________________\n",
      "embedding (Embedding)        (None, None, 512)         12288     \n",
      "_________________________________________________________________\n",
      "transformer (Transformer)    (None, None, 512)         3168832   \n",
      "_________________________________________________________________\n",
      "transformer_1 (Transformer)  (None, None, 512)         3168832   \n",
      "_________________________________________________________________\n",
      "transformer_2 (Transformer)  (None, None, 512)         3168832   \n",
      "_________________________________________________________________\n",
      "transformer_3 (Transformer)  (None, None, 512)         3168832   \n",
      "_________________________________________________________________\n",
      "transformer_4 (Transformer)  (None, None, 512)         3168832   \n",
      "_________________________________________________________________\n",
      "transformer_5 (Transformer)  (None, None, 512)         3168832   \n",
      "_________________________________________________________________\n",
      "dense_no_mask (DenseNoMask)  (None, None, 21)          10773     \n",
      "=================================================================\n",
      "Total params: 19,036,053\n",
      "Trainable params: 19,036,053\n",
      "Non-trainable params: 0\n",
      "_________________________________________________________________\n"
     ]
    }
   ],
   "source": [
    "from bert.model import create_albert_model\n",
    "from bert.losses import ECE, masked_sparse_categorical_crossentropy\n",
    "from bert.optimization import create_optimizer\n",
    "\n",
    "opt = create_optimizer(1E-4, 500, 10000)\n",
    "\n",
    "strategy = tf.distribute.OneDeviceStrategy(device=\"/gpu:0\")\n",
    "\n",
    "with strategy.scope():\n",
    "    model = create_albert_model(model_dimension=512,\n",
    "                                transformer_dimension=512 * 4,\n",
    "                                num_attention_heads=512 // 64,\n",
    "                                num_transformer_layers=6,\n",
    "                                vocab_size=24,\n",
    "                                dropout_rate=0.,\n",
    "                                max_relative_position=128)\n",
    "    \n",
    "    model.compile(\n",
    "        loss=masked_sparse_categorical_crossentropy,\n",
    "        metrics=[ECE],\n",
    "        optimizer=opt,\n",
    "        experimental_run_tf_function=True)    \n",
    "\n",
    "    \n",
    "model.summary()"
   ]
  },
  {
   "cell_type": "code",
   "execution_count": 8,
   "metadata": {},
   "outputs": [],
   "source": [
    "from bert.dataset import create_masked_input_dataset\n",
    "\n",
    "with tf.device('/CPU:0'):\n",
    "    training_data = create_masked_input_dataset(\n",
    "        sequence_path='../../uniparc_data/train_uniref100.txt.gz',\n",
    "        max_sequence_length=1024,\n",
    "        fix_sequence_length=True,\n",
    "        batch_size=2)\n",
    "\n",
    "    training_data = training_data.repeat().prefetch(tf.data.experimental.AUTOTUNE)\n",
    "\n",
    "    valid_data = create_masked_input_dataset(\n",
    "        sequence_path='../../uniparc_data/dev_uniref50.txt.gz',\n",
    "        max_sequence_length=1024,\n",
    "        batch_size=2)\n",
    "\n",
    "    valid_data = valid_data.repeat().prefetch(tf.data.experimental.AUTOTUNE)"
   ]
  },
  {
   "cell_type": "code",
   "execution_count": 9,
   "metadata": {},
   "outputs": [
    {
     "name": "stdout",
     "output_type": "stream",
     "text": [
      "Train for 500 steps, validate for 10 steps\n",
      "Epoch 1/5\n",
      "500/500 [==============================] - 94s 187ms/step - loss: 2.9139 - ECE: 18.5889 - val_loss: 2.7454 - val_ECE: 15.6050\n",
      "Epoch 2/5\n",
      "500/500 [==============================] - 85s 169ms/step - loss: 2.7084 - ECE: 15.0838 - val_loss: 2.7179 - val_ECE: 15.2255\n",
      "Epoch 3/5\n",
      "500/500 [==============================] - 85s 170ms/step - loss: 2.6956 - ECE: 14.8992 - val_loss: 2.7275 - val_ECE: 15.3837\n",
      "Epoch 4/5\n",
      "500/500 [==============================] - 85s 169ms/step - loss: 2.6910 - ECE: 14.8331 - val_loss: 2.6737 - val_ECE: 14.5106\n",
      "Epoch 5/5\n",
      "500/500 [==============================] - 85s 170ms/step - loss: 2.6911 - ECE: 14.8383 - val_loss: 2.6791 - val_ECE: 14.6144\n"
     ]
    },
    {
     "data": {
      "text/plain": [
       "<tensorflow.python.keras.callbacks.History at 0x7f2fa89d3860>"
      ]
     },
     "execution_count": 9,
     "metadata": {},
     "output_type": "execute_result"
    }
   ],
   "source": [
    "model.fit(training_data, steps_per_epoch=500, epochs=5,\n",
    "          verbose=1, validation_data=valid_data, validation_steps=10)"
   ]
  },
  {
   "cell_type": "code",
   "execution_count": null,
   "metadata": {},
   "outputs": [],
   "source": [
    "masked, true = next(iter(training_data))\n",
    "predictions = model.predict(masked)"
   ]
  },
  {
   "cell_type": "code",
   "execution_count": null,
   "metadata": {},
   "outputs": [],
   "source": [
    "masked[:, 0]"
   ]
  },
  {
   "cell_type": "code",
   "execution_count": null,
   "metadata": {},
   "outputs": [],
   "source": [
    "model.save('/scratch/pstjohn/uniparc_checkpoints/test.h5')"
   ]
  },
  {
   "cell_type": "code",
   "execution_count": null,
   "metadata": {},
   "outputs": [],
   "source": []
  }
 ],
 "metadata": {
  "kernelspec": {
   "display_name": "Python 3",
   "language": "python",
   "name": "python3"
  },
  "language_info": {
   "codemirror_mode": {
    "name": "ipython",
    "version": 3
   },
   "file_extension": ".py",
   "mimetype": "text/x-python",
   "name": "python",
   "nbconvert_exporter": "python",
   "pygments_lexer": "ipython3",
   "version": "3.6.8"
  }
 },
 "nbformat": 4,
 "nbformat_minor": 4
}
