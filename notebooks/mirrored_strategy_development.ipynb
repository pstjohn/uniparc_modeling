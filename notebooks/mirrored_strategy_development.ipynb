{
 "cells": [
  {
   "cell_type": "code",
   "execution_count": null,
   "metadata": {},
   "outputs": [],
   "source": [
    "!nvidia-smi"
   ]
  },
  {
   "cell_type": "code",
   "execution_count": null,
   "metadata": {},
   "outputs": [],
   "source": [
    "import os\n",
    "import sys\n",
    "sys.path.append('..')\n",
    "\n",
    "import numpy as np\n",
    "import tensorflow as tf\n",
    "\n",
    "gpu_devices = tf.config.experimental.list_physical_devices('GPU')\n",
    "\n",
    "tf.config.set_visible_devices(gpu_devices[0], 'GPU')\n",
    "tf.config.experimental.set_memory_growth(gpu_devices[0], True)\n",
    "\n",
    "from tensorflow.keras.mixed_precision import experimental as mixed_precision\n",
    "policy = mixed_precision.Policy('mixed_float16')\n",
    "mixed_precision.set_policy(policy)"
   ]
  },
  {
   "cell_type": "code",
   "execution_count": null,
   "metadata": {},
   "outputs": [],
   "source": [
    "tf.__version__"
   ]
  },
  {
   "cell_type": "code",
   "execution_count": null,
   "metadata": {},
   "outputs": [],
   "source": [
    "from bert.model import create_albert_model\n",
    "from bert.losses import ECE, masked_sparse_categorical_crossentropy, masked_sparse_categorical_accuracy\n",
    "from bert.optimization import WarmUp"
   ]
  },
  {
   "cell_type": "code",
   "execution_count": null,
   "metadata": {},
   "outputs": [],
   "source": [
    "import tensorflow_addons.optimizers as tfa_optimizers"
   ]
  },
  {
   "cell_type": "code",
   "execution_count": null,
   "metadata": {},
   "outputs": [],
   "source": [
    "lr_schedule = tf.keras.optimizers.schedules.PolynomialDecay(\n",
    "    initial_learning_rate=1E-4,\n",
    "    decay_steps=10000,\n",
    "    end_learning_rate=0.0)\n",
    "\n",
    "lr_schedule = WarmUp(\n",
    "    initial_learning_rate=1E-4,\n",
    "    decay_schedule_fn=lr_schedule,\n",
    "    warmup_steps=1000)\n",
    "\n",
    "optimizer = tfa_optimizers.LAMB(\n",
    "    learning_rate=lr_schedule,\n",
    "    weight_decay_rate=0.01,\n",
    "    beta_1=0.9,\n",
    "    beta_2=0.999,\n",
    "    epsilon=1e-6,\n",
    "    exclude_from_weight_decay=['layer_norm', 'bias'])\n",
    "\n",
    "# strategy = tf.distribute.OneDeviceStrategy(device=\"/gpu:0\")\n",
    "strategy = tf.distribute.MirroredStrategy()\n",
    "\n",
    "with strategy.scope():\n",
    "    model = create_albert_model(model_dimension=768,\n",
    "                                transformer_dimension=768 * 4,\n",
    "                                num_attention_heads=768 // 64,\n",
    "                                num_transformer_layers=12,\n",
    "                                vocab_size=24,\n",
    "                                dropout_rate=0.,\n",
    "                                max_relative_position=128)\n",
    "    \n",
    "    model.compile(\n",
    "        loss=masked_sparse_categorical_crossentropy,\n",
    "        metrics=[ECE, masked_sparse_categorical_accuracy],\n",
    "        optimizer=optimizer)\n",
    "\n",
    "    \n",
    "model.summary()"
   ]
  },
  {
   "cell_type": "code",
   "execution_count": null,
   "metadata": {},
   "outputs": [],
   "source": [
    "import os\n",
    "from bert.dataset import create_masked_input_dataset\n",
    "data_path = '/gpfs/alpine/proj-shared/bie108/split_uniref100'\n",
    "\n",
    "# with tf.device('/CPU:0'):\n",
    "training_data = create_masked_input_dataset(\n",
    "    sequence_path=os.path.join(\n",
    "        data_path, 'train_uniref100_split/train_100_*.txt.gz'),\n",
    "    max_sequence_length=512,\n",
    "    fix_sequence_length=True,\n",
    "    batch_size=16,\n",
    "    shard_num_workers=12,\n",
    "    shard_worker_index=0)\n",
    "\n",
    "valid_data = create_masked_input_dataset(\n",
    "    sequence_path=os.path.join(\n",
    "        data_path, 'train_uniref100_split/train_100_*.txt.gz'),\n",
    "    max_sequence_length=512,\n",
    "    batch_size=16)"
   ]
  },
  {
   "cell_type": "code",
   "execution_count": null,
   "metadata": {},
   "outputs": [],
   "source": [
    "inputs, targets = next(iter(training_data))"
   ]
  },
  {
   "cell_type": "code",
   "execution_count": null,
   "metadata": {},
   "outputs": [],
   "source": [
    "masked_sparse_categorical_accuracy(targets, model(inputs))"
   ]
  },
  {
   "cell_type": "code",
   "execution_count": null,
   "metadata": {},
   "outputs": [],
   "source": [
    "model.fit(training_data, steps_per_epoch=50, epochs=5,\n",
    "          verbose=1, validation_data=valid_data, validation_steps=10)"
   ]
  },
  {
   "cell_type": "code",
   "execution_count": null,
   "metadata": {},
   "outputs": [],
   "source": [
    "masked, true = next(iter(training_data))\n",
    "predictions = model.predict(masked)"
   ]
  },
  {
   "cell_type": "code",
   "execution_count": null,
   "metadata": {},
   "outputs": [],
   "source": [
    "masked[:, 0]"
   ]
  }
 ],
 "metadata": {
  "kernelspec": {
   "display_name": "Python 3",
   "language": "python",
   "name": "python3"
  },
  "language_info": {
   "codemirror_mode": {
    "name": "ipython",
    "version": 3
   },
   "file_extension": ".py",
   "mimetype": "text/x-python",
   "name": "python",
   "nbconvert_exporter": "python",
   "pygments_lexer": "ipython3",
   "version": "3.6.10"
  }
 },
 "nbformat": 4,
 "nbformat_minor": 4
}
