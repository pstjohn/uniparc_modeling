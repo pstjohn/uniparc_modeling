{
 "cells": [
  {
   "cell_type": "code",
   "execution_count": null,
   "metadata": {},
   "outputs": [],
   "source": [
    "!nvidia-smi"
   ]
  },
  {
   "cell_type": "code",
   "execution_count": null,
   "metadata": {},
   "outputs": [],
   "source": [
    "import os\n",
    "import sys\n",
    "sys.path.append('..')\n",
    "\n",
    "import numpy as np\n",
    "import tensorflow as tf\n",
    "\n",
    "gpu_devices = tf.config.experimental.list_physical_devices('GPU')\n",
    "\n",
    "tf.config.set_visible_devices(gpu_devices[0], 'GPU')\n",
    "tf.config.experimental.set_memory_growth(gpu_devices[0], True)\n",
    "\n",
    "from tensorflow.keras.mixed_precision import experimental as mixed_precision\n",
    "policy = mixed_precision.Policy('mixed_float16')\n",
    "mixed_precision.set_policy(policy)"
   ]
  },
  {
   "cell_type": "code",
   "execution_count": 3,
   "metadata": {},
   "outputs": [
    {
     "data": {
      "text/plain": [
       "'2.1.0'"
      ]
     },
     "execution_count": 3,
     "metadata": {},
     "output_type": "execute_result"
    }
   ],
   "source": [
    "tf.__version__"
   ]
  },
  {
   "cell_type": "code",
   "execution_count": 4,
   "metadata": {},
   "outputs": [],
   "source": [
    "from bert.model import create_albert_model\n",
    "from bert.losses import ECE, masked_sparse_categorical_crossentropy, masked_sparse_categorical_accuracy\n",
    "from bert.optimization import WarmUp"
   ]
  },
  {
   "cell_type": "code",
   "execution_count": 5,
   "metadata": {},
   "outputs": [],
   "source": [
    "import tensorflow_addons.optimizers as tfa_optimizers"
   ]
  },
  {
   "cell_type": "code",
   "execution_count": 6,
   "metadata": {},
   "outputs": [],
   "source": [
    "lr_schedule = tf.keras.optimizers.schedules.PolynomialDecay(\n",
    "    initial_learning_rate=1E-4,\n",
    "    decay_steps=10000,\n",
    "    end_learning_rate=0.0)\n",
    "\n",
    "lr_schedule = WarmUp(\n",
    "    initial_learning_rate=1E-4,\n",
    "    decay_schedule_fn=lr_schedule,\n",
    "    warmup_steps=1000)\n",
    "\n",
    "optimizer = tfa_optimizers.LAMB(\n",
    "    learning_rate=lr_schedule,\n",
    "    weight_decay_rate=0.01,\n",
    "    beta_1=0.9,\n",
    "    beta_2=0.999,\n",
    "    epsilon=1e-6,\n",
    "    exclude_from_weight_decay=['layer_norm', 'bias'])\n",
    "\n",
    "# strategy = tf.distribute.OneDeviceStrategy(device=\"/gpu:0\")\n",
    "# # strategy = tf.distribute.MirroredStrategy()\n",
    "\n",
    "# with strategy.scope():\n",
    "#     model = create_albert_model(model_dimension=768,\n",
    "#                                 transformer_dimension=768 * 4,\n",
    "#                                 num_attention_heads=768 // 64,\n",
    "#                                 num_transformer_layers=12,\n",
    "#                                 vocab_size=24,\n",
    "#                                 dropout_rate=0.,\n",
    "#                                 max_relative_position=128)\n",
    "    \n",
    "#     model.compile(\n",
    "#         loss=masked_sparse_categorical_crossentropy,\n",
    "#         metrics=[ECE, masked_sparse_categorical_accuracy],\n",
    "#         optimizer=optimizer)\n",
    "\n",
    "    \n",
    "# model.summary()"
   ]
  },
  {
   "cell_type": "code",
   "execution_count": 9,
   "metadata": {},
   "outputs": [
    {
     "name": "stdout",
     "output_type": "stream",
     "text": [
      "Model: \"model\"\n",
      "__________________________________________________________________________________________________\n",
      "Layer (type)                    Output Shape         Param #     Connected to                     \n",
      "==================================================================================================\n",
      "input_3 (InputLayer)            [(None, None)]       0                                            \n",
      "__________________________________________________________________________________________________\n",
      "embedding_2 (Embedding)         (None, None, 768)    18432       input_3[0][0]                    \n",
      "__________________________________________________________________________________________________\n",
      "position_embedding (PositionEmb (None, None, 768)    787200      input_3[0][0]                    \n",
      "__________________________________________________________________________________________________\n",
      "add (Add)                       (None, None, 768)    0           embedding_2[0][0]                \n",
      "                                                                 position_embedding[0][0]         \n",
      "__________________________________________________________________________________________________\n",
      "transformer_24 (Transformer)    (None, None, 768)    7087872     add[0][0]                        \n",
      "__________________________________________________________________________________________________\n",
      "transformer_25 (Transformer)    (None, None, 768)    7087872     transformer_24[0][0]             \n",
      "__________________________________________________________________________________________________\n",
      "transformer_26 (Transformer)    (None, None, 768)    7087872     transformer_25[0][0]             \n",
      "__________________________________________________________________________________________________\n",
      "transformer_27 (Transformer)    (None, None, 768)    7087872     transformer_26[0][0]             \n",
      "__________________________________________________________________________________________________\n",
      "transformer_28 (Transformer)    (None, None, 768)    7087872     transformer_27[0][0]             \n",
      "__________________________________________________________________________________________________\n",
      "transformer_29 (Transformer)    (None, None, 768)    7087872     transformer_28[0][0]             \n",
      "__________________________________________________________________________________________________\n",
      "transformer_30 (Transformer)    (None, None, 768)    7087872     transformer_29[0][0]             \n",
      "__________________________________________________________________________________________________\n",
      "transformer_31 (Transformer)    (None, None, 768)    7087872     transformer_30[0][0]             \n",
      "__________________________________________________________________________________________________\n",
      "transformer_32 (Transformer)    (None, None, 768)    7087872     transformer_31[0][0]             \n",
      "__________________________________________________________________________________________________\n",
      "transformer_33 (Transformer)    (None, None, 768)    7087872     transformer_32[0][0]             \n",
      "__________________________________________________________________________________________________\n",
      "transformer_34 (Transformer)    (None, None, 768)    7087872     transformer_33[0][0]             \n",
      "__________________________________________________________________________________________________\n",
      "transformer_35 (Transformer)    (None, None, 768)    7086336     transformer_34[0][0]             \n",
      "__________________________________________________________________________________________________\n",
      "dense_no_mask_2 (DenseNoMask)   (None, None, 21)     16149       transformer_35[0][0]             \n",
      "__________________________________________________________________________________________________\n",
      "activation_2 (Activation)       (None, None, 21)     0           dense_no_mask_2[0][0]            \n",
      "==================================================================================================\n",
      "Total params: 85,874,709\n",
      "Trainable params: 85,874,709\n",
      "Non-trainable params: 0\n",
      "__________________________________________________________________________________________________\n"
     ]
    }
   ],
   "source": [
    "from tensorflow.keras import layers\n",
    "\n",
    "from bert.layers import (Attention, Transformer, PositionEmbedding,\n",
    "                         gelu, initializer, Projection, DenseNoMask)\n",
    "\n",
    "from bert.losses import masked_sparse_categorical_crossentropy, ECE\n",
    "\n",
    "model_dimension=768\n",
    "transformer_dimension=768 * 4\n",
    "num_attention_heads=768 // 64\n",
    "num_transformer_layers=12\n",
    "vocab_size=24\n",
    "dropout_rate=0.\n",
    "max_relative_position=128\n",
    "max_sequence_length=1024\n",
    "final_layernorm = False\n",
    "attention_type='attention'\n",
    "\n",
    "inputs = layers.Input(shape=(None,), dtype=tf.int32, batch_size=None)\n",
    "\n",
    "# Amino-acid level embeddings\n",
    "embeddings = layers.Embedding(\n",
    "    vocab_size, model_dimension, embeddings_initializer=initializer(),\n",
    "    mask_zero=True)(inputs)\n",
    "\n",
    "position_embedding = PositionEmbedding(\n",
    "    max_sequence_length + 1, model_dimension, embeddings_initializer=initializer(),\n",
    "    mask_zero=True)(inputs)\n",
    "\n",
    "embeddings = layers.Add()([embeddings, position_embedding])\n",
    "\n",
    "# Stack transformers together\n",
    "for i in range(num_transformer_layers):\n",
    "\n",
    "    # Whether to use layernorm on the final layer\n",
    "    if not final_layernorm and i == (num_transformer_layers - 1):            \n",
    "        use_layernorm=False\n",
    "    else:\n",
    "        use_layernorm=True\n",
    "\n",
    "    transformer = Transformer(\n",
    "        num_attention_heads, transformer_dimension,\n",
    "        attention_type=attention_type,\n",
    "        max_relative_position=max_relative_position,\n",
    "        dropout=dropout_rate,\n",
    "        use_layernorm=use_layernorm)\n",
    "\n",
    "    embeddings = transformer(embeddings)\n",
    "\n",
    "# Project to the 20 AA labels (and zero 'pad' label)\n",
    "outputs = DenseNoMask(21, kernel_initializer=initializer())(embeddings)\n",
    "outputs = layers.Activation('linear', dtype='float32')(outputs)\n",
    "\n",
    "model = tf.keras.Model(inputs, outputs, name='model')\n",
    "model.summary()"
   ]
  },
  {
   "cell_type": "code",
   "execution_count": 14,
   "metadata": {},
   "outputs": [],
   "source": [
    "model.compile(\n",
    "    loss=masked_sparse_categorical_crossentropy,\n",
    "    metrics=[ECE, masked_sparse_categorical_accuracy],\n",
    "    optimizer=optimizer)"
   ]
  },
  {
   "cell_type": "code",
   "execution_count": 15,
   "metadata": {},
   "outputs": [],
   "source": [
    "import os\n",
    "from bert.dataset import create_masked_input_dataset\n",
    "data_path = '/gpfs/alpine/proj-shared/bie108/split_uniref100'\n",
    "\n",
    "# with tf.device('/CPU:0'):\n",
    "training_data = create_masked_input_dataset(\n",
    "    sequence_path=os.path.join(\n",
    "        data_path, 'train_uniref100_split/train_100_*.txt.gz'),\n",
    "    max_sequence_length=512,\n",
    "    fix_sequence_length=True,\n",
    "    batch_size=16,\n",
    "    shard_num_workers=12,\n",
    "    shard_worker_index=0)\n",
    "\n",
    "valid_data = create_masked_input_dataset(\n",
    "    sequence_path=os.path.join(\n",
    "        data_path, 'train_uniref100_split/train_100_*.txt.gz'),\n",
    "    max_sequence_length=512,\n",
    "    batch_size=16)"
   ]
  },
  {
   "cell_type": "code",
   "execution_count": 16,
   "metadata": {},
   "outputs": [],
   "source": [
    "inputs, targets = next(iter(training_data))"
   ]
  },
  {
   "cell_type": "code",
   "execution_count": 17,
   "metadata": {},
   "outputs": [
    {
     "data": {
      "text/plain": [
       "<tf.Tensor: shape=(), dtype=float32, numpy=0.05511811>"
      ]
     },
     "execution_count": 17,
     "metadata": {},
     "output_type": "execute_result"
    }
   ],
   "source": [
    "masked_sparse_categorical_accuracy(targets, model(inputs))"
   ]
  },
  {
   "cell_type": "code",
   "execution_count": 18,
   "metadata": {},
   "outputs": [
    {
     "name": "stdout",
     "output_type": "stream",
     "text": [
      "Train for 50 steps, validate for 10 steps\n",
      "Epoch 1/5\n"
     ]
    },
    {
     "name": "stderr",
     "output_type": "stream",
     "text": [
      "/ccs/home/pstjohn/.conda/envs/tf21-ibm/lib/python3.6/site-packages/tensorflow_core/python/framework/indexed_slices.py:433: UserWarning: Converting sparse IndexedSlices to a dense Tensor of unknown shape. This may consume a large amount of memory.\n",
      "  \"Converting sparse IndexedSlices to a dense Tensor of unknown shape. \"\n",
      "/ccs/home/pstjohn/.conda/envs/tf21-ibm/lib/python3.6/site-packages/tensorflow_core/python/framework/indexed_slices.py:433: UserWarning: Converting sparse IndexedSlices to a dense Tensor of unknown shape. This may consume a large amount of memory.\n",
      "  \"Converting sparse IndexedSlices to a dense Tensor of unknown shape. \"\n"
     ]
    },
    {
     "name": "stdout",
     "output_type": "stream",
     "text": [
      "50/50 [==============================] - 53s 1s/step - loss: 3.1195 - ECE: 22.6407 - masked_sparse_categorical_accuracy: 0.0559 - val_loss: 3.1115 - val_ECE: 22.4574 - val_masked_sparse_categorical_accuracy: 0.0568\n",
      "Epoch 2/5\n",
      "50/50 [==============================] - 16s 312ms/step - loss: 3.0630 - ECE: 21.3995 - masked_sparse_categorical_accuracy: 0.0720 - val_loss: 3.0139 - val_ECE: 20.3689 - val_masked_sparse_categorical_accuracy: 0.0871\n",
      "Epoch 3/5\n",
      "50/50 [==============================] - 16s 311ms/step - loss: 2.9804 - ECE: 19.7022 - masked_sparse_categorical_accuracy: 0.0897 - val_loss: 2.9517 - val_ECE: 19.1434 - val_masked_sparse_categorical_accuracy: 0.0973\n",
      "Epoch 4/5\n",
      "50/50 [==============================] - 15s 309ms/step - loss: 2.9202 - ECE: 18.5525 - masked_sparse_categorical_accuracy: 0.1086 - val_loss: 2.8921 - val_ECE: 18.0379 - val_masked_sparse_categorical_accuracy: 0.1141\n",
      "Epoch 5/5\n",
      "50/50 [==============================] - 16s 312ms/step - loss: 2.8735 - ECE: 17.7041 - masked_sparse_categorical_accuracy: 0.1244 - val_loss: 2.8591 - val_ECE: 17.4524 - val_masked_sparse_categorical_accuracy: 0.1337\n"
     ]
    },
    {
     "data": {
      "text/plain": [
       "<tensorflow.python.keras.callbacks.History at 0x7ffd784b7b38>"
      ]
     },
     "execution_count": 18,
     "metadata": {},
     "output_type": "execute_result"
    }
   ],
   "source": [
    "model.fit(training_data, steps_per_epoch=50, epochs=5,\n",
    "          verbose=1, validation_data=valid_data, validation_steps=10)"
   ]
  },
  {
   "cell_type": "code",
   "execution_count": 19,
   "metadata": {},
   "outputs": [],
   "source": [
    "masked, true = next(iter(training_data))\n",
    "predictions = model.predict(masked)"
   ]
  },
  {
   "cell_type": "code",
   "execution_count": null,
   "metadata": {},
   "outputs": [],
   "source": [
    "masked[:, 0]"
   ]
  }
 ],
 "metadata": {
  "kernelspec": {
   "display_name": "Python 3",
   "language": "python",
   "name": "python3"
  },
  "language_info": {
   "codemirror_mode": {
    "name": "ipython",
    "version": 3
   },
   "file_extension": ".py",
   "mimetype": "text/x-python",
   "name": "python",
   "nbconvert_exporter": "python",
   "pygments_lexer": "ipython3",
   "version": "3.6.10"
  }
 },
 "nbformat": 4,
 "nbformat_minor": 4
}
