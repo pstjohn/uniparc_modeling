{
 "cells": [
  {
   "cell_type": "code",
   "execution_count": 1,
   "metadata": {},
   "outputs": [],
   "source": [
    "# !pip install --user matplotlib seaborn\n",
    "\n",
    "import numpy as np\n",
    "\n",
    "import matplotlib.pyplot as plt\n",
    "import seaborn as sns\n",
    "sns.set(context='talk', style='ticks',\n",
    "        color_codes=True, rc={'legend.frameon': False})\n",
    "\n",
    "%matplotlib inline"
   ]
  },
  {
   "cell_type": "code",
   "execution_count": 2,
   "metadata": {},
   "outputs": [],
   "source": [
    "import pandas as pd\n",
    "import numpy as np\n",
    "import tensorflow as tf\n",
    "import tensorflow_addons as tfa"
   ]
  },
  {
   "cell_type": "code",
   "execution_count": 3,
   "metadata": {},
   "outputs": [
    {
     "name": "stdout",
     "output_type": "stream",
     "text": [
      "Num GPUs Available:  1\n"
     ]
    }
   ],
   "source": [
    "gpu_devices = tf.config.experimental.list_physical_devices('GPU')\n",
    "print(\"Num GPUs Available: \", len(gpu_devices))\n",
    "for device in gpu_devices:\n",
    "    tf.config.experimental.set_memory_growth(device, True)"
   ]
  },
  {
   "cell_type": "code",
   "execution_count": 4,
   "metadata": {},
   "outputs": [],
   "source": [
    "from bert.model import load_model_from_checkpoint"
   ]
  },
  {
   "cell_type": "code",
   "execution_count": 5,
   "metadata": {},
   "outputs": [],
   "source": [
    "model = load_model_from_checkpoint('/scratch/pstjohn/dist_bs1024_sl128_nowd_checkpoints/ckpt.h5')"
   ]
  },
  {
   "cell_type": "code",
   "execution_count": 6,
   "metadata": {},
   "outputs": [],
   "source": [
    "model.save_weights('/scratch/pstjohn/dist_bs1024_sl128_nowd_checkpoints/saved_weights')"
   ]
  },
  {
   "cell_type": "code",
   "execution_count": 7,
   "metadata": {},
   "outputs": [
    {
     "data": {
      "text/plain": [
       "<tensorflow.python.training.tracking.util.CheckpointLoadStatus at 0x7fafcde0a5f8>"
      ]
     },
     "execution_count": 7,
     "metadata": {},
     "output_type": "execute_result"
    }
   ],
   "source": [
    "from bert.model import create_albert_model\n",
    "\n",
    "model = create_albert_model(model_dimension=512,\n",
    "                            transformer_dimension=512 * 4,\n",
    "                            num_attention_heads=512 // 64,\n",
    "                            num_transformer_layers=6,\n",
    "                            vocab_size=24,\n",
    "                            dropout_rate=0.,\n",
    "                            max_relative_position=64,\n",
    "                            final_layernorm=True)\n",
    "\n",
    "\n",
    "model.load_weights('/scratch/pstjohn/dist_bs1024_sl128_nowd_checkpoints/saved_weights')"
   ]
  },
  {
   "cell_type": "code",
   "execution_count": 8,
   "metadata": {},
   "outputs": [
    {
     "name": "stdout",
     "output_type": "stream",
     "text": [
      "Model: \"model\"\n",
      "_________________________________________________________________\n",
      "Layer (type)                 Output Shape              Param #   \n",
      "=================================================================\n",
      "input_1 (InputLayer)         [(None, None)]            0         \n",
      "_________________________________________________________________\n",
      "embedding (Embedding)        (None, None, 512)         12288     \n",
      "_________________________________________________________________\n",
      "transformer (Transformer)    (None, None, 512)         2897984   \n",
      "_________________________________________________________________\n",
      "transformer_1 (Transformer)  (None, None, 512)         2897984   \n",
      "_________________________________________________________________\n",
      "transformer_2 (Transformer)  (None, None, 512)         2897984   \n",
      "_________________________________________________________________\n",
      "transformer_3 (Transformer)  (None, None, 512)         2897984   \n",
      "_________________________________________________________________\n",
      "transformer_4 (Transformer)  (None, None, 512)         2897984   \n",
      "_________________________________________________________________\n",
      "transformer_5 (Transformer)  (None, None, 512)         2897984   \n",
      "_________________________________________________________________\n",
      "dense_no_mask (DenseNoMask)  (None, None, 21)          10773     \n",
      "=================================================================\n",
      "Total params: 17,410,965\n",
      "Trainable params: 17,410,965\n",
      "Non-trainable params: 0\n",
      "_________________________________________________________________\n"
     ]
    }
   ],
   "source": [
    "model.summary()"
   ]
  },
  {
   "cell_type": "code",
   "execution_count": null,
   "metadata": {},
   "outputs": [],
   "source": [
    "summed_attention = tf.reduce_sum(tf.keras.layers.add(\n",
    "    [l.output[1] for l in model.layers[2:-2]]), axis=1)\n",
    "attention_model = tf.keras.models.Model(model.input, summed_attention)"
   ]
  },
  {
   "cell_type": "code",
   "execution_count": null,
   "metadata": {},
   "outputs": [],
   "source": [
    "from bert.dataset import create_masked_input_dataset\n",
    "\n",
    "valid_data = create_masked_input_dataset(\n",
    "    sequence_path='../uniparc_data/dev_uniref50.txt.gz',\n",
    "    max_sequence_length=1024,\n",
    "    batch_size=10)"
   ]
  },
  {
   "cell_type": "code",
   "execution_count": null,
   "metadata": {},
   "outputs": [],
   "source": [
    "masked_seq, true_values = next(iter(valid_data))"
   ]
  },
  {
   "cell_type": "code",
   "execution_count": null,
   "metadata": {},
   "outputs": [],
   "source": [
    "from bert.losses import ECE\n",
    "predictions = model.predict(masked_seq)\n",
    "ECE(true_values, predictions)"
   ]
  },
  {
   "cell_type": "code",
   "execution_count": null,
   "metadata": {},
   "outputs": [],
   "source": [
    "masked_entries = tf.not_equal(true_values, 0)\n",
    "y_true_mask = tf.boolean_mask(true_values, masked_entries)\n",
    "y_logit_mask = tf.boolean_mask(predictions, masked_entries)\n",
    "y_pred_mask = y_logit_mask.numpy().argmax(-1)"
   ]
  },
  {
   "cell_type": "code",
   "execution_count": null,
   "metadata": {},
   "outputs": [],
   "source": [
    "from sklearn.metrics import accuracy_score"
   ]
  },
  {
   "cell_type": "code",
   "execution_count": null,
   "metadata": {},
   "outputs": [],
   "source": [
    "accuracy_score(y_true_mask.numpy(), y_pred_mask)"
   ]
  },
  {
   "cell_type": "code",
   "execution_count": null,
   "metadata": {},
   "outputs": [],
   "source": [
    "y_true_mask.numpy().shape"
   ]
  },
  {
   "cell_type": "code",
   "execution_count": null,
   "metadata": {},
   "outputs": [],
   "source": [
    "aas = ['A', 'C', 'D', 'E', 'F', 'G', 'H', 'I', 'K', 'L', 'M', 'N', 'P', 'Q', 'R', 'S', 'T', 'V', 'W', 'Y']\n",
    "confusion_mat = pd.DataFrame([y_pred_mask, y_true_mask.numpy()], index=['Pred', 'True']\n",
    "                            ).T.groupby(['Pred', 'True']).size().reset_index().pivot(\n",
    "    index='True', columns='Pred', values=0).fillna(0)\n",
    "\n",
    "confusion_mat.index = aas\n",
    "confusion_mat.columns = aas"
   ]
  },
  {
   "cell_type": "code",
   "execution_count": null,
   "metadata": {},
   "outputs": [],
   "source": [
    "height = 8\n",
    "ratio = 5\n",
    "\n",
    "# Set up the subplot grid\n",
    "f = plt.figure(figsize=(height, height))\n",
    "gs = plt.GridSpec(ratio + 1, ratio + 1)\n",
    "\n",
    "ax_joint = f.add_subplot(gs[1:, :-1])\n",
    "ax_marg_x = f.add_subplot(gs[0, :-1], sharex=ax_joint)\n",
    "ax_marg_y = f.add_subplot(gs[1:, -1], sharey=ax_joint)\n",
    "\n",
    "fig = f\n",
    "ax_joint = ax_joint\n",
    "ax_marg_x = ax_marg_x\n",
    "ax_marg_y = ax_marg_y\n",
    "\n",
    "# Turn off tick visibility for the measure axis on the marginal plots\n",
    "plt.setp(ax_marg_x.get_xticklabels(), visible=False)\n",
    "plt.setp(ax_marg_y.get_yticklabels(), visible=False)\n",
    "\n",
    "# Turn off the ticks on the density axis for the marginal plots\n",
    "plt.setp(ax_marg_x.yaxis.get_majorticklines(), visible=False)\n",
    "plt.setp(ax_marg_x.yaxis.get_minorticklines(), visible=False)\n",
    "plt.setp(ax_marg_y.xaxis.get_majorticklines(), visible=False)\n",
    "plt.setp(ax_marg_y.xaxis.get_minorticklines(), visible=False)\n",
    "plt.setp(ax_marg_x.get_yticklabels(), visible=False)\n",
    "plt.setp(ax_marg_y.get_xticklabels(), visible=False)\n",
    "ax_marg_x.yaxis.grid(False)\n",
    "ax_marg_y.xaxis.grid(False)\n",
    "\n",
    "sns.heatmap(confusion_mat, ax=ax_joint, cbar=False, cmap='Blues')\n",
    "_ = ax_marg_x.bar(aas, height=confusion_mat.sum(0), width=1., align='edge', facecolor='.5')\n",
    "_ = ax_marg_y.barh(aas, width=confusion_mat.sum(1), height=1., align='edge', facecolor='.5')\n",
    "\n",
    "sns.despine(ax=ax_marg_x, left=True)\n",
    "sns.despine(ax=ax_marg_y, bottom=True)\n",
    "\n",
    "_ = ax_joint.set_xticks(np.arange(20) + 0.5)\n",
    "_ = ax_joint.set_xticklabels(aas)\n",
    "_ = ax_joint.set_yticks(np.arange(20) + 0.5)\n",
    "_ = ax_joint.set_yticklabels(aas)\n",
    "\n",
    "ax_joint.set_ylabel('True Residue')\n",
    "ax_joint.set_xlabel('Predicted Residue')\n",
    "\n",
    "plt.tight_layout()\n",
    "plt.savefig('figures/confusion_matrix.svg')"
   ]
  },
  {
   "cell_type": "code",
   "execution_count": null,
   "metadata": {},
   "outputs": [],
   "source": [
    "attentions = attention_model(masked_seq).numpy()"
   ]
  },
  {
   "cell_type": "code",
   "execution_count": null,
   "metadata": {},
   "outputs": [],
   "source": [
    "(masked_seq[2] != 0).numpy().sum()"
   ]
  },
  {
   "cell_type": "code",
   "execution_count": null,
   "metadata": {},
   "outputs": [],
   "source": [
    "plt.figure(figsize=(6,5))\n",
    "sns.heatmap(attentions[2, :290, :290], cmap='Blues')\n",
    "plt.tight_layout()\n",
    "plt.savefig('figures/attention_map.svg')"
   ]
  },
  {
   "cell_type": "code",
   "execution_count": null,
   "metadata": {},
   "outputs": [],
   "source": [
    "di = list(np.diag_indices(290))\n",
    "\n",
    "def get_offset(i):\n",
    "    return attentions[2, di[0][20:-20] + i, di[1][20:-20]] / 40."
   ]
  },
  {
   "cell_type": "code",
   "execution_count": null,
   "metadata": {},
   "outputs": [],
   "source": [
    "sns.boxplot(data=pd.DataFrame([get_offset(i) for i in np.arange(-20, 21)], index=np.arange(-20, 21)).T, fliersize=0)\n",
    "plt.xticks(ticks=np.arange(0, 45, 5), labels=np.arange(-20, 25, 5))\n",
    "sns.despine(trim=True, offset=4)\n",
    "plt.xlabel('Residue Offset')\n",
    "plt.ylabel('Fractional Attention')\n",
    "plt.tight_layout()\n",
    "plt.savefig('figures/attention_offset.svg')"
   ]
  },
  {
   "cell_type": "code",
   "execution_count": null,
   "metadata": {},
   "outputs": [],
   "source": [
    "np.arange(-20, 20, 5)"
   ]
  },
  {
   "cell_type": "code",
   "execution_count": null,
   "metadata": {},
   "outputs": [],
   "source": []
  },
  {
   "cell_type": "code",
   "execution_count": null,
   "metadata": {},
   "outputs": [],
   "source": [
    "attentions[0]"
   ]
  },
  {
   "cell_type": "code",
   "execution_count": null,
   "metadata": {},
   "outputs": [],
   "source": [
    "inputs = tf.keras.Model(model.layers[1].input, model.layers[1].output)(masked_seq)\n",
    "inputs._keras_mask"
   ]
  },
  {
   "cell_type": "code",
   "execution_count": null,
   "metadata": {},
   "outputs": [],
   "source": [
    "transformer = model.layers[2]"
   ]
  },
  {
   "cell_type": "code",
   "execution_count": null,
   "metadata": {},
   "outputs": [],
   "source": [
    "self = transformer.attention_layer\n",
    "mask = inputs._keras_mask\n",
    "training=True\n",
    "\n",
    "from bert.attention_utils import create_attention_mask, relative_attention_inner, initializer"
   ]
  },
  {
   "cell_type": "code",
   "execution_count": null,
   "metadata": {},
   "outputs": [],
   "source": [
    "input_shape = tf.shape(inputs) # [B, S, N*H]\n",
    "\n",
    "# query and key can be the same vector\n",
    "qk = self.transpose_scores(self.qk_layer(inputs))  # [B,N,S,H]\n",
    "value = self.transpose_scores(self.value_layer(inputs))  # [B,N,S,H]\n",
    "\n",
    "# Equation 1 of \"Attention is all you need\"\n",
    "attention_scores = self.calculate_attention(qk, input_shape)  # [B,N,S,S]"
   ]
  },
  {
   "cell_type": "code",
   "execution_count": null,
   "metadata": {},
   "outputs": [],
   "source": [
    "inputs.shape"
   ]
  },
  {
   "cell_type": "code",
   "execution_count": null,
   "metadata": {},
   "outputs": [],
   "source": [
    "plt.figure(figsize=(8,6))\n",
    "sns.heatmap(self.relations_keys_embedding.weights[0].numpy())"
   ]
  },
  {
   "cell_type": "code",
   "execution_count": null,
   "metadata": {},
   "outputs": [],
   "source": [
    "# zero out masked values\n",
    "attention_mask = self.create_attention_mask(input_shape, mask)\n",
    "attention_scores = attention_scores * 1000 + (1. - attention_mask) * -10000.0\n",
    "attention_probs = tf.nn.softmax(attention_scores)  # [B,N,S,S]"
   ]
  },
  {
   "cell_type": "code",
   "execution_count": null,
   "metadata": {},
   "outputs": [],
   "source": [
    "plt.figure(figsize=(8,6))\n",
    "sns.heatmap(attention_probs[2, 0].numpy())"
   ]
  },
  {
   "cell_type": "code",
   "execution_count": null,
   "metadata": {},
   "outputs": [],
   "source": [
    "context_layer = tf.matmul(attention_probs, value)  # [B,N,S,S]"
   ]
  },
  {
   "cell_type": "code",
   "execution_count": null,
   "metadata": {},
   "outputs": [],
   "source": [
    "context_layer.shape"
   ]
  },
  {
   "cell_type": "code",
   "execution_count": null,
   "metadata": {},
   "outputs": [],
   "source": [
    "plt.figure(figsize=(8,6))\n",
    "sns.heatmap(context_layer[2, 0].numpy())"
   ]
  },
  {
   "cell_type": "code",
   "execution_count": null,
   "metadata": {},
   "outputs": [],
   "source": [
    "context_layer = tf.transpose(a=context_layer, perm=[0, 2, 1, 3])            "
   ]
  },
  {
   "cell_type": "code",
   "execution_count": null,
   "metadata": {},
   "outputs": [],
   "source": [
    "context_layer.shape"
   ]
  },
  {
   "cell_type": "code",
   "execution_count": null,
   "metadata": {},
   "outputs": [],
   "source": [
    "output_shape = [input_shape[0], input_shape[1], self.num_heads*self.units]\n",
    "context_layer = tf.reshape(context_layer, output_shape)"
   ]
  },
  {
   "cell_type": "code",
   "execution_count": null,
   "metadata": {},
   "outputs": [],
   "source": [
    "context_layer.shape"
   ]
  },
  {
   "cell_type": "code",
   "execution_count": null,
   "metadata": {},
   "outputs": [],
   "source": [
    "plt.figure(figsize=(8,6))\n",
    "sns.heatmap(context_layer[0, :, :10].numpy())"
   ]
  },
  {
   "cell_type": "code",
   "execution_count": null,
   "metadata": {},
   "outputs": [],
   "source": [
    "mask = inputs._keras_mask\n",
    "attention_mask = self.create_attention_mask(mask)\n",
    "attention_scores_mask = attention_scores + (1. - attention_mask) * -10000.0\n",
    "attention_probs = tf.nn.softmax(attention_scores_mask)  # [B,N,S,S]\n",
    "context_layer = tf.matmul(attention_probs, value)  # [B,N,S,S]\n",
    "\n",
    "input_shape  = tf.shape(inputs)\n",
    "output_shape = [input_shape[0], input_shape[1], self.num_heads*self.units]\n",
    "# context_layer = tf.reshape(context_layer, output_shape)"
   ]
  },
  {
   "cell_type": "code",
   "execution_count": null,
   "metadata": {},
   "outputs": [],
   "source": [
    "plt.figure(figsize=(8,6))\n",
    "sns.heatmap(attention_mask[3, 0].numpy())"
   ]
  },
  {
   "cell_type": "code",
   "execution_count": null,
   "metadata": {},
   "outputs": [],
   "source": [
    "plt.figure(figsize=(8,6))\n",
    "sns.heatmap(attention_scores[3, 0].numpy())"
   ]
  },
  {
   "cell_type": "code",
   "execution_count": null,
   "metadata": {},
   "outputs": [],
   "source": [
    "plt.figure(figsize=(8,6))\n",
    "sns.heatmap(attention_scores_mask[3, 0].numpy())"
   ]
  },
  {
   "cell_type": "code",
   "execution_count": null,
   "metadata": {},
   "outputs": [],
   "source": [
    "plt.figure(figsize=(8,6))\n",
    "sns.heatmap(attention_probs[3, 0].numpy())"
   ]
  },
  {
   "cell_type": "code",
   "execution_count": null,
   "metadata": {},
   "outputs": [],
   "source": [
    "context_layer.shape"
   ]
  },
  {
   "cell_type": "code",
   "execution_count": null,
   "metadata": {},
   "outputs": [],
   "source": [
    "context_layer.shape"
   ]
  },
  {
   "cell_type": "code",
   "execution_count": null,
   "metadata": {},
   "outputs": [],
   "source": [
    "plt.figure(figsize=(8,6))\n",
    "sns.heatmap(tf.reshape(tf.transpose(a=context_layer, perm=[0, 2, 1, 3]), input_shape)[3].numpy())"
   ]
  },
  {
   "cell_type": "code",
   "execution_count": null,
   "metadata": {},
   "outputs": [],
   "source": []
  }
 ],
 "metadata": {
  "kernelspec": {
   "display_name": "Python 3",
   "language": "python",
   "name": "python3"
  },
  "language_info": {
   "codemirror_mode": {
    "name": "ipython",
    "version": 3
   },
   "file_extension": ".py",
   "mimetype": "text/x-python",
   "name": "python",
   "nbconvert_exporter": "python",
   "pygments_lexer": "ipython3",
   "version": "3.6.8"
  }
 },
 "nbformat": 4,
 "nbformat_minor": 4
}
