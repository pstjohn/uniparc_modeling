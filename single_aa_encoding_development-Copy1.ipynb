{
 "cells": [
  {
   "cell_type": "code",
   "execution_count": 54,
   "metadata": {},
   "outputs": [],
   "source": [
    "import numpy as np\n",
    "import matplotlib.pyplot as plt\n",
    "import seaborn as sns\n",
    "sns.set(context='talk', style='ticks',\n",
    "        color_codes=True, rc={'legend.frameon': False})\n",
    "\n",
    "%matplotlib inline"
   ]
  },
  {
   "cell_type": "code",
   "execution_count": 55,
   "metadata": {},
   "outputs": [
    {
     "name": "stdout",
     "output_type": "stream",
     "text": [
      "Num GPUs Available:  1\n"
     ]
    }
   ],
   "source": [
    "import tensorflow as tf\n",
    "\n",
    "print(\"Num GPUs Available: \", len(tf.config.experimental.list_physical_devices('GPU')))"
   ]
  },
  {
   "cell_type": "code",
   "execution_count": 56,
   "metadata": {},
   "outputs": [],
   "source": [
    "from tensorflow.keras import layers\n",
    "\n",
    "from bert.dataset import create_masked_input_dataset\n",
    "from bert.layers import (PositionEmbedding, Attention, Transformer, TokenEmbedding, Bias,\n",
    "                         gelu, masked_sparse_categorical_crossentropy, ECE, InverseSquareRootSchedule,\n",
    "                         initializer, Projection)"
   ]
  },
  {
   "cell_type": "code",
   "execution_count": 57,
   "metadata": {},
   "outputs": [
    {
     "data": {
      "text/plain": [
       "<PrefetchDataset shapes: ((None, 1024), (None, 1024)), types: (tf.int32, tf.int32)>"
      ]
     },
     "execution_count": 57,
     "metadata": {},
     "output_type": "execute_result"
    }
   ],
   "source": [
    "vocab_size = 22\n",
    "max_seq_len = 1024\n",
    "batchSize = 10\n",
    "\n",
    "def encode(line_tensor):\n",
    "    line = line_tensor.numpy().decode('utf8')\n",
    "\n",
    "    if len(line) > max_seq_len:\n",
    "        offset = np.random.randint(\n",
    "            low=0, high=len(line) - max_seq_len + 1)\n",
    "        line = line[offset:(offset + max_seq_len)]\n",
    "\n",
    "    vocab = ['A', 'C', 'D', 'E', 'F', 'G', 'H', 'I', 'K',\n",
    "             'L', 'M', 'N', 'P', 'Q', 'R', 'S', 'T', 'V', \n",
    "             'W', 'Y']\n",
    "\n",
    "    replacement_dict = {key: i + 2 for i, key in enumerate(vocab)}\n",
    "    return np.asarray([replacement_dict[item] for item in line])\n",
    "\n",
    "def encode_tf(line_tensor):\n",
    "    return tf.py_function(encode, inp=[line_tensor], Tout=[tf.int32,])\n",
    "\n",
    "training_data = create_masked_input_dataset(\n",
    "    encode_fn=encode_tf,\n",
    "    sequence_path='/projects/bpms/pstjohn/uniparc/sequences_train.txt',\n",
    "    max_sequence_length=max_seq_len,\n",
    "    batch_size=batchSize,\n",
    "    buffer_size=1024,\n",
    "    vocab_size=vocab_size,\n",
    "    mask_index=1,\n",
    "    vocab_start=2,\n",
    "    fix_sequence_length=True)\n",
    "\n",
    "training_data.repeat().prefetch(tf.data.experimental.AUTOTUNE)\n",
    "\n",
    "valid_data = create_masked_input_dataset(\n",
    "    encode_fn=encode_tf,\n",
    "    sequence_path='/projects/bpms/pstjohn/uniparc/sequences_valid.txt',\n",
    "    max_sequence_length=max_seq_len,\n",
    "    batch_size=batchSize,\n",
    "    buffer_size=1024,\n",
    "    vocab_size=vocab_size,\n",
    "    mask_index=1,\n",
    "    vocab_start=2,\n",
    "    fix_sequence_length=True)\n",
    "\n",
    "valid_data.repeat().prefetch(tf.data.experimental.AUTOTUNE)"
   ]
  },
  {
   "cell_type": "code",
   "execution_count": 58,
   "metadata": {},
   "outputs": [],
   "source": [
    "masked_seqs, true_values = next(iter(valid_data))"
   ]
  },
  {
   "cell_type": "code",
   "execution_count": 59,
   "metadata": {},
   "outputs": [
    {
     "data": {
      "text/plain": [
       "<tf.Tensor: id=3358440, shape=(533,), dtype=int32, numpy=\n",
       "array([ 1,  1,  1,  1,  1,  1,  1,  1, 19,  1,  1, 17,  1,  1,  1, 10,  1,\n",
       "       16, 16,  1,  1,  7,  1,  1,  1,  1,  1,  1,  2,  8, 15,  3,  1,  1,\n",
       "        1,  1,  1,  1,  1,  1,  1,  1,  1,  1,  1,  1, 14,  1,  1,  1,  1,\n",
       "        1,  1,  1,  1,  1,  1,  1,  1,  1,  1,  1,  1,  1,  1,  1,  1,  1,\n",
       "        1,  1,  1,  1,  1,  1,  1, 11,  1,  1,  7,  1,  1,  1,  1,  1,  1,\n",
       "        1,  1,  1,  1,  1,  1,  1,  1,  5,  1,  1,  1,  1, 14,  1,  1,  1,\n",
       "        1,  1,  1, 11,  1,  1,  1,  1,  1,  1,  1,  1,  1,  1,  1, 10,  1,\n",
       "        1,  1,  8,  1, 20,  2,  1,  1,  1,  1,  1,  1,  1,  1,  1,  1,  1,\n",
       "        1,  1,  1, 16,  5,  1,  1, 12,  1,  1,  1,  1,  2,  1,  1,  1,  1,\n",
       "       17,  1,  1,  1,  1, 17,  1,  1,  1,  1,  1,  1,  1,  1,  1,  4,  1,\n",
       "        1,  9,  1,  1,  1,  1,  2, 18,  1,  1,  1,  1,  1,  1,  7,  1, 16,\n",
       "        1,  1,  1,  1,  1,  1,  1,  1,  1,  1,  1,  1,  4,  1, 10, 13,  1,\n",
       "        9,  1,  1,  1,  1,  1,  1,  2,  1,  1,  1,  1, 19,  1,  1,  1,  1,\n",
       "        1,  1,  1, 12,  1,  1,  1, 14,  1,  1,  3, 10,  1, 11,  1,  7,  1,\n",
       "        1,  1,  1, 16,  1,  1,  1,  1,  1,  1,  1,  1,  1,  1,  1,  1,  1,\n",
       "        1,  1,  1,  1,  1,  1,  1,  1, 14,  1,  1,  4,  1,  1,  1,  1,  1,\n",
       "        4, 16, 10,  1,  1, 15,  1,  1,  1,  1, 11,  3,  1,  1,  1,  1,  9,\n",
       "        1,  1,  1,  1,  1, 14,  1,  1,  1,  1,  1, 12,  1,  1,  1,  1,  1,\n",
       "        1,  1,  1,  1,  1,  1,  1,  1,  7, 10,  1,  1,  1,  1,  1,  1,  1,\n",
       "        1,  1, 15,  1,  1, 10,  1,  1,  1,  1,  7, 21,  1,  1,  1, 14,  1,\n",
       "        1,  1, 13,  1,  1,  1, 19,  1,  1,  1,  1, 14, 10,  3,  1,  1,  1,\n",
       "        1,  1,  1,  1,  1, 12,  1, 14,  1,  1,  1,  1,  1,  1,  1,  1, 17,\n",
       "        1,  1,  1,  1,  1,  1,  1,  1,  1,  7,  1,  1, 14,  5, 18,  1,  1,\n",
       "        1, 15,  1,  1,  1, 14, 20, 10,  1,  1,  2,  4,  1,  1,  1,  1,  1,\n",
       "        1,  1,  1,  1,  1,  1,  1,  1,  1,  7,  2,  7,  1,  1,  1, 21,  1,\n",
       "        6,  1,  1,  1,  1,  1,  1,  1,  1,  1,  1,  1,  1, 11,  1,  2,  1,\n",
       "        6,  1,  1,  1,  1,  1,  1,  1,  1,  1,  1,  1, 17,  6,  1,  4, 19,\n",
       "        1,  1,  1,  1,  1,  1,  1,  1, 21, 18,  8, 19,  1,  1,  1,  5,  2,\n",
       "        1,  1,  1,  1,  1,  1,  1,  1,  1,  1,  1, 21,  1, 12,  1,  1,  1,\n",
       "        1, 20,  1,  1, 20,  1,  1,  1,  1,  1,  2,  1,  4,  1,  1,  1,  1,\n",
       "        1,  1,  1, 19,  1,  1,  1,  1,  1, 16,  1,  1,  1,  1, 14,  1,  1,\n",
       "        1,  1,  1,  1,  1,  1], dtype=int32)>"
      ]
     },
     "execution_count": 59,
     "metadata": {},
     "output_type": "execute_result"
    }
   ],
   "source": [
    "masked_seqs[true_values != 0]"
   ]
  },
  {
   "cell_type": "code",
   "execution_count": 60,
   "metadata": {},
   "outputs": [
    {
     "data": {
      "text/plain": [
       "TensorShape([10, 1024])"
      ]
     },
     "execution_count": 60,
     "metadata": {},
     "output_type": "execute_result"
    }
   ],
   "source": [
    "true_values.shape"
   ]
  },
  {
   "cell_type": "markdown",
   "metadata": {},
   "source": [
    "## BERT layers"
   ]
  },
  {
   "cell_type": "code",
   "execution_count": 69,
   "metadata": {},
   "outputs": [
    {
     "name": "stdout",
     "output_type": "stream",
     "text": [
      "Model: \"model\"\n",
      "__________________________________________________________________________________________________\n",
      "Layer (type)                    Output Shape         Param #     Connected to                     \n",
      "==================================================================================================\n",
      "input_10 (InputLayer)           [(None, 1024)]       0                                            \n",
      "__________________________________________________________________________________________________\n",
      "token_embedding_4 (TokenEmbeddi multiple             2816        input_10[0][0]                   \n",
      "                                                                 dense_4[0][0]                    \n",
      "__________________________________________________________________________________________________\n",
      "position_embedding_4 (PositionE (None, None, 128)    131200      input_10[0][0]                   \n",
      "__________________________________________________________________________________________________\n",
      "add_4 (Add)                     (None, 1024, 128)    0           token_embedding_4[0][0]          \n",
      "                                                                 position_embedding_4[0][0]       \n",
      "__________________________________________________________________________________________________\n",
      "transformer_4 (Transformer)     (None, 1024, 128)    198272      add_4[0][0]                      \n",
      "__________________________________________________________________________________________________\n",
      "dense_4 (Dense)                 (None, 1024, 128)    16512       transformer_4[0][0]              \n",
      "__________________________________________________________________________________________________\n",
      "bias_4 (Bias)                   (None, 1024, 22)     22          token_embedding_4[1][0]          \n",
      "==================================================================================================\n",
      "Total params: 348,822\n",
      "Trainable params: 348,822\n",
      "Non-trainable params: 0\n",
      "__________________________________________________________________________________________________\n"
     ]
    }
   ],
   "source": [
    "embedding_dimension = 128\n",
    "model_dimension = 128\n",
    "transformer_dimension = 4 * model_dimension\n",
    "num_attention_heads = model_dimension // 64\n",
    "num_transformer_layers = 1\n",
    "\n",
    "dropout_rate = 0.\n",
    "\n",
    "inputs = layers.Input(shape=(max_seq_len,), dtype=tf.int32, batch_size=None)\n",
    "\n",
    "token_embedding_layer = TokenEmbedding(\n",
    "    vocab_size, embedding_dimension, embeddings_initializer=initializer(), mask_zero=True)\n",
    "token_embeddings = token_embedding_layer(inputs)\n",
    "position_embeddings = PositionEmbedding(\n",
    "    max_seq_len + 1, embedding_dimension, embeddings_initializer=initializer(),\n",
    "    mask_zero=True)(inputs)\n",
    "\n",
    "embeddings = layers.Add()([token_embeddings, position_embeddings])\n",
    "# embeddings = Projection(model_dimension, use_residual=False)(embeddings)\n",
    "\n",
    "transformer = Transformer(num_attention_heads, transformer_dimension, dropout=dropout_rate)\n",
    "for i in range(num_transformer_layers):\n",
    "    embeddings = transformer(embeddings)\n",
    "\n",
    "out = layers.Dense(embedding_dimension, activation=gelu, kernel_initializer=initializer())(embeddings)\n",
    "out = token_embedding_layer(out, transpose=True)\n",
    "out = Bias()(out)\n",
    "#out = layers.Softmax()(out)\n",
    "\n",
    "model = tf.keras.Model(inputs, out, name='model')\n",
    "model.summary()"
   ]
  },
  {
   "cell_type": "code",
   "execution_count": 70,
   "metadata": {},
   "outputs": [
    {
     "data": {
      "text/plain": [
       "TensorShape([10, 1024, 22])"
      ]
     },
     "execution_count": 70,
     "metadata": {},
     "output_type": "execute_result"
    }
   ],
   "source": [
    "model(masked_seqs).shape"
   ]
  },
  {
   "cell_type": "code",
   "execution_count": 71,
   "metadata": {},
   "outputs": [],
   "source": [
    "from tensorflow.keras.callbacks import Callback\n",
    "import tensorflow.keras.backend as K\n",
    "\n",
    "class InverseSquareRootSchedule(Callback):\n",
    "    def __init__(self, \n",
    "                 learning_rate=1E-4,\n",
    "                 warmup_updates=16000):\n",
    "        \"\"\" Implements the linear learning rate warmup and linear learning rate\n",
    "        decay used by google in BERT pretraining \"\"\"\n",
    "        \n",
    "        self.learning_rate = learning_rate\n",
    "        self.warmup_updates = warmup_updates\n",
    "        self.decay_factor = learning_rate * warmup_updates**0.5\n",
    "        self.epoch = 1\n",
    "        self._hist = []\n",
    "        \n",
    "    def on_train_batch_begin(self, batch, logs=None):\n",
    "        \n",
    "        logs = logs or {}\n",
    "        global_step = float(logs.get('batch', 1))\n",
    "        \n",
    "        # Still in warmup\n",
    "        if global_step <= self.warmup_updates:\n",
    "            scheduled_lr = self.learning_rate * (\n",
    "                global_step / self.warmup_updates)\n",
    "        \n",
    "        # Linear decay\n",
    "        else:\n",
    "            scheduled_lr = self.decay_factor * global_step**0.5\n",
    "            \n",
    "        self._hist += [(global_step, scheduled_lr)]\n",
    "        K.set_value(self.model.optimizer.lr, scheduled_lr)\n",
    "        \n",
    "    def on_epoch_end()"
   ]
  },
  {
   "cell_type": "code",
   "execution_count": 72,
   "metadata": {},
   "outputs": [],
   "source": [
    "learning_rate = 1E-3\n",
    "warmup_updates = 300\n",
    "\n",
    "# Horovod: add Horovod DistributedOptimizer.\n",
    "opt = tf.optimizers.Adam(learning_rate=learning_rate)\n",
    "\n",
    "true_labels = layers.Input(shape=(None,), dtype=tf.int32, batch_size=None)\n",
    "model.compile(\n",
    "    loss=masked_sparse_categorical_crossentropy,\n",
    "    metrics=[ECE],\n",
    "    target_tensors=true_labels,\n",
    "    experimental_run_tf_function=False,\n",
    "    optimizer=opt)\n",
    "\n",
    "callbacks = [\n",
    "    InverseSquareRootSchedule(learning_rate=learning_rate, warmup_updates=warmup_updates),\n",
    "]\n"
   ]
  },
  {
   "cell_type": "code",
   "execution_count": 73,
   "metadata": {},
   "outputs": [
    {
     "name": "stdout",
     "output_type": "stream",
     "text": [
      "Epoch 1/3\n"
     ]
    },
    {
     "name": "stderr",
     "output_type": "stream",
     "text": [
      "/home/pstjohn/miniconda3/envs/tf2/lib/python3.7/site-packages/tensorflow_core/python/framework/indexed_slices.py:424: UserWarning: Converting sparse IndexedSlices to a dense Tensor of unknown shape. This may consume a large amount of memory.\n",
      "  \"Converting sparse IndexedSlices to a dense Tensor of unknown shape. \"\n"
     ]
    },
    {
     "name": "stdout",
     "output_type": "stream",
     "text": [
      "1000/1000 [==============================] - 29s 29ms/step - loss: 7.7675 - ECE: inf - val_loss: 2.9061 - val_ECE: 18.2906\n",
      "Epoch 2/3\n",
      "1000/1000 [==============================] - 26s 26ms/step - loss: 2.8988 - ECE: 18.1610 - val_loss: 2.8929 - val_ECE: 18.0534\n",
      "Epoch 3/3\n",
      "1000/1000 [==============================] - 26s 26ms/step - loss: 2.8996 - ECE: 18.1752 - val_loss: 2.9050 - val_ECE: 18.2762\n"
     ]
    },
    {
     "data": {
      "text/plain": [
       "<tensorflow.python.keras.callbacks.History at 0x7f32ed0e9b90>"
      ]
     },
     "execution_count": 73,
     "metadata": {},
     "output_type": "execute_result"
    }
   ],
   "source": [
    "model.fit(training_data, steps_per_epoch=1000, epochs=3, verbose=1,\n",
    "          validation_data=valid_data, validation_steps=10,\n",
    "          callbacks=callbacks)"
   ]
  },
  {
   "cell_type": "code",
   "execution_count": 75,
   "metadata": {},
   "outputs": [],
   "source": [
    "a = callbacks[0]"
   ]
  },
  {
   "cell_type": "code",
   "execution_count": 84,
   "metadata": {},
   "outputs": [
    {
     "data": {
      "text/plain": [
       "[<matplotlib.lines.Line2D at 0x7f32d44895d0>]"
      ]
     },
     "execution_count": 84,
     "metadata": {},
     "output_type": "execute_result"
    },
    {
     "data": {
      "image/png": "[encoded data removed]",
      "text/plain": [
       "<Figure size 432x288 with 1 Axes>"
      ]
     },
     "metadata": {
      "needs_background": "light"
     },
     "output_type": "display_data"
    }
   ],
   "source": [
    "plt.plot(np.array(a._hist)[:, 1])"
   ]
  },
  {
   "cell_type": "code",
   "execution_count": 29,
   "metadata": {},
   "outputs": [
    {
     "name": "stdout",
     "output_type": "stream",
     "text": [
      "10/10 [==============================] - 2s 156ms/step - loss: 2.6406 - ECE: 14.0423\n"
     ]
    },
    {
     "data": {
      "text/plain": [
       "[2.6406365633010864, 14.042313]"
      ]
     },
     "execution_count": 29,
     "metadata": {},
     "output_type": "execute_result"
    }
   ],
   "source": [
    "model.evaluate(valid_data, steps=10)"
   ]
  },
  {
   "cell_type": "code",
   "execution_count": 30,
   "metadata": {},
   "outputs": [],
   "source": [
    "model.save('test_model.h5')"
   ]
  },
  {
   "cell_type": "code",
   "execution_count": 33,
   "metadata": {},
   "outputs": [
    {
     "name": "stdout",
     "output_type": "stream",
     "text": [
      "Tensor(\"metrics_4/ECE/boolean_mask_1/GatherV2:0\", shape=(None,), dtype=float32)\n",
      "Tensor(\"loss_2/bias_1_loss/boolean_mask_1/GatherV2:0\", shape=(None,), dtype=float32)\n"
     ]
    },
    {
     "name": "stderr",
     "output_type": "stream",
     "text": [
      "/home/pstjohn/miniconda3/envs/tf2/lib/python3.7/site-packages/tensorflow_core/python/framework/indexed_slices.py:424: UserWarning: Converting sparse IndexedSlices to a dense Tensor of unknown shape. This may consume a large amount of memory.\n",
      "  \"Converting sparse IndexedSlices to a dense Tensor of unknown shape. \"\n"
     ]
    }
   ],
   "source": [
    "model = tf.keras.models.load_model(\n",
    "    'test_model.h5',\n",
    "    custom_objects={\n",
    "        'PositionEmbedding': PositionEmbedding,\n",
    "        'TokenEmbedding': TokenEmbedding,\n",
    "        'Attention': Attention,\n",
    "        'Transformer': Transformer,\n",
    "        'Projection': Projection,        \n",
    "        'Bias': Bias,\n",
    "        'gelu': gelu,\n",
    "        'masked_sparse_categorical_crossentropy': masked_sparse_categorical_crossentropy,\n",
    "        'ECE': ECE,\n",
    "    })\n",
    "\n",
    "# true_labels = layers.Input(shape=(None,), dtype=tf.int32, batch_size=None)\n",
    "# model.compile(loss=masked_sparse_cross_entropy_loss, target_tensors=true_labels,\n",
    "#               optimizer=tfa.optimizers.AdamW(weight_decay=0.01, learning_rate=1E-3))"
   ]
  },
  {
   "cell_type": "code",
   "execution_count": 34,
   "metadata": {},
   "outputs": [
    {
     "name": "stdout",
     "output_type": "stream",
     "text": [
      "Tensor(\"loss/bias_1_loss/boolean_mask_1/GatherV2:0\", shape=(None, 22), dtype=float32)\n",
      "Tensor(\"metrics/ECE/boolean_mask_1/GatherV2:0\", shape=(None, 22), dtype=float32)\n",
      "10/10 [==============================] - 2s 232ms/step - loss: 2.6753 - ECE: 14.5317\n"
     ]
    },
    {
     "data": {
      "text/plain": [
       "[2.6753330707550047, 14.531654]"
      ]
     },
     "execution_count": 34,
     "metadata": {},
     "output_type": "execute_result"
    }
   ],
   "source": [
    "model.evaluate(valid_data, steps=10)"
   ]
  },
  {
   "cell_type": "code",
   "execution_count": 35,
   "metadata": {},
   "outputs": [
    {
     "name": "stdout",
     "output_type": "stream",
     "text": [
      "Train for 100 steps, validate for 10 steps\n",
      "Epoch 1/3\n",
      "Tensor(\"loss/bias_1_loss/boolean_mask_1/GatherV2:0\", shape=(None, 22), dtype=float32)\n"
     ]
    },
    {
     "name": "stderr",
     "output_type": "stream",
     "text": [
      "/home/pstjohn/miniconda3/envs/tf2/lib/python3.7/site-packages/tensorflow_core/python/framework/indexed_slices.py:424: UserWarning: Converting sparse IndexedSlices to a dense Tensor of unknown shape. This may consume a large amount of memory.\n",
      "  \"Converting sparse IndexedSlices to a dense Tensor of unknown shape. \"\n"
     ]
    },
    {
     "name": "stdout",
     "output_type": "stream",
     "text": [
      "Tensor(\"metrics/ECE/boolean_mask_1/GatherV2:0\", shape=(None, 22), dtype=float32)\n",
      "100/100 [==============================] - 6s 61ms/step - loss: 2.6619 - ECE: 14.3414 - val_loss: 2.6444 - val_ECE: 14.1091\n",
      "Epoch 2/3\n",
      "100/100 [==============================] - 4s 35ms/step - loss: 2.6664 - ECE: 14.4085 - val_loss: 2.6439 - val_ECE: 14.1070\n",
      "Epoch 3/3\n",
      "100/100 [==============================] - 4s 36ms/step - loss: 2.6620 - ECE: 14.3416 - val_loss: 2.6658 - val_ECE: 14.3950\n"
     ]
    },
    {
     "data": {
      "text/plain": [
       "<tensorflow.python.keras.callbacks.History at 0x7f33355ea250>"
      ]
     },
     "execution_count": 35,
     "metadata": {},
     "output_type": "execute_result"
    }
   ],
   "source": [
    "model.fit(training_data, steps_per_epoch=100, epochs=3, verbose=1,\n",
    "          validation_data=valid_data, validation_steps=10)"
   ]
  },
  {
   "cell_type": "code",
   "execution_count": null,
   "metadata": {},
   "outputs": [],
   "source": [
    "# eval_data = valid_data.map(sp_encode_tf, num_parallel_calls=tf.data.experimental.AUTOTUNE).padded_batch(60, padded_shapes=([512],))\n",
    "# eval_encoded = next(iter(eval_data))"
   ]
  },
  {
   "cell_type": "code",
   "execution_count": null,
   "metadata": {},
   "outputs": [],
   "source": [
    "bert_predict = model.predict(encoded_data.take(3), verbose=1)"
   ]
  },
  {
   "cell_type": "code",
   "execution_count": null,
   "metadata": {},
   "outputs": [],
   "source": [
    "bert_predict.shape"
   ]
  }
 ],
 "metadata": {
  "kernelspec": {
   "display_name": "Python 3",
   "language": "python",
   "name": "python3"
  },
  "language_info": {
   "codemirror_mode": {
    "name": "ipython",
    "version": 3
   },
   "file_extension": ".py",
   "mimetype": "text/x-python",
   "name": "python",
   "nbconvert_exporter": "python",
   "pygments_lexer": "ipython3",
   "version": "3.7.4"
  }
 },
 "nbformat": 4,
 "nbformat_minor": 4
}
