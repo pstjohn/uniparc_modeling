{
 "cells": [
  {
   "cell_type": "code",
   "execution_count": 1,
   "metadata": {},
   "outputs": [],
   "source": [
    "import numpy as np\n",
    "import pandas as pd\n",
    "\n",
    "import matplotlib.pyplot as plt\n",
    "import seaborn as sns\n",
    "sns.set(context='talk', style='ticks',\n",
    "        color_codes=True, rc={'legend.frameon': False})"
   ]
  },
  {
   "cell_type": "code",
   "execution_count": 2,
   "metadata": {},
   "outputs": [],
   "source": [
    "import sentencepiece as spm"
   ]
  },
  {
   "cell_type": "code",
   "execution_count": 4,
   "metadata": {},
   "outputs": [
    {
     "data": {
      "text/plain": [
       "True"
      ]
     },
     "execution_count": 4,
     "metadata": {},
     "output_type": "execute_result"
    }
   ],
   "source": [
    "sp = spm.SentencePieceProcessor()\n",
    "sp.Load(\"uniparc_5M.model\")"
   ]
  },
  {
   "cell_type": "code",
   "execution_count": 7,
   "metadata": {},
   "outputs": [],
   "source": [
    "with open(\"sequences_train_subset.txt\", \"r+\") as f:\n",
    "    line = f.readline().strip()"
   ]
  },
  {
   "cell_type": "code",
   "execution_count": 8,
   "metadata": {},
   "outputs": [
    {
     "name": "stdout",
     "output_type": "stream",
     "text": [
      "MAKRKGKTYLSVLILVLIAILIFFISRLSIFEKNTPQILMPDVVYTDLKKPILVHVKDDESSIKNVQIILHKDDNTSAMVIADEKISNLKDITLQVALPKFGYKENVKSFVLEVIAKDSSFWNFFSGNEARKQIAVLVDNTAPKINIISNSYQIEQGGAGAVVFKADDANLDKVYIETNKGKIFKATPYVKEGYYAALIAWDARDEEFRAFVIATDKAGNISKERIRYYFVNRKYRVSNINLTDKFLDGKIENLANQYAPKDNNLNRYEKFKFVNETLRNSNEKLIHEITSKVPEEKIDNFDLNLFLPLKNGMKVADFADHRYYSYNGQFVSDSYHMGLDLASVAQAPIISNNAGKVVFAAENGIYGLNLIVYHGFGVYSLYGHCSSKNVDLDEMINKQSIIGKTGTSGLALGDHLHFGVLVQGVETRPEQWQDKKWIENNIYNVLNDGKKIILGKN\n"
     ]
    },
    {
     "data": {
      "text/plain": [
       "457"
      ]
     },
     "execution_count": 8,
     "metadata": {},
     "output_type": "execute_result"
    }
   ],
   "source": [
    "print(line)\n",
    "len(line)"
   ]
  },
  {
   "cell_type": "code",
   "execution_count": 9,
   "metadata": {},
   "outputs": [
    {
     "data": {
      "text/plain": [
       "138"
      ]
     },
     "execution_count": 9,
     "metadata": {},
     "output_type": "execute_result"
    }
   ],
   "source": [
    "len(sp.EncodeAsPieces(line + '</s>'))"
   ]
  },
  {
   "cell_type": "code",
   "execution_count": 10,
   "metadata": {},
   "outputs": [
    {
     "data": {
      "text/plain": [
       "True"
      ]
     },
     "execution_count": 10,
     "metadata": {},
     "output_type": "execute_result"
    }
   ],
   "source": [
    "sp.DecodeIds(sp.EncodeAsIds(line)) == line"
   ]
  },
  {
   "cell_type": "code",
   "execution_count": 11,
   "metadata": {},
   "outputs": [],
   "source": [
    "lens_2 = np.array([len(sp.SampleEncodeAsIds(line, -1, 0.2)) for x in range(1000)])\n",
    "lens_5 = np.array([len(sp.SampleEncodeAsIds(line, -1, 0.5)) for x in range(1000)])"
   ]
  },
  {
   "cell_type": "code",
   "execution_count": 12,
   "metadata": {},
   "outputs": [
    {
     "data": {
      "text/plain": [
       "(array([  7.,  34.,  72., 171., 205., 255., 154.,  60.,  32.,  10.]),\n",
       " array([182. , 185.6, 189.2, 192.8, 196.4, 200. , 203.6, 207.2, 210.8,\n",
       "        214.4, 218. ]),\n",
       " <a list of 10 Patch objects>)"
      ]
     },
     "execution_count": 12,
     "metadata": {},
     "output_type": "execute_result"
    },
    {
     "data": {
      "image/png": "[encoded data removed]",
      "text/plain": [
       "<Figure size 432x288 with 1 Axes>"
      ]
     },
     "metadata": {
      "needs_background": "light"
     },
     "output_type": "display_data"
    }
   ],
   "source": [
    "plt.hist(lens_2)\n",
    "plt.hist(lens_5)"
   ]
  }
 ],
 "metadata": {
  "kernelspec": {
   "display_name": "Python 3",
   "language": "python",
   "name": "python3"
  },
  "language_info": {
   "codemirror_mode": {
    "name": "ipython",
    "version": 3
   },
   "file_extension": ".py",
   "mimetype": "text/x-python",
   "name": "python",
   "nbconvert_exporter": "python",
   "pygments_lexer": "ipython3",
   "version": "3.7.4"
  }
 },
 "nbformat": 4,
 "nbformat_minor": 4
}
