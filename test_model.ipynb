{
 "cells": [
  {
   "cell_type": "code",
   "execution_count": 1,
   "metadata": {},
   "outputs": [],
   "source": [
    "import numpy as np\n",
    "import tensorflow as tf\n",
    "import tensorflow_addons as tfa"
   ]
  },
  {
   "cell_type": "code",
   "execution_count": 2,
   "metadata": {},
   "outputs": [
    {
     "name": "stdout",
     "output_type": "stream",
     "text": [
      "Num GPUs Available:  1\n"
     ]
    }
   ],
   "source": [
    "gpu_devices = tf.config.experimental.list_physical_devices('GPU')\n",
    "print(\"Num GPUs Available: \", len(gpu_devices))\n",
    "for device in gpu_devices:\n",
    "    tf.config.experimental.set_memory_growth(device, True)"
   ]
  },
  {
   "cell_type": "code",
   "execution_count": 3,
   "metadata": {},
   "outputs": [
    {
     "name": "stdout",
     "output_type": "stream",
     "text": [
      "Model: \"model\"\n",
      "__________________________________________________________________________________________________\n",
      "Layer (type)                    Output Shape         Param #     Connected to                     \n",
      "==================================================================================================\n",
      "input_1 (InputLayer)            [(None, None)]       0                                            \n",
      "__________________________________________________________________________________________________\n",
      "embedding (Embedding)           (None, None, 512)    11264       input_1[0][0]                    \n",
      "__________________________________________________________________________________________________\n",
      "transformer (Transformer)       (None, None, 512)    2906176     embedding[0][0]                  \n",
      "                                                                 transformer[0][0]                \n",
      "                                                                 transformer[1][0]                \n",
      "                                                                 transformer[2][0]                \n",
      "                                                                 transformer[3][0]                \n",
      "                                                                 transformer[4][0]                \n",
      "__________________________________________________________________________________________________\n",
      "dense_no_mask (DenseNoMask)     (None, None, 22)     11286       transformer[5][0]                \n",
      "==================================================================================================\n",
      "Total params: 2,928,726\n",
      "Trainable params: 2,928,726\n",
      "Non-trainable params: 0\n",
      "__________________________________________________________________________________________________\n"
     ]
    }
   ],
   "source": [
    "from bert.model import create_albert_model\n",
    "model = create_albert_model(model_dimension=512,\n",
    "                            transformer_dimension=512 * 4,\n",
    "                            num_attention_heads=512 // 64,\n",
    "                            num_transformer_layers=6,\n",
    "                            vocab_size=22,\n",
    "                            dropout_rate=0.,\n",
    "                            max_relative_position=128)\n",
    "\n",
    "model.summary()"
   ]
  },
  {
   "cell_type": "code",
   "execution_count": 10,
   "metadata": {},
   "outputs": [],
   "source": [
    "from bert.optimizers import (ECE, masked_sparse_categorical_crossentropy,\n",
    "                             BertLinearSchedule)\n",
    "\n",
    "opt = tfa.optimizers.AdamW(learning_rate=1E-5,\n",
    "                           beta_2=0.98,\n",
    "                           epsilon=1E-6,\n",
    "                           weight_decay=0)\n",
    "\n",
    "# opt = tf.optimizers.Adam(learning_rate=1E-4,\n",
    "#                            beta_2=0.98,\n",
    "#                            epsilon=1E-6)\n",
    "\n",
    "opt = tf.train.experimental.enable_mixed_precision_graph_rewrite(opt)\n",
    "\n",
    "true_labels = tf.keras.layers.Input(\n",
    "    shape=(None,), dtype=tf.int32, batch_size=None)\n",
    "\n",
    "model.compile(\n",
    "    target_tensors=true_labels,    \n",
    "    loss=masked_sparse_categorical_crossentropy,\n",
    "    metrics=[ECE],\n",
    "    optimizer=opt,\n",
    "    experimental_run_tf_function=True)"
   ]
  },
  {
   "cell_type": "code",
   "execution_count": 11,
   "metadata": {},
   "outputs": [],
   "source": [
    "callbacks = [\n",
    "    BertLinearSchedule(1E-5, 1000, int(1E7)),\n",
    "#     tf.keras.callbacks.ModelCheckpoint(filepath='jupyter_test_checkpoints/ckpt_{epoch}_{val_ECE:.2f}.h5'),\n",
    "    tf.keras.callbacks.TensorBoard(\n",
    "        log_dir='../uniparc_checkpoints/tblogs/test',\n",
    "        histogram_freq=0,\n",
    "        write_graph=False,\n",
    "        profile_batch=0,\n",
    "        update_freq='epoch',\n",
    "        embeddings_freq=0)]    "
   ]
  },
  {
   "cell_type": "code",
   "execution_count": 12,
   "metadata": {},
   "outputs": [],
   "source": [
    "from bert.dataset import create_masked_input_dataset\n",
    "\n",
    "training_data = create_masked_input_dataset(\n",
    "    sequence_path='../uniparc_data/sequences_train.txt',\n",
    "    max_sequence_length=128,\n",
    "    batch_size=32)\n",
    "\n",
    "training_data = training_data.repeat().prefetch(tf.data.experimental.AUTOTUNE)\n",
    "\n",
    "valid_data = create_masked_input_dataset(\n",
    "    sequence_path='../uniparc_data/sequences_valid.txt',\n",
    "    max_sequence_length=128,\n",
    "    batch_size=32)\n",
    "\n",
    "valid_data = valid_data.repeat().prefetch(tf.data.experimental.AUTOTUNE)"
   ]
  },
  {
   "cell_type": "code",
   "execution_count": 13,
   "metadata": {},
   "outputs": [
    {
     "name": "stdout",
     "output_type": "stream",
     "text": [
      "Epoch 1/5\n"
     ]
    },
    {
     "name": "stderr",
     "output_type": "stream",
     "text": [
      "/usr/local/lib/python3.6/dist-packages/tensorflow_core/python/framework/indexed_slices.py:424: UserWarning: Converting sparse IndexedSlices to a dense Tensor of unknown shape. This may consume a large amount of memory.\n",
      "  \"Converting sparse IndexedSlices to a dense Tensor of unknown shape. \"\n"
     ]
    },
    {
     "name": "stdout",
     "output_type": "stream",
     "text": [
      "500/500 [==============================] - 48s 96ms/step - loss: 2.9327 - ECE: 18.9452 - val_loss: 2.7340 - val_ECE: 15.4058\n",
      "Epoch 2/5\n",
      "500/500 [==============================] - 37s 75ms/step - loss: 2.7315 - ECE: 15.3678 - val_loss: 2.7061 - val_ECE: 14.9736\n",
      "Epoch 3/5\n",
      "500/500 [==============================] - 37s 75ms/step - loss: 2.7047 - ECE: 14.9613 - val_loss: 2.7082 - val_ECE: 15.0145\n",
      "Epoch 4/5\n",
      "500/500 [==============================] - 37s 75ms/step - loss: 2.6917 - ECE: 14.7676 - val_loss: 2.7021 - val_ECE: 14.9172\n",
      "Epoch 5/5\n",
      "500/500 [==============================] - 37s 75ms/step - loss: 2.6851 - ECE: 14.6712 - val_loss: 2.6891 - val_ECE: 14.7309\n"
     ]
    },
    {
     "data": {
      "text/plain": [
       "<tensorflow.python.keras.callbacks.History at 0x7ee540f26b00>"
      ]
     },
     "execution_count": 13,
     "metadata": {},
     "output_type": "execute_result"
    }
   ],
   "source": [
    "model.fit(training_data, steps_per_epoch=500, epochs=5,\n",
    "          verbose=1, validation_data=valid_data, validation_steps=10,\n",
    "          callbacks=callbacks)"
   ]
  },
  {
   "cell_type": "code",
   "execution_count": null,
   "metadata": {},
   "outputs": [],
   "source": [
    "model.save('../uniparc_checkpoints/test.h5')"
   ]
  },
  {
   "cell_type": "code",
   "execution_count": null,
   "metadata": {},
   "outputs": [],
   "source": []
  }
 ],
 "metadata": {
  "kernelspec": {
   "display_name": "Python 3",
   "language": "python",
   "name": "python3"
  },
  "language_info": {
   "codemirror_mode": {
    "name": "ipython",
    "version": 3
   },
   "file_extension": ".py",
   "mimetype": "text/x-python",
   "name": "python",
   "nbconvert_exporter": "python",
   "pygments_lexer": "ipython3",
   "version": "3.6.8"
  }
 },
 "nbformat": 4,
 "nbformat_minor": 4
}
