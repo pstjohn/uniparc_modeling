{
 "cells": [
  {
   "cell_type": "code",
   "execution_count": 1,
   "metadata": {},
   "outputs": [],
   "source": [
    "import numpy as np\n",
    "import tensorflow as tf\n",
    "import tensorflow_addons as tfa"
   ]
  },
  {
   "cell_type": "code",
   "execution_count": 2,
   "metadata": {},
   "outputs": [
    {
     "name": "stdout",
     "output_type": "stream",
     "text": [
      "Num GPUs Available:  1\n"
     ]
    }
   ],
   "source": [
    "gpu_devices = tf.config.experimental.list_physical_devices('GPU')\n",
    "print(\"Num GPUs Available: \", len(gpu_devices))\n",
    "for device in gpu_devices:\n",
    "    tf.config.experimental.set_memory_growth(device, True)"
   ]
  },
  {
   "cell_type": "code",
   "execution_count": 3,
   "metadata": {},
   "outputs": [
    {
     "name": "stdout",
     "output_type": "stream",
     "text": [
      "Sat Feb  1 19:11:01 2020       \n",
      "+-----------------------------------------------------------------------------+\n",
      "| NVIDIA-SMI 430.26       Driver Version: 430.26       CUDA Version: 10.2     |\n",
      "|-------------------------------+----------------------+----------------------+\n",
      "| GPU  Name        Persistence-M| Bus-Id        Disp.A | Volatile Uncorr. ECC |\n",
      "| Fan  Temp  Perf  Pwr:Usage/Cap|         Memory-Usage | GPU-Util  Compute M. |\n",
      "|===============================+======================+======================|\n",
      "|   0  Quadro GV100        Off  | 00000000:37:00.0 Off |                  Off |\n",
      "| 37%   47C    P0    53W / 250W |    281MiB / 32508MiB |      0%      Default |\n",
      "+-------------------------------+----------------------+----------------------+\n",
      "                                                                               \n",
      "+-----------------------------------------------------------------------------+\n",
      "| Processes:                                                       GPU Memory |\n",
      "|  GPU       PID   Type   Process name                             Usage      |\n",
      "|=============================================================================|\n",
      "|    0      3991      G   /usr/bin/X                                   115MiB |\n",
      "|    0      4480      G   ...t/nrel/apps/paraview/5.6.0/lib/paraview    27MiB |\n",
      "|    0     13141      G   ...t/nrel/apps/paraview/5.6.0/lib/paraview    52MiB |\n",
      "|    0     35216      G   ...t/nrel/apps/paraview/5.6.0/lib/paraview    27MiB |\n",
      "|    0     36799      G   paraview                                      47MiB |\n",
      "+-----------------------------------------------------------------------------+\n"
     ]
    }
   ],
   "source": [
    "!nvidia-smi"
   ]
  },
  {
   "cell_type": "code",
   "execution_count": 6,
   "metadata": {},
   "outputs": [
    {
     "name": "stdout",
     "output_type": "stream",
     "text": [
      "Model: \"model\"\n",
      "_________________________________________________________________\n",
      "Layer (type)                 Output Shape              Param #   \n",
      "=================================================================\n",
      "input_3 (InputLayer)         [(None, None)]            0         \n",
      "_________________________________________________________________\n",
      "embedding_1 (Embedding)      (None, None, 512)         12288     \n",
      "_________________________________________________________________\n",
      "transformer_1 (Transformer)  (None, None, 512)         2906176   \n",
      "_________________________________________________________________\n",
      "transformer_2 (Transformer)  (None, None, 512)         2906176   \n",
      "_________________________________________________________________\n",
      "transformer_3 (Transformer)  (None, None, 512)         2906176   \n",
      "_________________________________________________________________\n",
      "transformer_4 (Transformer)  (None, None, 512)         2906176   \n",
      "_________________________________________________________________\n",
      "transformer_5 (Transformer)  (None, None, 512)         2906176   \n",
      "_________________________________________________________________\n",
      "transformer_6 (Transformer)  (None, None, 512)         2906176   \n",
      "_________________________________________________________________\n",
      "dense_no_mask_1 (DenseNoMask (None, None, 24)          12312     \n",
      "=================================================================\n",
      "Total params: 17,461,656\n",
      "Trainable params: 17,461,656\n",
      "Non-trainable params: 0\n",
      "_________________________________________________________________\n"
     ]
    }
   ],
   "source": [
    "from bert.model import create_albert_model\n",
    "model = create_albert_model(model_dimension=512,\n",
    "                            transformer_dimension=512 * 4,\n",
    "                            num_attention_heads=512 // 64,\n",
    "                            num_transformer_layers=6,\n",
    "                            vocab_size=24,\n",
    "                            dropout_rate=0.,\n",
    "                            max_relative_position=128,\n",
    "                            weight_share=False)\n",
    "\n",
    "model.summary()"
   ]
  },
  {
   "cell_type": "code",
   "execution_count": 7,
   "metadata": {},
   "outputs": [],
   "source": [
    "from bert.optimizers import (ECE, masked_sparse_categorical_crossentropy,\n",
    "                             BertLinearSchedule)\n",
    "\n",
    "opt = tfa.optimizers.AdamW(learning_rate=1E-5,\n",
    "                           beta_2=0.98,\n",
    "                           epsilon=1E-6,\n",
    "                           weight_decay=0)\n",
    "\n",
    "# opt = tf.optimizers.Adam(learning_rate=1E-4,\n",
    "#                            beta_2=0.98,\n",
    "#                            epsilon=1E-6)\n",
    "\n",
    "opt = tf.train.experimental.enable_mixed_precision_graph_rewrite(opt)\n",
    "\n",
    "true_labels = tf.keras.layers.Input(\n",
    "    shape=(None,), dtype=tf.int32, batch_size=None)\n",
    "\n",
    "model.compile(\n",
    "    target_tensors=true_labels,    \n",
    "    loss=masked_sparse_categorical_crossentropy,\n",
    "    metrics=[ECE],\n",
    "    optimizer=opt,\n",
    "    experimental_run_tf_function=True)"
   ]
  },
  {
   "cell_type": "code",
   "execution_count": 8,
   "metadata": {},
   "outputs": [],
   "source": [
    "callbacks = [\n",
    "    BertLinearSchedule(1E-5, 1000, int(1E7)),\n",
    "#     tf.keras.callbacks.ModelCheckpoint(filepath='jupyter_test_checkpoints/ckpt_{epoch}_{val_ECE:.2f}.h5'),\n",
    "    tf.keras.callbacks.TensorBoard(\n",
    "        log_dir='../uniparc_checkpoints/tblogs/test',\n",
    "        histogram_freq=0,\n",
    "        write_graph=False,\n",
    "        profile_batch=0,\n",
    "        update_freq='epoch',\n",
    "        embeddings_freq=0)]    "
   ]
  },
  {
   "cell_type": "code",
   "execution_count": 11,
   "metadata": {},
   "outputs": [],
   "source": [
    "from bert.dataset import create_masked_input_dataset\n",
    "\n",
    "training_data = create_masked_input_dataset(\n",
    "    sequence_path='../uniparc_data/train_uniref100.txt.gz',\n",
    "    max_sequence_length=1024,\n",
    "    fix_sequence_length=True,\n",
    "    batch_size=2)\n",
    "\n",
    "training_data = training_data.repeat().prefetch(tf.data.experimental.AUTOTUNE)\n",
    "\n",
    "valid_data = create_masked_input_dataset(\n",
    "    sequence_path='../uniparc_data/dev_uniref50.txt.gz',\n",
    "    max_sequence_length=1024,\n",
    "    batch_size=2)\n",
    "\n",
    "valid_data = valid_data.repeat().prefetch(tf.data.experimental.AUTOTUNE)"
   ]
  },
  {
   "cell_type": "code",
   "execution_count": 12,
   "metadata": {},
   "outputs": [
    {
     "data": {
      "text/plain": [
       "(<tf.Tensor: id=7302, shape=(2, 1024), dtype=int32, numpy=\n",
       " array([[ 2, 14, 19, ...,  0,  0,  0],\n",
       "        [ 2,  7,  7, ...,  0,  0,  0]], dtype=int32)>,\n",
       " <tf.Tensor: id=7303, shape=(2, 1024), dtype=int32, numpy=\n",
       " array([[0, 0, 0, ..., 0, 0, 0],\n",
       "        [0, 0, 0, ..., 0, 0, 0]], dtype=int32)>)"
      ]
     },
     "execution_count": 12,
     "metadata": {},
     "output_type": "execute_result"
    }
   ],
   "source": [
    "next(iter(training_data))"
   ]
  },
  {
   "cell_type": "code",
   "execution_count": null,
   "metadata": {},
   "outputs": [
    {
     "name": "stdout",
     "output_type": "stream",
     "text": [
      "Epoch 1/5\n"
     ]
    },
    {
     "name": "stderr",
     "output_type": "stream",
     "text": [
      "/usr/local/lib/python3.6/dist-packages/tensorflow_core/python/framework/indexed_slices.py:424: UserWarning: Converting sparse IndexedSlices to a dense Tensor of unknown shape. This may consume a large amount of memory.\n",
      "  \"Converting sparse IndexedSlices to a dense Tensor of unknown shape. \"\n"
     ]
    },
    {
     "name": "stdout",
     "output_type": "stream",
     "text": [
      "273/500 [===============>..............] - ETA: 1:25 - loss: 3.1438 - ECE: 23.2712"
     ]
    }
   ],
   "source": [
    "model.fit(training_data, steps_per_epoch=500, epochs=5,\n",
    "          verbose=1, validation_data=valid_data, validation_steps=10,\n",
    "          callbacks=callbacks)"
   ]
  },
  {
   "cell_type": "code",
   "execution_count": null,
   "metadata": {},
   "outputs": [],
   "source": [
    "masked, true = next(iter(training_data))\n",
    "predictions = model.predict(masked)"
   ]
  },
  {
   "cell_type": "code",
   "execution_count": null,
   "metadata": {},
   "outputs": [],
   "source": [
    "masked[:, 0]"
   ]
  },
  {
   "cell_type": "code",
   "execution_count": null,
   "metadata": {},
   "outputs": [],
   "source": [
    "model.save('../uniparc_checkpoints/test.h5')"
   ]
  },
  {
   "cell_type": "code",
   "execution_count": null,
   "metadata": {},
   "outputs": [],
   "source": []
  }
 ],
 "metadata": {
  "kernelspec": {
   "display_name": "Python 3",
   "language": "python",
   "name": "python3"
  },
  "language_info": {
   "codemirror_mode": {
    "name": "ipython",
    "version": 3
   },
   "file_extension": ".py",
   "mimetype": "text/x-python",
   "name": "python",
   "nbconvert_exporter": "python",
   "pygments_lexer": "ipython3",
   "version": "3.6.8"
  }
 },
 "nbformat": 4,
 "nbformat_minor": 4
}
