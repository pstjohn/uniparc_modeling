{
 "cells": [
  {
   "cell_type": "code",
   "execution_count": 1,
   "metadata": {},
   "outputs": [],
   "source": [
    "import numpy as np\n",
    "import tensorflow as tf\n",
    "import tensorflow_addons as tfa"
   ]
  },
  {
   "cell_type": "code",
   "execution_count": 2,
   "metadata": {},
   "outputs": [],
   "source": [
    "# gpu_devices = tf.config.experimental.list_physical_devices('GPU')\n",
    "# print(\"Num GPUs Available: \", len(gpu_devices))\n",
    "# for device in gpu_devices:\n",
    "#     tf.config.experimental.set_memory_growth(device, True)"
   ]
  },
  {
   "cell_type": "code",
   "execution_count": 3,
   "metadata": {},
   "outputs": [
    {
     "name": "stdout",
     "output_type": "stream",
     "text": [
      "Model: \"model\"\n",
      "__________________________________________________________________________________________________\n",
      "Layer (type)                    Output Shape         Param #     Connected to                     \n",
      "==================================================================================================\n",
      "input_1 (InputLayer)            [(None, None)]       0                                            \n",
      "__________________________________________________________________________________________________\n",
      "token_embedding (TokenEmbedding (None, None, 1024)   22528       input_1[0][0]                    \n",
      "__________________________________________________________________________________________________\n",
      "transformer (Transformer)       (None, None, 1024)   12598912    token_embedding[0][0]            \n",
      "                                                                 transformer[0][0]                \n",
      "                                                                 transformer[1][0]                \n",
      "                                                                 transformer[2][0]                \n",
      "                                                                 transformer[3][0]                \n",
      "                                                                 transformer[4][0]                \n",
      "                                                                 transformer[5][0]                \n",
      "                                                                 transformer[6][0]                \n",
      "                                                                 transformer[7][0]                \n",
      "                                                                 transformer[8][0]                \n",
      "                                                                 transformer[9][0]                \n",
      "                                                                 transformer[10][0]               \n",
      "                                                                 transformer[11][0]               \n",
      "                                                                 transformer[12][0]               \n",
      "                                                                 transformer[13][0]               \n",
      "                                                                 transformer[14][0]               \n",
      "                                                                 transformer[15][0]               \n",
      "                                                                 transformer[16][0]               \n",
      "                                                                 transformer[17][0]               \n",
      "                                                                 transformer[18][0]               \n",
      "                                                                 transformer[19][0]               \n",
      "                                                                 transformer[20][0]               \n",
      "                                                                 transformer[21][0]               \n",
      "                                                                 transformer[22][0]               \n",
      "__________________________________________________________________________________________________\n",
      "dense_no_mask (DenseNoMask)     (None, None, 22)     22550       transformer[23][0]               \n",
      "==================================================================================================\n",
      "Total params: 12,643,990\n",
      "Trainable params: 12,643,990\n",
      "Non-trainable params: 0\n",
      "__________________________________________________________________________________________________\n"
     ]
    }
   ],
   "source": [
    "from bert.model import create_albert_model\n",
    "model = create_albert_model(model_dimension=1024,\n",
    "                            transformer_dimension=1024 * 4,\n",
    "                            num_attention_heads=1024 // 64,\n",
    "                            num_transformer_layers=24,\n",
    "                            vocab_size=22,\n",
    "                            dropout_rate=0.)\n",
    "\n",
    "model.summary()"
   ]
  },
  {
   "cell_type": "code",
   "execution_count": 4,
   "metadata": {},
   "outputs": [],
   "source": [
    "from bert.optimizers import (ECE, masked_sparse_categorical_crossentropy,\n",
    "                             BertLinearSchedule)\n",
    "\n",
    "opt = tfa.optimizers.AdamW(learning_rate=1E-4,\n",
    "                           beta_2=0.98,\n",
    "                           epsilon=1E-6,\n",
    "                           weight_decay=0.001)\n",
    "\n",
    "opt = tf.train.experimental.enable_mixed_precision_graph_rewrite(opt)\n",
    "\n",
    "true_labels = tf.keras.layers.Input(\n",
    "    shape=(None,), dtype=tf.int32, batch_size=None)\n",
    "\n",
    "model.compile(\n",
    "    target_tensors=true_labels,    \n",
    "    loss=masked_sparse_categorical_crossentropy,\n",
    "    metrics=[ECE],\n",
    "    optimizer=opt,\n",
    "    experimental_run_tf_function=True)"
   ]
  },
  {
   "cell_type": "code",
   "execution_count": 5,
   "metadata": {},
   "outputs": [],
   "source": [
    "callbacks = [    \n",
    "    BertLinearSchedule(1E-4, 10000, int(1E7)),\n",
    "    tf.keras.callbacks.ModelCheckpoint(filepath='/scratch/pstjohn/test_ckpts/ckpt_{epoch}_{val_ECE:.2f}.h5'),\n",
    "]"
   ]
  },
  {
   "cell_type": "code",
   "execution_count": 6,
   "metadata": {},
   "outputs": [],
   "source": [
    "from bert.dataset import create_masked_input_dataset\n",
    "\n",
    "training_data = create_masked_input_dataset(\n",
    "    sequence_path='../uniparc_data/sequences_train.txt',\n",
    "    max_sequence_length=768,\n",
    "    masking_freq=0.05,    \n",
    "    batch_size=4)\n",
    "\n",
    "training_data = training_data.repeat().prefetch(tf.data.experimental.AUTOTUNE)\n",
    "\n",
    "valid_data = create_masked_input_dataset(\n",
    "    sequence_path='../uniparc_data/sequences_valid.txt',\n",
    "    max_sequence_length=768,\n",
    "    masking_freq=0.05,\n",
    "    batch_size=4)\n",
    "\n",
    "valid_data = valid_data.repeat().prefetch(tf.data.experimental.AUTOTUNE)"
   ]
  },
  {
   "cell_type": "code",
   "execution_count": null,
   "metadata": {},
   "outputs": [
    {
     "name": "stdout",
     "output_type": "stream",
     "text": [
      "Epoch 1/10\n"
     ]
    },
    {
     "name": "stderr",
     "output_type": "stream",
     "text": [
      "/usr/local/lib/python3.6/dist-packages/tensorflow_core/python/framework/indexed_slices.py:424: UserWarning: Converting sparse IndexedSlices to a dense Tensor of unknown shape. This may consume a large amount of memory.\n",
      "  \"Converting sparse IndexedSlices to a dense Tensor of unknown shape. \"\n"
     ]
    },
    {
     "name": "stdout",
     "output_type": "stream",
     "text": [
      "  371/10000 [>.............................] - ETA: 3:11:03 - loss: 2.9489 - ECE: 19.2507"
     ]
    }
   ],
   "source": [
    "model.fit(training_data, steps_per_epoch=10000, epochs=10,\n",
    "          verbose=1, validation_data=valid_data, validation_steps=10,\n",
    "          callbacks=callbacks)"
   ]
  }
 ],
 "metadata": {
  "kernelspec": {
   "display_name": "Python 3",
   "language": "python",
   "name": "python3"
  },
  "language_info": {
   "codemirror_mode": {
    "name": "ipython",
    "version": 3
   },
   "file_extension": ".py",
   "mimetype": "text/x-python",
   "name": "python",
   "nbconvert_exporter": "python",
   "pygments_lexer": "ipython3",
   "version": "3.6.8"
  }
 },
 "nbformat": 4,
 "nbformat_minor": 4
}
