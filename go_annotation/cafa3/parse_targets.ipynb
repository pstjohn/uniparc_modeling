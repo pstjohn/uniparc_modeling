{
 "cells": [
  {
   "cell_type": "code",
   "execution_count": 1,
   "metadata": {},
   "outputs": [],
   "source": [
    "import os\n",
    "os.environ[\"CUDA_VISIBLE_DEVICES\"] = \"-1\""
   ]
  },
  {
   "cell_type": "code",
   "execution_count": 2,
   "metadata": {},
   "outputs": [],
   "source": [
    "import numpy as np\n",
    "import pandas as pd\n",
    "import os\n",
    "\n",
    "import matplotlib.pyplot as plt\n",
    "import seaborn as sns\n",
    "sns.set(context='talk', style='ticks',\n",
    "        color_codes=True, rc={'legend.frameon': False})\n",
    "\n",
    "%matplotlib inline"
   ]
  },
  {
   "cell_type": "code",
   "execution_count": 3,
   "metadata": {},
   "outputs": [],
   "source": [
    "cafa3_dir = '/gpfs/alpine/bie108/proj-shared/cafa3/'"
   ]
  },
  {
   "cell_type": "code",
   "execution_count": 37,
   "metadata": {},
   "outputs": [
    {
     "data": {
      "text/plain": [
       "(130827, 2)"
      ]
     },
     "execution_count": 37,
     "metadata": {},
     "output_type": "execute_result"
    }
   ],
   "source": [
    "from itertools import groupby\n",
    "\n",
    "def fasta_iter():\n",
    "    \"\"\"\n",
    "    given a fasta file. yield tuples of header, sequence\n",
    "    \"\"\"\n",
    "    for fasta in os.listdir(os.path.join(cafa3_dir, 'Target files')):\n",
    "        with open(os.path.join(cafa3_dir, 'Target files', fasta), 'r') as fh:\n",
    "            faiter = (x[1] for x in groupby(fh, lambda line: line[0] == \">\"))\n",
    "            for header in faiter:\n",
    "                headerStr = header.__next__()[1:].strip()\n",
    "                seq = \"\".join(s.strip() for s in faiter.__next__())\n",
    "                yield headerStr, seq\n",
    "            \n",
    "seq_df = pd.DataFrame(fasta_iter(), columns=['accession', 'sequence'])\n",
    "seq_df.shape"
   ]
  },
  {
   "cell_type": "code",
   "execution_count": 38,
   "metadata": {},
   "outputs": [],
   "source": [
    "seq_df = seq_df.join(seq_df['accession'].str.extract(r'(?P<CAFA3ID>.+)\\ (?P<GeneID>.*)')).drop('accession', 1)"
   ]
  },
  {
   "cell_type": "code",
   "execution_count": 43,
   "metadata": {},
   "outputs": [],
   "source": [
    "target_go_bp = pd.read_csv(os.path.join(cafa3_dir, 'target_groundtruth', 'leafonly_BPO.txt'), sep='\\t', header=None)\n",
    "target_go_cc = pd.read_csv(os.path.join(cafa3_dir, 'target_groundtruth', 'leafonly_CCO.txt'), sep='\\t', header=None)\n",
    "target_go_mf = pd.read_csv(os.path.join(cafa3_dir, 'target_groundtruth', 'leafonly_MFO.txt'), sep='\\t', header=None)\n",
    "\n",
    "target_go_labels = pd.concat([target_go_bp, target_go_cc, target_go_mf]).rename(columns={0: 'CAFA3ID', 1: 'GO TERM'})"
   ]
  },
  {
   "cell_type": "code",
   "execution_count": 48,
   "metadata": {},
   "outputs": [
    {
     "data": {
      "text/plain": [
       "3328"
      ]
     },
     "execution_count": 48,
     "metadata": {},
     "output_type": "execute_result"
    }
   ],
   "source": [
    "len(target_go_labels['CAFA3ID'].unique())"
   ]
  },
  {
   "cell_type": "code",
   "execution_count": 52,
   "metadata": {},
   "outputs": [],
   "source": [
    "seq_df_subset = seq_df[seq_df['CAFA3ID'].isin(target_go_labels['CAFA3ID'])]"
   ]
  },
  {
   "cell_type": "code",
   "execution_count": 61,
   "metadata": {},
   "outputs": [],
   "source": [
    "seq_df_subset.to_csv('cafa3_annotated_targets.csv.gz', index=False, compression='gzip')"
   ]
  },
  {
   "cell_type": "code",
   "execution_count": 54,
   "metadata": {},
   "outputs": [
    {
     "data": {
      "text/html": [
       "<div>\n",
       "<style scoped>\n",
       "    .dataframe tbody tr th:only-of-type {\n",
       "        vertical-align: middle;\n",
       "    }\n",
       "\n",
       "    .dataframe tbody tr th {\n",
       "        vertical-align: top;\n",
       "    }\n",
       "\n",
       "    .dataframe thead th {\n",
       "        text-align: right;\n",
       "    }\n",
       "</style>\n",
       "<table border=\"1\" class=\"dataframe\">\n",
       "  <thead>\n",
       "    <tr style=\"text-align: right;\">\n",
       "      <th></th>\n",
       "      <th>UniRef100 ID</th>\n",
       "      <th>UniRef90 ID</th>\n",
       "      <th>UniRef50 ID</th>\n",
       "      <th>accession</th>\n",
       "      <th>EMBL</th>\n",
       "      <th>RefSeq</th>\n",
       "      <th>KEGG</th>\n",
       "      <th>InterPro</th>\n",
       "      <th>Pfam</th>\n",
       "      <th>NCBI Taxonomy</th>\n",
       "      <th>length</th>\n",
       "      <th>sequence</th>\n",
       "      <th>subcellularLocalization</th>\n",
       "    </tr>\n",
       "  </thead>\n",
       "  <tbody>\n",
       "    <tr>\n",
       "      <th>0</th>\n",
       "      <td>UniRef100_Q9Q8J2</td>\n",
       "      <td>UniRef90_Q9Q8J2</td>\n",
       "      <td>UniRef50_P16712</td>\n",
       "      <td>Q9Q8J2</td>\n",
       "      <td>AF170726</td>\n",
       "      <td>NP_051822.1</td>\n",
       "      <td>vg:932054</td>\n",
       "      <td>IPR027417</td>\n",
       "      <td>PF04851</td>\n",
       "      <td>31530</td>\n",
       "      <td>478</td>\n",
       "      <td>MSVCSEIDYALYTELKKFLNSQPLFLFNADKNFVEVVPSSSFKFYI...</td>\n",
       "      <td>Virion</td>\n",
       "    </tr>\n",
       "    <tr>\n",
       "      <th>1</th>\n",
       "      <td>UniRef100_P14197</td>\n",
       "      <td>UniRef90_P14197</td>\n",
       "      <td>UniRef50_P14197</td>\n",
       "      <td>P14197</td>\n",
       "      <td>X16524</td>\n",
       "      <td>XP_643326.1</td>\n",
       "      <td>ddi:DDB_G0276031</td>\n",
       "      <td>IPR036322</td>\n",
       "      <td>PF00400</td>\n",
       "      <td>44689</td>\n",
       "      <td>478</td>\n",
       "      <td>MGSRLNPSSNMYIPMNGPRGGYYGMPSMGQLQHPLFNYQFPPGGFQ...</td>\n",
       "      <td></td>\n",
       "    </tr>\n",
       "    <tr>\n",
       "      <th>2</th>\n",
       "      <td>UniRef100_A6VUT8</td>\n",
       "      <td>UniRef90_A6VUT8</td>\n",
       "      <td>UniRef50_Q65UI5</td>\n",
       "      <td>A6VUT8</td>\n",
       "      <td>CP000749</td>\n",
       "      <td>WP_012069002.1</td>\n",
       "      <td>mmw:Mmwyl1_1288</td>\n",
       "      <td>IPR011763</td>\n",
       "      <td>PF03255</td>\n",
       "      <td>400668</td>\n",
       "      <td>315</td>\n",
       "      <td>MNLDYLPFEQPIAELEQKIEELRLVGNDNELNISDEISRLEDKKIA...</td>\n",
       "      <td>Cytoplasm</td>\n",
       "    </tr>\n",
       "    <tr>\n",
       "      <th>3</th>\n",
       "      <td>UniRef100_A4QKB4</td>\n",
       "      <td>UniRef90_P56765</td>\n",
       "      <td>UniRef50_P56765</td>\n",
       "      <td>A4QKB4</td>\n",
       "      <td>AP009370</td>\n",
       "      <td>YP_001123295.1</td>\n",
       "      <td>None</td>\n",
       "      <td>IPR011762</td>\n",
       "      <td>PF01039</td>\n",
       "      <td>50458</td>\n",
       "      <td>487</td>\n",
       "      <td>MEKSWFNLMFSKGELEYRGELSKAMDSFAPSEKTTISQDRFIYDMD...</td>\n",
       "      <td>Plastid</td>\n",
       "    </tr>\n",
       "    <tr>\n",
       "      <th>4</th>\n",
       "      <td>UniRef100_Q9SQR4</td>\n",
       "      <td>UniRef90_Q9SQR4</td>\n",
       "      <td>UniRef50_Q9SQR4</td>\n",
       "      <td>Q9SQR4</td>\n",
       "      <td>CP002686</td>\n",
       "      <td>NP_187048.1</td>\n",
       "      <td>ath:AT3G03980</td>\n",
       "      <td>IPR002347</td>\n",
       "      <td>None</td>\n",
       "      <td>3702</td>\n",
       "      <td>270</td>\n",
       "      <td>MSTHSSISQPPLPLAGRVAIVTGSSRGIGRAIAIHLAELGARIVIN...</td>\n",
       "      <td>Plastid</td>\n",
       "    </tr>\n",
       "  </tbody>\n",
       "</table>\n",
       "</div>"
      ],
      "text/plain": [
       "       UniRef100 ID      UniRef90 ID      UniRef50 ID accession      EMBL  \\\n",
       "0  UniRef100_Q9Q8J2  UniRef90_Q9Q8J2  UniRef50_P16712    Q9Q8J2  AF170726   \n",
       "1  UniRef100_P14197  UniRef90_P14197  UniRef50_P14197    P14197    X16524   \n",
       "2  UniRef100_A6VUT8  UniRef90_A6VUT8  UniRef50_Q65UI5    A6VUT8  CP000749   \n",
       "3  UniRef100_A4QKB4  UniRef90_P56765  UniRef50_P56765    A4QKB4  AP009370   \n",
       "4  UniRef100_Q9SQR4  UniRef90_Q9SQR4  UniRef50_Q9SQR4    Q9SQR4  CP002686   \n",
       "\n",
       "           RefSeq              KEGG   InterPro     Pfam NCBI Taxonomy  length  \\\n",
       "0     NP_051822.1         vg:932054  IPR027417  PF04851         31530     478   \n",
       "1     XP_643326.1  ddi:DDB_G0276031  IPR036322  PF00400         44689     478   \n",
       "2  WP_012069002.1   mmw:Mmwyl1_1288  IPR011763  PF03255        400668     315   \n",
       "3  YP_001123295.1              None  IPR011762  PF01039         50458     487   \n",
       "4     NP_187048.1     ath:AT3G03980  IPR002347     None          3702     270   \n",
       "\n",
       "                                            sequence subcellularLocalization  \n",
       "0  MSVCSEIDYALYTELKKFLNSQPLFLFNADKNFVEVVPSSSFKFYI...                  Virion  \n",
       "1  MGSRLNPSSNMYIPMNGPRGGYYGMPSMGQLQHPLFNYQFPPGGFQ...                          \n",
       "2  MNLDYLPFEQPIAELEQKIEELRLVGNDNELNISDEISRLEDKKIA...               Cytoplasm  \n",
       "3  MEKSWFNLMFSKGELEYRGELSKAMDSFAPSEKTTISQDRFIYDMD...                 Plastid  \n",
       "4  MSTHSSISQPPLPLAGRVAIVTGSSRGIGRAIAIHLAELGARIVIN...                 Plastid  "
      ]
     },
     "execution_count": 54,
     "metadata": {},
     "output_type": "execute_result"
    }
   ],
   "source": [
    "swissprot_dir = '/gpfs/alpine/bie108/proj-shared/swissprot/'\n",
    "swissprot = pd.read_parquet(os.path.join(swissprot_dir, 'parsed_swissprot_uniref_clusters.parquet'))\n",
    "swissprot.head()"
   ]
  },
  {
   "cell_type": "code",
   "execution_count": 56,
   "metadata": {},
   "outputs": [
    {
     "data": {
      "text/plain": [
       "0.9444110576923077"
      ]
     },
     "execution_count": 56,
     "metadata": {},
     "output_type": "execute_result"
    }
   ],
   "source": [
    "seq_df_subset.sequence.isin(swissprot.sequence).sum() / len(seq_df_subset)"
   ]
  },
  {
   "cell_type": "code",
   "execution_count": 58,
   "metadata": {},
   "outputs": [
    {
     "data": {
      "text/plain": [
       "'MESNKDEAERCISIALKAIQSNQPDRALRFLEKAQRLYPTPRVRALIESLNQKPQTAGDQPPPTDTTHATHRKAGGTDAPSANGEAGGESTKGYTAEQVAAVKRVKQCKDYYEILGVSRGASDEDLKKAYRRLALKFHPDKNHAPGATEAFKAIGTAYAVLSNPEKRKQYDQFGDDKSQAARHGHGHGDFHRGFEADISPEDLFNMFFGGGFPSSNVHVYSNGRMRYTYQQRQDRRDNQGDGGLGVFVQLMPILILILVSALSQLMVSSPPYSLSPRPSVGHIHRRVTDHLGVVYYVGDTFSEEYTGSSLKTVERNVEDDYIANLRNNCWKEKQQSEGLLYRARYFGDTDMYHRAQKMGTPSCSRLSEVQASLHG'"
      ]
     },
     "execution_count": 58,
     "metadata": {},
     "output_type": "execute_result"
    }
   ],
   "source": [
    "seq_df_subset[~seq_df_subset.sequence.isin(swissprot.sequence)].iloc[0].sequence"
   ]
  },
  {
   "cell_type": "code",
   "execution_count": null,
   "metadata": {},
   "outputs": [],
   "source": []
  }
 ],
 "metadata": {
  "kernelspec": {
   "display_name": "Python 3",
   "language": "python",
   "name": "python3"
  },
  "language_info": {
   "codemirror_mode": {
    "name": "ipython",
    "version": 3
   },
   "file_extension": ".py",
   "mimetype": "text/x-python",
   "name": "python",
   "nbconvert_exporter": "python",
   "pygments_lexer": "ipython3",
   "version": "3.6.10"
  }
 },
 "nbformat": 4,
 "nbformat_minor": 4
}
