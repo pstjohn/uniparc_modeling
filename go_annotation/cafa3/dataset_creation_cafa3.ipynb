{
 "cells": [
  {
   "cell_type": "code",
   "execution_count": 1,
   "metadata": {},
   "outputs": [],
   "source": [
    "import os\n",
    "os.environ[\"CUDA_VISIBLE_DEVICES\"] = \"-1\""
   ]
  },
  {
   "cell_type": "code",
   "execution_count": 2,
   "metadata": {},
   "outputs": [],
   "source": [
    "import numpy as np\n",
    "import pandas as pd\n",
    "import os\n",
    "\n",
    "import matplotlib.pyplot as plt\n",
    "import seaborn as sns\n",
    "sns.set(context='talk', style='ticks',\n",
    "        color_codes=True, rc={'legend.frameon': False})\n",
    "\n",
    "%matplotlib inline"
   ]
  },
  {
   "cell_type": "code",
   "execution_count": 3,
   "metadata": {},
   "outputs": [],
   "source": [
    "cafa3_dir = '/gpfs/alpine/bie108/proj-shared/cafa3/'"
   ]
  },
  {
   "cell_type": "code",
   "execution_count": 4,
   "metadata": {},
   "outputs": [
    {
     "data": {
      "text/plain": [
       "(66841, 2)"
      ]
     },
     "execution_count": 4,
     "metadata": {},
     "output_type": "execute_result"
    }
   ],
   "source": [
    "from itertools import groupby\n",
    "\n",
    "def fasta_iter():\n",
    "    \"\"\"\n",
    "    given a fasta file. yield tuples of header, sequence\n",
    "    \"\"\"\n",
    "    with open(os.path.join(cafa3_dir, 'CAFA3_training_data/uniprot_sprot_exp.fasta'), 'r') as fh:\n",
    "        faiter = (x[1] for x in groupby(fh, lambda line: line[0] == \">\"))\n",
    "        for header in faiter:\n",
    "            headerStr = header.__next__()[1:].strip()\n",
    "            seq = \"\".join(s.strip() for s in faiter.__next__())\n",
    "            yield headerStr, seq\n",
    "            \n",
    "seq_df = pd.DataFrame(fasta_iter(), columns=['accession', 'sequence'])\n",
    "seq_df.shape"
   ]
  },
  {
   "cell_type": "code",
   "execution_count": 5,
   "metadata": {},
   "outputs": [
    {
     "data": {
      "text/html": [
       "<div>\n",
       "<style scoped>\n",
       "    .dataframe tbody tr th:only-of-type {\n",
       "        vertical-align: middle;\n",
       "    }\n",
       "\n",
       "    .dataframe tbody tr th {\n",
       "        vertical-align: top;\n",
       "    }\n",
       "\n",
       "    .dataframe thead th {\n",
       "        text-align: right;\n",
       "    }\n",
       "</style>\n",
       "<table border=\"1\" class=\"dataframe\">\n",
       "  <thead>\n",
       "    <tr style=\"text-align: right;\">\n",
       "      <th></th>\n",
       "      <th>accession</th>\n",
       "      <th>GO TERM</th>\n",
       "      <th>GO ASPECT</th>\n",
       "    </tr>\n",
       "  </thead>\n",
       "  <tbody>\n",
       "    <tr>\n",
       "      <th>0</th>\n",
       "      <td>P0DJZ0</td>\n",
       "      <td>GO:0030430</td>\n",
       "      <td>C</td>\n",
       "    </tr>\n",
       "    <tr>\n",
       "      <th>1</th>\n",
       "      <td>P32234</td>\n",
       "      <td>GO:0005525</td>\n",
       "      <td>F</td>\n",
       "    </tr>\n",
       "    <tr>\n",
       "      <th>2</th>\n",
       "      <td>P83011</td>\n",
       "      <td>GO:0043231</td>\n",
       "      <td>C</td>\n",
       "    </tr>\n",
       "    <tr>\n",
       "      <th>3</th>\n",
       "      <td>P83010</td>\n",
       "      <td>GO:0043231</td>\n",
       "      <td>C</td>\n",
       "    </tr>\n",
       "    <tr>\n",
       "      <th>4</th>\n",
       "      <td>P81928</td>\n",
       "      <td>GO:0007275</td>\n",
       "      <td>P</td>\n",
       "    </tr>\n",
       "  </tbody>\n",
       "</table>\n",
       "</div>"
      ],
      "text/plain": [
       "  accession     GO TERM GO ASPECT\n",
       "0    P0DJZ0  GO:0030430         C\n",
       "1    P32234  GO:0005525         F\n",
       "2    P83011  GO:0043231         C\n",
       "3    P83010  GO:0043231         C\n",
       "4    P81928  GO:0007275         P"
      ]
     },
     "execution_count": 5,
     "metadata": {},
     "output_type": "execute_result"
    }
   ],
   "source": [
    "go_terms = pd.read_csv(os.path.join(cafa3_dir, 'CAFA3_training_data/uniprot_sprot_exp.txt'), sep='\\t', header=None).rename(\n",
    "    columns={0: 'accession', 1:'GO TERM', 2:'GO ASPECT'})\n",
    "\n",
    "go_terms.head()"
   ]
  },
  {
   "cell_type": "code",
   "execution_count": 6,
   "metadata": {},
   "outputs": [
    {
     "data": {
      "text/plain": [
       "42819"
      ]
     },
     "execution_count": 6,
     "metadata": {},
     "output_type": "execute_result"
    }
   ],
   "source": [
    "import sys\n",
    "sys.path.append('../..')\n",
    "\n",
    "from bert.dataset import encode\n",
    "from bert.go import Ontology\n",
    "\n",
    "ont = Ontology(restrict_terms=False, obo_file='go_cafa3.obo.gz')\n",
    "ont.total_nodes"
   ]
  },
  {
   "cell_type": "code",
   "execution_count": 8,
   "metadata": {},
   "outputs": [],
   "source": [
    "import itertools\n",
    "from tqdm import tqdm\n",
    "tqdm.pandas()"
   ]
  },
  {
   "cell_type": "code",
   "execution_count": 9,
   "metadata": {},
   "outputs": [
    {
     "name": "stderr",
     "output_type": "stream",
     "text": [
      "100%|██████████| 66841/66841 [02:00<00:00, 552.95it/s] \n"
     ]
    }
   ],
   "source": [
    "all_terms = go_terms.groupby('accession').progress_apply(\n",
    "    lambda df: pd.Series(list(ont.get_ancestors(df['GO TERM'].values))))"
   ]
  },
  {
   "cell_type": "code",
   "execution_count": 14,
   "metadata": {},
   "outputs": [
    {
     "data": {
      "text/plain": [
       "28474"
      ]
     },
     "execution_count": 14,
     "metadata": {},
     "output_type": "execute_result"
    }
   ],
   "source": [
    "len(all_terms.unique())"
   ]
  },
  {
   "cell_type": "code",
   "execution_count": 18,
   "metadata": {},
   "outputs": [
    {
     "data": {
      "text/plain": [
       "32012"
      ]
     },
     "execution_count": 18,
     "metadata": {},
     "output_type": "execute_result"
    }
   ],
   "source": [
    "ont_new = Ontology()\n",
    "ont_new.total_nodes"
   ]
  },
  {
   "cell_type": "code",
   "execution_count": 31,
   "metadata": {},
   "outputs": [
    {
     "data": {
      "text/plain": [
       "1537"
      ]
     },
     "execution_count": 31,
     "metadata": {},
     "output_type": "execute_result"
    }
   ],
   "source": [
    "unique_terms = pd.Series(all_terms.unique())\n",
    "missing = unique_terms[~unique_terms.isin(ont_new.term_index.values())]\n",
    "\n",
    "len(missing)"
   ]
  },
  {
   "cell_type": "code",
   "execution_count": 40,
   "metadata": {},
   "outputs": [],
   "source": [
    "all_terms = all_terms.reset_index().drop('level_1', 1).rename(columns={0: 'GO TERM'})"
   ]
  },
  {
   "cell_type": "code",
   "execution_count": null,
   "metadata": {},
   "outputs": [],
   "source": [
    "grouped_go_terms = go_terms.groupby('accession')['GO TERM'].apply(lambda x: x.values)"
   ]
  },
  {
   "cell_type": "code",
   "execution_count": null,
   "metadata": {},
   "outputs": [],
   "source": [
    "# The following functions can be used to convert a value to a type compatible\n",
    "# with tf.Example.\n",
    "\n",
    "def _bytes_feature(value):\n",
    "    \"\"\"Returns a bytes_list from a string / byte.\"\"\"\n",
    "    if isinstance(value, type(tf.constant(0))):\n",
    "        value = value.numpy() # BytesList won't unpack a string from an EagerTensor.\n",
    "    return tf.train.Feature(bytes_list=tf.train.BytesList(value=[value]))\n",
    "\n",
    "def _serialize_array(value):\n",
    "    return _bytes_feature(tf.io.serialize_tensor(value))\n",
    "\n",
    "def inputs_generator(swissprot_df):\n",
    "    for _, row in tqdm(swissprot_df.iterrows(), total=len(swissprot_df)):\n",
    "#        sequence = encode(row.sequence, max_seq_len)\n",
    "        ancestor_array = ont.termlist_to_array(ont.get_ancestors(\n",
    "            grouped_go_terms[row.accession]), dtype=int)\n",
    "        \n",
    "        features = {\n",
    "            'sequence': _bytes_feature(row.sequence.encode('utf8')),\n",
    "            'annotation': _serialize_array(ancestor_array)\n",
    "        }\n",
    "        \n",
    "        example_proto = tf.train.Example(features=tf.train.Features(feature=features))\n",
    "        yield example_proto.SerializeToString()"
   ]
  },
  {
   "cell_type": "code",
   "execution_count": null,
   "metadata": {},
   "outputs": [],
   "source": [
    "# np.savez_compressed('uniref50_split.npz', train=train, valid=valid, test=test)\n",
    "# pd.Series(ont.term_index).to_csv('term_index.csv', header=False)"
   ]
  },
  {
   "cell_type": "code",
   "execution_count": null,
   "metadata": {},
   "outputs": [],
   "source": [
    "seq_df.shape"
   ]
  },
  {
   "cell_type": "code",
   "execution_count": null,
   "metadata": {},
   "outputs": [],
   "source": [
    "seq_df.sample(frac=1., random_state=1)\n",
    "valid, train = np.split(seq_df.accession, [4000,])"
   ]
  },
  {
   "cell_type": "code",
   "execution_count": null,
   "metadata": {},
   "outputs": [],
   "source": [
    "import tensorflow as tf"
   ]
  },
  {
   "cell_type": "code",
   "execution_count": null,
   "metadata": {},
   "outputs": [],
   "source": [
    "# Preprocess and write the train dataset to disk\n",
    "serialized_train_dataset = tf.data.Dataset.from_generator(\n",
    "    lambda: inputs_generator(seq_df[seq_df.accession.isin(train)]),\n",
    "    output_types=tf.string, output_shapes=())\n",
    "\n",
    "filename = os.path.join(cafa3_dir, 'tfrecords', 'go_train.tfrecord.gz')\n",
    "writer = tf.data.experimental.TFRecordWriter(filename, compression_type='GZIP')\n",
    "writer.write(serialized_train_dataset)\n",
    "\n",
    "\n",
    "# Preprocess and write the valid dataset to disk\n",
    "serialized_valid_dataset = tf.data.Dataset.from_generator(\n",
    "    lambda: inputs_generator(seq_df[seq_df.accession.isin(valid)]),\n",
    "    output_types=tf.string, output_shapes=())\n",
    "\n",
    "filename = os.path.join(cafa3_dir, 'tfrecords', 'go_valid.tfrecord.gz')\n",
    "writer = tf.data.experimental.TFRecordWriter(filename, compression_type='GZIP')\n",
    "writer.write(serialized_valid_dataset)"
   ]
  },
  {
   "cell_type": "code",
   "execution_count": null,
   "metadata": {},
   "outputs": [],
   "source": [
    "def parse_example(example):\n",
    "    parsed = tf.io.parse_single_example(example, features={\n",
    "        'sequence': tf.io.FixedLenFeature([], tf.string, default_value=''),\n",
    "        'annotation': tf.io.FixedLenFeature([], tf.string, default_value=''),\n",
    "    })\n",
    "    \n",
    "    sequence = encode(parsed['sequence'], 1024)\n",
    "    annotation = tf.io.parse_tensor(parsed['annotation'], out_type=tf.int64)\n",
    "    \n",
    "    return sequence, annotation\n",
    "\n",
    "cafa3_dir = '/gpfs/alpine/bie108/proj-shared/cafa3/'\n",
    "train_dataset = tf.data.TFRecordDataset(\n",
    "    os.path.join(cafa3_dir, 'tfrecords', 'go_train.tfrecord.gz'),\n",
    "    compression_type='GZIP', num_parallel_reads=tf.data.experimental.AUTOTUNE)\\\n",
    "    .map(parse_example, num_parallel_calls=tf.data.experimental.AUTOTUNE)\\\n",
    "    .repeat().shuffle(buffer_size=5000)\\\n",
    "    .padded_batch(batch_size=16,\n",
    "                  padded_shapes=(([1024], [ont.total_nodes])))\\\n",
    "    .prefetch(tf.data.experimental.AUTOTUNE)"
   ]
  },
  {
   "cell_type": "code",
   "execution_count": null,
   "metadata": {},
   "outputs": [],
   "source": [
    "class_sample = np.concatenate([b.numpy() for a,b in tqdm(train_dataset.take(1000))])\n",
    "total = np.prod(class_sample.shape)\n",
    "pos = class_sample.sum()\n",
    "neg = total - pos\n",
    "weight_for_0 = (1 / neg)*(total)/2.0 \n",
    "weight_for_1 = (1 / pos)*(total)/2.0\n",
    "\n",
    "initial_bias = np.log(class_sample.sum(0) / class_sample.shape[0] + np.finfo(float).eps)"
   ]
  },
  {
   "cell_type": "code",
   "execution_count": null,
   "metadata": {},
   "outputs": [],
   "source": [
    "np.save(os.path.join(cafa3_dir, 'tfrecords', 'bias.npy'), initial_bias)"
   ]
  },
  {
   "cell_type": "code",
   "execution_count": null,
   "metadata": {},
   "outputs": [],
   "source": [
    "len(initial_bias)"
   ]
  },
  {
   "cell_type": "code",
   "execution_count": null,
   "metadata": {},
   "outputs": [],
   "source": [
    "ont.total_nodes"
   ]
  }
 ],
 "metadata": {
  "kernelspec": {
   "display_name": "Python 3",
   "language": "python",
   "name": "python3"
  },
  "language_info": {
   "codemirror_mode": {
    "name": "ipython",
    "version": 3
   },
   "file_extension": ".py",
   "mimetype": "text/x-python",
   "name": "python",
   "nbconvert_exporter": "python",
   "pygments_lexer": "ipython3",
   "version": "3.6.10"
  }
 },
 "nbformat": 4,
 "nbformat_minor": 4
}
