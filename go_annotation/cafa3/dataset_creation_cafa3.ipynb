{
 "cells": [
  {
   "cell_type": "code",
   "execution_count": 1,
   "metadata": {},
   "outputs": [],
   "source": [
    "import os\n",
    "os.environ[\"CUDA_VISIBLE_DEVICES\"] = \"-1\""
   ]
  },
  {
   "cell_type": "code",
   "execution_count": 2,
   "metadata": {},
   "outputs": [],
   "source": [
    "import numpy as np\n",
    "import pandas as pd\n",
    "import os\n",
    "\n",
    "import matplotlib.pyplot as plt\n",
    "import seaborn as sns\n",
    "sns.set(context='talk', style='ticks',\n",
    "        color_codes=True, rc={'legend.frameon': False})\n",
    "\n",
    "%matplotlib inline"
   ]
  },
  {
   "cell_type": "code",
   "execution_count": 3,
   "metadata": {},
   "outputs": [],
   "source": [
    "import sys\n",
    "sys.path.append('../..')"
   ]
  },
  {
   "cell_type": "code",
   "execution_count": 4,
   "metadata": {},
   "outputs": [],
   "source": [
    "from bert.dataset import encode\n",
    "from bert.go import Ontology"
   ]
  },
  {
   "cell_type": "code",
   "execution_count": 5,
   "metadata": {},
   "outputs": [
    {
     "data": {
      "text/plain": [
       "42819"
      ]
     },
     "execution_count": 5,
     "metadata": {},
     "output_type": "execute_result"
    }
   ],
   "source": [
    "ont = Ontology(threshold=1, term_count_file=False, obo_file='go_cafa3.obo.gz')\n",
    "ont.total_nodes"
   ]
  },
  {
   "cell_type": "code",
   "execution_count": 8,
   "metadata": {},
   "outputs": [],
   "source": [
    "cafa3_dir = '/gpfs/alpine/bie108/proj-shared/cafa3/'"
   ]
  },
  {
   "cell_type": "code",
   "execution_count": 9,
   "metadata": {},
   "outputs": [
    {
     "data": {
      "text/plain": [
       "(66841, 2)"
      ]
     },
     "execution_count": 9,
     "metadata": {},
     "output_type": "execute_result"
    }
   ],
   "source": [
    "from itertools import groupby\n",
    "\n",
    "def fasta_iter():\n",
    "    \"\"\"\n",
    "    given a fasta file. yield tuples of header, sequence\n",
    "    \"\"\"\n",
    "    with open(os.path.join(cafa3_dir, 'CAFA3_training_data/uniprot_sprot_exp.fasta'), 'r') as fh:\n",
    "        faiter = (x[1] for x in groupby(fh, lambda line: line[0] == \">\"))\n",
    "        for header in faiter:\n",
    "            headerStr = header.__next__()[1:].strip()\n",
    "            seq = \"\".join(s.strip() for s in faiter.__next__())\n",
    "            yield headerStr, seq\n",
    "            \n",
    "seq_df = pd.DataFrame(fasta_iter(), columns=['accession', 'sequence'])\n",
    "seq_df.shape"
   ]
  },
  {
   "cell_type": "code",
   "execution_count": 31,
   "metadata": {},
   "outputs": [],
   "source": [
    "go_terms = pd.read_csv(os.path.join(cafa3_dir, 'CAFA3_training_data/uniprot_sprot_exp.txt'), sep='\\t', header=None).rename(\n",
    "    columns={0: 'accession', 1:'GO TERM', 2:'GO ASPECT'})"
   ]
  },
  {
   "cell_type": "code",
   "execution_count": 11,
   "metadata": {},
   "outputs": [],
   "source": [
    "import itertools\n",
    "from tqdm import tqdm\n",
    "tqdm.pandas()"
   ]
  },
  {
   "cell_type": "code",
   "execution_count": 12,
   "metadata": {},
   "outputs": [
    {
     "name": "stderr",
     "output_type": "stream",
     "text": [
      "100%|██████████| 66841/66841 [00:31<00:00, 2143.28it/s]\n"
     ]
    }
   ],
   "source": [
    "all_terms = go_terms.groupby('accession').progress_apply(\n",
    "    lambda df: list(ont.get_ancestors(df['GO TERM'].values)))"
   ]
  },
  {
   "cell_type": "code",
   "execution_count": 15,
   "metadata": {},
   "outputs": [],
   "source": [
    "term_counts = pd.Series(itertools.chain(*all_terms.values.tolist())).value_counts()\n",
    "term_counts.to_csv('cafa3_term_counts.csv.gz', compression='gzip', header=True)"
   ]
  },
  {
   "cell_type": "code",
   "execution_count": 30,
   "metadata": {},
   "outputs": [
    {
     "data": {
      "text/plain": [
       "(386197, 3)"
      ]
     },
     "execution_count": 30,
     "metadata": {},
     "output_type": "execute_result"
    }
   ],
   "source": [
    "go_terms.shape"
   ]
  },
  {
   "cell_type": "code",
   "execution_count": 27,
   "metadata": {},
   "outputs": [
    {
     "data": {
      "text/plain": [
       "28474"
      ]
     },
     "execution_count": 27,
     "metadata": {},
     "output_type": "execute_result"
    }
   ],
   "source": [
    "len(term_counts)"
   ]
  },
  {
   "cell_type": "code",
   "execution_count": 16,
   "metadata": {},
   "outputs": [
    {
     "data": {
      "text/plain": [
       "28474"
      ]
     },
     "execution_count": 16,
     "metadata": {},
     "output_type": "execute_result"
    }
   ],
   "source": [
    "ont = Ontology(threshold=1, term_count_file='cafa3_term_counts.csv.gz', obo_file='go_cafa3.obo.gz')\n",
    "ont.total_nodes"
   ]
  },
  {
   "cell_type": "code",
   "execution_count": 17,
   "metadata": {},
   "outputs": [],
   "source": [
    "grouped_go_terms = go_terms.groupby('accession')['GO TERM'].apply(lambda x: x.values)"
   ]
  },
  {
   "cell_type": "code",
   "execution_count": 18,
   "metadata": {},
   "outputs": [],
   "source": [
    "# The following functions can be used to convert a value to a type compatible\n",
    "# with tf.Example.\n",
    "\n",
    "def _bytes_feature(value):\n",
    "    \"\"\"Returns a bytes_list from a string / byte.\"\"\"\n",
    "    if isinstance(value, type(tf.constant(0))):\n",
    "        value = value.numpy() # BytesList won't unpack a string from an EagerTensor.\n",
    "    return tf.train.Feature(bytes_list=tf.train.BytesList(value=[value]))\n",
    "\n",
    "def _serialize_array(value):\n",
    "    return _bytes_feature(tf.io.serialize_tensor(value))\n",
    "\n",
    "def inputs_generator(swissprot_df):\n",
    "    for _, row in tqdm(swissprot_df.iterrows(), total=len(swissprot_df)):\n",
    "#        sequence = encode(row.sequence, max_seq_len)\n",
    "        ancestor_array = ont.termlist_to_array(ont.get_ancestors(\n",
    "            grouped_go_terms[row.accession]), dtype=int)\n",
    "        \n",
    "        features = {\n",
    "            'sequence': _bytes_feature(row.sequence.encode('utf8')),\n",
    "            'annotation': _serialize_array(ancestor_array)\n",
    "        }\n",
    "        \n",
    "        example_proto = tf.train.Example(features=tf.train.Features(feature=features))\n",
    "        yield example_proto.SerializeToString()"
   ]
  },
  {
   "cell_type": "code",
   "execution_count": 19,
   "metadata": {},
   "outputs": [],
   "source": [
    "# np.savez_compressed('uniref50_split.npz', train=train, valid=valid, test=test)\n",
    "# pd.Series(ont.term_index).to_csv('term_index.csv', header=False)"
   ]
  },
  {
   "cell_type": "code",
   "execution_count": 20,
   "metadata": {},
   "outputs": [],
   "source": [
    "seq_df.sample(frac=1., random_state=1)\n",
    "valid, train = np.split(seq_df.accession, [4000,])"
   ]
  },
  {
   "cell_type": "code",
   "execution_count": 21,
   "metadata": {},
   "outputs": [],
   "source": [
    "import tensorflow as tf"
   ]
  },
  {
   "cell_type": "code",
   "execution_count": 22,
   "metadata": {},
   "outputs": [
    {
     "name": "stderr",
     "output_type": "stream",
     "text": [
      "100%|██████████| 62841/62841 [03:30<00:00, 298.71it/s]\n",
      "100%|██████████| 4000/4000 [00:12<00:00, 307.85it/s]\n"
     ]
    }
   ],
   "source": [
    "# Preprocess and write the train dataset to disk\n",
    "serialized_train_dataset = tf.data.Dataset.from_generator(\n",
    "    lambda: inputs_generator(seq_df[seq_df.accession.isin(train)]),\n",
    "    output_types=tf.string, output_shapes=())\n",
    "\n",
    "filename = os.path.join(cafa3_dir, 'tfrecords', 'go_train.tfrecord.gz')\n",
    "writer = tf.data.experimental.TFRecordWriter(filename, compression_type='GZIP')\n",
    "writer.write(serialized_train_dataset)\n",
    "\n",
    "\n",
    "# Preprocess and write the valid dataset to disk\n",
    "serialized_valid_dataset = tf.data.Dataset.from_generator(\n",
    "    lambda: inputs_generator(seq_df[seq_df.accession.isin(valid)]),\n",
    "    output_types=tf.string, output_shapes=())\n",
    "\n",
    "filename = os.path.join(cafa3_dir, 'tfrecords', 'go_valid.tfrecord.gz')\n",
    "writer = tf.data.experimental.TFRecordWriter(filename, compression_type='GZIP')\n",
    "writer.write(serialized_valid_dataset)"
   ]
  },
  {
   "cell_type": "code",
   "execution_count": 23,
   "metadata": {},
   "outputs": [],
   "source": [
    "def parse_example(example):\n",
    "    parsed = tf.io.parse_single_example(example, features={\n",
    "        'sequence': tf.io.FixedLenFeature([], tf.string, default_value=''),\n",
    "        'annotation': tf.io.FixedLenFeature([], tf.string, default_value=''),\n",
    "    })\n",
    "    \n",
    "    sequence = encode(parsed['sequence'], 1024)\n",
    "    annotation = tf.io.parse_tensor(parsed['annotation'], out_type=tf.int64)\n",
    "    \n",
    "    return sequence, annotation\n",
    "\n",
    "cafa3_dir = '/gpfs/alpine/bie108/proj-shared/cafa3/'\n",
    "train_dataset = tf.data.TFRecordDataset(\n",
    "    os.path.join(cafa3_dir, 'tfrecords', 'go_train.tfrecord.gz'),\n",
    "    compression_type='GZIP', num_parallel_reads=tf.data.experimental.AUTOTUNE)\\\n",
    "    .map(parse_example, num_parallel_calls=tf.data.experimental.AUTOTUNE)\\\n",
    "    .repeat().shuffle(buffer_size=5000)\\\n",
    "    .padded_batch(batch_size=16,\n",
    "                  padded_shapes=(([1024], [ont.total_nodes])))\\\n",
    "    .prefetch(tf.data.experimental.AUTOTUNE)"
   ]
  },
  {
   "cell_type": "code",
   "execution_count": 24,
   "metadata": {},
   "outputs": [
    {
     "name": "stderr",
     "output_type": "stream",
     "text": [
      "1000it [00:28, 34.81it/s]\n"
     ]
    }
   ],
   "source": [
    "class_sample = np.concatenate([b.numpy() for a,b in tqdm(train_dataset.take(1000))])\n",
    "total = np.prod(class_sample.shape)\n",
    "pos = class_sample.sum()\n",
    "neg = total - pos\n",
    "weight_for_0 = (1 / neg)*(total)/2.0 \n",
    "weight_for_1 = (1 / pos)*(total)/2.0\n",
    "\n",
    "initial_bias = np.log(class_sample.sum(0) / class_sample.shape[0] + np.finfo(float).eps)"
   ]
  },
  {
   "cell_type": "code",
   "execution_count": 26,
   "metadata": {},
   "outputs": [],
   "source": [
    "np.save(os.path.join(cafa3_dir, 'tfrecords', 'bias.npy'), initial_bias)"
   ]
  },
  {
   "cell_type": "code",
   "execution_count": 25,
   "metadata": {},
   "outputs": [
    {
     "data": {
      "text/plain": [
       "28474"
      ]
     },
     "execution_count": 25,
     "metadata": {},
     "output_type": "execute_result"
    }
   ],
   "source": [
    "len(initial_bias)"
   ]
  }
 ],
 "metadata": {
  "kernelspec": {
   "display_name": "Python 3",
   "language": "python",
   "name": "python3"
  },
  "language_info": {
   "codemirror_mode": {
    "name": "ipython",
    "version": 3
   },
   "file_extension": ".py",
   "mimetype": "text/x-python",
   "name": "python",
   "nbconvert_exporter": "python",
   "pygments_lexer": "ipython3",
   "version": "3.6.10"
  }
 },
 "nbformat": 4,
 "nbformat_minor": 4
}
