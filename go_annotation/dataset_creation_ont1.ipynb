{
 "cells": [
  {
   "cell_type": "code",
   "execution_count": 2,
   "metadata": {},
   "outputs": [],
   "source": [
    "import numpy as np\n",
    "import pandas as pd\n",
    "\n",
    "import matplotlib.pyplot as plt\n",
    "import seaborn as sns\n",
    "sns.set(context='talk', style='ticks',\n",
    "        color_codes=True, rc={'legend.frameon': False})\n",
    "\n",
    "%matplotlib inline"
   ]
  },
  {
   "cell_type": "code",
   "execution_count": 3,
   "metadata": {},
   "outputs": [],
   "source": [
    "import os\n",
    "swissprot_dir = '/gpfs/alpine/bie108/proj-shared/swissprot/'\n",
    "\n",
    "swissprot = pd.read_parquet(os.path.join(swissprot_dir, 'parsed_swissprot_uniref_clusters.parquet'))\n",
    "go_terms = pd.read_parquet(os.path.join(swissprot_dir, 'swissprot_quickgo.parquet'))\n",
    "cafa3_targets = pd.read_csv('cafa3/cafa3_annotated_targets_with_swissprot.csv.gz')"
   ]
  },
  {
   "cell_type": "code",
   "execution_count": 4,
   "metadata": {},
   "outputs": [],
   "source": [
    "import numpy as np\n",
    "import os\n",
    "os.environ[\"CUDA_VISIBLE_DEVICES\"] = \"-1\"\n",
    "\n",
    "import tensorflow as tf"
   ]
  },
  {
   "cell_type": "code",
   "execution_count": 5,
   "metadata": {},
   "outputs": [],
   "source": [
    "swissprot_annotated = swissprot[swissprot.accession.isin(go_terms['GENE PRODUCT ID'].unique())]\n",
    "swissprot_annotated = swissprot_annotated[swissprot_annotated.length < 2048]"
   ]
  },
  {
   "cell_type": "code",
   "execution_count": 6,
   "metadata": {},
   "outputs": [
    {
     "name": "stdout",
     "output_type": "stream",
     "text": [
      "169738\n"
     ]
    }
   ],
   "source": [
    "uniref50_clusters = swissprot_annotated['UniRef50 ID'].unique()\n",
    "uniref50_nocafa3 = np.array(list(set(uniref50_clusters) - set(cafa3_targets['UniRef50 ID'].unique())))\n",
    "\n",
    "print(len(uniref50_nocafa3))\n",
    "np.random.seed(1)\n",
    "np.random.shuffle(uniref50_nocafa3)\n",
    "test, valid, train = np.split(uniref50_nocafa3, [3000, 6000])"
   ]
  },
  {
   "cell_type": "code",
   "execution_count": 7,
   "metadata": {},
   "outputs": [
    {
     "data": {
      "text/plain": [
       "163738"
      ]
     },
     "execution_count": 7,
     "metadata": {},
     "output_type": "execute_result"
    }
   ],
   "source": [
    "len(train)"
   ]
  },
  {
   "cell_type": "code",
   "execution_count": 8,
   "metadata": {},
   "outputs": [],
   "source": [
    "swissprot_train = swissprot_annotated[swissprot_annotated['UniRef50 ID'].isin(train)].sample(frac=1., random_state=1)\n",
    "swissprot_valid = swissprot_annotated[swissprot_annotated['UniRef50 ID'].isin(valid)].sample(frac=1., random_state=1)"
   ]
  },
  {
   "cell_type": "code",
   "execution_count": 9,
   "metadata": {},
   "outputs": [
    {
     "data": {
      "text/plain": [
       "505360"
      ]
     },
     "execution_count": 9,
     "metadata": {},
     "output_type": "execute_result"
    }
   ],
   "source": [
    "len(swissprot_train)"
   ]
  },
  {
   "cell_type": "code",
   "execution_count": 10,
   "metadata": {},
   "outputs": [
    {
     "data": {
      "text/plain": [
       "3509"
      ]
     },
     "execution_count": 10,
     "metadata": {},
     "output_type": "execute_result"
    }
   ],
   "source": [
    "len(swissprot_train) // (6 * 24)"
   ]
  },
  {
   "cell_type": "code",
   "execution_count": 11,
   "metadata": {},
   "outputs": [
    {
     "data": {
      "text/plain": [
       "<matplotlib.axes._subplots.AxesSubplot at 0x7ffcbc82c160>"
      ]
     },
     "execution_count": 11,
     "metadata": {},
     "output_type": "execute_result"
    },
    {
     "data": {
      "image/png": "[encoded data removed]",
      "text/plain": [
       "<Figure size 432x288 with 1 Axes>"
      ]
     },
     "metadata": {
      "needs_background": "light"
     },
     "output_type": "display_data"
    }
   ],
   "source": [
    "swissprot_annotated.length.plot.hist(range=(0, 2048), bins=30)"
   ]
  },
  {
   "cell_type": "code",
   "execution_count": 12,
   "metadata": {},
   "outputs": [
    {
     "data": {
      "text/html": [
       "<div>\n",
       "<style scoped>\n",
       "    .dataframe tbody tr th:only-of-type {\n",
       "        vertical-align: middle;\n",
       "    }\n",
       "\n",
       "    .dataframe tbody tr th {\n",
       "        vertical-align: top;\n",
       "    }\n",
       "\n",
       "    .dataframe thead th {\n",
       "        text-align: right;\n",
       "    }\n",
       "</style>\n",
       "<table border=\"1\" class=\"dataframe\">\n",
       "  <thead>\n",
       "    <tr style=\"text-align: right;\">\n",
       "      <th></th>\n",
       "      <th>GENE PRODUCT DB</th>\n",
       "      <th>GENE PRODUCT ID</th>\n",
       "      <th>SYMBOL</th>\n",
       "      <th>QUALIFIER</th>\n",
       "      <th>GO TERM</th>\n",
       "      <th>GO ASPECT</th>\n",
       "      <th>ECO ID</th>\n",
       "      <th>GO EVIDENCE CODE</th>\n",
       "      <th>REFERENCE</th>\n",
       "      <th>WITH/FROM</th>\n",
       "      <th>TAXON ID</th>\n",
       "      <th>ASSIGNED BY</th>\n",
       "      <th>ANNOTATION EXTENSION</th>\n",
       "      <th>DATE</th>\n",
       "    </tr>\n",
       "  </thead>\n",
       "  <tbody>\n",
       "    <tr>\n",
       "      <th>0</th>\n",
       "      <td>UniProtKB</td>\n",
       "      <td>A2CKF6</td>\n",
       "      <td>A2CKF6</td>\n",
       "      <td>part_of</td>\n",
       "      <td>GO:0005576</td>\n",
       "      <td>C</td>\n",
       "      <td>ECO:0000256</td>\n",
       "      <td>IEA</td>\n",
       "      <td>GO_REF:0000002</td>\n",
       "      <td>InterPro:IPR003571|InterPro:IPR018354</td>\n",
       "      <td>8613</td>\n",
       "      <td>InterPro</td>\n",
       "      <td>None</td>\n",
       "      <td>20200613</td>\n",
       "    </tr>\n",
       "    <tr>\n",
       "      <th>1</th>\n",
       "      <td>UniProtKB</td>\n",
       "      <td>A2CKF6</td>\n",
       "      <td>A2CKF6</td>\n",
       "      <td>involved_in</td>\n",
       "      <td>GO:0009405</td>\n",
       "      <td>P</td>\n",
       "      <td>ECO:0000256</td>\n",
       "      <td>IEA</td>\n",
       "      <td>GO_REF:0000002</td>\n",
       "      <td>InterPro:IPR003571</td>\n",
       "      <td>8613</td>\n",
       "      <td>InterPro</td>\n",
       "      <td>None</td>\n",
       "      <td>20200613</td>\n",
       "    </tr>\n",
       "    <tr>\n",
       "      <th>2</th>\n",
       "      <td>UniProtKB</td>\n",
       "      <td>A2CKF6</td>\n",
       "      <td>A2CKF6</td>\n",
       "      <td>part_of</td>\n",
       "      <td>GO:0005576</td>\n",
       "      <td>C</td>\n",
       "      <td>ECO:0000322</td>\n",
       "      <td>IEA</td>\n",
       "      <td>GO_REF:0000043</td>\n",
       "      <td>UniProtKB-KW:KW-0964</td>\n",
       "      <td>8613</td>\n",
       "      <td>UniProt</td>\n",
       "      <td>None</td>\n",
       "      <td>20200613</td>\n",
       "    </tr>\n",
       "    <tr>\n",
       "      <th>3</th>\n",
       "      <td>UniProtKB</td>\n",
       "      <td>A2CKF6</td>\n",
       "      <td>A2CKF6</td>\n",
       "      <td>enables</td>\n",
       "      <td>GO:0090729</td>\n",
       "      <td>F</td>\n",
       "      <td>ECO:0000322</td>\n",
       "      <td>IEA</td>\n",
       "      <td>GO_REF:0000043</td>\n",
       "      <td>UniProtKB-KW:KW-0800</td>\n",
       "      <td>8613</td>\n",
       "      <td>UniProt</td>\n",
       "      <td>None</td>\n",
       "      <td>20200613</td>\n",
       "    </tr>\n",
       "    <tr>\n",
       "      <th>4</th>\n",
       "      <td>UniProtKB</td>\n",
       "      <td>A2CKF6</td>\n",
       "      <td>A2CKF6</td>\n",
       "      <td>part_of</td>\n",
       "      <td>GO:0035792</td>\n",
       "      <td>C</td>\n",
       "      <td>ECO:0000322</td>\n",
       "      <td>IEA</td>\n",
       "      <td>GO_REF:0000043</td>\n",
       "      <td>UniProtKB-KW:KW-0629</td>\n",
       "      <td>8613</td>\n",
       "      <td>UniProt</td>\n",
       "      <td>None</td>\n",
       "      <td>20200613</td>\n",
       "    </tr>\n",
       "  </tbody>\n",
       "</table>\n",
       "</div>"
      ],
      "text/plain": [
       "  GENE PRODUCT DB GENE PRODUCT ID  SYMBOL    QUALIFIER     GO TERM GO ASPECT  \\\n",
       "0       UniProtKB          A2CKF6  A2CKF6      part_of  GO:0005576         C   \n",
       "1       UniProtKB          A2CKF6  A2CKF6  involved_in  GO:0009405         P   \n",
       "2       UniProtKB          A2CKF6  A2CKF6      part_of  GO:0005576         C   \n",
       "3       UniProtKB          A2CKF6  A2CKF6      enables  GO:0090729         F   \n",
       "4       UniProtKB          A2CKF6  A2CKF6      part_of  GO:0035792         C   \n",
       "\n",
       "        ECO ID GO EVIDENCE CODE       REFERENCE  \\\n",
       "0  ECO:0000256              IEA  GO_REF:0000002   \n",
       "1  ECO:0000256              IEA  GO_REF:0000002   \n",
       "2  ECO:0000322              IEA  GO_REF:0000043   \n",
       "3  ECO:0000322              IEA  GO_REF:0000043   \n",
       "4  ECO:0000322              IEA  GO_REF:0000043   \n",
       "\n",
       "                               WITH/FROM  TAXON ID ASSIGNED BY  \\\n",
       "0  InterPro:IPR003571|InterPro:IPR018354      8613    InterPro   \n",
       "1                     InterPro:IPR003571      8613    InterPro   \n",
       "2                   UniProtKB-KW:KW-0964      8613     UniProt   \n",
       "3                   UniProtKB-KW:KW-0800      8613     UniProt   \n",
       "4                   UniProtKB-KW:KW-0629      8613     UniProt   \n",
       "\n",
       "  ANNOTATION EXTENSION      DATE  \n",
       "0                 None  20200613  \n",
       "1                 None  20200613  \n",
       "2                 None  20200613  \n",
       "3                 None  20200613  \n",
       "4                 None  20200613  "
      ]
     },
     "execution_count": 12,
     "metadata": {},
     "output_type": "execute_result"
    }
   ],
   "source": [
    "go_terms.head()"
   ]
  },
  {
   "cell_type": "code",
   "execution_count": 13,
   "metadata": {},
   "outputs": [
    {
     "data": {
      "text/plain": [
       "<matplotlib.axes._subplots.AxesSubplot at 0x7ffcbbc80278>"
      ]
     },
     "execution_count": 13,
     "metadata": {},
     "output_type": "execute_result"
    },
    {
     "data": {
      "image/png": "[encoded data removed]",
      "text/plain": [
       "<Figure size 432x288 with 1 Axes>"
      ]
     },
     "metadata": {
      "needs_background": "light"
     },
     "output_type": "display_data"
    }
   ],
   "source": [
    "np.log10(go_terms['GO TERM'].value_counts()).plot.hist(range=(0, 6), bins=30)"
   ]
  },
  {
   "cell_type": "code",
   "execution_count": 14,
   "metadata": {},
   "outputs": [],
   "source": [
    "go_terms_train = go_terms[go_terms['GENE PRODUCT ID'].isin(swissprot_train.accession)]"
   ]
  },
  {
   "cell_type": "code",
   "execution_count": 15,
   "metadata": {},
   "outputs": [],
   "source": [
    "import sys\n",
    "sys.path.append('..')"
   ]
  },
  {
   "cell_type": "code",
   "execution_count": 16,
   "metadata": {},
   "outputs": [
    {
     "data": {
      "text/plain": [
       "44232"
      ]
     },
     "execution_count": 16,
     "metadata": {},
     "output_type": "execute_result"
    }
   ],
   "source": [
    "from bert.dataset import encode\n",
    "from bert.go import Ontology\n",
    "from tqdm import tqdm\n",
    "tqdm.pandas()\n",
    "\n",
    "ont = Ontology(restrict_terms=False)\n",
    "ont.total_nodes"
   ]
  },
  {
   "cell_type": "markdown",
   "metadata": {},
   "source": [
    "This line gets the total list of terms present in the training database, including ancestors. Any term that doesn't appear here won't be predicted, so we'll remove it from the ontology tree."
   ]
  },
  {
   "cell_type": "code",
   "execution_count": 17,
   "metadata": {},
   "outputs": [],
   "source": [
    "# all_terms = go_terms_train.groupby('GENE PRODUCT ID').progress_apply(lambda df: pd.Series(list(ont.get_ancestors(df['GO TERM'].values))))\n",
    "# training_terms = all_terms.reset_index()[0].value_counts().index\n",
    "# pd.Series(training_terms).to_csv('../bert/go/terms.csv.gz', compression='gzip', index=False, header=False)"
   ]
  },
  {
   "cell_type": "code",
   "execution_count": 18,
   "metadata": {},
   "outputs": [
    {
     "data": {
      "text/plain": [
       "32012"
      ]
     },
     "execution_count": 18,
     "metadata": {},
     "output_type": "execute_result"
    }
   ],
   "source": [
    "ont = Ontology()\n",
    "ont.total_nodes"
   ]
  },
  {
   "cell_type": "code",
   "execution_count": 21,
   "metadata": {},
   "outputs": [],
   "source": [
    "grouped_go_terms = go_terms.groupby('GENE PRODUCT ID')['GO TERM'].apply(lambda x: x.values)\n",
    "# row = swissprot_annotated.iloc[0]\n",
    "# ont.termlist_to_array(ont.get_ancestors(grouped_go_terms[row.accession]), dtype=int).shape"
   ]
  },
  {
   "cell_type": "code",
   "execution_count": 6,
   "metadata": {},
   "outputs": [],
   "source": [
    "# The following functions can be used to convert a value to a type compatible\n",
    "# with tf.Example.\n",
    "\n",
    "def _bytes_feature(value):\n",
    "    \"\"\"Returns a bytes_list from a string / byte.\"\"\"\n",
    "    if isinstance(value, type(tf.constant(0))):\n",
    "        value = value.numpy() # BytesList won't unpack a string from an EagerTensor.\n",
    "    return tf.train.Feature(bytes_list=tf.train.BytesList(value=[value]))\n",
    "\n",
    "def _serialize_array(value):\n",
    "    return _bytes_feature(tf.io.serialize_tensor(value))\n",
    "\n",
    "def inputs_generator(swissprot_df):\n",
    "    for _, row in tqdm(swissprot_df.iterrows(), total=len(swissprot_df)):\n",
    "#        sequence = encode(row.sequence, max_seq_len)\n",
    "        ancestor_array = ont.termlist_to_array(ont.get_ancestors(\n",
    "            grouped_go_terms[row.accession]), dtype=int)\n",
    "        \n",
    "        features = {\n",
    "            'sequence': _bytes_feature(row.sequence.encode('utf8')),\n",
    "            'annotation': _serialize_array(ancestor_array)\n",
    "        }\n",
    "        \n",
    "        example_proto = tf.train.Example(features=tf.train.Features(feature=features))\n",
    "        yield example_proto.SerializeToString()"
   ]
  },
  {
   "cell_type": "code",
   "execution_count": 21,
   "metadata": {},
   "outputs": [],
   "source": [
    "# example = next(inputs_generator(swissprot_annotated))\n",
    "\n",
    "# parsed = tf.io.parse_single_example(example, features={\n",
    "#         'sequence': tf.io.FixedLenFeature([], tf.string, default_value=''),\n",
    "#         'annotation': tf.io.FixedLenFeature([], tf.string, default_value=''),\n",
    "#     })\n",
    "\n",
    "# tf.io.parse_tensor(parsed['annotation'], out_type=tf.int64)"
   ]
  },
  {
   "cell_type": "code",
   "execution_count": 22,
   "metadata": {},
   "outputs": [],
   "source": [
    "np.savez_compressed('uniref50_split.npz', train=train, valid=valid, test=test)\n",
    "pd.Series(ont.term_index).to_csv('term_index.csv', header=False)"
   ]
  },
  {
   "cell_type": "code",
   "execution_count": 23,
   "metadata": {},
   "outputs": [
    {
     "name": "stderr",
     "output_type": "stream",
     "text": [
      "100%|██████████| 505360/505360 [51:22<00:00, 163.93it/s]  \n",
      "100%|██████████| 8841/8841 [00:38<00:00, 231.98it/s]\n"
     ]
    }
   ],
   "source": [
    "# Preprocess and write the train dataset to disk\n",
    "serialized_train_dataset = tf.data.Dataset.from_generator(\n",
    "    lambda: inputs_generator(swissprot_train),\n",
    "    output_types=tf.string, output_shapes=())\n",
    "\n",
    "filename = os.path.join(swissprot_dir, 'tfrecords_1', 'go_train.tfrecord.gz')\n",
    "writer = tf.data.experimental.TFRecordWriter(filename, compression_type='GZIP')\n",
    "writer.write(serialized_train_dataset)\n",
    "\n",
    "\n",
    "# Preprocess and write the valid dataset to disk\n",
    "serialized_valid_dataset = tf.data.Dataset.from_generator(\n",
    "    lambda: inputs_generator(swissprot_valid),\n",
    "    output_types=tf.string, output_shapes=())\n",
    "\n",
    "filename = os.path.join(swissprot_dir, 'tfrecords_1', 'go_valid.tfrecord.gz')\n",
    "writer = tf.data.experimental.TFRecordWriter(filename, compression_type='GZIP')\n",
    "writer.write(serialized_valid_dataset)"
   ]
  },
  {
   "cell_type": "code",
   "execution_count": 7,
   "metadata": {},
   "outputs": [],
   "source": [
    "cafa3_accessions = np.load('cafa3/cafa3_accessions.npz', allow_pickle=True)"
   ]
  },
  {
   "cell_type": "code",
   "execution_count": 9,
   "metadata": {},
   "outputs": [
    {
     "data": {
      "text/plain": [
       "array(['A0A060X6Z0', 'A0A068FIK2', 'A0A075F932', ..., 'W8E7I1', 'X1WGX5',\n",
       "       'X5M5N0'], dtype=object)"
      ]
     },
     "execution_count": 9,
     "metadata": {},
     "output_type": "execute_result"
    }
   ],
   "source": [
    "cafa3_accessions['train']"
   ]
  },
  {
   "cell_type": "code",
   "execution_count": 10,
   "metadata": {},
   "outputs": [],
   "source": [
    "swissprot_cafa3_train = swissprot_annotated[swissprot_annotated['accession'].isin(cafa3_accessions['train'])].sample(frac=1., random_state=1)\n",
    "swissprot_cafa3_test = swissprot_annotated[swissprot_annotated['accession'].isin(cafa3_accessions['test'])].sample(frac=1., random_state=1)"
   ]
  },
  {
   "cell_type": "code",
   "execution_count": 26,
   "metadata": {},
   "outputs": [
    {
     "data": {
      "text/plain": [
       "(65539, 13)"
      ]
     },
     "execution_count": 26,
     "metadata": {},
     "output_type": "execute_result"
    }
   ],
   "source": [
    "swissprot_cafa3_train.shape"
   ]
  },
  {
   "cell_type": "code",
   "execution_count": 19,
   "metadata": {},
   "outputs": [
    {
     "data": {
      "text/plain": [
       "(3098, 13)"
      ]
     },
     "execution_count": 19,
     "metadata": {},
     "output_type": "execute_result"
    }
   ],
   "source": [
    "swissprot_cafa3_test.shape"
   ]
  },
  {
   "cell_type": "code",
   "execution_count": 25,
   "metadata": {},
   "outputs": [
    {
     "data": {
      "text/plain": [
       "2047"
      ]
     },
     "execution_count": 25,
     "metadata": {},
     "output_type": "execute_result"
    }
   ],
   "source": [
    "swissprot_cafa3_train.length.max()"
   ]
  },
  {
   "cell_type": "code",
   "execution_count": 24,
   "metadata": {},
   "outputs": [
    {
     "data": {
      "text/plain": [
       "1.3653958333333334"
      ]
     },
     "execution_count": 24,
     "metadata": {},
     "output_type": "execute_result"
    }
   ],
   "source": [
    "swissprot_cafa3_train.shape[0] / (500 * 6 * 16)"
   ]
  },
  {
   "cell_type": "code",
   "execution_count": 22,
   "metadata": {},
   "outputs": [
    {
     "name": "stderr",
     "output_type": "stream",
     "text": [
      "100%|██████████| 65539/65539 [13:41<00:00, 79.79it/s] \n"
     ]
    }
   ],
   "source": [
    "# Preprocess and write the train dataset to disk\n",
    "serialized_cafa3_train_dataset = tf.data.Dataset.from_generator(\n",
    "    lambda: inputs_generator(swissprot_cafa3_train),\n",
    "    output_types=tf.string, output_shapes=())\n",
    "\n",
    "filename = os.path.join(swissprot_dir, 'tfrecords_1', 'cafa3_train.tfrecord.gz')\n",
    "writer = tf.data.experimental.TFRecordWriter(filename, compression_type='GZIP')\n",
    "writer.write(serialized_cafa3_train_dataset)"
   ]
  },
  {
   "cell_type": "code",
   "execution_count": null,
   "metadata": {},
   "outputs": [],
   "source": []
  }
 ],
 "metadata": {
  "kernelspec": {
   "display_name": "Python 3",
   "language": "python",
   "name": "python3"
  },
  "language_info": {
   "codemirror_mode": {
    "name": "ipython",
    "version": 3
   },
   "file_extension": ".py",
   "mimetype": "text/x-python",
   "name": "python",
   "nbconvert_exporter": "python",
   "pygments_lexer": "ipython3",
   "version": "3.6.10"
  }
 },
 "nbformat": 4,
 "nbformat_minor": 4
}
