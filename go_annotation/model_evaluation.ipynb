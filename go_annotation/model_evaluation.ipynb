{
 "cells": [
  {
   "cell_type": "code",
   "execution_count": 1,
   "metadata": {},
   "outputs": [],
   "source": [
    "import numpy as np\n",
    "import pandas as pd\n",
    "import os\n",
    "from tqdm import tqdm\n",
    "\n",
    "import matplotlib.pyplot as plt\n",
    "import seaborn as sns\n",
    "sns.set(context='talk', style='ticks',\n",
    "        color_codes=True, rc={'legend.frameon': False})\n",
    "\n",
    "%matplotlib inline"
   ]
  },
  {
   "cell_type": "code",
   "execution_count": 2,
   "metadata": {},
   "outputs": [],
   "source": [
    "import sys\n",
    "sys.path.append('..')\n",
    "\n",
    "from bert.go import Ontology"
   ]
  },
  {
   "cell_type": "code",
   "execution_count": 3,
   "metadata": {},
   "outputs": [],
   "source": [
    "ont = Ontology(threshold=1)"
   ]
  },
  {
   "cell_type": "code",
   "execution_count": 10,
   "metadata": {},
   "outputs": [],
   "source": [
    "swissprot_dir = '/gpfs/alpine/bie108/proj-shared/swissprot/'\n",
    "swissprot = pd.read_parquet(os.path.join(swissprot_dir, 'parsed_swissprot_uniref_clusters.parquet'))\n",
    "go_terms = pd.read_parquet(os.path.join(swissprot_dir, 'swissprot_quickgo.parquet'))\n",
    "\n",
    "swissprot_annotated = swissprot[swissprot.accession.isin(go_terms['GENE PRODUCT ID'].unique())]\n",
    "swissprot_annotated = swissprot_annotated[swissprot_annotated.length < 10000]"
   ]
  },
  {
   "cell_type": "code",
   "execution_count": null,
   "metadata": {},
   "outputs": [],
   "source": [
    "len(go_terms['GO TERM'].unique())"
   ]
  },
  {
   "cell_type": "code",
   "execution_count": null,
   "metadata": {},
   "outputs": [],
   "source": [
    "counts = go_terms['GO TERM'].value_counts()\n",
    "np.log10(counts).plot.hist()\n",
    "plt.xticks(ticks=np.arange(0, 6), labels=[f'$10^{i}$' for i in np.arange(0, 6)])\n",
    "plt.xlabel('Number of proteins with GO annotation')\n",
    "sns.despine(trim=True, offset=10)\n",
    "plt.tight_layout()"
   ]
  },
  {
   "cell_type": "code",
   "execution_count": null,
   "metadata": {},
   "outputs": [],
   "source": [
    "head_nodes = {ont.G.nodes[ont.term_index[index]]['name']: index for index in ont.get_head_node_indices()}\n",
    "head_nodes"
   ]
  },
  {
   "cell_type": "code",
   "execution_count": null,
   "metadata": {},
   "outputs": [],
   "source": [
    "saved = np.load('/ccs/home/pstjohn/member_work/valid_pr.258061.npz')\n",
    "\n",
    "precision_bp  = saved['precision_bp']\n",
    "recall_bp     = saved['recall_bp']\n",
    "thresholds_bp = saved['thresholds_bp']\n",
    "precision_mf  = saved['precision_mf']\n",
    "recall_mf     = saved['recall_mf']\n",
    "thresholds_mf = saved['thresholds_mf']\n",
    "precision_cc  = saved['precision_cc']\n",
    "recall_cc     = saved['recall_cc']\n",
    "thresholds_cc = saved['thresholds_cc']"
   ]
  },
  {
   "cell_type": "code",
   "execution_count": null,
   "metadata": {},
   "outputs": [],
   "source": [
    "fig = plt.figure(figsize=(5,5))\n",
    "ax = fig.add_subplot(111, aspect='equal')\n",
    "\n",
    "\n",
    "def get_fmax(precision, recall):\n",
    "    fscores = (2 * precision * recall / (precision + recall))\n",
    "    fmax = fscores.max()\n",
    "    argmax = fscores.argmax()\n",
    "    return fmax, argmax\n",
    "\n",
    "fmax, argmax = get_fmax(precision_mf, recall_mf)\n",
    "ax.plot(recall_mf, precision_mf, label=f'Molecular Function (F={fmax:.2f})', color=sns.color_palette()[0])\n",
    "ax.plot(recall_mf[argmax], precision_mf[argmax], 'o', color=sns.color_palette()[0])\n",
    "\n",
    "fmax, argmax = get_fmax(precision_bp, recall_bp)\n",
    "ax.plot(recall_bp, precision_bp, label=f'Biological Process (F={fmax:.2f})', color=sns.color_palette()[1])\n",
    "ax.plot(recall_bp[argmax], precision_bp[argmax], 'o', color=sns.color_palette()[1])\n",
    "\n",
    "fmax, argmax = get_fmax(precision_cc, recall_cc)\n",
    "ax.plot(recall_cc, precision_cc, label=f'Cellular Component (F={fmax:.2f})', color=sns.color_palette()[2])\n",
    "ax.plot(recall_cc[argmax], precision_cc[argmax], 'o', color=sns.color_palette()[2])\n",
    "\n",
    "\n",
    "\n",
    "ax.set_xticks(np.linspace(0, 1, 6, endpoint=True))\n",
    "ax.set_xlabel('Recall')\n",
    "ax.set_ylabel('Precision')\n",
    "plt.legend(loc='lower left', fontsize=12)"
   ]
  },
  {
   "cell_type": "code",
   "execution_count": 6,
   "metadata": {},
   "outputs": [
    {
     "name": "stdout",
     "output_type": "stream",
     "text": [
      "Num GPUs Available:  4\n"
     ]
    }
   ],
   "source": [
    "import networkx as nx\n",
    "import tensorflow as tf\n",
    "\n",
    "gpu_devices = tf.config.experimental.list_physical_devices('GPU')\n",
    "gpu_index = 1\n",
    "\n",
    "print(\"Num GPUs Available: \", len(gpu_devices))\n",
    "tf.config.set_visible_devices(gpu_devices[gpu_index], 'GPU')\n",
    "tf.config.experimental.set_memory_growth(gpu_devices[gpu_index], True)\n",
    "\n",
    "from tensorflow.keras.mixed_precision import experimental as mixed_precision\n",
    "policy = mixed_precision.Policy('mixed_float16')\n",
    "mixed_precision.set_policy(policy)"
   ]
  },
  {
   "cell_type": "code",
   "execution_count": 7,
   "metadata": {},
   "outputs": [],
   "source": [
    "from run_validation import go_model_sigmoid, encode"
   ]
  },
  {
   "cell_type": "code",
   "execution_count": 8,
   "metadata": {},
   "outputs": [],
   "source": [
    "def predict(protein_seq, max_len=2048):\n",
    "    return go_model_sigmoid(tf.expand_dims(encode(protein_seq, max_len), 0))"
   ]
  },
  {
   "cell_type": "code",
   "execution_count": 54,
   "metadata": {},
   "outputs": [],
   "source": [
    "def get_prediction_tree(sequence):\n",
    "\n",
    "    prediction = predict(sequence)\n",
    "\n",
    "    BP = ont.G.subgraph(ont.get_descendants('GO:0008150'))\n",
    "    MF = ont.G.subgraph(ont.get_descendants('GO:0003674'))\n",
    "    CC = ont.G.subgraph(ont.get_descendants('GO:0005575'))\n",
    "\n",
    "    BP_sub = BP.subgraph(ont.array_to_termlist(prediction > 0.5))\n",
    "    MF_sub = MF.subgraph(ont.array_to_termlist(prediction > 0.5))\n",
    "    CC_sub = CC.subgraph(ont.array_to_termlist(prediction > 0.5))\n",
    "\n",
    "    data = {}\n",
    "    data['BP'] = nx.tree_data(BP_sub.edge_subgraph(nx.algorithms.minimum_spanning_arborescence(BP_sub).edges()), 'GO:0008150')\n",
    "    data['MF'] = nx.tree_data(MF_sub.edge_subgraph(nx.algorithms.minimum_spanning_arborescence(MF_sub).edges()), 'GO:0003674')\n",
    "    data['CC'] = nx.tree_data(CC_sub.edge_subgraph(nx.algorithms.minimum_spanning_arborescence(CC_sub).edges()), 'GO:0005575')\n",
    "    \n",
    "    return data"
   ]
  },
  {
   "cell_type": "code",
   "execution_count": 42,
   "metadata": {},
   "outputs": [],
   "source": [
    "from jinja2 import Environment, FileSystemLoader\n",
    "\n",
    "# Initialize the jinja templates\n",
    "env = Environment(loader=FileSystemLoader('.'))"
   ]
  },
  {
   "cell_type": "code",
   "execution_count": 69,
   "metadata": {},
   "outputs": [],
   "source": [
    "split = np.load('uniref50_split.npz', allow_pickle=True)\n",
    "swissprot_valid = swissprot_annotated[swissprot_annotated['UniRef50 ID'].isin(split['valid'])]"
   ]
  },
  {
   "cell_type": "code",
   "execution_count": 78,
   "metadata": {},
   "outputs": [],
   "source": [
    "row = swissprot_valid[swissprot_valid['NCBI Taxonomy'] == '3702'].iloc[2]"
   ]
  },
  {
   "cell_type": "code",
   "execution_count": 79,
   "metadata": {},
   "outputs": [
    {
     "data": {
      "text/plain": [
       "UniRef100 ID                                                UniRef100_F4IAT2\n",
       "UniRef90 ID                                                  UniRef90_F4IAT2\n",
       "UniRef50 ID                                                  UniRef50_F4IAT2\n",
       "accession                                                             F4IAT2\n",
       "EMBL                                                                AK227201\n",
       "RefSeq                                                        NP_001185086.1\n",
       "KEGG                                                           ath:AT1G24706\n",
       "InterPro                                                           IPR032302\n",
       "Pfam                                                                 PF16134\n",
       "NCBI Taxonomy                                                           3702\n",
       "length                                                                  1823\n",
       "sequence                   MSLPLLECKYVTEEFVREGKNGNYGTKLPSSVPMLRFLYELSWILV...\n",
       "subcellularLocalization                                              Nucleus\n",
       "Name: 169, dtype: object"
      ]
     },
     "execution_count": 79,
     "metadata": {},
     "output_type": "execute_result"
    }
   ],
   "source": [
    "row"
   ]
  },
  {
   "cell_type": "code",
   "execution_count": 80,
   "metadata": {},
   "outputs": [],
   "source": [
    "with open(f'output_trees/{row.accession}.html', 'w', encoding=\"utf-8\") as f:\n",
    "    f.write(env.get_template('tree_template.html').render(data=get_prediction_tree(row.sequence)))"
   ]
  },
  {
   "cell_type": "code",
   "execution_count": null,
   "metadata": {},
   "outputs": [],
   "source": []
  }
 ],
 "metadata": {
  "kernelspec": {
   "display_name": "Python 3",
   "language": "python",
   "name": "python3"
  },
  "language_info": {
   "codemirror_mode": {
    "name": "ipython",
    "version": 3
   },
   "file_extension": ".py",
   "mimetype": "text/x-python",
   "name": "python",
   "nbconvert_exporter": "python",
   "pygments_lexer": "ipython3",
   "version": "3.7.8"
  }
 },
 "nbformat": 4,
 "nbformat_minor": 4
}
