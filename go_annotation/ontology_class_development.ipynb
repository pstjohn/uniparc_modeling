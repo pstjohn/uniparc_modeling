{
 "cells": [
  {
   "cell_type": "code",
   "execution_count": 5,
   "metadata": {},
   "outputs": [],
   "source": [
    "import numpy as np\n",
    "import pandas as pd\n",
    "\n",
    "import matplotlib.pyplot as plt\n",
    "import seaborn as sns\n",
    "sns.set(context='talk', style='ticks',\n",
    "        color_codes=True, rc={'legend.frameon': False})\n",
    "\n",
    "%matplotlib inline"
   ]
  },
  {
   "cell_type": "code",
   "execution_count": 6,
   "metadata": {},
   "outputs": [],
   "source": [
    "swissprot = pd.read_parquet('/projects/bpms/pstjohn/swissprot/parsed_swissprot_uniref_clusters.parquet')"
   ]
  },
  {
   "cell_type": "code",
   "execution_count": 7,
   "metadata": {},
   "outputs": [],
   "source": [
    "dev = pd.read_csv('/projects/bpms/pstjohn/split_uniref100/dev_uniref50.csv', header=None)\n",
    "test = pd.read_csv('/projects/bpms/pstjohn/split_uniref100/test_uniref50.csv', header=None)"
   ]
  },
  {
   "cell_type": "code",
   "execution_count": 8,
   "metadata": {},
   "outputs": [
    {
     "data": {
      "text/plain": [
       "train    561327\n",
       "test        127\n",
       "dev         114\n",
       "Name: Set, dtype: int64"
      ]
     },
     "execution_count": 8,
     "metadata": {},
     "output_type": "execute_result"
    }
   ],
   "source": [
    "swissprot['Set'] = 'train'\n",
    "swissprot.loc[swissprot['UniRef50 ID'].isin(dev[0]), 'Set'] = 'dev'\n",
    "swissprot.loc[swissprot['UniRef50 ID'].isin(test[0]), 'Set'] = 'test'\n",
    "swissprot.Set.value_counts()"
   ]
  },
  {
   "cell_type": "code",
   "execution_count": 9,
   "metadata": {},
   "outputs": [],
   "source": [
    "go_terms = pd.read_parquet('/projects/bpms/pstjohn/swissprot/swissprot_quickgo.parquet')"
   ]
  },
  {
   "cell_type": "code",
   "execution_count": null,
   "metadata": {},
   "outputs": [],
   "source": [
    "go_terms['GO EVIDENCE CODE'].value_counts()"
   ]
  },
  {
   "cell_type": "code",
   "execution_count": null,
   "metadata": {},
   "outputs": [],
   "source": [
    "len(go_terms['GENE PRODUCT ID'].unique())"
   ]
  },
  {
   "cell_type": "code",
   "execution_count": null,
   "metadata": {},
   "outputs": [],
   "source": [
    "import networkx as nx\n",
    "import itertools\n",
    "import gzip\n",
    "import re"
   ]
  },
  {
   "cell_type": "code",
   "execution_count": 13,
   "metadata": {},
   "outputs": [],
   "source": [
    "def parse_group(group):\n",
    "    out =  {}\n",
    "    out['type'] = group[0]\n",
    "    out['is_a'] = []\n",
    "    out['relationship'] = []\n",
    "    \n",
    "    for line in group[1:]:\n",
    "        key, val = line.split(': ', 1)\n",
    "        \n",
    "        # Strip out GO names\n",
    "        if '!' in val:\n",
    "            val = re.sub('\\ !\\ .*$', '', val)\n",
    "        \n",
    "        if key == 'relationship':\n",
    "            val = val.split(' ')\n",
    "            \n",
    "        # Convert to lists of GO names\n",
    "        if key not in out:\n",
    "            out[key] = val\n",
    "        else:\n",
    "            try:\n",
    "                out[key] += [val]\n",
    "            except TypeError:\n",
    "                out[key] = [out[key], val]\n",
    "\n",
    "    return out\n",
    "\n",
    "add_rels = False\n",
    "\n",
    "\n",
    "class Ontology(object):\n",
    "    def __init__(self, obo_file, with_relationships=False):\n",
    "        \"\"\" Class to parse an .obo.gz file containing a gene ontology description,\n",
    "        and build a networkx graph. Allows for propogating scores and annotations\n",
    "        to descendent nodes\"\"\"\n",
    "        \n",
    "        self.G = self.create_graph(obo_file, with_relationships)\n",
    "\n",
    "    \n",
    "    def create_graph(self, obo_file, with_relationships):\n",
    "\n",
    "        G = nx.DiGraph()\n",
    "        \n",
    "        with gzip.open(obo_file, mode='rt') as f:\n",
    "\n",
    "\n",
    "            groups = ([l.strip() for l in g] for k, g in\n",
    "                      itertools.groupby(f, lambda line: line == '\\n'))\n",
    "\n",
    "            for group in groups:\n",
    "                data = parse_group(group)\n",
    "\n",
    "                if ('is_obsolete' in data) or (data['type'] != '[Term]'):\n",
    "                    continue\n",
    "\n",
    "                G.add_node(data['id'], name=data.get('name'), namespace=data.get('namespace'))\n",
    "\n",
    "                for target in data['is_a']:\n",
    "                    G.add_edge(target, data['id'], type='is_a')\n",
    "\n",
    "                if with_relationships:\n",
    "                    for type_, target in data['relationship']:\n",
    "                        G.add_edge(target, data['id'], type=type_)\n",
    "        \n",
    "        for i, (node, data) in enumerate(G.nodes.items()):\n",
    "            data['index'] = i\n",
    "        \n",
    "        return G\n",
    "\n",
    "    \n",
    "    def get_ancestor_list(self, terms):\n",
    "        return set.union(*(nx.ancestors(self.G, term) for term in ontology_list))        \n",
    "    \n",
    "    def ancestor_list_to_array(self, terms):\n",
    "        \"\"\" Propogate labels to ancestor nodes \"\"\"\n",
    "        ancestors = self.get_ancestor_list(ontology_list)\n",
    "        arr = np.zeros(self.G.number_of_nodes())\n",
    "        for term in itertools.chain(ancestors, ontology_list):\n",
    "            arr[self.G.nodes[term]['index']] = 1\n",
    "\n",
    "        return arr\n",
    "    \n",
    "\n",
    "    def get_term_child_indexes(self, term):\n",
    "        return sorted([self.G.nodes[term]['index'] for term in\n",
    "                       itertools.chain([term], nx.descendants(self.G, term))])\n",
    "\n",
    "    \n",
    "    def get_descendent_array(self):\n",
    "        return [self.get_term_child_indexes(node) for node in self.G.nodes]\n",
    "\n",
    "    \n",
    "    def get_head_node_indices(self):\n",
    "        return [self.G.nodes[node]['index'] for node, degree in self.G.in_degree if degree == 0]"
   ]
  },
  {
   "cell_type": "code",
   "execution_count": null,
   "metadata": {},
   "outputs": [],
   "source": [
    "ont = Ontology('go-basic.obo.gz', with_relationships=False)\n",
    "G = ont.G"
   ]
  },
  {
   "cell_type": "code",
   "execution_count": null,
   "metadata": {},
   "outputs": [],
   "source": [
    "ont.get_head_node_indices()"
   ]
  },
  {
   "cell_type": "code",
   "execution_count": null,
   "metadata": {},
   "outputs": [],
   "source": [
    "G.nodes['GO:0008150']['index']"
   ]
  },
  {
   "cell_type": "code",
   "execution_count": null,
   "metadata": {},
   "outputs": [],
   "source": [
    "ont.ontology_list_to_array(go_terms[go_terms['GENE PRODUCT ID'] == 'A4K2U9']['GO TERM']).sum()"
   ]
  },
  {
   "cell_type": "code",
   "execution_count": null,
   "metadata": {},
   "outputs": [],
   "source": [
    "go_terms.head()"
   ]
  },
  {
   "cell_type": "code",
   "execution_count": null,
   "metadata": {},
   "outputs": [],
   "source": [
    "used_terms.intersection(set([node for node, item in G.nodes.data('is_obsolete') if item]))"
   ]
  },
  {
   "cell_type": "code",
   "execution_count": null,
   "metadata": {},
   "outputs": [],
   "source": [
    "used_terms.difference(set([node for node, item in G.nodes.data('is_obsolete') if not item]))"
   ]
  },
  {
   "cell_type": "code",
   "execution_count": null,
   "metadata": {},
   "outputs": [],
   "source": [
    "G.nodes['GO:2001317']"
   ]
  },
  {
   "cell_type": "code",
   "execution_count": 1,
   "metadata": {},
   "outputs": [],
   "source": [
    "import sys\n",
    "sys.path.append('..')"
   ]
  },
  {
   "cell_type": "code",
   "execution_count": 251,
   "metadata": {},
   "outputs": [
    {
     "name": "stdout",
     "output_type": "stream",
     "text": [
      "The autoreload extension is already loaded. To reload it, use:\n",
      "  %reload_ext autoreload\n"
     ]
    }
   ],
   "source": [
    "%load_ext autoreload\n",
    "%autoreload 2"
   ]
  },
  {
   "cell_type": "code",
   "execution_count": 252,
   "metadata": {},
   "outputs": [],
   "source": [
    "from bert.go import Ontology\n",
    "\n",
    "ont = Ontology()"
   ]
  },
  {
   "cell_type": "code",
   "execution_count": 254,
   "metadata": {},
   "outputs": [
    {
     "data": {
      "text/plain": [
       "3180"
      ]
     },
     "execution_count": 254,
     "metadata": {},
     "output_type": "execute_result"
    }
   ],
   "source": [
    "ont.total_nodes"
   ]
  },
  {
   "cell_type": "code",
   "execution_count": 241,
   "metadata": {},
   "outputs": [
    {
     "data": {
      "text/plain": [
       "32372"
      ]
     },
     "execution_count": 241,
     "metadata": {},
     "output_type": "execute_result"
    }
   ],
   "source": [
    "len(ont.to_include)"
   ]
  },
  {
   "cell_type": "markdown",
   "metadata": {},
   "source": [
    "Also need to \n",
    "* 'canconicalize' GO lists: just get unique leaf terms that fully specify the tree\n",
    "* Get full ancenstry of each GO list\n",
    "\n",
    "Then, find leaf terms that show up with some minimum frequency; drop annotations with others; find all ancestry nodes in common to new set of leafs and shrink graph"
   ]
  },
  {
   "cell_type": "code",
   "execution_count": 219,
   "metadata": {},
   "outputs": [
    {
     "data": {
      "text/plain": [
       "{'GO:0035792'}"
      ]
     },
     "execution_count": 219,
     "metadata": {},
     "output_type": "execute_result"
    }
   ],
   "source": [
    "ont.get_descendants('GO:0035792')"
   ]
  },
  {
   "cell_type": "code",
   "execution_count": 220,
   "metadata": {},
   "outputs": [
    {
     "data": {
      "text/plain": [
       "{'GO:0003674',\n",
       " 'GO:0005575',\n",
       " 'GO:0005576',\n",
       " 'GO:0008150',\n",
       " 'GO:0009405',\n",
       " 'GO:0018995',\n",
       " 'GO:0033643',\n",
       " 'GO:0035792',\n",
       " 'GO:0035821',\n",
       " 'GO:0044419',\n",
       " 'GO:0090729',\n",
       " 'GO:0110165'}"
      ]
     },
     "execution_count": 220,
     "metadata": {},
     "output_type": "execute_result"
    }
   ],
   "source": [
    "ont.get_ancestors(go_terms[go_terms['GENE PRODUCT ID'] == 'A2CKF6']['GO TERM'].values)"
   ]
  },
  {
   "cell_type": "code",
   "execution_count": 227,
   "metadata": {},
   "outputs": [
    {
     "data": {
      "text/plain": [
       "(32371,)"
      ]
     },
     "execution_count": 227,
     "metadata": {},
     "output_type": "execute_result"
    }
   ],
   "source": [
    "ont.termlist_to_array(ont.get_ancestors(go_terms[go_terms['GENE PRODUCT ID'] == 'A2CKF6']['GO TERM'].values)).shape"
   ]
  },
  {
   "cell_type": "code",
   "execution_count": 222,
   "metadata": {},
   "outputs": [
    {
     "data": {
      "text/plain": [
       "32371"
      ]
     },
     "execution_count": 222,
     "metadata": {},
     "output_type": "execute_result"
    }
   ],
   "source": [
    "len(ont.get_descendent_array())"
   ]
  },
  {
   "cell_type": "code",
   "execution_count": 223,
   "metadata": {},
   "outputs": [
    {
     "data": {
      "text/plain": [
       "32371"
      ]
     },
     "execution_count": 223,
     "metadata": {},
     "output_type": "execute_result"
    }
   ],
   "source": [
    "ont.total_nodes"
   ]
  },
  {
   "cell_type": "code",
   "execution_count": 141,
   "metadata": {},
   "outputs": [],
   "source": [
    "leafs = go_terms.groupby('GENE PRODUCT ID').apply(\n",
    "    lambda df: pd.Series(list(ont.get_canoconical_terms(df['GO TERM'].values))))"
   ]
  },
  {
   "cell_type": "code",
   "execution_count": 145,
   "metadata": {},
   "outputs": [],
   "source": [
    "leaf_counts = leafs.value_counts()"
   ]
  },
  {
   "cell_type": "code",
   "execution_count": 146,
   "metadata": {},
   "outputs": [
    {
     "data": {
      "image/png": "[encoded data removed]",
      "text/plain": [
       "<Figure size 432x288 with 1 Axes>"
      ]
     },
     "metadata": {
      "needs_background": "light"
     },
     "output_type": "display_data"
    }
   ],
   "source": [
    "_ = plt.hist(np.log10(leaf_counts), bins=30)"
   ]
  },
  {
   "cell_type": "code",
   "execution_count": 147,
   "metadata": {},
   "outputs": [],
   "source": [
    "leaf_counts.to_csv('leaf_counts.csv.gz', compression='gzip')"
   ]
  },
  {
   "cell_type": "code",
   "execution_count": 148,
   "metadata": {},
   "outputs": [
    {
     "data": {
      "text/plain": [
       "GO:0005737    172638\n",
       "GO:0005524     88176\n",
       "GO:0006412     74247\n",
       "GO:0005886     69848\n",
       "GO:0016021     66481\n",
       "               ...  \n",
       "GO:0032728       100\n",
       "GO:0006301       100\n",
       "GO:0005319       100\n",
       "GO:0030174       100\n",
       "GO:0046496       100\n",
       "Length: 3452, dtype: int64"
      ]
     },
     "execution_count": 148,
     "metadata": {},
     "output_type": "execute_result"
    }
   ],
   "source": [
    "leaf_counts[leaf_counts >= 100]"
   ]
  },
  {
   "cell_type": "code",
   "execution_count": 149,
   "metadata": {},
   "outputs": [],
   "source": [
    "all_terms = go_terms.groupby('GENE PRODUCT ID').apply(\n",
    "    lambda df: pd.Series(list(ont.get_ancestor_list(df['GO TERM'].values))))"
   ]
  },
  {
   "cell_type": "code",
   "execution_count": 151,
   "metadata": {},
   "outputs": [],
   "source": [
    "term_counts = all_terms.value_counts()"
   ]
  },
  {
   "cell_type": "code",
   "execution_count": 153,
   "metadata": {},
   "outputs": [
    {
     "data": {
      "image/png": "[encoded data removed]",
      "text/plain": [
       "<Figure size 432x288 with 1 Axes>"
      ]
     },
     "metadata": {
      "needs_background": "light"
     },
     "output_type": "display_data"
    }
   ],
   "source": [
    "_ = plt.hist(np.log10(term_counts), bins=30)"
   ]
  },
  {
   "cell_type": "code",
   "execution_count": 160,
   "metadata": {},
   "outputs": [],
   "source": [
    "to_include = set(term_counts[term_counts >= 500].index)"
   ]
  },
  {
   "cell_type": "code",
   "execution_count": 163,
   "metadata": {},
   "outputs": [
    {
     "data": {
      "text/plain": [
       "3181"
      ]
     },
     "execution_count": 163,
     "metadata": {},
     "output_type": "execute_result"
    }
   ],
   "source": [
    "len([node for node in filter(lambda x: x in to_include, ont.G.nodes)])"
   ]
  },
  {
   "cell_type": "code",
   "execution_count": 158,
   "metadata": {},
   "outputs": [],
   "source": [
    "term_counts.to_csv('term_counts.csv.gz', compression='gzip')"
   ]
  },
  {
   "cell_type": "code",
   "execution_count": 228,
   "metadata": {},
   "outputs": [
    {
     "data": {
      "text/plain": [
       "GO:0008150    505987\n",
       "GO:0003674    491998\n",
       "GO:0009987    434744\n",
       "GO:0005575    419103\n",
       "GO:0110165    405783\n",
       "               ...  \n",
       "GO:2001002         1\n",
       "GO:0046904         1\n",
       "GO:0015471         1\n",
       "GO:0033777         1\n",
       "GO:1900742         1\n",
       "Length: 32372, dtype: int64"
      ]
     },
     "execution_count": 228,
     "metadata": {},
     "output_type": "execute_result"
    }
   ],
   "source": [
    "term_counts"
   ]
  },
  {
   "cell_type": "code",
   "execution_count": 233,
   "metadata": {},
   "outputs": [],
   "source": [
    "self = ont\n",
    "threshold = 500"
   ]
  },
  {
   "cell_type": "code",
   "execution_count": 234,
   "metadata": {},
   "outputs": [],
   "source": [
    "to_include = set(term_counts[term_counts >= threshold].index)\n",
    "\n",
    "for i, (node, data) in enumerate(filter(lambda x: x[0] in to_include,\n",
    "                                        self.G.nodes.items())):\n",
    "    data['index'] = i\n",
    "\n",
    "self.total_nodes = i"
   ]
  },
  {
   "cell_type": "code",
   "execution_count": 46,
   "metadata": {},
   "outputs": [
    {
     "data": {
      "text/plain": [
       "{'GO:0003674', 'GO:0033643', 'GO:0044419'}"
      ]
     },
     "execution_count": 46,
     "metadata": {},
     "output_type": "execute_result"
    }
   ],
   "source": [
    "ont.get_canoconical_terms(go_terms[go_terms['GENE PRODUCT ID'] == 'A2CKF6']['GO TERM'].values)"
   ]
  },
  {
   "cell_type": "code",
   "execution_count": 35,
   "metadata": {},
   "outputs": [],
   "source": [
    "subgraph = ont.G.subgraph(ont.get_ancestor_list(go_terms[go_terms['GENE PRODUCT ID'] == 'A2CKF6']['GO TERM'].values))\n",
    "{node for node, degree in subgraph.out_degree if degree == 0}"
   ]
  },
  {
   "cell_type": "code",
   "execution_count": 40,
   "metadata": {},
   "outputs": [
    {
     "data": {
      "text/plain": [
       "{'GO:0003674', 'GO:0033643', 'GO:0044419'}"
      ]
     },
     "execution_count": 40,
     "metadata": {},
     "output_type": "execute_result"
    }
   ],
   "source": []
  },
  {
   "cell_type": "code",
   "execution_count": 32,
   "metadata": {},
   "outputs": [
    {
     "data": {
      "text/plain": [
       "<bound method Graph.subgraph of <networkx.classes.digraph.DiGraph object at 0x7f0a4ad85d10>>"
      ]
     },
     "execution_count": 32,
     "metadata": {},
     "output_type": "execute_result"
    }
   ],
   "source": []
  },
  {
   "cell_type": "code",
   "execution_count": null,
   "metadata": {},
   "outputs": [],
   "source": []
  }
 ],
 "metadata": {
  "kernelspec": {
   "display_name": "Python 3",
   "language": "python",
   "name": "python3"
  },
  "language_info": {
   "codemirror_mode": {
    "name": "ipython",
    "version": 3
   },
   "file_extension": ".py",
   "mimetype": "text/x-python",
   "name": "python",
   "nbconvert_exporter": "python",
   "pygments_lexer": "ipython3",
   "version": "3.6.10"
  }
 },
 "nbformat": 4,
 "nbformat_minor": 4
}
