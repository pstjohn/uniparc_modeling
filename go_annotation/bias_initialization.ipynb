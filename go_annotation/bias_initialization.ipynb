{
 "cells": [
  {
   "cell_type": "code",
   "execution_count": 1,
   "metadata": {},
   "outputs": [],
   "source": [
    "import numpy as np\n",
    "import pandas as pd\n",
    "\n",
    "import matplotlib.pyplot as plt\n",
    "import seaborn as sns\n",
    "sns.set(context='talk', style='ticks',\n",
    "        color_codes=True, rc={'legend.frameon': False})\n",
    "\n",
    "%matplotlib inline"
   ]
  },
  {
   "cell_type": "code",
   "execution_count": 2,
   "metadata": {},
   "outputs": [],
   "source": [
    "import os\n",
    "os.environ[\"CUDA_VISIBLE_DEVICES\"] = \"-1\"\n",
    "\n",
    "import tensorflow as tf"
   ]
  },
  {
   "cell_type": "code",
   "execution_count": 8,
   "metadata": {},
   "outputs": [
    {
     "name": "stdout",
     "output_type": "stream",
     "text": [
      "32012\n"
     ]
    }
   ],
   "source": [
    "import sys\n",
    "sys.path.append('..')\n",
    "from bert.dataset import encode\n",
    "from bert.go import Ontology\n",
    "from tqdm import tqdm\n",
    "\n",
    "ont = Ontology()\n",
    "print(ont.total_nodes)\n",
    "\n",
    "## Create the dataset iterators\n",
    "def parse_example(example):\n",
    "    parsed = tf.io.parse_single_example(example, features={\n",
    "        'sequence': tf.io.FixedLenFeature([], tf.string, default_value=''),\n",
    "        'annotation': tf.io.FixedLenFeature([], tf.string, default_value=''),\n",
    "    })\n",
    "   \n",
    "    sequence = encode(parsed['sequence'], 1024)\n",
    "    annotation = tf.io.parse_tensor(parsed['annotation'], out_type=tf.int64)\n",
    "    \n",
    "    return sequence, annotation\n",
    "\n",
    "swissprot_dir = '/gpfs/alpine/bie108/proj-shared/swissprot/'\n",
    "train_dataset = tf.data.TFRecordDataset(\n",
    "    os.path.join(swissprot_dir, 'tfrecords_1', 'go_train.tfrecord.gz'),\n",
    "    compression_type='GZIP', num_parallel_reads=tf.data.experimental.AUTOTUNE)\\\n",
    "    .map(parse_example, num_parallel_calls=tf.data.experimental.AUTOTUNE)\\\n",
    "    .repeat().shuffle(buffer_size=5000)\\\n",
    "    .padded_batch(batch_size=16,\n",
    "                  padded_shapes=(([1024], [ont.total_nodes])))\\\n",
    "    .prefetch(tf.data.experimental.AUTOTUNE)"
   ]
  },
  {
   "cell_type": "code",
   "execution_count": 9,
   "metadata": {},
   "outputs": [
    {
     "name": "stderr",
     "output_type": "stream",
     "text": [
      "1000it [00:32, 30.95it/s]\n"
     ]
    }
   ],
   "source": [
    "class_sample = np.concatenate([b.numpy() for a,b in tqdm(train_dataset.take(1000))])\n",
    "total = np.prod(class_sample.shape)\n",
    "pos = class_sample.sum()\n",
    "neg = total - pos\n",
    "weight_for_0 = (1 / neg)*(total)/2.0 \n",
    "weight_for_1 = (1 / pos)*(total)/2.0\n",
    "\n",
    "initial_bias = np.log(class_sample.sum(0) / class_sample.shape[0] + np.finfo(float).eps)\n",
    "np.save(os.path.join(swissprot_dir, 'tfrecords_1', 'bias.npy'), initial_bias)"
   ]
  }
 ],
 "metadata": {
  "kernelspec": {
   "display_name": "Python 3",
   "language": "python",
   "name": "python3"
  },
  "language_info": {
   "codemirror_mode": {
    "name": "ipython",
    "version": 3
   },
   "file_extension": ".py",
   "mimetype": "text/x-python",
   "name": "python",
   "nbconvert_exporter": "python",
   "pygments_lexer": "ipython3",
   "version": "3.6.10"
  }
 },
 "nbformat": 4,
 "nbformat_minor": 4
}
