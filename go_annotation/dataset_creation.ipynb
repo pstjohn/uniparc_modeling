{
 "cells": [
  {
   "cell_type": "code",
   "execution_count": 1,
   "metadata": {},
   "outputs": [],
   "source": [
    "import numpy as np\n",
    "import pandas as pd\n",
    "\n",
    "import matplotlib.pyplot as plt\n",
    "import seaborn as sns\n",
    "sns.set(context='talk', style='ticks',\n",
    "        color_codes=True, rc={'legend.frameon': False})\n",
    "\n",
    "%matplotlib inline"
   ]
  },
  {
   "cell_type": "code",
   "execution_count": 2,
   "metadata": {},
   "outputs": [],
   "source": [
    "import sys\n",
    "sys.path.append('..')"
   ]
  },
  {
   "cell_type": "code",
   "execution_count": 3,
   "metadata": {},
   "outputs": [],
   "source": [
    "swissprot = pd.read_parquet('/projects/bpms/pstjohn/swissprot/parsed_swissprot_uniref_clusters.parquet')\n",
    "go_terms = pd.read_parquet('/projects/bpms/pstjohn/swissprot/swissprot_quickgo.parquet')"
   ]
  },
  {
   "cell_type": "code",
   "execution_count": 4,
   "metadata": {},
   "outputs": [],
   "source": [
    "import numpy as np\n",
    "import tensorflow as tf\n",
    "\n",
    "gpu_devices = tf.config.experimental.list_physical_devices('GPU')\n",
    "\n",
    "tf.config.experimental.set_visible_devices(gpu_devices[0], 'GPU')\n",
    "tf.config.experimental.set_memory_growth(gpu_devices[0], True)\n",
    "\n",
    "from tensorflow.keras.mixed_precision import experimental as mixed_precision\n",
    "policy = mixed_precision.Policy('mixed_float16')\n",
    "mixed_precision.set_policy(policy)"
   ]
  },
  {
   "cell_type": "code",
   "execution_count": 5,
   "metadata": {},
   "outputs": [],
   "source": [
    "swissprot_annotated = swissprot[swissprot.accession.isin(go_terms['GENE PRODUCT ID'].unique())]"
   ]
  },
  {
   "cell_type": "code",
   "execution_count": 6,
   "metadata": {},
   "outputs": [
    {
     "name": "stdout",
     "output_type": "stream",
     "text": [
      "174018\n"
     ]
    }
   ],
   "source": [
    "uniref50_clusters = swissprot_annotated['UniRef50 ID'].unique()\n",
    "print(len(uniref50_clusters))\n",
    "np.random.shuffle(uniref50_clusters)\n",
    "test, valid, train = np.split(uniref50_clusters, [4000, 8000])"
   ]
  },
  {
   "cell_type": "code",
   "execution_count": 7,
   "metadata": {},
   "outputs": [],
   "source": [
    "swissprot_train = swissprot_annotated[swissprot_annotated['UniRef50 ID'].isin(train)].sample(frac=1.)\n",
    "swissprot_valid = swissprot_annotated[swissprot_annotated['UniRef50 ID'].isin(valid)].sample(frac=1.)"
   ]
  },
  {
   "cell_type": "code",
   "execution_count": 8,
   "metadata": {},
   "outputs": [
    {
     "data": {
      "text/html": [
       "<div>\n",
       "<style scoped>\n",
       "    .dataframe tbody tr th:only-of-type {\n",
       "        vertical-align: middle;\n",
       "    }\n",
       "\n",
       "    .dataframe tbody tr th {\n",
       "        vertical-align: top;\n",
       "    }\n",
       "\n",
       "    .dataframe thead th {\n",
       "        text-align: right;\n",
       "    }\n",
       "</style>\n",
       "<table border=\"1\" class=\"dataframe\">\n",
       "  <thead>\n",
       "    <tr style=\"text-align: right;\">\n",
       "      <th></th>\n",
       "      <th>GENE PRODUCT DB</th>\n",
       "      <th>GENE PRODUCT ID</th>\n",
       "      <th>SYMBOL</th>\n",
       "      <th>QUALIFIER</th>\n",
       "      <th>GO TERM</th>\n",
       "      <th>GO ASPECT</th>\n",
       "      <th>ECO ID</th>\n",
       "      <th>GO EVIDENCE CODE</th>\n",
       "      <th>REFERENCE</th>\n",
       "      <th>WITH/FROM</th>\n",
       "      <th>TAXON ID</th>\n",
       "      <th>ASSIGNED BY</th>\n",
       "      <th>ANNOTATION EXTENSION</th>\n",
       "      <th>DATE</th>\n",
       "    </tr>\n",
       "  </thead>\n",
       "  <tbody>\n",
       "    <tr>\n",
       "      <th>0</th>\n",
       "      <td>UniProtKB</td>\n",
       "      <td>A2CKF6</td>\n",
       "      <td>A2CKF6</td>\n",
       "      <td>part_of</td>\n",
       "      <td>GO:0005576</td>\n",
       "      <td>C</td>\n",
       "      <td>ECO:0000256</td>\n",
       "      <td>IEA</td>\n",
       "      <td>GO_REF:0000002</td>\n",
       "      <td>InterPro:IPR003571|InterPro:IPR018354</td>\n",
       "      <td>8613</td>\n",
       "      <td>InterPro</td>\n",
       "      <td>None</td>\n",
       "      <td>20200613</td>\n",
       "    </tr>\n",
       "    <tr>\n",
       "      <th>1</th>\n",
       "      <td>UniProtKB</td>\n",
       "      <td>A2CKF6</td>\n",
       "      <td>A2CKF6</td>\n",
       "      <td>involved_in</td>\n",
       "      <td>GO:0009405</td>\n",
       "      <td>P</td>\n",
       "      <td>ECO:0000256</td>\n",
       "      <td>IEA</td>\n",
       "      <td>GO_REF:0000002</td>\n",
       "      <td>InterPro:IPR003571</td>\n",
       "      <td>8613</td>\n",
       "      <td>InterPro</td>\n",
       "      <td>None</td>\n",
       "      <td>20200613</td>\n",
       "    </tr>\n",
       "    <tr>\n",
       "      <th>2</th>\n",
       "      <td>UniProtKB</td>\n",
       "      <td>A2CKF6</td>\n",
       "      <td>A2CKF6</td>\n",
       "      <td>part_of</td>\n",
       "      <td>GO:0005576</td>\n",
       "      <td>C</td>\n",
       "      <td>ECO:0000322</td>\n",
       "      <td>IEA</td>\n",
       "      <td>GO_REF:0000043</td>\n",
       "      <td>UniProtKB-KW:KW-0964</td>\n",
       "      <td>8613</td>\n",
       "      <td>UniProt</td>\n",
       "      <td>None</td>\n",
       "      <td>20200613</td>\n",
       "    </tr>\n",
       "    <tr>\n",
       "      <th>3</th>\n",
       "      <td>UniProtKB</td>\n",
       "      <td>A2CKF6</td>\n",
       "      <td>A2CKF6</td>\n",
       "      <td>enables</td>\n",
       "      <td>GO:0090729</td>\n",
       "      <td>F</td>\n",
       "      <td>ECO:0000322</td>\n",
       "      <td>IEA</td>\n",
       "      <td>GO_REF:0000043</td>\n",
       "      <td>UniProtKB-KW:KW-0800</td>\n",
       "      <td>8613</td>\n",
       "      <td>UniProt</td>\n",
       "      <td>None</td>\n",
       "      <td>20200613</td>\n",
       "    </tr>\n",
       "    <tr>\n",
       "      <th>4</th>\n",
       "      <td>UniProtKB</td>\n",
       "      <td>A2CKF6</td>\n",
       "      <td>A2CKF6</td>\n",
       "      <td>part_of</td>\n",
       "      <td>GO:0035792</td>\n",
       "      <td>C</td>\n",
       "      <td>ECO:0000322</td>\n",
       "      <td>IEA</td>\n",
       "      <td>GO_REF:0000043</td>\n",
       "      <td>UniProtKB-KW:KW-0629</td>\n",
       "      <td>8613</td>\n",
       "      <td>UniProt</td>\n",
       "      <td>None</td>\n",
       "      <td>20200613</td>\n",
       "    </tr>\n",
       "  </tbody>\n",
       "</table>\n",
       "</div>"
      ],
      "text/plain": [
       "  GENE PRODUCT DB GENE PRODUCT ID  SYMBOL    QUALIFIER     GO TERM GO ASPECT  \\\n",
       "0       UniProtKB          A2CKF6  A2CKF6      part_of  GO:0005576         C   \n",
       "1       UniProtKB          A2CKF6  A2CKF6  involved_in  GO:0009405         P   \n",
       "2       UniProtKB          A2CKF6  A2CKF6      part_of  GO:0005576         C   \n",
       "3       UniProtKB          A2CKF6  A2CKF6      enables  GO:0090729         F   \n",
       "4       UniProtKB          A2CKF6  A2CKF6      part_of  GO:0035792         C   \n",
       "\n",
       "        ECO ID GO EVIDENCE CODE       REFERENCE  \\\n",
       "0  ECO:0000256              IEA  GO_REF:0000002   \n",
       "1  ECO:0000256              IEA  GO_REF:0000002   \n",
       "2  ECO:0000322              IEA  GO_REF:0000043   \n",
       "3  ECO:0000322              IEA  GO_REF:0000043   \n",
       "4  ECO:0000322              IEA  GO_REF:0000043   \n",
       "\n",
       "                               WITH/FROM  TAXON ID ASSIGNED BY  \\\n",
       "0  InterPro:IPR003571|InterPro:IPR018354      8613    InterPro   \n",
       "1                     InterPro:IPR003571      8613    InterPro   \n",
       "2                   UniProtKB-KW:KW-0964      8613     UniProt   \n",
       "3                   UniProtKB-KW:KW-0800      8613     UniProt   \n",
       "4                   UniProtKB-KW:KW-0629      8613     UniProt   \n",
       "\n",
       "  ANNOTATION EXTENSION      DATE  \n",
       "0                 None  20200613  \n",
       "1                 None  20200613  \n",
       "2                 None  20200613  \n",
       "3                 None  20200613  \n",
       "4                 None  20200613  "
      ]
     },
     "execution_count": 8,
     "metadata": {},
     "output_type": "execute_result"
    }
   ],
   "source": [
    "go_terms.head()"
   ]
  },
  {
   "cell_type": "code",
   "execution_count": 9,
   "metadata": {},
   "outputs": [
    {
     "data": {
      "text/plain": [
       "<matplotlib.axes._subplots.AxesSubplot at 0x7f420b391850>"
      ]
     },
     "execution_count": 9,
     "metadata": {},
     "output_type": "execute_result"
    },
    {
     "data": {
      "image/png": "[encoded data removed]",
      "text/plain": [
       "<Figure size 432x288 with 1 Axes>"
      ]
     },
     "metadata": {
      "needs_background": "light"
     },
     "output_type": "display_data"
    }
   ],
   "source": [
    "swissprot_annotated.length.plot.hist(range=(0, 2048), bins=30)"
   ]
  },
  {
   "cell_type": "code",
   "execution_count": 10,
   "metadata": {},
   "outputs": [
    {
     "data": {
      "text/plain": [
       "3181"
      ]
     },
     "execution_count": 10,
     "metadata": {},
     "output_type": "execute_result"
    }
   ],
   "source": [
    "from bert.go import Ontology\n",
    "ont = Ontology(threshold=500)\n",
    "ont.total_nodes"
   ]
  },
  {
   "cell_type": "code",
   "execution_count": 11,
   "metadata": {},
   "outputs": [],
   "source": [
    "grouped_go_terms = go_terms.groupby('GENE PRODUCT ID')['GO TERM'].apply(lambda x: x.values)"
   ]
  },
  {
   "cell_type": "code",
   "execution_count": 12,
   "metadata": {},
   "outputs": [
    {
     "name": "stderr",
     "output_type": "stream",
     "text": [
      "/projects/rlmolecule/pstjohn/envs/tf2/lib/python3.7/site-packages/ipykernel_launcher.py:1: TqdmExperimentalWarning: Using `tqdm.autonotebook.tqdm` in notebook mode. Use `tqdm.tqdm` instead to force console mode (e.g. in jupyter console)\n",
      "  \"\"\"Entry point for launching an IPython kernel.\n"
     ]
    }
   ],
   "source": [
    "from tqdm.autonotebook import tqdm"
   ]
  },
  {
   "cell_type": "code",
   "execution_count": 13,
   "metadata": {},
   "outputs": [],
   "source": [
    "from bert.dataset import encode"
   ]
  },
  {
   "cell_type": "code",
   "execution_count": 22,
   "metadata": {},
   "outputs": [
    {
     "data": {
      "application/vnd.jupyter.widget-view+json": {
       "model_id": "fc177b2003f5452bbb212eb36e69b103",
       "version_major": 2,
       "version_minor": 0
      },
      "text/plain": [
       "HBox(children=(FloatProgress(value=0.0, max=515312.0), HTML(value='')))"
      ]
     },
     "metadata": {},
     "output_type": "display_data"
    },
    {
     "name": "stdout",
     "output_type": "stream",
     "text": [
      "\n"
     ]
    },
    {
     "data": {
      "application/vnd.jupyter.widget-view+json": {
       "model_id": "7b198473f7b74a5d97b215a419483e0b",
       "version_major": 2,
       "version_minor": 0
      },
      "text/plain": [
       "HBox(children=(FloatProgress(value=0.0, max=11735.0), HTML(value='')))"
      ]
     },
     "metadata": {},
     "output_type": "display_data"
    },
    {
     "name": "stdout",
     "output_type": "stream",
     "text": [
      "\n"
     ]
    }
   ],
   "source": [
    "# The following functions can be used to convert a value to a type compatible\n",
    "# with tf.Example.\n",
    "max_seq_len=1520\n",
    "fix_seq_len=True\n",
    "\n",
    "def _bytes_feature(value):\n",
    "    \"\"\"Returns a bytes_list from a string / byte.\"\"\"\n",
    "    if isinstance(value, type(tf.constant(0))):\n",
    "        value = value.numpy() # BytesList won't unpack a string from an EagerTensor.\n",
    "    return tf.train.Feature(bytes_list=tf.train.BytesList(value=[value]))\n",
    "\n",
    "def _serialize_array(value):\n",
    "    return _bytes_feature(tf.io.serialize_tensor(value))\n",
    "\n",
    "def inputs_generator(swissprot_df):\n",
    "    for _, row in tqdm(swissprot_df.iterrows(), total=len(swissprot_df)):\n",
    "        sequence = encode(row.sequence, max_seq_len)\n",
    "        ancestor_array = ont.termlist_to_array(ont.get_ancestors(\n",
    "            grouped_go_terms[row.accession]), dtype=float)\n",
    "        \n",
    "        features = {\n",
    "            'sequence': _serialize_array(sequence),\n",
    "            'annotation': _serialize_array(ancestor_array)\n",
    "        }\n",
    "        \n",
    "        example_proto = tf.train.Example(features=tf.train.Features(feature=features))\n",
    "        yield example_proto.SerializeToString()\n",
    "\n",
    "\n",
    "# Preprocess and write the train dataset to disk\n",
    "serialized_train_dataset = tf.data.Dataset.from_generator(\n",
    "    lambda: inputs_generator(swissprot_train),\n",
    "    output_types=tf.string, output_shapes=())\n",
    "\n",
    "filename = '/projects/bpms/pstjohn/swissprot/go_train.tfrecord.gz'\n",
    "writer = tf.data.experimental.TFRecordWriter(filename, compression_type='GZIP')\n",
    "writer.write(serialized_train_dataset)\n",
    "\n",
    "\n",
    "# Preprocess and write the valid dataset to disk\n",
    "serialized_valid_dataset = tf.data.Dataset.from_generator(\n",
    "    lambda: inputs_generator(swissprot_valid),\n",
    "    output_types=tf.string, output_shapes=())\n",
    "\n",
    "filename = '/projects/bpms/pstjohn/swissprot/go_valid.tfrecord.gz'\n",
    "writer = tf.data.experimental.TFRecordWriter(filename, compression_type='GZIP')\n",
    "writer.write(serialized_valid_dataset)"
   ]
  },
  {
   "cell_type": "code",
   "execution_count": 26,
   "metadata": {},
   "outputs": [],
   "source": [
    "pd.Series(ont.term_index).to_csv('term_index.csv')"
   ]
  }
 ],
 "metadata": {
  "kernelspec": {
   "display_name": "Python 3",
   "language": "python",
   "name": "python3"
  },
  "language_info": {
   "codemirror_mode": {
    "name": "ipython",
    "version": 3
   },
   "file_extension": ".py",
   "mimetype": "text/x-python",
   "name": "python",
   "nbconvert_exporter": "python",
   "pygments_lexer": "ipython3",
   "version": "3.7.6"
  }
 },
 "nbformat": 4,
 "nbformat_minor": 4
}
