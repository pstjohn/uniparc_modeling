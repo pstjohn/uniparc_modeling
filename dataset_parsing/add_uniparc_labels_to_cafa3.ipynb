{
 "cells": [
  {
   "cell_type": "code",
   "execution_count": 50,
   "metadata": {},
   "outputs": [],
   "source": [
    "import pandas as pd\n",
    "import dask.dataframe as dd\n",
    "seq_df_subset = pd.read_csv('../go_annotation/cafa3/cafa3_annotated_targets.csv.gz')"
   ]
  },
  {
   "cell_type": "code",
   "execution_count": 79,
   "metadata": {},
   "outputs": [],
   "source": [
    "swissprot_data = pd.read_parquet('/projects/bpms/pstjohn/swissprot/parsed_swissprot_uniref_clusters.parquet')\n",
    "missing = seq_df_subset[~seq_df_subset.sequence.isin(swissprot_data.sequence)]"
   ]
  },
  {
   "cell_type": "code",
   "execution_count": 53,
   "metadata": {},
   "outputs": [],
   "source": [
    "from dask.diagnostics import ProgressBar"
   ]
  },
  {
   "cell_type": "code",
   "execution_count": 54,
   "metadata": {},
   "outputs": [],
   "source": [
    "uniref100 = dd.read_parquet('/scratch/pstjohn/uniparc/uniref100/*', engine='pyarrow')"
   ]
  },
  {
   "cell_type": "code",
   "execution_count": 58,
   "metadata": {},
   "outputs": [],
   "source": [
    "import os"
   ]
  },
  {
   "cell_type": "code",
   "execution_count": 62,
   "metadata": {},
   "outputs": [],
   "source": [
    "from tqdm import tqdm"
   ]
  },
  {
   "cell_type": "code",
   "execution_count": null,
   "metadata": {},
   "outputs": [
    {
     "name": "stderr",
     "output_type": "stream",
     "text": [
      " 43%|████▎     | 925/2136 [06:12<09:10,  2.20it/s]"
     ]
    }
   ],
   "source": [
    "results = []\n",
    "\n",
    "for file in tqdm(os.listdir('/scratch/pstjohn/uniparc/uniref100/')):\n",
    "    df = pd.read_parquet(os.path.join('/scratch/pstjohn/uniparc/uniref100/', file), engine='pyarrow')\n",
    "    results += [missing.merge(df, right_on='Sequence', left_on='sequence')]"
   ]
  },
  {
   "cell_type": "code",
   "execution_count": 70,
   "metadata": {},
   "outputs": [],
   "source": [
    "matches = pd.concat(results)"
   ]
  },
  {
   "cell_type": "code",
   "execution_count": 132,
   "metadata": {},
   "outputs": [],
   "source": [
    "swissprot_deduped = swissprot_data.drop_duplicates(subset='sequence')"
   ]
  },
  {
   "cell_type": "code",
   "execution_count": 133,
   "metadata": {},
   "outputs": [
    {
     "data": {
      "text/plain": [
       "(3328, 3)"
      ]
     },
     "execution_count": 133,
     "metadata": {},
     "output_type": "execute_result"
    }
   ],
   "source": [
    "seq_df_subset.shape"
   ]
  },
  {
   "cell_type": "code",
   "execution_count": 139,
   "metadata": {},
   "outputs": [],
   "source": [
    "sp_merged = seq_df_subset.merge(swissprot_deduped[['UniRef100 ID', 'UniRef90 ID', 'UniRef50 ID', 'sequence', 'accession']],\n",
    "                                left_on='sequence', right_on='sequence', how='left')"
   ]
  },
  {
   "cell_type": "code",
   "execution_count": 135,
   "metadata": {},
   "outputs": [
    {
     "data": {
      "text/plain": [
       "(3328, 7)"
      ]
     },
     "execution_count": 135,
     "metadata": {},
     "output_type": "execute_result"
    }
   ],
   "source": [
    "sp_merged.shape"
   ]
  },
  {
   "cell_type": "code",
   "execution_count": 145,
   "metadata": {},
   "outputs": [],
   "source": [
    "to_add = matches.set_index('CAFA3ID').reindex(sp_merged.CAFA3ID)[['UniRef100 ID', 'UniRef90 ID', 'UniRef50 ID']].dropna()\n",
    "\n",
    "sp_merged = sp_merged.set_index('CAFA3ID')\n",
    "sp_merged.loc[to_add.index, ['UniRef100 ID', 'UniRef90 ID', 'UniRef50 ID']] = to_add\n",
    "sp_merged = sp_merged.reset_index()\n",
    "\n",
    "sp_merged.loc[1831, 'UniRef50 ID'] = 'UniRef50_P06968'\n",
    "sp_merged.loc[1961, 'UniRef50 ID'] = 'UniRef50_B7NDV3'\n",
    "sp_merged.loc[2785, 'UniRef50 ID'] = 'UniRef50_P28738'"
   ]
  },
  {
   "cell_type": "code",
   "execution_count": 146,
   "metadata": {},
   "outputs": [
    {
     "data": {
      "text/plain": [
       "(3328, 7)"
      ]
     },
     "execution_count": 146,
     "metadata": {},
     "output_type": "execute_result"
    }
   ],
   "source": [
    "sp_merged.shape"
   ]
  },
  {
   "cell_type": "code",
   "execution_count": 151,
   "metadata": {},
   "outputs": [],
   "source": [
    "sp_merged\n",
    "sp_merged.to_csv('../go_annotation/cafa3/cafa3_annotated_targets_with_swissprot.csv.gz', compression='gzip')"
   ]
  },
  {
   "cell_type": "code",
   "execution_count": null,
   "metadata": {},
   "outputs": [],
   "source": []
  }
 ],
 "metadata": {
  "kernelspec": {
   "display_name": "Python 3",
   "language": "python",
   "name": "python3"
  },
  "language_info": {
   "codemirror_mode": {
    "name": "ipython",
    "version": 3
   },
   "file_extension": ".py",
   "mimetype": "text/x-python",
   "name": "python",
   "nbconvert_exporter": "python",
   "pygments_lexer": "ipython3",
   "version": "3.7.6"
  }
 },
 "nbformat": 4,
 "nbformat_minor": 4
}
