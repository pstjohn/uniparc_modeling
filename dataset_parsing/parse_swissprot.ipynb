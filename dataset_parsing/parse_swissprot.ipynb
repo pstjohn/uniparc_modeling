{
 "cells": [
  {
   "cell_type": "code",
   "execution_count": 2,
   "metadata": {},
   "outputs": [],
   "source": [
    "from xml.etree.ElementTree import iterparse\n",
    "import pandas as pd\n",
    "from tqdm import tqdm"
   ]
  },
  {
   "cell_type": "code",
   "execution_count": 23,
   "metadata": {},
   "outputs": [],
   "source": [
    "def parse_element(elem):\n",
    "    \n",
    "    data = {}\n",
    "    data['accession'] = elem.find('{http://uniprot.org/uniprot}accession').text\n",
    "    data.update(\n",
    "        {db.get('type'): db.get('id') for db in elem.findall('{http://uniprot.org/uniprot}dbReference')}\n",
    "    )\n",
    "    organism_db = elem.find('{http://uniprot.org/uniprot}organism').find(\n",
    "        '{http://uniprot.org/uniprot}dbReference')\n",
    "    data.update({organism_db.get('type'): organism_db.get('id')})\n",
    "    data['length'] = int(elem.find('{http://uniprot.org/uniprot}sequence').get('length'))\n",
    "    data['sequence'] = elem.find('{http://uniprot.org/uniprot}sequence').text\n",
    "    data['subcellularLocalization'] = '\\n'.join(\n",
    "        (item.find('{http://uniprot.org/uniprot}location').text for item in \n",
    "         filter(lambda x: x.tag == '{http://uniprot.org/uniprot}subcellularLocation', elem.iter())))\n",
    "    \n",
    "    return pd.Series(data)\n",
    "\n",
    "def xml_gen():\n",
    "    with open('/projects/bpms/pstjohn/swissprot/uniprot_sprot.xml') as source:\n",
    "        context = iterparse(source, events=('start', 'end',))\n",
    "        event, root = next(context)\n",
    "\n",
    "        for i, (event, elem) in enumerate(context):\n",
    "            if elem.tag == '{http://uniprot.org/uniprot}entry' and event == 'end':\n",
    "                                \n",
    "                yield parse_element(elem)\n",
    "                root.clear()"
   ]
  },
  {
   "cell_type": "code",
   "execution_count": 24,
   "metadata": {},
   "outputs": [
    {
     "name": "stderr",
     "output_type": "stream",
     "text": [
      "561568it [10:32, 888.01it/s] \n"
     ]
    }
   ],
   "source": [
    "swissprot_df = pd.DataFrame(tqdm(xml_gen()))"
   ]
  },
  {
   "cell_type": "code",
   "execution_count": 25,
   "metadata": {},
   "outputs": [],
   "source": [
    "isnull = swissprot_df.isnull().sum(0)"
   ]
  },
  {
   "cell_type": "code",
   "execution_count": 27,
   "metadata": {},
   "outputs": [],
   "source": [
    "df_to_save = swissprot_df.loc[:, swissprot_df.columns.isin(isnull[isnull.sort_values() < 100000].index)].drop(['GO'], 1)"
   ]
  },
  {
   "cell_type": "code",
   "execution_count": 28,
   "metadata": {},
   "outputs": [
    {
     "data": {
      "text/html": [
       "<div>\n",
       "<style scoped>\n",
       "    .dataframe tbody tr th:only-of-type {\n",
       "        vertical-align: middle;\n",
       "    }\n",
       "\n",
       "    .dataframe tbody tr th {\n",
       "        vertical-align: top;\n",
       "    }\n",
       "\n",
       "    .dataframe thead th {\n",
       "        text-align: right;\n",
       "    }\n",
       "</style>\n",
       "<table border=\"1\" class=\"dataframe\">\n",
       "  <thead>\n",
       "    <tr style=\"text-align: right;\">\n",
       "      <th></th>\n",
       "      <th>accession</th>\n",
       "      <th>EMBL</th>\n",
       "      <th>RefSeq</th>\n",
       "      <th>KEGG</th>\n",
       "      <th>InterPro</th>\n",
       "      <th>Pfam</th>\n",
       "      <th>NCBI Taxonomy</th>\n",
       "      <th>length</th>\n",
       "      <th>sequence</th>\n",
       "      <th>subcellularLocalization</th>\n",
       "    </tr>\n",
       "  </thead>\n",
       "  <tbody>\n",
       "    <tr>\n",
       "      <th>0</th>\n",
       "      <td>Q6GZX4</td>\n",
       "      <td>AY548484</td>\n",
       "      <td>YP_031579.1</td>\n",
       "      <td>vg:2947773</td>\n",
       "      <td>IPR007031</td>\n",
       "      <td>PF04947</td>\n",
       "      <td>654924</td>\n",
       "      <td>256</td>\n",
       "      <td>MAFSAEDVLKEYDRRRRMEALLLSLYYPNDRKLLDYKEWSPPRVQV...</td>\n",
       "      <td></td>\n",
       "    </tr>\n",
       "    <tr>\n",
       "      <th>1</th>\n",
       "      <td>Q6GZX3</td>\n",
       "      <td>AY548484</td>\n",
       "      <td>YP_031580.1</td>\n",
       "      <td>vg:2947774</td>\n",
       "      <td>IPR004251</td>\n",
       "      <td>PF03003</td>\n",
       "      <td>654924</td>\n",
       "      <td>320</td>\n",
       "      <td>MSIIGATRLQNDKSDTYSAGPCYAGGCSAFTPRGTCGKDWDLGEQT...</td>\n",
       "      <td>Host membrane</td>\n",
       "    </tr>\n",
       "    <tr>\n",
       "      <th>2</th>\n",
       "      <td>Q197F8</td>\n",
       "      <td>DQ643392</td>\n",
       "      <td>YP_654574.1</td>\n",
       "      <td>vg:4156251</td>\n",
       "      <td>NaN</td>\n",
       "      <td>NaN</td>\n",
       "      <td>345201</td>\n",
       "      <td>458</td>\n",
       "      <td>MASNTVSAQGGSNRPVRDFSNIQDVAQFLLFDPIWNEQPGSIVPWK...</td>\n",
       "      <td></td>\n",
       "    </tr>\n",
       "    <tr>\n",
       "      <th>3</th>\n",
       "      <td>Q197F7</td>\n",
       "      <td>DQ643392</td>\n",
       "      <td>YP_654575.1</td>\n",
       "      <td>vg:4156252</td>\n",
       "      <td>NaN</td>\n",
       "      <td>NaN</td>\n",
       "      <td>345201</td>\n",
       "      <td>156</td>\n",
       "      <td>MYQAINPCPQSWYGSPQLEREIVCKMSGAPHYPNYYPVHPNALGGA...</td>\n",
       "      <td></td>\n",
       "    </tr>\n",
       "    <tr>\n",
       "      <th>4</th>\n",
       "      <td>Q6GZX2</td>\n",
       "      <td>AY548484</td>\n",
       "      <td>YP_031581.1</td>\n",
       "      <td>vg:2947775</td>\n",
       "      <td>NaN</td>\n",
       "      <td>NaN</td>\n",
       "      <td>654924</td>\n",
       "      <td>438</td>\n",
       "      <td>MARPLLGKTSSVRRRLESLSACSIFFFLRKFCQKMASLVFLNSPVY...</td>\n",
       "      <td></td>\n",
       "    </tr>\n",
       "  </tbody>\n",
       "</table>\n",
       "</div>"
      ],
      "text/plain": [
       "  accession      EMBL       RefSeq        KEGG   InterPro     Pfam  \\\n",
       "0    Q6GZX4  AY548484  YP_031579.1  vg:2947773  IPR007031  PF04947   \n",
       "1    Q6GZX3  AY548484  YP_031580.1  vg:2947774  IPR004251  PF03003   \n",
       "2    Q197F8  DQ643392  YP_654574.1  vg:4156251        NaN      NaN   \n",
       "3    Q197F7  DQ643392  YP_654575.1  vg:4156252        NaN      NaN   \n",
       "4    Q6GZX2  AY548484  YP_031581.1  vg:2947775        NaN      NaN   \n",
       "\n",
       "  NCBI Taxonomy  length                                           sequence  \\\n",
       "0        654924     256  MAFSAEDVLKEYDRRRRMEALLLSLYYPNDRKLLDYKEWSPPRVQV...   \n",
       "1        654924     320  MSIIGATRLQNDKSDTYSAGPCYAGGCSAFTPRGTCGKDWDLGEQT...   \n",
       "2        345201     458  MASNTVSAQGGSNRPVRDFSNIQDVAQFLLFDPIWNEQPGSIVPWK...   \n",
       "3        345201     156  MYQAINPCPQSWYGSPQLEREIVCKMSGAPHYPNYYPVHPNALGGA...   \n",
       "4        654924     438  MARPLLGKTSSVRRRLESLSACSIFFFLRKFCQKMASLVFLNSPVY...   \n",
       "\n",
       "  subcellularLocalization  \n",
       "0                          \n",
       "1           Host membrane  \n",
       "2                          \n",
       "3                          \n",
       "4                          "
      ]
     },
     "execution_count": 28,
     "metadata": {},
     "output_type": "execute_result"
    }
   ],
   "source": [
    "df_to_save.head()"
   ]
  },
  {
   "cell_type": "code",
   "execution_count": 34,
   "metadata": {},
   "outputs": [],
   "source": [
    "df_to_save.to_parquet('/projects/bpms/pstjohn/swissprot/parsed_swissprot.parquet')"
   ]
  }
 ],
 "metadata": {
  "kernelspec": {
   "display_name": "Python 3",
   "language": "python",
   "name": "python3"
  },
  "language_info": {
   "codemirror_mode": {
    "name": "ipython",
    "version": 3
   },
   "file_extension": ".py",
   "mimetype": "text/x-python",
   "name": "python",
   "nbconvert_exporter": "python",
   "pygments_lexer": "ipython3",
   "version": "3.7.6"
  }
 },
 "nbformat": 4,
 "nbformat_minor": 4
}
