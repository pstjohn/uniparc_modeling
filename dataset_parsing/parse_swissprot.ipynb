{
 "cells": [
  {
   "cell_type": "code",
   "execution_count": 5,
   "metadata": {},
   "outputs": [],
   "source": [
    "from xml.etree.ElementTree import iterparse\n",
    "import pandas as pd\n",
    "from tqdm import tqdm"
   ]
  },
  {
   "cell_type": "code",
   "execution_count": 51,
   "metadata": {},
   "outputs": [],
   "source": [
    "def parse_element(elem):\n",
    "    \n",
    "    data = {}\n",
    "    data['accession'] = elem.find('{http://uniprot.org/uniprot}accession').text\n",
    "    data.update(\n",
    "        {db.get('type'): db.get('id') for db in elem.findall('{http://uniprot.org/uniprot}dbReference')}\n",
    "    )\n",
    "    organism_db = elem.find('{http://uniprot.org/uniprot}organism').find(\n",
    "        '{http://uniprot.org/uniprot}dbReference')\n",
    "    data.update({organism_db.get('type'): organism_db.get('id')})\n",
    "    data['length'] = int(elem.find('{http://uniprot.org/uniprot}sequence').get('length'))\n",
    "    data['sequence'] = elem.find('{http://uniprot.org/uniprot}sequence').text\n",
    "    \n",
    "    return pd.Series(data)\n",
    "\n",
    "def xml_gen():\n",
    "    with open('/projects/bpms/pstjohn/swissprot/uniprot_sprot.xml') as source:\n",
    "        context = iterparse(source, events=('start', 'end',))\n",
    "        event, root = next(context)\n",
    "\n",
    "        for i, (event, elem) in enumerate(context):\n",
    "            if elem.tag == '{http://uniprot.org/uniprot}entry' and event == 'end':\n",
    "                yield parse_element(elem)\n",
    "                root.clear()\n",
    "                \n",
    "                \n",
    "tqdm(xml_gen())"
   ]
  },
  {
   "cell_type": "code",
   "execution_count": 53,
   "metadata": {},
   "outputs": [
    {
     "name": "stderr",
     "output_type": "stream",
     "text": [
      "561568it [09:56, 941.03it/s] \n"
     ]
    }
   ],
   "source": [
    "swissprot_df = pd.DataFrame(tqdm(xml_gen()))"
   ]
  },
  {
   "cell_type": "code",
   "execution_count": 58,
   "metadata": {},
   "outputs": [],
   "source": [
    "isnull = swissprot_df.isnull().sum(0)"
   ]
  },
  {
   "cell_type": "code",
   "execution_count": 62,
   "metadata": {},
   "outputs": [
    {
     "data": {
      "text/plain": [
       "accession            0\n",
       "EMBL             12061\n",
       "RefSeq           95397\n",
       "KEGG             85618\n",
       "GO               25127\n",
       "InterPro         18801\n",
       "Pfam             39112\n",
       "NCBI Taxonomy        0\n",
       "length               0\n",
       "sequence             0\n",
       "dtype: int64"
      ]
     },
     "execution_count": 62,
     "metadata": {},
     "output_type": "execute_result"
    }
   ],
   "source": []
  },
  {
   "cell_type": "code",
   "execution_count": 67,
   "metadata": {},
   "outputs": [],
   "source": [
    "df_to_save = swissprot_df.loc[:, swissprot_df.columns.isin(isnull[isnull.sort_values() < 100000].index)].drop(['GO'], 1)"
   ]
  },
  {
   "cell_type": "code",
   "execution_count": 69,
   "metadata": {},
   "outputs": [],
   "source": [
    "df_to_save.to_parquet('/projects/bpms/pstjohn/parsed_swissprot.parquet')"
   ]
  }
 ],
 "metadata": {
  "kernelspec": {
   "display_name": "Python 3",
   "language": "python",
   "name": "python3"
  },
  "language_info": {
   "codemirror_mode": {
    "name": "ipython",
    "version": 3
   },
   "file_extension": ".py",
   "mimetype": "text/x-python",
   "name": "python",
   "nbconvert_exporter": "python",
   "pygments_lexer": "ipython3",
   "version": "3.6.8"
  }
 },
 "nbformat": 4,
 "nbformat_minor": 4
}
