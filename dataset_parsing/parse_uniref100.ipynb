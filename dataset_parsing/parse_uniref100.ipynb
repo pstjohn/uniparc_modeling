{
 "cells": [
  {
   "cell_type": "code",
   "execution_count": 9,
   "metadata": {},
   "outputs": [],
   "source": [
    "# !pip install --user pyarrow"
   ]
  },
  {
   "cell_type": "code",
   "execution_count": 10,
   "metadata": {},
   "outputs": [],
   "source": [
    "from xml.etree.ElementTree import iterparse\n",
    "import pandas as pd\n",
    "from tqdm import tqdm"
   ]
  },
  {
   "cell_type": "code",
   "execution_count": 14,
   "metadata": {},
   "outputs": [],
   "source": [
    "def xml_gen():\n",
    "    with open('/scratch/pstjohn/uniparc/uniref100.xml') as source:\n",
    "        context = iterparse(source, events=('start', 'end'))\n",
    "        event, root = next(context)\n",
    "\n",
    "        for i, (event, elem) in enumerate(context):\n",
    "            if elem.tag == '{http://uniprot.org/uniref}entry' and event == 'start':\n",
    "                curr_id = elem.get('id')\n",
    "\n",
    "            elif elem.tag == '{http://uniprot.org/uniref}entry' and event == 'end':\n",
    "                root.clear()\n",
    "\n",
    "            elif elem.tag == '{http://uniprot.org/uniref}representativeMember' and event == 'end':\n",
    "                dbref, seq = elem.getchildren()\n",
    "                props = {p.get('type'): p.get('value') for p in dbref.getchildren()}\n",
    "                props['UniRef100 ID'] = curr_id               \n",
    "                props['Sequence'] = seq.text\n",
    "\n",
    "                yield props\n",
    "#                 if curr_id == 'UniRef100_UPI00129EFDE7':\n",
    "#                     break\n",
    "\n",
    "from itertools import islice\n",
    "\n",
    "def grouper(iterable, n):\n",
    "    iterable = iter(iterable)\n",
    "    while True:\n",
    "        tup = tuple(islice(iterable, n))\n",
    "        if tup:\n",
    "            yield tup\n",
    "        else:\n",
    "            break"
   ]
  },
  {
   "cell_type": "code",
   "execution_count": 15,
   "metadata": {},
   "outputs": [],
   "source": [
    "from pathlib import Path\n",
    "Path('/scratch/pstjohn/uniparc/uniref100').mkdir(parents=True, exist_ok=True)"
   ]
  },
  {
   "cell_type": "code",
   "execution_count": null,
   "metadata": {},
   "outputs": [
    {
     "name": "stderr",
     "output_type": "stream",
     "text": [
      "0it [00:00, ?it/s]/projects/rlmolecule/pstjohn/envs/tf2/lib/python3.7/site-packages/ipykernel_launcher.py:14: DeprecationWarning: This method will be removed in future versions.  Use 'list(elem)' or iteration over elem instead.\n",
      "  \n",
      "/projects/rlmolecule/pstjohn/envs/tf2/lib/python3.7/site-packages/ipykernel_launcher.py:15: DeprecationWarning: This method will be removed in future versions.  Use 'list(elem)' or iteration over elem instead.\n",
      "  from ipykernel import kernelapp as app\n",
      "389it [39:42,  6.46s/it]"
     ]
    }
   ],
   "source": [
    "for i, data in tqdm(enumerate(grouper(xml_gen(), int(1E5)))):\n",
    "    df = pd.DataFrame(data)\n",
    "    \n",
    "    df['length'] = df['length'].astype(int)\n",
    "    df = df[['UniRef100 ID', 'UniRef90 ID', 'UniRef50 ID', 'NCBI taxonomy', 'length', 'Sequence']]\n",
    "    \n",
    "    df.to_parquet(f'/scratch/pstjohn/uniparc/uniref100/{i:03d}.parquet')"
   ]
  },
  {
   "cell_type": "code",
   "execution_count": null,
   "metadata": {},
   "outputs": [],
   "source": []
  }
 ],
 "metadata": {
  "kernelspec": {
   "display_name": "Python 3",
   "language": "python",
   "name": "python3"
  },
  "language_info": {
   "codemirror_mode": {
    "name": "ipython",
    "version": 3
   },
   "file_extension": ".py",
   "mimetype": "text/x-python",
   "name": "python",
   "nbconvert_exporter": "python",
   "pygments_lexer": "ipython3",
   "version": "3.7.6"
  }
 },
 "nbformat": 4,
 "nbformat_minor": 4
}
