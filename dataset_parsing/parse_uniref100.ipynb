{
 "cells": [
  {
   "cell_type": "code",
   "execution_count": 1,
   "metadata": {},
   "outputs": [
    {
     "name": "stdout",
     "output_type": "stream",
     "text": [
      "Requirement already satisfied: pyarrow in /home/pstjohn/.local/lib/python3.6/site-packages (0.15.1)\n",
      "Requirement already satisfied: six>=1.0.0 in /usr/local/lib/python3.6/dist-packages (from pyarrow) (1.13.0)\n",
      "Requirement already satisfied: numpy>=1.14 in /usr/local/lib/python3.6/dist-packages (from pyarrow) (1.17.4)\n",
      "\u001b[33mWARNING: You are using pip version 19.3.1; however, version 20.0.2 is available.\n",
      "You should consider upgrading via the 'pip install --upgrade pip' command.\u001b[0m\n"
     ]
    }
   ],
   "source": [
    "!pip install --user pyarrow"
   ]
  },
  {
   "cell_type": "code",
   "execution_count": 2,
   "metadata": {},
   "outputs": [],
   "source": [
    "from xml.etree.ElementTree import iterparse\n",
    "import pandas as pd\n",
    "from tqdm import tqdm"
   ]
  },
  {
   "cell_type": "code",
   "execution_count": 3,
   "metadata": {},
   "outputs": [],
   "source": [
    "def xml_gen():\n",
    "    with open('/projects/bpms/pstjohn/uniref100.xml') as source:\n",
    "        context = iterparse(source, events=('start', 'end'))\n",
    "        event, root = next(context)\n",
    "\n",
    "        for i, (event, elem) in enumerate(context):\n",
    "            if elem.tag == '{http://uniprot.org/uniref}entry' and event == 'start':\n",
    "                curr_id = elem.get('id')\n",
    "\n",
    "            elif elem.tag == '{http://uniprot.org/uniref}entry' and event == 'end':\n",
    "                root.clear()\n",
    "\n",
    "            elif elem.tag == '{http://uniprot.org/uniref}representativeMember' and event == 'end':\n",
    "                dbref, seq = elem.getchildren()\n",
    "                props = {p.get('type'): p.get('value') for p in dbref.getchildren()}\n",
    "                props['UniRef100 ID'] = curr_id               \n",
    "                props['Sequence'] = seq.text\n",
    "\n",
    "                yield props\n",
    "#                 if curr_id == 'UniRef100_UPI00129EFDE7':\n",
    "#                     break\n",
    "\n",
    "from itertools import islice\n",
    "\n",
    "def grouper(iterable, n):\n",
    "    iterable = iter(iterable)\n",
    "    while True:\n",
    "        tup = tuple(islice(iterable, n))\n",
    "        if tup:\n",
    "            yield tup\n",
    "        else:\n",
    "            break"
   ]
  },
  {
   "cell_type": "code",
   "execution_count": null,
   "metadata": {},
   "outputs": [
    {
     "name": "stderr",
     "output_type": "stream",
     "text": [
      "295it [27:25,  5.33s/it]"
     ]
    }
   ],
   "source": [
    "for i, data in tqdm(enumerate(grouper(xml_gen(), int(1E5)))):\n",
    "    df = pd.DataFrame(data)\n",
    "    \n",
    "    df['length'] = df['length'].astype(int)\n",
    "    df = df[['UniRef100 ID', 'UniRef90 ID', 'UniRef50 ID', 'NCBI taxonomy', 'length', 'Sequence']]\n",
    "    \n",
    "    df.to_parquet(f'/scratch/pstjohn/uniparc/uniref100/{i:03d}.parquet')"
   ]
  },
  {
   "cell_type": "code",
   "execution_count": null,
   "metadata": {},
   "outputs": [],
   "source": [
    "df.head()"
   ]
  },
  {
   "cell_type": "code",
   "execution_count": null,
   "metadata": {},
   "outputs": [],
   "source": []
  }
 ],
 "metadata": {
  "kernelspec": {
   "display_name": "Python 3",
   "language": "python",
   "name": "python3"
  },
  "language_info": {
   "codemirror_mode": {
    "name": "ipython",
    "version": 3
   },
   "file_extension": ".py",
   "mimetype": "text/x-python",
   "name": "python",
   "nbconvert_exporter": "python",
   "pygments_lexer": "ipython3",
   "version": "3.6.8"
  }
 },
 "nbformat": 4,
 "nbformat_minor": 4
}
