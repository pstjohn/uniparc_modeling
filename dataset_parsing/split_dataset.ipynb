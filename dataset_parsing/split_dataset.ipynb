{
 "cells": [
  {
   "cell_type": "code",
   "execution_count": 19,
   "metadata": {},
   "outputs": [],
   "source": [
    "import pandas as pd\n",
    "import dask.dataframe as dd"
   ]
  },
  {
   "cell_type": "code",
   "execution_count": 2,
   "metadata": {},
   "outputs": [],
   "source": [
    "df = dd.read_parquet('/scratch/pstjohn/uniparc/uniref100/*', engine='pyarrow')"
   ]
  },
  {
   "cell_type": "code",
   "execution_count": 3,
   "metadata": {},
   "outputs": [],
   "source": [
    "df = df.compute()"
   ]
  },
  {
   "cell_type": "code",
   "execution_count": 4,
   "metadata": {},
   "outputs": [
    {
     "data": {
      "text/html": [
       "<div>\n",
       "<style scoped>\n",
       "    .dataframe tbody tr th:only-of-type {\n",
       "        vertical-align: middle;\n",
       "    }\n",
       "\n",
       "    .dataframe tbody tr th {\n",
       "        vertical-align: top;\n",
       "    }\n",
       "\n",
       "    .dataframe thead th {\n",
       "        text-align: right;\n",
       "    }\n",
       "</style>\n",
       "<table border=\"1\" class=\"dataframe\">\n",
       "  <thead>\n",
       "    <tr style=\"text-align: right;\">\n",
       "      <th></th>\n",
       "      <th>UniRef100 ID</th>\n",
       "      <th>UniRef90 ID</th>\n",
       "      <th>UniRef50 ID</th>\n",
       "      <th>NCBI taxonomy</th>\n",
       "      <th>length</th>\n",
       "      <th>Sequence</th>\n",
       "    </tr>\n",
       "  </thead>\n",
       "  <tbody>\n",
       "    <tr>\n",
       "      <th>0</th>\n",
       "      <td>UniRef100_A0A2S7NN72</td>\n",
       "      <td>UniRef90_A0A2S7NN72</td>\n",
       "      <td>UniRef50_A0A2S7NN72</td>\n",
       "      <td>2070414</td>\n",
       "      <td>119</td>\n",
       "      <td>MSTPTLRQLHRALKNHKEFVAPPADVTGQEPAKGVGRRVKALAPNP...</td>\n",
       "    </tr>\n",
       "    <tr>\n",
       "      <th>1</th>\n",
       "      <td>UniRef100_A0A2S7NSC2</td>\n",
       "      <td>UniRef90_A0A2S7NSC2</td>\n",
       "      <td>UniRef50_W9CVC8</td>\n",
       "      <td>2070414</td>\n",
       "      <td>119</td>\n",
       "      <td>MYTPTILKTLVLLAITSIATADLHHNGICVNTGSGQNVYNSDATIA...</td>\n",
       "    </tr>\n",
       "    <tr>\n",
       "      <th>2</th>\n",
       "      <td>UniRef100_A0A2S7NUH4</td>\n",
       "      <td>UniRef90_A0A2S7NUH4</td>\n",
       "      <td>UniRef50_A0A2S7NUH4</td>\n",
       "      <td>2070414</td>\n",
       "      <td>174</td>\n",
       "      <td>MQHLARLSTISIENVVQPTVICSPPEQLRMLSSSYGISTKEIIDLR...</td>\n",
       "    </tr>\n",
       "    <tr>\n",
       "      <th>3</th>\n",
       "      <td>UniRef100_A0A2S7PRB4</td>\n",
       "      <td>UniRef90_A0A2S7QB10</td>\n",
       "      <td>UniRef50_A0A194XNJ0</td>\n",
       "      <td>2070414</td>\n",
       "      <td>269</td>\n",
       "      <td>MAFSRAAILRNLRNFRARPTAARPQLVNQIAKRTYASHGGHETAKA...</td>\n",
       "    </tr>\n",
       "    <tr>\n",
       "      <th>4</th>\n",
       "      <td>UniRef100_A0A2S7PRV3</td>\n",
       "      <td>UniRef90_A0A2S7PRV3</td>\n",
       "      <td>UniRef50_A0A1Y2EKE2</td>\n",
       "      <td>2070414</td>\n",
       "      <td>713</td>\n",
       "      <td>MADSILTVASDTEDVSPTQANSKASPSKNVVTNVDSARNTTKPTTD...</td>\n",
       "    </tr>\n",
       "  </tbody>\n",
       "</table>\n",
       "</div>"
      ],
      "text/plain": [
       "           UniRef100 ID          UniRef90 ID          UniRef50 ID  \\\n",
       "0  UniRef100_A0A2S7NN72  UniRef90_A0A2S7NN72  UniRef50_A0A2S7NN72   \n",
       "1  UniRef100_A0A2S7NSC2  UniRef90_A0A2S7NSC2      UniRef50_W9CVC8   \n",
       "2  UniRef100_A0A2S7NUH4  UniRef90_A0A2S7NUH4  UniRef50_A0A2S7NUH4   \n",
       "3  UniRef100_A0A2S7PRB4  UniRef90_A0A2S7QB10  UniRef50_A0A194XNJ0   \n",
       "4  UniRef100_A0A2S7PRV3  UniRef90_A0A2S7PRV3  UniRef50_A0A1Y2EKE2   \n",
       "\n",
       "  NCBI taxonomy  length                                           Sequence  \n",
       "0       2070414     119  MSTPTLRQLHRALKNHKEFVAPPADVTGQEPAKGVGRRVKALAPNP...  \n",
       "1       2070414     119  MYTPTILKTLVLLAITSIATADLHHNGICVNTGSGQNVYNSDATIA...  \n",
       "2       2070414     174  MQHLARLSTISIENVVQPTVICSPPEQLRMLSSSYGISTKEIIDLR...  \n",
       "3       2070414     269  MAFSRAAILRNLRNFRARPTAARPQLVNQIAKRTYASHGGHETAKA...  \n",
       "4       2070414     713  MADSILTVASDTEDVSPTQANSKASPSKNVVTNVDSARNTTKPTTD...  "
      ]
     },
     "execution_count": 4,
     "metadata": {},
     "output_type": "execute_result"
    }
   ],
   "source": [
    "df.head()"
   ]
  },
  {
   "cell_type": "code",
   "execution_count": 9,
   "metadata": {},
   "outputs": [],
   "source": [
    "from sklearn.model_selection import train_test_split"
   ]
  },
  {
   "cell_type": "code",
   "execution_count": 10,
   "metadata": {},
   "outputs": [],
   "source": [
    "unique_uniref50 = df['UniRef50 ID'].unique()"
   ]
  },
  {
   "cell_type": "code",
   "execution_count": 11,
   "metadata": {},
   "outputs": [],
   "source": [
    "train_temp, test_uniref50 = train_test_split(unique_uniref50, test_size=10000, random_state=1)\n",
    "train_temp, dev_uniref50 = train_test_split(train_temp, test_size=10000, random_state=1)"
   ]
  },
  {
   "cell_type": "code",
   "execution_count": 14,
   "metadata": {},
   "outputs": [],
   "source": [
    "train_temp_uniref100 = df[df['UniRef50 ID'].isin(train_temp)]['UniRef100 ID']"
   ]
  },
  {
   "cell_type": "code",
   "execution_count": 16,
   "metadata": {},
   "outputs": [],
   "source": [
    "train_temp2_uniref100, test_uniref100 = train_test_split(train_temp_uniref100, test_size=10000, random_state=1)\n",
    "train_uniref100, dev_uniref100 = train_test_split(train_temp2_uniref100, test_size=10000, random_state=1)"
   ]
  },
  {
   "cell_type": "code",
   "execution_count": 32,
   "metadata": {},
   "outputs": [],
   "source": [
    "pd.Series(test_uniref50).to_csv('/scratch/pstjohn/uniparc/split_uniref100/test_uniref50.csv', index=False, header=False)\n",
    "pd.Series(dev_uniref50).to_csv('/scratch/pstjohn/uniparc/split_uniref100/dev_uniref50.csv', index=False, header=False)\n",
    "pd.Series(test_uniref100).to_csv('/scratch/pstjohn/uniparc/split_uniref100/test_uniref100.csv', index=False, header=False)\n",
    "pd.Series(dev_uniref100).to_csv('/scratch/pstjohn/uniparc/split_uniref100/dev_uniref100.csv', index=False, header=False)"
   ]
  },
  {
   "cell_type": "code",
   "execution_count": 34,
   "metadata": {},
   "outputs": [],
   "source": [
    "# "
   ]
  },
  {
   "cell_type": "code",
   "execution_count": 37,
   "metadata": {},
   "outputs": [
    {
     "data": {
      "text/html": [
       "<div>\n",
       "<style scoped>\n",
       "    .dataframe tbody tr th:only-of-type {\n",
       "        vertical-align: middle;\n",
       "    }\n",
       "\n",
       "    .dataframe tbody tr th {\n",
       "        vertical-align: top;\n",
       "    }\n",
       "\n",
       "    .dataframe thead th {\n",
       "        text-align: right;\n",
       "    }\n",
       "</style>\n",
       "<table border=\"1\" class=\"dataframe\">\n",
       "  <thead>\n",
       "    <tr style=\"text-align: right;\">\n",
       "      <th></th>\n",
       "      <th>UniRef100 ID</th>\n",
       "      <th>UniRef90 ID</th>\n",
       "      <th>UniRef50 ID</th>\n",
       "      <th>NCBI taxonomy</th>\n",
       "      <th>length</th>\n",
       "      <th>Sequence</th>\n",
       "    </tr>\n",
       "  </thead>\n",
       "  <tbody>\n",
       "    <tr>\n",
       "      <th>0</th>\n",
       "      <td>UniRef100_A0A2S7NN72</td>\n",
       "      <td>UniRef90_A0A2S7NN72</td>\n",
       "      <td>UniRef50_A0A2S7NN72</td>\n",
       "      <td>2070414</td>\n",
       "      <td>119</td>\n",
       "      <td>MSTPTLRQLHRALKNHKEFVAPPADVTGQEPAKGVGRRVKALAPNP...</td>\n",
       "    </tr>\n",
       "    <tr>\n",
       "      <th>1</th>\n",
       "      <td>UniRef100_A0A2S7NSC2</td>\n",
       "      <td>UniRef90_A0A2S7NSC2</td>\n",
       "      <td>UniRef50_W9CVC8</td>\n",
       "      <td>2070414</td>\n",
       "      <td>119</td>\n",
       "      <td>MYTPTILKTLVLLAITSIATADLHHNGICVNTGSGQNVYNSDATIA...</td>\n",
       "    </tr>\n",
       "    <tr>\n",
       "      <th>2</th>\n",
       "      <td>UniRef100_A0A2S7NUH4</td>\n",
       "      <td>UniRef90_A0A2S7NUH4</td>\n",
       "      <td>UniRef50_A0A2S7NUH4</td>\n",
       "      <td>2070414</td>\n",
       "      <td>174</td>\n",
       "      <td>MQHLARLSTISIENVVQPTVICSPPEQLRMLSSSYGISTKEIIDLR...</td>\n",
       "    </tr>\n",
       "    <tr>\n",
       "      <th>3</th>\n",
       "      <td>UniRef100_A0A2S7PRB4</td>\n",
       "      <td>UniRef90_A0A2S7QB10</td>\n",
       "      <td>UniRef50_A0A194XNJ0</td>\n",
       "      <td>2070414</td>\n",
       "      <td>269</td>\n",
       "      <td>MAFSRAAILRNLRNFRARPTAARPQLVNQIAKRTYASHGGHETAKA...</td>\n",
       "    </tr>\n",
       "    <tr>\n",
       "      <th>4</th>\n",
       "      <td>UniRef100_A0A2S7PRV3</td>\n",
       "      <td>UniRef90_A0A2S7PRV3</td>\n",
       "      <td>UniRef50_A0A1Y2EKE2</td>\n",
       "      <td>2070414</td>\n",
       "      <td>713</td>\n",
       "      <td>MADSILTVASDTEDVSPTQANSKASPSKNVVTNVDSARNTTKPTTD...</td>\n",
       "    </tr>\n",
       "  </tbody>\n",
       "</table>\n",
       "</div>"
      ],
      "text/plain": [
       "           UniRef100 ID          UniRef90 ID          UniRef50 ID  \\\n",
       "0  UniRef100_A0A2S7NN72  UniRef90_A0A2S7NN72  UniRef50_A0A2S7NN72   \n",
       "1  UniRef100_A0A2S7NSC2  UniRef90_A0A2S7NSC2      UniRef50_W9CVC8   \n",
       "2  UniRef100_A0A2S7NUH4  UniRef90_A0A2S7NUH4  UniRef50_A0A2S7NUH4   \n",
       "3  UniRef100_A0A2S7PRB4  UniRef90_A0A2S7QB10  UniRef50_A0A194XNJ0   \n",
       "4  UniRef100_A0A2S7PRV3  UniRef90_A0A2S7PRV3  UniRef50_A0A1Y2EKE2   \n",
       "\n",
       "  NCBI taxonomy  length                                           Sequence  \n",
       "0       2070414     119  MSTPTLRQLHRALKNHKEFVAPPADVTGQEPAKGVGRRVKALAPNP...  \n",
       "1       2070414     119  MYTPTILKTLVLLAITSIATADLHHNGICVNTGSGQNVYNSDATIA...  \n",
       "2       2070414     174  MQHLARLSTISIENVVQPTVICSPPEQLRMLSSSYGISTKEIIDLR...  \n",
       "3       2070414     269  MAFSRAAILRNLRNFRARPTAARPQLVNQIAKRTYASHGGHETAKA...  \n",
       "4       2070414     713  MADSILTVASDTEDVSPTQANSKASPSKNVVTNVDSARNTTKPTTD...  "
      ]
     },
     "execution_count": 37,
     "metadata": {},
     "output_type": "execute_result"
    }
   ],
   "source": [
    "df.head()"
   ]
  },
  {
   "cell_type": "code",
   "execution_count": 38,
   "metadata": {},
   "outputs": [],
   "source": [
    "df = df.sample(frac=1)"
   ]
  },
  {
   "cell_type": "code",
   "execution_count": null,
   "metadata": {},
   "outputs": [],
   "source": [
    "df[df['UniRef50 ID'].isin(test_uniref50)]['Sequence'].to_csv(\n",
    "    '/scratch/pstjohn/uniparc/split_uniref100/test_uniref50.txt', index=False, header=False)\n",
    "\n",
    "df[df['UniRef50 ID'].isin(dev_uniref50)]['Sequence'].to_csv(\n",
    "    '/scratch/pstjohn/uniparc/split_uniref100/dev_uniref50.txt', index=False, header=False)\n",
    "\n",
    "df[df['UniRef100 ID'].isin(test_uniref100)]['Sequence'].to_csv(\n",
    "    '/scratch/pstjohn/uniparc/split_uniref100/test_uniref100.txt', index=False, header=False)\n",
    "\n",
    "df[df['UniRef100 ID'].isin(dev_uniref100)]['Sequence'].to_csv(\n",
    "    '/scratch/pstjohn/uniparc/split_uniref100/dev_uniref100.txt', index=False, header=False)\n",
    "\n",
    "df[df['UniRef100 ID'].isin(train_uniref100)]['Sequence'].to_csv(\n",
    "    '/scratch/pstjohn/uniparc/split_uniref100/train_uniref100.txt', index=False, header=False)"
   ]
  },
  {
   "cell_type": "code",
   "execution_count": 40,
   "metadata": {},
   "outputs": [
    {
     "data": {
      "text/html": [
       "<div>\n",
       "<style scoped>\n",
       "    .dataframe tbody tr th:only-of-type {\n",
       "        vertical-align: middle;\n",
       "    }\n",
       "\n",
       "    .dataframe tbody tr th {\n",
       "        vertical-align: top;\n",
       "    }\n",
       "\n",
       "    .dataframe thead th {\n",
       "        text-align: right;\n",
       "    }\n",
       "</style>\n",
       "<table border=\"1\" class=\"dataframe\">\n",
       "  <thead>\n",
       "    <tr style=\"text-align: right;\">\n",
       "      <th></th>\n",
       "      <th>UniRef100 ID</th>\n",
       "      <th>UniRef90 ID</th>\n",
       "      <th>UniRef50 ID</th>\n",
       "      <th>NCBI taxonomy</th>\n",
       "      <th>length</th>\n",
       "      <th>Sequence</th>\n",
       "    </tr>\n",
       "  </thead>\n",
       "  <tbody>\n",
       "    <tr>\n",
       "      <th>12848</th>\n",
       "      <td>UniRef100_UPI000A19A695</td>\n",
       "      <td>UniRef90_J6P026</td>\n",
       "      <td>UniRef50_Q9KCM5</td>\n",
       "      <td>1351</td>\n",
       "      <td>430</td>\n",
       "      <td>MLFGTAKMNRENHLEIGGCDTVKLAQKFGTPLFVYDVAHIRAQARG...</td>\n",
       "    </tr>\n",
       "    <tr>\n",
       "      <th>9173</th>\n",
       "      <td>UniRef100_A0A0M2PKZ5</td>\n",
       "      <td>UniRef90_A0A0M2PKZ5</td>\n",
       "      <td>UniRef50_A0A0M2PKZ5</td>\n",
       "      <td>1455638</td>\n",
       "      <td>207</td>\n",
       "      <td>MSNMRIMLMVAVVTFTSVTCQFFSINVPTTHAFSEQTIQRGATGRD...</td>\n",
       "    </tr>\n",
       "    <tr>\n",
       "      <th>16069</th>\n",
       "      <td>UniRef100_A0A317ZSX3</td>\n",
       "      <td>UniRef90_A0A317ZSX3</td>\n",
       "      <td>UniRef50_A0A4R8W3E1</td>\n",
       "      <td>670052</td>\n",
       "      <td>156</td>\n",
       "      <td>MAVRDAFTADEWRVVAAAPFLVGMYLVSVSPSGPIGVVTEMLTAEK...</td>\n",
       "    </tr>\n",
       "    <tr>\n",
       "      <th>54198</th>\n",
       "      <td>UniRef100_A0A0W0HPX5</td>\n",
       "      <td>UniRef90_A0A0E3MS19</td>\n",
       "      <td>UniRef50_A0A0E3MS19</td>\n",
       "      <td>294</td>\n",
       "      <td>392</td>\n",
       "      <td>MLLNLFNEMRAAKVPVSVRELLDLINALKQRVTFADMDEFYYLSRA...</td>\n",
       "    </tr>\n",
       "    <tr>\n",
       "      <th>49788</th>\n",
       "      <td>UniRef100_A0A516Q3Z1</td>\n",
       "      <td>UniRef90_A0A516Q3Z1</td>\n",
       "      <td>UniRef50_A0A068VTH5</td>\n",
       "      <td>2596828</td>\n",
       "      <td>465</td>\n",
       "      <td>MVSVFDLLSIGIGPSSSHTVGPMRAAGRFVRELADSDQLHRVDRVQ...</td>\n",
       "    </tr>\n",
       "  </tbody>\n",
       "</table>\n",
       "</div>"
      ],
      "text/plain": [
       "                  UniRef100 ID          UniRef90 ID          UniRef50 ID  \\\n",
       "12848  UniRef100_UPI000A19A695      UniRef90_J6P026      UniRef50_Q9KCM5   \n",
       "9173      UniRef100_A0A0M2PKZ5  UniRef90_A0A0M2PKZ5  UniRef50_A0A0M2PKZ5   \n",
       "16069     UniRef100_A0A317ZSX3  UniRef90_A0A317ZSX3  UniRef50_A0A4R8W3E1   \n",
       "54198     UniRef100_A0A0W0HPX5  UniRef90_A0A0E3MS19  UniRef50_A0A0E3MS19   \n",
       "49788     UniRef100_A0A516Q3Z1  UniRef90_A0A516Q3Z1  UniRef50_A0A068VTH5   \n",
       "\n",
       "      NCBI taxonomy  length                                           Sequence  \n",
       "12848          1351     430  MLFGTAKMNRENHLEIGGCDTVKLAQKFGTPLFVYDVAHIRAQARG...  \n",
       "9173        1455638     207  MSNMRIMLMVAVVTFTSVTCQFFSINVPTTHAFSEQTIQRGATGRD...  \n",
       "16069        670052     156  MAVRDAFTADEWRVVAAAPFLVGMYLVSVSPSGPIGVVTEMLTAEK...  \n",
       "54198           294     392  MLLNLFNEMRAAKVPVSVRELLDLINALKQRVTFADMDEFYYLSRA...  \n",
       "49788       2596828     465  MVSVFDLLSIGIGPSSSHTVGPMRAAGRFVRELADSDQLHRVDRVQ...  "
      ]
     },
     "execution_count": 40,
     "metadata": {},
     "output_type": "execute_result"
    }
   ],
   "source": [
    "df.head()"
   ]
  },
  {
   "cell_type": "code",
   "execution_count": null,
   "metadata": {},
   "outputs": [],
   "source": [
    "# df[df['UniRef50 ID'].isin(test_uniref50)].to_parquet('/scratch/pstjohn/uniparc/split_uniref100/test_uniref50.parquet')\n",
    "# df[df['UniRef50 ID'].isin(dev_uniref50)].to_parquet('/scratch/pstjohn/uniparc/split_uniref100/dev_uniref50.parquet')\n",
    "\n",
    "# df[df['UniRef100 ID'].isin(test_uniref100)].to_parquet('/scratch/pstjohn/uniparc/split_uniref100/test_uniref100.parquet')\n",
    "# df[df['UniRef100 ID'].isin(dev_uniref100)].to_parquet('/scratch/pstjohn/uniparc/split_uniref100/dev_uniref100.parquet')"
   ]
  },
  {
   "cell_type": "code",
   "execution_count": 41,
   "metadata": {},
   "outputs": [],
   "source": [
    "dev_100 = df[df['UniRef100 ID'].isin(dev_uniref100)]"
   ]
  },
  {
   "cell_type": "code",
   "execution_count": 51,
   "metadata": {},
   "outputs": [
    {
     "data": {
      "text/plain": [
       "<matplotlib.axes._subplots.AxesSubplot at 0x7eca979b50b8>"
      ]
     },
     "execution_count": 51,
     "metadata": {},
     "output_type": "execute_result"
    },
    {
     "data": {
      "image/png": "[encoded data removed]",
      "text/plain": [
       "<Figure size 432x288 with 1 Axes>"
      ]
     },
     "metadata": {
      "needs_background": "light"
     },
     "output_type": "display_data"
    }
   ],
   "source": [
    "%matplotlib inline\n",
    "dev_100['length'].plot.hist(bins=20, range=(0, 2000))"
   ]
  },
  {
   "cell_type": "code",
   "execution_count": 52,
   "metadata": {},
   "outputs": [
    {
     "ename": "IndexError",
     "evalue": "string index out of range",
     "output_type": "error",
     "traceback": [
      "\u001b[0;31m---------------------------------------------------------------------------\u001b[0m",
      "\u001b[0;31mIndexError\u001b[0m                                Traceback (most recent call last)",
      "\u001b[0;32m<ipython-input-52-6a761f987d25>\u001b[0m in \u001b[0;36m<module>\u001b[0;34m\u001b[0m\n\u001b[0;32m----> 1\u001b[0;31m \u001b[0mpd\u001b[0m\u001b[0;34m.\u001b[0m\u001b[0mSeries\u001b[0m\u001b[0;34m(\u001b[0m\u001b[0;34m{\u001b[0m\u001b[0mi\u001b[0m\u001b[0;34m:\u001b[0m \u001b[0mdev_100\u001b[0m\u001b[0;34m.\u001b[0m\u001b[0mSequence\u001b[0m\u001b[0;34m.\u001b[0m\u001b[0mapply\u001b[0m\u001b[0;34m(\u001b[0m\u001b[0;32mlambda\u001b[0m \u001b[0mx\u001b[0m\u001b[0;34m:\u001b[0m \u001b[0mx\u001b[0m\u001b[0;34m[\u001b[0m\u001b[0mi\u001b[0m\u001b[0;34m]\u001b[0m\u001b[0;34m)\u001b[0m\u001b[0;34m.\u001b[0m\u001b[0mvalue_counts\u001b[0m\u001b[0;34m(\u001b[0m\u001b[0;34m)\u001b[0m \u001b[0;32mfor\u001b[0m \u001b[0mi\u001b[0m \u001b[0;32min\u001b[0m \u001b[0mrange\u001b[0m\u001b[0;34m(\u001b[0m\u001b[0;36m0\u001b[0m\u001b[0;34m,\u001b[0m \u001b[0;36m512\u001b[0m\u001b[0;34m)\u001b[0m\u001b[0;34m}\u001b[0m\u001b[0;34m)\u001b[0m\u001b[0;34m\u001b[0m\u001b[0;34m\u001b[0m\u001b[0m\n\u001b[0m",
      "\u001b[0;32m<ipython-input-52-6a761f987d25>\u001b[0m in \u001b[0;36m<dictcomp>\u001b[0;34m(.0)\u001b[0m\n\u001b[0;32m----> 1\u001b[0;31m \u001b[0mpd\u001b[0m\u001b[0;34m.\u001b[0m\u001b[0mSeries\u001b[0m\u001b[0;34m(\u001b[0m\u001b[0;34m{\u001b[0m\u001b[0mi\u001b[0m\u001b[0;34m:\u001b[0m \u001b[0mdev_100\u001b[0m\u001b[0;34m.\u001b[0m\u001b[0mSequence\u001b[0m\u001b[0;34m.\u001b[0m\u001b[0mapply\u001b[0m\u001b[0;34m(\u001b[0m\u001b[0;32mlambda\u001b[0m \u001b[0mx\u001b[0m\u001b[0;34m:\u001b[0m \u001b[0mx\u001b[0m\u001b[0;34m[\u001b[0m\u001b[0mi\u001b[0m\u001b[0;34m]\u001b[0m\u001b[0;34m)\u001b[0m\u001b[0;34m.\u001b[0m\u001b[0mvalue_counts\u001b[0m\u001b[0;34m(\u001b[0m\u001b[0;34m)\u001b[0m \u001b[0;32mfor\u001b[0m \u001b[0mi\u001b[0m \u001b[0;32min\u001b[0m \u001b[0mrange\u001b[0m\u001b[0;34m(\u001b[0m\u001b[0;36m0\u001b[0m\u001b[0;34m,\u001b[0m \u001b[0;36m512\u001b[0m\u001b[0;34m)\u001b[0m\u001b[0;34m}\u001b[0m\u001b[0;34m)\u001b[0m\u001b[0;34m\u001b[0m\u001b[0;34m\u001b[0m\u001b[0m\n\u001b[0m",
      "\u001b[0;32m~/.local/lib/python3.6/site-packages/pandas/core/series.py\u001b[0m in \u001b[0;36mapply\u001b[0;34m(self, func, convert_dtype, args, **kwds)\u001b[0m\n\u001b[1;32m   4043\u001b[0m             \u001b[0;32melse\u001b[0m\u001b[0;34m:\u001b[0m\u001b[0;34m\u001b[0m\u001b[0;34m\u001b[0m\u001b[0m\n\u001b[1;32m   4044\u001b[0m                 \u001b[0mvalues\u001b[0m \u001b[0;34m=\u001b[0m \u001b[0mself\u001b[0m\u001b[0;34m.\u001b[0m\u001b[0mastype\u001b[0m\u001b[0;34m(\u001b[0m\u001b[0mobject\u001b[0m\u001b[0;34m)\u001b[0m\u001b[0;34m.\u001b[0m\u001b[0mvalues\u001b[0m\u001b[0;34m\u001b[0m\u001b[0;34m\u001b[0m\u001b[0m\n\u001b[0;32m-> 4045\u001b[0;31m                 \u001b[0mmapped\u001b[0m \u001b[0;34m=\u001b[0m \u001b[0mlib\u001b[0m\u001b[0;34m.\u001b[0m\u001b[0mmap_infer\u001b[0m\u001b[0;34m(\u001b[0m\u001b[0mvalues\u001b[0m\u001b[0;34m,\u001b[0m \u001b[0mf\u001b[0m\u001b[0;34m,\u001b[0m \u001b[0mconvert\u001b[0m\u001b[0;34m=\u001b[0m\u001b[0mconvert_dtype\u001b[0m\u001b[0;34m)\u001b[0m\u001b[0;34m\u001b[0m\u001b[0;34m\u001b[0m\u001b[0m\n\u001b[0m\u001b[1;32m   4046\u001b[0m \u001b[0;34m\u001b[0m\u001b[0m\n\u001b[1;32m   4047\u001b[0m         \u001b[0;32mif\u001b[0m \u001b[0mlen\u001b[0m\u001b[0;34m(\u001b[0m\u001b[0mmapped\u001b[0m\u001b[0;34m)\u001b[0m \u001b[0;32mand\u001b[0m \u001b[0misinstance\u001b[0m\u001b[0;34m(\u001b[0m\u001b[0mmapped\u001b[0m\u001b[0;34m[\u001b[0m\u001b[0;36m0\u001b[0m\u001b[0;34m]\u001b[0m\u001b[0;34m,\u001b[0m \u001b[0mSeries\u001b[0m\u001b[0;34m)\u001b[0m\u001b[0;34m:\u001b[0m\u001b[0;34m\u001b[0m\u001b[0;34m\u001b[0m\u001b[0m\n",
      "\u001b[0;32mpandas/_libs/lib.pyx\u001b[0m in \u001b[0;36mpandas._libs.lib.map_infer\u001b[0;34m()\u001b[0m\n",
      "\u001b[0;32m<ipython-input-52-6a761f987d25>\u001b[0m in \u001b[0;36m<lambda>\u001b[0;34m(x)\u001b[0m\n\u001b[0;32m----> 1\u001b[0;31m \u001b[0mpd\u001b[0m\u001b[0;34m.\u001b[0m\u001b[0mSeries\u001b[0m\u001b[0;34m(\u001b[0m\u001b[0;34m{\u001b[0m\u001b[0mi\u001b[0m\u001b[0;34m:\u001b[0m \u001b[0mdev_100\u001b[0m\u001b[0;34m.\u001b[0m\u001b[0mSequence\u001b[0m\u001b[0;34m.\u001b[0m\u001b[0mapply\u001b[0m\u001b[0;34m(\u001b[0m\u001b[0;32mlambda\u001b[0m \u001b[0mx\u001b[0m\u001b[0;34m:\u001b[0m \u001b[0mx\u001b[0m\u001b[0;34m[\u001b[0m\u001b[0mi\u001b[0m\u001b[0;34m]\u001b[0m\u001b[0;34m)\u001b[0m\u001b[0;34m.\u001b[0m\u001b[0mvalue_counts\u001b[0m\u001b[0;34m(\u001b[0m\u001b[0;34m)\u001b[0m \u001b[0;32mfor\u001b[0m \u001b[0mi\u001b[0m \u001b[0;32min\u001b[0m \u001b[0mrange\u001b[0m\u001b[0;34m(\u001b[0m\u001b[0;36m0\u001b[0m\u001b[0;34m,\u001b[0m \u001b[0;36m512\u001b[0m\u001b[0;34m)\u001b[0m\u001b[0;34m}\u001b[0m\u001b[0;34m)\u001b[0m\u001b[0;34m\u001b[0m\u001b[0;34m\u001b[0m\u001b[0m\n\u001b[0m",
      "\u001b[0;31mIndexError\u001b[0m: string index out of range"
     ]
    }
   ],
   "source": [
    "pd.Series({i: dev_100.Sequence.apply(lambda x: x[i]).value_counts() for i in range(0, 512)})"
   ]
  },
  {
   "cell_type": "code",
   "execution_count": 45,
   "metadata": {},
   "outputs": [
    {
     "data": {
      "text/plain": [
       "S    1319\n",
       "K    1084\n",
       "A     980\n",
       "T     939\n",
       "R     626\n",
       "N     622\n",
       "L     606\n",
       "E     527\n",
       "P     503\n",
       "I     488\n",
       "D     416\n",
       "G     396\n",
       "Q     342\n",
       "V     331\n",
       "F     261\n",
       "H     162\n",
       "M     135\n",
       "Y     117\n",
       "C      78\n",
       "W      68\n",
       "Name: Sequence, dtype: int64"
      ]
     },
     "execution_count": 45,
     "metadata": {},
     "output_type": "execute_result"
    }
   ],
   "source": [
    "dev_100.Sequence.apply(lambda x: x[1]).value_counts()"
   ]
  },
  {
   "cell_type": "code",
   "execution_count": 46,
   "metadata": {},
   "outputs": [
    {
     "data": {
      "text/plain": [
       "K    915\n",
       "L    818\n",
       "T    791\n",
       "S    776\n",
       "R    734\n",
       "A    733\n",
       "I    619\n",
       "E    587\n",
       "D    570\n",
       "N    548\n",
       "V    501\n",
       "G    435\n",
       "Q    423\n",
       "P    399\n",
       "F    362\n",
       "Y    231\n",
       "H    205\n",
       "M    163\n",
       "C    100\n",
       "W     88\n",
       "X      2\n",
       "Name: Sequence, dtype: int64"
      ]
     },
     "execution_count": 46,
     "metadata": {},
     "output_type": "execute_result"
    }
   ],
   "source": [
    "dev_100.Sequence.apply(lambda x: x[2]).value_counts()"
   ]
  },
  {
   "cell_type": "code",
   "execution_count": null,
   "metadata": {},
   "outputs": [],
   "source": []
  }
 ],
 "metadata": {
  "kernelspec": {
   "display_name": "Python 3",
   "language": "python",
   "name": "python3"
  },
  "language_info": {
   "codemirror_mode": {
    "name": "ipython",
    "version": 3
   },
   "file_extension": ".py",
   "mimetype": "text/x-python",
   "name": "python",
   "nbconvert_exporter": "python",
   "pygments_lexer": "ipython3",
   "version": "3.6.8"
  }
 },
 "nbformat": 4,
 "nbformat_minor": 4
}
