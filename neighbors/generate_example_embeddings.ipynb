{
 "cells": [
  {
   "cell_type": "code",
   "execution_count": 9,
   "metadata": {},
   "outputs": [],
   "source": [
    "import sys\n",
    "sys.path.append('../')"
   ]
  },
  {
   "cell_type": "code",
   "execution_count": 10,
   "metadata": {},
   "outputs": [],
   "source": [
    "import numpy as np\n",
    "import pandas as pd\n",
    "\n",
    "import matplotlib.pyplot as plt\n",
    "import seaborn as sns\n",
    "sns.set(context='talk', style='ticks',\n",
    "        color_codes=True, rc={'legend.frameon': False})\n",
    "\n",
    "%matplotlib inline"
   ]
  },
  {
   "cell_type": "code",
   "execution_count": 11,
   "metadata": {},
   "outputs": [],
   "source": [
    "import pandas as pd\n",
    "import numpy as np\n",
    "import tensorflow as tf\n",
    "from tqdm import tqdm\n",
    "\n",
    "from bert.dataset import encoding_table"
   ]
  },
  {
   "cell_type": "code",
   "execution_count": 12,
   "metadata": {},
   "outputs": [],
   "source": [
    "swissprot = pd.read_parquet('/projects/bpms/pstjohn/swissprot/parsed_swissprot.parquet') # To test\n",
    "swissprot['sequence'] = '^' + swissprot.sequence + '$'  # Append the start and end characters\n",
    "swissprot_sample = swissprot[swissprot.length < 1024].sample(100, random_state=1)"
   ]
  },
  {
   "cell_type": "code",
   "execution_count": 13,
   "metadata": {},
   "outputs": [],
   "source": [
    "swissprot_sample = swissprot_sample.append(swissprot[swissprot.Pfam == 'PF17297'].iloc[0])"
   ]
  },
  {
   "cell_type": "code",
   "execution_count": 14,
   "metadata": {},
   "outputs": [],
   "source": [
    "pfam_db = swissprot_sample.dropna(subset=['Pfam']).drop_duplicates(subset=['Pfam'], keep='first')\n",
    "query = swissprot[(swissprot.Pfam == 'PF17297') & ~swissprot.index.isin(pfam_db.index)].head(1)"
   ]
  },
  {
   "cell_type": "code",
   "execution_count": 15,
   "metadata": {},
   "outputs": [
    {
     "data": {
      "text/plain": [
       "(92, 9)"
      ]
     },
     "execution_count": 15,
     "metadata": {},
     "output_type": "execute_result"
    }
   ],
   "source": [
    "pfam_db.shape"
   ]
  },
  {
   "cell_type": "code",
   "execution_count": 16,
   "metadata": {},
   "outputs": [
    {
     "data": {
      "text/html": [
       "<div>\n",
       "<style scoped>\n",
       "    .dataframe tbody tr th:only-of-type {\n",
       "        vertical-align: middle;\n",
       "    }\n",
       "\n",
       "    .dataframe tbody tr th {\n",
       "        vertical-align: top;\n",
       "    }\n",
       "\n",
       "    .dataframe thead th {\n",
       "        text-align: right;\n",
       "    }\n",
       "</style>\n",
       "<table border=\"1\" class=\"dataframe\">\n",
       "  <thead>\n",
       "    <tr style=\"text-align: right;\">\n",
       "      <th></th>\n",
       "      <th>accession</th>\n",
       "      <th>EMBL</th>\n",
       "      <th>RefSeq</th>\n",
       "      <th>KEGG</th>\n",
       "      <th>InterPro</th>\n",
       "      <th>Pfam</th>\n",
       "      <th>NCBI Taxonomy</th>\n",
       "      <th>length</th>\n",
       "      <th>sequence</th>\n",
       "    </tr>\n",
       "  </thead>\n",
       "  <tbody>\n",
       "    <tr>\n",
       "      <th>145680</th>\n",
       "      <td>A0JSP6</td>\n",
       "      <td>CP000454</td>\n",
       "      <td>WP_011690534.1</td>\n",
       "      <td>art:Arth_0667</td>\n",
       "      <td>IPR008210</td>\n",
       "      <td>PF17297</td>\n",
       "      <td>290399</td>\n",
       "      <td>611</td>\n",
       "      <td>^MGDLARLPLLEKAPTTHAGLLAWVEEVAELTQPDRIHWVDGTEEE...</td>\n",
       "    </tr>\n",
       "  </tbody>\n",
       "</table>\n",
       "</div>"
      ],
      "text/plain": [
       "       accession      EMBL          RefSeq           KEGG   InterPro     Pfam  \\\n",
       "145680    A0JSP6  CP000454  WP_011690534.1  art:Arth_0667  IPR008210  PF17297   \n",
       "\n",
       "       NCBI Taxonomy  length  \\\n",
       "145680        290399     611   \n",
       "\n",
       "                                                 sequence  \n",
       "145680  ^MGDLARLPLLEKAPTTHAGLLAWVEEVAELTQPDRIHWVDGTEEE...  "
      ]
     },
     "execution_count": 16,
     "metadata": {},
     "output_type": "execute_result"
    }
   ],
   "source": [
    "pfam_db[pfam_db.Pfam == 'PF17297']"
   ]
  },
  {
   "cell_type": "code",
   "execution_count": 17,
   "metadata": {},
   "outputs": [
    {
     "data": {
      "text/html": [
       "<div>\n",
       "<style scoped>\n",
       "    .dataframe tbody tr th:only-of-type {\n",
       "        vertical-align: middle;\n",
       "    }\n",
       "\n",
       "    .dataframe tbody tr th {\n",
       "        vertical-align: top;\n",
       "    }\n",
       "\n",
       "    .dataframe thead th {\n",
       "        text-align: right;\n",
       "    }\n",
       "</style>\n",
       "<table border=\"1\" class=\"dataframe\">\n",
       "  <thead>\n",
       "    <tr style=\"text-align: right;\">\n",
       "      <th></th>\n",
       "      <th>accession</th>\n",
       "      <th>EMBL</th>\n",
       "      <th>RefSeq</th>\n",
       "      <th>KEGG</th>\n",
       "      <th>InterPro</th>\n",
       "      <th>Pfam</th>\n",
       "      <th>NCBI Taxonomy</th>\n",
       "      <th>length</th>\n",
       "      <th>sequence</th>\n",
       "    </tr>\n",
       "  </thead>\n",
       "  <tbody>\n",
       "    <tr>\n",
       "      <th>145681</th>\n",
       "      <td>Q05893</td>\n",
       "      <td>L01787</td>\n",
       "      <td>None</td>\n",
       "      <td>None</td>\n",
       "      <td>IPR008210</td>\n",
       "      <td>PF17297</td>\n",
       "      <td>6253</td>\n",
       "      <td>643</td>\n",
       "      <td>^MRCRSLSHFKDDDFAVVSEVVTHKQNHIPVIKGDFVSLPKHVQRF...</td>\n",
       "    </tr>\n",
       "  </tbody>\n",
       "</table>\n",
       "</div>"
      ],
      "text/plain": [
       "       accession    EMBL RefSeq  KEGG   InterPro     Pfam NCBI Taxonomy  \\\n",
       "145681    Q05893  L01787   None  None  IPR008210  PF17297          6253   \n",
       "\n",
       "        length                                           sequence  \n",
       "145681     643  ^MRCRSLSHFKDDDFAVVSEVVTHKQNHIPVIKGDFVSLPKHVQRF...  "
      ]
     },
     "execution_count": 17,
     "metadata": {},
     "output_type": "execute_result"
    }
   ],
   "source": [
    "query"
   ]
  },
  {
   "cell_type": "code",
   "execution_count": 18,
   "metadata": {},
   "outputs": [
    {
     "data": {
      "text/plain": [
       "True"
      ]
     },
     "execution_count": 18,
     "metadata": {},
     "output_type": "execute_result"
    }
   ],
   "source": [
    "(pfam_db.sequence.apply(len) == pfam_db.length + 2).all()"
   ]
  },
  {
   "cell_type": "code",
   "execution_count": 19,
   "metadata": {},
   "outputs": [
    {
     "name": "stdout",
     "output_type": "stream",
     "text": [
      "Model: \"model\"\n",
      "_________________________________________________________________\n",
      "Layer (type)                 Output Shape              Param #   \n",
      "=================================================================\n",
      "input_1 (InputLayer)         [(None, None)]            0         \n",
      "_________________________________________________________________\n",
      "embedding (Embedding)        (None, None, 512)         12288     \n",
      "_________________________________________________________________\n",
      "transformer (Transformer)    (None, None, 512)         2897984   \n",
      "_________________________________________________________________\n",
      "transformer_1 (Transformer)  (None, None, 512)         2897984   \n",
      "_________________________________________________________________\n",
      "transformer_2 (Transformer)  (None, None, 512)         2897984   \n",
      "_________________________________________________________________\n",
      "transformer_3 (Transformer)  (None, None, 512)         2897984   \n",
      "_________________________________________________________________\n",
      "transformer_4 (Transformer)  (None, None, 512)         2897984   \n",
      "_________________________________________________________________\n",
      "transformer_5 (Transformer)  (None, None, 512)         2897984   \n",
      "_________________________________________________________________\n",
      "dense_no_mask (DenseNoMask)  (None, None, 21)          10773     \n",
      "=================================================================\n",
      "Total params: 17,410,965\n",
      "Trainable params: 17,410,965\n",
      "Non-trainable params: 0\n",
      "_________________________________________________________________\n"
     ]
    }
   ],
   "source": [
    "from bert.model import create_albert_model\n",
    "\n",
    "model = create_albert_model(model_dimension=512,\n",
    "                            transformer_dimension=512 * 4,\n",
    "                            num_attention_heads=512 // 64,\n",
    "                            num_transformer_layers=6,\n",
    "                            vocab_size=24,\n",
    "                            dropout_rate=0.,\n",
    "                            max_relative_position=64,\n",
    "                            final_layernorm=True)\n",
    "\n",
    "\n",
    "model.load_weights('/projects/bpms/pstjohn/trained_models/dist_sl128_nowd_checkpoints/saved_weights').expect_partial()\n",
    "model.summary()"
   ]
  },
  {
   "cell_type": "code",
   "execution_count": 20,
   "metadata": {},
   "outputs": [
    {
     "data": {
      "text/plain": [
       "<tf.Tensor 'input_1:0' shape=(None, None) dtype=int32>"
      ]
     },
     "execution_count": 20,
     "metadata": {},
     "output_type": "execute_result"
    }
   ],
   "source": [
    "model.input"
   ]
  },
  {
   "cell_type": "code",
   "execution_count": 21,
   "metadata": {},
   "outputs": [],
   "source": [
    "flat_embeddings = tf.boolean_mask(model.layers[-1].input, model.input != 0)\n",
    "embedding_model = tf.keras.models.Model(model.input, flat_embeddings)"
   ]
  },
  {
   "cell_type": "code",
   "execution_count": 22,
   "metadata": {},
   "outputs": [],
   "source": [
    "seq_dataset = tf.data.Dataset.from_tensor_slices(pfam_db.sequence)\\\n",
    "    .map(tf.strings.bytes_split)\\\n",
    "    .padded_batch(5, [-1,])\\\n",
    "    .map(encoding_table.lookup)"
   ]
  },
  {
   "cell_type": "code",
   "execution_count": 23,
   "metadata": {},
   "outputs": [
    {
     "name": "stdout",
     "output_type": "stream",
     "text": [
      "19/19 [==============================] - 4s 221ms/step\n"
     ]
    }
   ],
   "source": [
    "result = embedding_model.predict(seq_dataset, verbose=1)"
   ]
  },
  {
   "cell_type": "code",
   "execution_count": 24,
   "metadata": {},
   "outputs": [
    {
     "data": {
      "text/plain": [
       "(32281, 512)"
      ]
     },
     "execution_count": 24,
     "metadata": {},
     "output_type": "execute_result"
    }
   ],
   "source": [
    "result.shape"
   ]
  },
  {
   "cell_type": "code",
   "execution_count": 25,
   "metadata": {},
   "outputs": [],
   "source": [
    "index_df = pd.DataFrame(\n",
    "    np.vstack([np.repeat(pfam_db.Pfam.values, pfam_db.length + 2),\n",
    "               np.concatenate([np.arange(length + 2) for length in pfam_db.length])]).T,\n",
    "    columns=['Pfam', 'AA'])"
   ]
  },
  {
   "cell_type": "code",
   "execution_count": 26,
   "metadata": {},
   "outputs": [
    {
     "data": {
      "text/plain": [
       "(32281, 2)"
      ]
     },
     "execution_count": 26,
     "metadata": {},
     "output_type": "execute_result"
    }
   ],
   "source": [
    "index_df.shape"
   ]
  },
  {
   "cell_type": "code",
   "execution_count": 27,
   "metadata": {},
   "outputs": [],
   "source": [
    "from sklearn.decomposition import PCA"
   ]
  },
  {
   "cell_type": "code",
   "execution_count": 28,
   "metadata": {},
   "outputs": [],
   "source": [
    "pca = PCA()\n",
    "results_pca = pca.fit_transform(result)"
   ]
  },
  {
   "cell_type": "code",
   "execution_count": 37,
   "metadata": {},
   "outputs": [
    {
     "data": {
      "image/png": "[encoded data removed]",
      "text/plain": [
       "<Figure size 432x288 with 1 Axes>"
      ]
     },
     "metadata": {
      "needs_background": "light"
     },
     "output_type": "display_data"
    }
   ],
   "source": [
    "plt.plot(np.cumsum(pca.explained_variance_ratio_))\n",
    "plt.xlabel('Embedding Dimension')\n",
    "plt.ylabel('Explained Variance Ratio')\n",
    "plt.tight_layout()\n",
    "plt.ylim([0, 1])\n",
    "plt.xlim([0, 512])\n",
    "sns.despine(trim=True, offset=10)"
   ]
  },
  {
   "cell_type": "code",
   "execution_count": 30,
   "metadata": {},
   "outputs": [],
   "source": [
    "# index_df.join(pd.DataFrame(results_pca[:, :10]))"
   ]
  },
  {
   "cell_type": "code",
   "execution_count": 61,
   "metadata": {},
   "outputs": [],
   "source": [
    "query_dataset = tf.data.Dataset.from_tensor_slices(query.sequence)\\\n",
    "    .map(tf.strings.bytes_split)\\\n",
    "    .padded_batch(10, [-1,])\\\n",
    "    .map(encoding_table.lookup)\n",
    "\n",
    "query_results = embedding_model.predict(query_dataset)\n",
    "query_results_pca = pca.transform(query_results)\n",
    "\n",
    "query_index_df = pd.DataFrame(\n",
    "    np.vstack([np.repeat(query.accession.values, query.length + 2),\n",
    "               np.concatenate([np.arange(length + 2) for length in query.length])]).T,\n",
    "    columns=['accession', 'AA'])"
   ]
  },
  {
   "cell_type": "code",
   "execution_count": 62,
   "metadata": {},
   "outputs": [
    {
     "data": {
      "text/plain": [
       "(32281, 512)"
      ]
     },
     "execution_count": 62,
     "metadata": {},
     "output_type": "execute_result"
    }
   ],
   "source": [
    "result.shape"
   ]
  },
  {
   "cell_type": "code",
   "execution_count": 63,
   "metadata": {},
   "outputs": [
    {
     "data": {
      "text/plain": [
       "(645, 512)"
      ]
     },
     "execution_count": 63,
     "metadata": {},
     "output_type": "execute_result"
    }
   ],
   "source": [
    "query_results.shape"
   ]
  },
  {
   "cell_type": "code",
   "execution_count": 75,
   "metadata": {},
   "outputs": [],
   "source": [
    "d = 512\n",
    "x_database = np.ascontiguousarray(results_pca[:, :d])\n",
    "x_query = np.ascontiguousarray(query_results_pca[:, :d])\n",
    "\n",
    "x_database = x_database / np.linalg.norm(x_database, axis=1)[:, np.newaxis]\n",
    "x_query = x_query / np.linalg.norm(x_query, axis=1)[:, np.newaxis]"
   ]
  },
  {
   "cell_type": "code",
   "execution_count": 76,
   "metadata": {},
   "outputs": [],
   "source": [
    "distances = x_query.dot(x_database.T)"
   ]
  },
  {
   "cell_type": "code",
   "execution_count": 77,
   "metadata": {},
   "outputs": [
    {
     "data": {
      "text/plain": [
       "(645, 32281)"
      ]
     },
     "execution_count": 77,
     "metadata": {},
     "output_type": "execute_result"
    }
   ],
   "source": [
    "distances.shape"
   ]
  },
  {
   "cell_type": "code",
   "execution_count": 195,
   "metadata": {},
   "outputs": [],
   "source": [
    "max_by_pfam = pd.DataFrame(distances.T).groupby(index_df.Pfam).max().drop([0, 644], 1)"
   ]
  },
  {
   "cell_type": "code",
   "execution_count": 196,
   "metadata": {},
   "outputs": [
    {
     "data": {
      "text/plain": [
       "1      0.944903\n",
       "2      0.770834\n",
       "3      0.645909\n",
       "4      0.817570\n",
       "5      0.857266\n",
       "         ...   \n",
       "639    0.726890\n",
       "640    0.763207\n",
       "641    0.806757\n",
       "642    0.768330\n",
       "643    0.763409\n",
       "Name: 0.5, Length: 643, dtype: float64"
      ]
     },
     "execution_count": 196,
     "metadata": {},
     "output_type": "execute_result"
    }
   ],
   "source": [
    "max_by_pfam.quantile()"
   ]
  },
  {
   "cell_type": "code",
   "execution_count": 198,
   "metadata": {},
   "outputs": [],
   "source": [
    "df = pd.concat([max_by_pfam.drop('PF17297').median(0), max_by_pfam.drop('PF17297').quantile(.95), max_by_pfam.loc['PF17297']], 1)\n",
    "df.columns = ['median', '95', 'PF17297']\n",
    "df_sort = df.sort_values('PF17297', ascending=False).reset_index()"
   ]
  },
  {
   "cell_type": "code",
   "execution_count": 227,
   "metadata": {},
   "outputs": [
    {
     "data": {
      "image/png": "[encoded data removed]",
      "text/plain": [
       "<Figure size 720x216 with 1 Axes>"
      ]
     },
     "metadata": {
      "needs_background": "light"
     },
     "output_type": "display_data"
    }
   ],
   "source": [
    "#_ = plt.plot(max_by_pfam.T, color='k', alpha=.05)\n",
    "\n",
    "plt.figure(figsize=(10,3))\n",
    "\n",
    "_ = plt.plot(max_by_pfam.drop('PF17297').median(0), '.', ms=3, label='median')\n",
    "_ = plt.plot(max_by_pfam.drop('PF17297').quantile(.95), '.', ms=3, label='95${}^{\\mathrm{th}}$ percentile')\n",
    "\n",
    "_ = plt.plot(max_by_pfam.loc['PF17297'], '.', ms=3, label='PF17297')\n",
    "_ = plt.plot(np.arange(253, 256), max_by_pfam.loc['PF17297', 253:255], '.', color='r', label='Q05893 binding site')\n",
    "_ = plt.plot(np.arange(422, 425), max_by_pfam.loc['PF17297', 422:424], '.', color='r')\n",
    "\n",
    "plt.ylim([.6, 1.0])\n",
    "plt.legend(loc='center left', bbox_to_anchor=(1., .5), markerscale=3)\n",
    "sns.despine()\n",
    "\n",
    "plt.ylabel('Embedding\\nsimilarity')\n",
    "plt.xlabel('Amino acid position')\n",
    "\n",
    "plt.tight_layout()\n",
    "plt.savefig('Q05893_similarity.svg')"
   ]
  },
  {
   "cell_type": "code",
   "execution_count": 226,
   "metadata": {},
   "outputs": [
    {
     "data": {
      "image/png": "[encoded data removed]",
      "text/plain": [
       "<Figure size 720x216 with 1 Axes>"
      ]
     },
     "metadata": {
      "needs_background": "light"
     },
     "output_type": "display_data"
    }
   ],
   "source": [
    "plt.figure(figsize=(10,3))\n",
    "\n",
    "plt.plot(df_sort['median'], '.', ms=3, label='median')\n",
    "plt.plot(df_sort['95'], '.', ms=3, label='95${}^{\\mathrm{th}}$ percentile')\n",
    "plt.plot(df_sort.PF17297, lw=3, label='PF17297')\n",
    "plt.plot(df_sort[df_sort['index'].isin([253, 254, 255, 422, 423, 424])].PF17297, '.', color='r', label='Q05893 binding site')\n",
    "\n",
    "plt.ylim([.6, 1.0])\n",
    "plt.legend(loc='center left', bbox_to_anchor=(1., .5), markerscale=3)\n",
    "sns.despine()\n",
    "\n",
    "plt.ylabel('Embedding\\nsimilarity')\n",
    "plt.xlabel('Sorted amino acid position')\n",
    "\n",
    "plt.tight_layout()\n",
    "plt.savefig('Q05893_sorted.svg')"
   ]
  },
  {
   "cell_type": "markdown",
   "metadata": {},
   "source": [
    "# save results"
   ]
  },
  {
   "cell_type": "code",
   "execution_count": null,
   "metadata": {},
   "outputs": [],
   "source": [
    "# index_df.join(\n",
    "#     pd.DataFrame(results_pca, columns=np.arange(512).astype(str))\n",
    "# ).to_parquet('/scratch/pstjohn/nn_embeddings/pfam.parquet')"
   ]
  },
  {
   "cell_type": "code",
   "execution_count": null,
   "metadata": {},
   "outputs": [],
   "source": [
    "# query_index_df.join(\n",
    "#     pd.DataFrame(query_results_pca, columns=np.arange(512).astype(str))\n",
    "# ).to_parquet('/scratch/pstjohn/nn_embeddings/query.parquet')"
   ]
  }
 ],
 "metadata": {
  "kernelspec": {
   "display_name": "Python 3",
   "language": "python",
   "name": "python3"
  },
  "language_info": {
   "codemirror_mode": {
    "name": "ipython",
    "version": 3
   },
   "file_extension": ".py",
   "mimetype": "text/x-python",
   "name": "python",
   "nbconvert_exporter": "python",
   "pygments_lexer": "ipython3",
   "version": "3.6.8"
  }
 },
 "nbformat": 4,
 "nbformat_minor": 4
}
